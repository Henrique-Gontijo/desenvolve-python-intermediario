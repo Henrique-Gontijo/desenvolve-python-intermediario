{
  "nbformat": 4,
  "nbformat_minor": 0,
  "metadata": {
    "colab": {
      "provenance": []
    },
    "kernelspec": {
      "name": "python3",
      "display_name": "Python 3"
    },
    "language_info": {
      "name": "python"
    }
  },
  "cells": [
    {
      "cell_type": "markdown",
      "source": [
        "> Projeto Desenvolve <br>\n",
        "Programação Intermediária com Python <br>\n",
        "Profa. Camila Laranjeira (mila@projetodesenvolve.com.br) <br>\n",
        "\n",
        "# Pilares da OO\n",
        "\n",
        "<img src=\"https://drive.google.com/uc?id=1mKztPpEvd0KE-mFYruZ1J1j-BKzvhBDU\" width=600>\n",
        "\n",
        "* <font color='gray'>**Encapsulamento**: Expressa-se na prática através do controle de acesso, expondo publicamente apenas os atributos e métodos necessários para uso externo.</font>\n",
        "* <font color='gray'> **Herança**: Criação de novas classes baseadas em classes existentes, herdando seus atributos e métodos. </font>\n",
        "* **Abstração**: Simplificar a complexidade ao ocultar detalhes de implementação de ume entidade ou relação entre entidades. Uma das expressões desse pilar é a criação de _interfaces_.\n",
        "* **Polimorfismo**: Capacidade de uma entidade de assumir diferentes formas, permitindo o uso de uma interface comum para tipos distintos.\n",
        "\n",
        "\n"
      ],
      "metadata": {
        "id": "flFBSDYzXcL3"
      }
    },
    {
      "cell_type": "markdown",
      "source": [
        "## Abstração\n",
        "\n",
        "A modelagem orientada a objetos por si só expressa abstração de dados. Quando expressamos uma classe a partir do seu diagrama, conhecemos os dados e comportamentos desta classe sem se preocupar com as especificidades de implementação. Isso permite um entendimento rápido (e abstrato) da classe.\n",
        "\n",
        "```\n",
        "                         +---------------------+\n",
        "                         |      Mensagem       |\n",
        "                         +---------------------+\n",
        "                         | + exibir()          |\n",
        "                         +---------------------+\n",
        "                                    ^\n",
        "                                    |\n",
        "          +-------------------------+-------------------------+\n",
        "          |                         |                         |\n",
        "          |                         |                         |\n",
        "+--------------------+    +--------------------+    +--------------------+\n",
        "|  MensagemTexto     |    |  MensagemVoz       |    |  MensagemImagem    |\n",
        "+--------------------+    +--------------------+    +--------------------+\n",
        "| - msg              |    | - arquivo          |    | - img              |\n",
        "| + exibir()         |    | + exibir()         |    | + exibir()         |\n",
        "+--------------------+    +--------------------+    +--------------------+\n",
        "\n",
        "```\n",
        "\n",
        "A modelagem de classes é uma abstração, funciona como uma espécie de planta-baixa, ou modelo, do objeto real. Veremos a seguir uma expressão ainda mais abstrata da modelagem orientada a objetos, criando métodos abstratos e interfaces!\n",
        "\n",
        "\n"
      ],
      "metadata": {
        "id": "ILvhZjZbGPZ6"
      }
    },
    {
      "cell_type": "markdown",
      "source": [
        "### ABCs e Interfaces\n",
        "\n",
        "A interface é uma classe cujos métodos são abstratos, ou seja, não possuem comportamento. Esta é uma classe que serve de modelo para projetar outras classes, que então implementam a interface e dão significado concreto aos métodos abstratos.\n",
        "\n",
        "Em Python, podemos criar interfaces com a ajuda do módulo `abc` (*Abstract Base Class* - Classe Base Abstrata). Ao criar uma classe que herda as propriedades de uma ABC, estamos dizendo que um ou mais métodos dessa classe são abstratos. Temos portanto duas principais consequências:\n",
        "* **Não podemos instanciar objetos de classes abstratas** já que estes não definem o comportamento de um ou mais métodos.\n",
        "* Subclasses que herdam classes abstratas **são obrigadas a sobrescrever o comportamento de métodos abstratos da superclasse**.\n",
        "\n",
        "> ⚠️ Note que classes abstratas <font color='#F6AE00'> **podem ter**</font>  um ou mais métodos abstratos, enquanto interfaces se definem por <font color='#F6AE00'>**terem somente**</font> métodos abstratos. Em ambos os casos, <font color='#F6AE00'>**são classes que nascem para ser superclasses**</font> herdadas por classes concretas."
      ],
      "metadata": {
        "id": "l7yZ_x4fKM4D"
      }
    },
    {
      "cell_type": "code",
      "source": [
        "from abc import ABC, abstractmethod\n",
        "\n",
        "# Classe abstrata com pelo menos um método concreto,\n",
        "# Ainda assim, não pode ser instanciada.\n",
        "class Mensagem(ABC):\n",
        "    def __init__(self, dest):\n",
        "        self.destinatario = dest\n",
        "\n",
        "    @abstractmethod\n",
        "    def exibir(self): pass\n",
        "\n",
        "    @abstractmethod\n",
        "    def __str__(self): pass\n",
        "\n",
        "class MensagemTexto(Mensagem):\n",
        "    def __init__(self, dest, msg):\n",
        "        super().__init__(dest)\n",
        "        self.msg = msg\n",
        "\n",
        "    # experimente comentar a implementação\n",
        "    # de algum método asbtrato da superclasse\n",
        "    def exibir(self):\n",
        "        print(self.msg)\n",
        "\n",
        "    def __str__(self):\n",
        "        return f'Mensagem \\\"{self.msg}\\\" enviada para {self.destinatario}'\n",
        "\n",
        "\n",
        "msg = MensagemTexto(dest='99123-4567', msg='Olá')\n",
        "msg.exibir()\n",
        "print(msg)\n",
        "\n",
        "# msg = Mensagem(dest='99123-4567') # vai lançar erro"
      ],
      "metadata": {
        "id": "Q59IsfZ0HzV0",
        "colab": {
          "base_uri": "https://localhost:8080/"
        },
        "outputId": "93228645-8112-44f8-fd20-b0c48d4a38e5"
      },
      "execution_count": null,
      "outputs": [
        {
          "output_type": "stream",
          "name": "stdout",
          "text": [
            "Olá\n",
            "Mensagem \"Olá\" enviada para 99123-4567\n"
          ]
        }
      ]
    },
    {
      "cell_type": "markdown",
      "source": [
        "Interfaces são representadas em diagramas de classe por linhas pontilhadas, indicando que não existem de forma concreta, sendo apenas protótipos. Ao criar uma interface, estabelecemos que ela **não precisa implementar comportamentos padrões a todas as suas subclasses**, e as obriga a implementar todos os comportamentos prototipados.\n",
        "\n",
        "<img src=\"https://drive.google.com/uc?id=1Vmweh4UWtLUWDPGYh6JhDmpMmwToE_jZ\" width=700>"
      ],
      "metadata": {
        "id": "ZaxcoK4oTM9-"
      }
    },
    {
      "cell_type": "code",
      "source": [
        "from abc import ABC, abstractmethod\n",
        "\n",
        "class Mensagem(ABC):\n",
        "    @abstractmethod\n",
        "    def exibir(self):\n",
        "        pass\n",
        "\n",
        "    @abstractmethod\n",
        "    def __str__(self):\n",
        "        pass\n",
        "\n",
        "class MensagemTexto(Mensagem):\n",
        "    def __init__(self, dest, msg):\n",
        "        self.destinatario = dest\n",
        "        self.msg = msg\n",
        "\n",
        "    def exibir(self):\n",
        "        print(self.msg)\n",
        "\n",
        "    def __str__(self):\n",
        "        return f'Mensagem \\\"{self.msg}\\\" enviada para {self.destinatario}'\n",
        "\n",
        "\n",
        "msg = MensagemTexto(dest='99123-4567', msg='Olá')\n",
        "msg.exibir()\n",
        "print(msg)"
      ],
      "metadata": {
        "colab": {
          "base_uri": "https://localhost:8080/"
        },
        "id": "tMDX682QUR2I",
        "outputId": "43782a5e-150f-4ea3-cbd4-c02ad65076b9"
      },
      "execution_count": null,
      "outputs": [
        {
          "output_type": "stream",
          "name": "stdout",
          "text": [
            "Olá\n",
            "Mensagem \"Olá\" enviada para 99123-4567\n"
          ]
        }
      ]
    },
    {
      "cell_type": "markdown",
      "source": [
        "## Polimorfismo\n",
        "\n",
        "* Poli: muitas\n",
        "* Morphos: formas\n",
        "\n",
        "O polimorfismo permite tratar objetos de diferentes tipos como o mesmo tipo geral. Assumindo que esses diferentes tipos obedecem um mesmo padrão de comportamento, podemos escrever códigos mais gerais, capazes de trabalhar com quaisquer desses tipos.\n",
        "\n",
        "Já vimos algumas expressões do polimorfismo no Python:\n",
        "- Sobrescrita de métodos na herança\n",
        "- Sobrecarga de operadores (métodos mágicos)\n",
        "- Classes abstratas e interfaces\n",
        "\n",
        "E agora vamos conhecer o estilo de programação específico do Python, que torna o conceito de polimorfismo mais intuitivo.\n",
        "\n",
        "### Duck Typing 🦆\n",
        "Você conhece o \"[Teste do pato](https://pt.wikipedia.org/wiki/Teste_do_pato)\"?\n",
        "\n",
        "> Se parece com um pato, nada como um pato e grasna como um pato, então provavelmente é um pato.\n",
        "\n",
        "O teste diz que podemos reconhecer uma entidade desconhecida através de **comportamentos** familiares. Na orientação a objetos, a palavra \"comportamento\" mapeia diretamente para métodos de uma classe. No [glossário do Python](https://docs.python.org/3/glossary.html#term-duck-typing), duck typing é definido como:\n",
        "\n",
        "> *um estilo de programação que não olha para o tipo de um objeto para determinar se ele tem a interface correta; em vez disso, o método ou atributo é simplesmente chamado ou usado. Ao enfatizar interfaces em vez de tipos específicos, o código bem projetado melhora sua flexibilidade ao permitir a substituição polimórfica.*\n",
        "\n",
        "Note que aqui a palavra \"interface\" está sendo utilizada como \"interface de comunicação\", uma espécie de API.\n",
        "\n"
      ],
      "metadata": {
        "id": "O6GobrxiEfDc"
      }
    },
    {
      "cell_type": "markdown",
      "source": [
        "A particularidade do duck typing é que **ele não precisa envolver herança ou interfaces, basta que dois objetos implementem o mesmo comportamento**. Já conhecemos isso através dos protocolos de uso dos métodos mágicos. Por exemplo, qualquer classe que implemente os métodos mágicos `__enter__()` e `__exit__()` podem ser utilizados em um bloco de instrução `with` sem precisar herdar de nenhum tipo base."
      ],
      "metadata": {
        "id": "Ew9NK8JLZZ3t"
      }
    },
    {
      "cell_type": "code",
      "source": [
        "import os, time\n",
        "class ArquivoTemporario:\n",
        "    def __init__(self, nome):\n",
        "        self.nome = os.path.join(os.getcwd(), nome)\n",
        "\n",
        "    def __enter__(self):\n",
        "        self.fp = open(self.nome, 'w+')\n",
        "        return self.fp\n",
        "\n",
        "    def __exit__(self, exc_type, exc_val, exc_tb):\n",
        "        self.fp.close()\n",
        "        os.remove(self.nome)\n",
        "\n",
        "\n",
        "with ArquivoTemporario('algum_arquivo.txt') as arq:\n",
        "    print(type(arq))\n",
        "    time.sleep(5)\n"
      ],
      "metadata": {
        "id": "9kW4qo7FEfSf",
        "colab": {
          "base_uri": "https://localhost:8080/"
        },
        "outputId": "cddc7b71-8b8a-4f1d-f000-9484089055d3"
      },
      "execution_count": null,
      "outputs": [
        {
          "output_type": "stream",
          "name": "stdout",
          "text": [
            "<class '_io.TextIOWrapper'>\n"
          ]
        }
      ]
    },
    {
      "cell_type": "markdown",
      "source": [
        "Como Python não é uma linguagem fortemente tipada, contanto que um determinado tipo possua os atributos e métodos necessários para realizar um dado comportamento, seu tipo base não importa. Podemos definir nossa própria interface de comunicação que múltiplos tipos independentes vão implementar. Vejamos o exemplo traduzido deste [tutorial do Real Python sobre duck typing](https://realpython.com/duck-typing-python/#duck-typing-behaving-like-a-duck).\n",
        "\n",
        "[![image alt text](http://img.youtube.com/vi/Nn7PQwXP0kU/0.jpg)](http://www.youtube.com/watch?v=Nn7PQwXP0kU)\n",
        "\n"
      ],
      "metadata": {
        "id": "52p9un5nbcjf"
      }
    },
    {
      "cell_type": "code",
      "source": [
        "class Pato:\n",
        "    def nadar(self):\n",
        "        print(\"O pato está nadando\")\n",
        "\n",
        "    def grasnar(self):\n",
        "        print(\"O pato diz: AAAAAAAA\")\n",
        "\n",
        "class Marreco:\n",
        "    def nadar(self):\n",
        "        print(\"O marreco está nadando\")\n",
        "\n",
        "    def grasnar(self):\n",
        "        print(\"O marreco diz: AAAAAAAA\")\n",
        "\n",
        "class Ganso:\n",
        "    def nadar(self):\n",
        "        print(\"O ganso está nadando\")\n",
        "\n",
        "    def grasnar(self):\n",
        "        print(\"O ganso diz: AAAAAAAA\")"
      ],
      "metadata": {
        "id": "M_dVwIGTbcVj"
      },
      "execution_count": null,
      "outputs": []
    },
    {
      "cell_type": "code",
      "source": [
        "patos = [Pato(), Marreco(), Ganso()]\n",
        "\n",
        "for pato in patos:\n",
        "    pato.nadar()\n",
        "    pato.grasnar()"
      ],
      "metadata": {
        "colab": {
          "base_uri": "https://localhost:8080/"
        },
        "id": "qj_Ub-epcQaY",
        "outputId": "7ecb9427-891d-48b1-f79d-0c0203309109"
      },
      "execution_count": null,
      "outputs": [
        {
          "output_type": "stream",
          "name": "stdout",
          "text": [
            "O pato está nadando\n",
            "O pato diz: AAAAAAAA\n",
            "O marreco está nadando\n",
            "O marreco diz: AAAAAAAA\n",
            "O ganso está nadando\n",
            "O ganso diz: AAAAAAAA\n"
          ]
        }
      ]
    },
    {
      "cell_type": "markdown",
      "source": [
        "Em resumo, quaisquer situações onde trabalhamos com múltiplos tipos de dados de maneira genérica, sem realizar adaptações para cada tipo, está explorando as vantagens do polimorfismo. Apesar de ser mais intuitivo de realizar através de relações de herança ou sobrecarga de métodos pré-existentes, sendo o Python uma linguagem fracamente tipada, não é necessária uma relação direta entre tipos para explorar o polimorfismo."
      ],
      "metadata": {
        "id": "g2xth3rMetC4"
      }
    },
    {
      "cell_type": "markdown",
      "source": [
        "\n",
        "## Referências\n",
        "* Tutorial do Real Python: [Implementing an Interface in Python](https://realpython.com/python-interface/)\n",
        "* [Aula da disciplina PDS2 da UFMG sobre Interfaces e Polimorfismo](https://docs.google.com/presentation/d/1FJRv89INQx1kQxF6VfHlE89d3An0W1g_ljzbl5UB4Lg/edit?usp=sharing)"
      ],
      "metadata": {
        "id": "IQ9tU61qYvfZ"
      }
    }
  ]
}