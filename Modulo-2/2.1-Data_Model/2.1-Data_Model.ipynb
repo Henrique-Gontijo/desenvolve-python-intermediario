{
  "nbformat": 4,
  "nbformat_minor": 0,
  "metadata": {
    "colab": {
      "provenance": []
    },
    "kernelspec": {
      "name": "python3",
      "display_name": "Python 3"
    },
    "language_info": {
      "name": "python"
    }
  },
  "cells": [
    {
      "cell_type": "markdown",
      "source": [
        "> Projeto Desenvolve <br>\n",
        "Programação Intermediária com Python <br>\n",
        "Profa. Camila Laranjeira (mila@projetodesenvolve.com.br) <br>"
      ],
      "metadata": {
        "id": "VDCuryQSFHOH"
      }
    },
    {
      "cell_type": "markdown",
      "source": [
        "\n",
        "# Orientação a Objetos (OO) no Python\n",
        "\n",
        "O paradigma da OO é centrado na entidade \"objeto\", formalmente conhecido como **instância**. Objetos são compostos por **dados** (atributos) e **operações** (métodos). Segundo [Barbara Liskov](https://en.wikipedia.org/wiki/Barbara_Liskov), vencedora do prêmio Turing pela sua contribuição em tipos abstratos de dados (TADs):\n",
        "\n",
        "> “*Inicialmente nos preocupamos em demonstrar que nosso sistema resolve o problema. Nesse momento, definimos o programa de maneira abstrata, sem detalhes sobre como as abstrações serão implementadas. <br>\n",
        "[...] <br>\n",
        "Funções independentes não possuem um vocabulário rico o suficiente para representar essas abstrações.” <br>\n",
        "[...] <br>\n",
        "TADs definem objetos abstratos caracterizados pelas operações disponíveis para esses objetos.*”\n",
        "\n",
        "O paradigma de OO envolve dois elementos fundamentais:\n",
        "* **Classe**: Define um novo tipo de dado, estabalecendo os atributos e métodos que serão instanciados para futuros objetos desse tipo. Ela serve como um esquema ou um plano para a criação de objetos.\n",
        "* **Instância**: Objeto concreto criado a partir de uma classe. Cada instância é independente, com sua própria identidade e seus próprios valores.\n",
        "\n",
        "Essa distinção será importante para entender a criação de classes no Python.\n",
        "\n",
        "<img src=\"https://drive.google.com/uc?id=19wnDv1v8Yy5HiwNGb-nBx6AJRcMp-Gf6\" width=700>\n"
      ],
      "metadata": {
        "id": "yD7uiwdBLCc8"
      }
    },
    {
      "cell_type": "markdown",
      "source": [
        "## Python Data Model\n",
        "\n",
        "**No caso do Python, dizer que ela suporta orientação a objetos tem dois significados**: tanto a linguagem permite implementar e manipular elementos do paradigma (classes, objetos, herança, etc.), quanto também os próprios elementos da linguagem seguem o mesmo tipo de abstração. Objetos são a forma de abstração de dados do Python.\n",
        "\n",
        "################################################## <br>\n",
        "Documentação: https://docs.python.org/3/reference/datamodel.html <br>\n",
        "################################################## <br>\n",
        "\n",
        "Objetos tem:\n",
        "\n",
        "* **Identidade**: Identificador único **da instância** (lembre-se: variável ≠ objeto). Podemos pensar nisso como o endereço na memória onde o objeto está armazenado, sendo portanto imutável (mesmo objetos mutáveis mantém seu endereço).\n",
        "    * Operador binário `is` compara a identidade de duas instâncias.\n",
        "* **Tipo**: É a classe! Define tanto o conteúdo suportado por aquele tipo, quanto as operações que ele implementa. Também é imutável.\n",
        "* **Valor**: Objetos podem ser mutáveis ou imutáveis. Isso determina se seus valores podem ser alterados.\n",
        "\n",
        "Como destacado [na documentação](https://docs.python.org/pt-br/3.8/library/copy.html#):\n",
        "> As instruções de atribuição no Python não copiam objetos, elas criam ligações entre um destino e um objeto.\n",
        "\n",
        "Observe a execução do código a seguir. Quando `y = x` é executado, as variáveis `x` e `y` apontam para o mesmo objeto, ou seja, compartilham a mesma instância. Isso é demonstrado pela comparação de identidade com `x is y`, que retorna `True`, indicando que ambas as variáveis referenciam o mesmo objeto. Quando `y = y + 1` é executado, a expressão `y + 1` cria um novo objeto (uma nova instância) com valor `1001`.  "
      ],
      "metadata": {
        "id": "GrNkapQ_iZeH"
      }
    },
    {
      "cell_type": "code",
      "source": [
        "x = 1000\n",
        "\n",
        "## atribuição de variável associa os dois nomes para a mesma instância\n",
        "y = x\n",
        "print('########## y = x ########## ')\n",
        "print('Identidade:', id(x), id(y), x is y )\n",
        "print('Tipo:', type(x), type(y))\n",
        "print('Valor:', x, y, '\\n')\n",
        "\n",
        "## nova atribuição a y cria uma nova instância com nova identidade\n",
        "y = y + 1\n",
        "print('########## y = y + 1 ########## ')\n",
        "print('Identidade:', id(x), id(y), x is y )\n",
        "print('Tipo:', type(x), type(y))\n",
        "print('Valor:', x, y, '\\n')"
      ],
      "metadata": {
        "colab": {
          "base_uri": "https://localhost:8080/"
        },
        "id": "p2eD1nUOEBJN",
        "outputId": "96585452-9e57-49f2-e340-f7676aade20b"
      },
      "execution_count": null,
      "outputs": [
        {
          "output_type": "stream",
          "name": "stdout",
          "text": [
            "########## y = x ########## \n",
            "Identidade: 140415831907216 140415831907216 True\n",
            "Tipo: <class 'int'> <class 'int'>\n",
            "Valor: 1000 1000 \n",
            "\n",
            "########## y = y + 1 ########## \n",
            "Identidade: 140415831907216 140415831907568 False\n",
            "Tipo: <class 'int'> <class 'int'>\n",
            "Valor: 1000 1001 \n",
            "\n"
          ]
        }
      ]
    },
    {
      "cell_type": "markdown",
      "source": [
        "Continuando o texto da documentação sobre atribuições:\n",
        "> Para coleções que são mutáveis ​​ou contêm itens mutáveis, às vezes é necessária uma cópia para que seja possível alterar uma cópia sem alterar a original.\n",
        "\n",
        "No código a seguir, a atribuição `y = x` faz com que ambas as variáveis apontem para o mesmo objeto, uma lista. Como listas são mutáveis, alterações feitas através de `y` também afetarão `x`, já que ambos compartilham a mesma identidade. Isso se reflete na execução de `y.append(5)` que altera o valor apresentado por ambas as variáveis. A operação append é *in-place*, alterando o próprio objeto.\n",
        "\n",
        "No entanto, ao executar `y = y + [5]` é criada uma nova instância e a alteração não impacta o valor de x. É importante prestar atenção nesses aspectos de objetos mutáveis para fazer escolhas conscientes sobre quais variáveis desejamos alterar."
      ],
      "metadata": {
        "id": "pFrNVr-P56p2"
      }
    },
    {
      "cell_type": "code",
      "source": [
        "x = [1,2,3,4]\n",
        "y = x\n",
        "\n",
        "print('##################### ')\n",
        "print('Identidade:', id(x), id(y), x is y )\n",
        "print('Tipo:', type(x), type(y))\n",
        "print('Valor:', x, y, '\\n')\n",
        "\n",
        "## nova atribuição a y cria uma nova instância com nova identidade\n",
        "## Você pode pensar: \"mas listas não são mutáveis?\"\n",
        "y = y + [5]\n",
        "print('##################### ')\n",
        "print('Identidade:', id(x), id(y), x is y )\n",
        "print('Tipo:', type(x), type(y))\n",
        "print('Valor:', x, y, '\\n')\n",
        "\n",
        "## objeto mutável *via append* (operação inplace)\n",
        "## seu valor se modifica mas a instância é a mesma\n",
        "y = x\n",
        "y.append(5) # y = y + [5]\n",
        "print('##################### ')\n",
        "print('Identidade:', id(x), id(y), x is y )\n",
        "print('Tipo:', type(x), type(y))\n",
        "print('Valor:', x, y, '\\n')"
      ],
      "metadata": {
        "colab": {
          "base_uri": "https://localhost:8080/"
        },
        "id": "0WIf788CFu55",
        "outputId": "d3ca93dc-d0e4-46d4-889d-5b55a6bc8afd"
      },
      "execution_count": null,
      "outputs": [
        {
          "output_type": "stream",
          "name": "stdout",
          "text": [
            "##################### \n",
            "Identidade: 133415065780992 133415065780992 True\n",
            "Tipo: <class 'list'> <class 'list'>\n",
            "Valor: [1, 2, 3, 4] [1, 2, 3, 4] \n",
            "\n",
            "##################### \n",
            "Identidade: 133415065780992 133415550988288 False\n",
            "Tipo: <class 'list'> <class 'list'>\n",
            "Valor: [1, 2, 3, 4] [1, 2, 3, 4, 5] \n",
            "\n",
            "##################### \n",
            "Identidade: 133415065780992 133415065780992 True\n",
            "Tipo: <class 'list'> <class 'list'>\n",
            "Valor: [1, 2, 3, 4, 5] [1, 2, 3, 4, 5] \n",
            "\n"
          ]
        }
      ]
    },
    {
      "cell_type": "markdown",
      "source": [
        "Vale notar também que o Python realiza um reaproveitamento de memória para objetos básicos. Na [documentação do Python sobre valores inteiros](https://docs.python.org/3/c-api/long.html#c.PyLong_FromLong), encontramos o seguinte:\n",
        "\n",
        "> A implementação atual mantém uma matriz de objetos inteiros para todos os inteiros entre -5 e 256. Quando você cria um int nesse intervalo, na verdade, você apenas obtém uma referência ao objeto existente.\n",
        "\n",
        "Por isso vemos comportamentos como o apresentado no código a seguir, onde nossa intenção é instanciar dois objetos distintos para x e y porém obtemos o mesmo id para ambos"
      ],
      "metadata": {
        "id": "CVsCLmQ85ylB"
      }
    },
    {
      "cell_type": "code",
      "source": [
        "# Reaproveitamento de memória para alguns objetos básicos\n",
        "x = 10 # 1000 \"ola\" \"olá\" [1,2,3,4]\n",
        "y = 10 # 1000 \"ola\" \"olá\" [1,2,3,4]\n",
        "\n",
        "# Identidade\n",
        "print('### Identidade ###\\n', id(x), id(y), x is y , '\\n')\n",
        "\n",
        "# Tipo\n",
        "print('### Tipo ###\\n', type(x), type(y))\n",
        "print(dir(x), '\\n')\n",
        "\n",
        "# Valor\n",
        "print('### Valor ###\\n', x, y, '\\n')"
      ],
      "metadata": {
        "colab": {
          "base_uri": "https://localhost:8080/"
        },
        "id": "pdkuSIuG3-ZL",
        "outputId": "97f74a2c-bd6f-43c1-cfec-1a2129d2bfa4"
      },
      "execution_count": null,
      "outputs": [
        {
          "output_type": "stream",
          "name": "stdout",
          "text": [
            "### Identidade ###\n",
            " 138727555990032 138727555990032 True \n",
            "\n",
            "### Tipo ###\n",
            " <class 'int'> <class 'int'>\n",
            "['__abs__', '__add__', '__and__', '__bool__', '__ceil__', '__class__', '__delattr__', '__dir__', '__divmod__', '__doc__', '__eq__', '__float__', '__floor__', '__floordiv__', '__format__', '__ge__', '__getattribute__', '__getnewargs__', '__gt__', '__hash__', '__index__', '__init__', '__init_subclass__', '__int__', '__invert__', '__le__', '__lshift__', '__lt__', '__mod__', '__mul__', '__ne__', '__neg__', '__new__', '__or__', '__pos__', '__pow__', '__radd__', '__rand__', '__rdivmod__', '__reduce__', '__reduce_ex__', '__repr__', '__rfloordiv__', '__rlshift__', '__rmod__', '__rmul__', '__ror__', '__round__', '__rpow__', '__rrshift__', '__rshift__', '__rsub__', '__rtruediv__', '__rxor__', '__setattr__', '__sizeof__', '__str__', '__sub__', '__subclasshook__', '__truediv__', '__trunc__', '__xor__', 'as_integer_ratio', 'bit_count', 'bit_length', 'conjugate', 'denominator', 'from_bytes', 'imag', 'numerator', 'real', 'to_bytes'] \n",
            "\n",
            "### Valor ###\n",
            " 10 10 \n",
            "\n"
          ]
        }
      ]
    },
    {
      "cell_type": "code",
      "source": [
        "# Tudo é objeto!\n",
        "x = 10\n",
        "print(type(x), type(type(x)), '\\n')\n",
        "\n",
        "def fn(i):\n",
        "  print(i+1)\n",
        "\n",
        "print(id(fn), type(fn), fn)\n",
        "x = fn\n",
        "print(id(x), type(x), x is fn)"
      ],
      "metadata": {
        "colab": {
          "base_uri": "https://localhost:8080/"
        },
        "id": "Yns6AxXQC6io",
        "outputId": "f0a1920a-f44e-4bfe-a517-c8a795c65eb8"
      },
      "execution_count": null,
      "outputs": [
        {
          "output_type": "stream",
          "name": "stdout",
          "text": [
            "<class 'int'> <class 'type'> \n",
            "\n",
            "140415213218560 <class 'function'> <function fn at 0x7fb4f6e7ab00>\n",
            "140415213218560 True\n"
          ]
        }
      ]
    },
    {
      "cell_type": "markdown",
      "source": [
        "# Referências:\n",
        "\n",
        "* Documentação do Python, [Python Data Model](https://docs.python.org/3/reference/datamodel.html). Atenção especial para:\n",
        "    * Objetos, valores e tipos: https://docs.python.org/pt-br/3/reference/datamodel.html#objects-values-and-types"
      ],
      "metadata": {
        "id": "Ai259DbNlirx"
      }
    }
  ]
}