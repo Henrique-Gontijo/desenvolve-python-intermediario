{
  "nbformat": 4,
  "nbformat_minor": 0,
  "metadata": {
    "colab": {
      "provenance": []
    },
    "kernelspec": {
      "name": "python3",
      "display_name": "Python 3"
    },
    "language_info": {
      "name": "python"
    }
  },
  "cells": [
    {
      "cell_type": "markdown",
      "source": [
        "> Projeto Desenvolve <br>\n",
        "Programação Intermediária com Python <br>\n",
        "Profa. Camila Laranjeira (mila@projetodesenvolve.com.br) <br>\n",
        "\n",
        "# Pilares da OO\n",
        "\n",
        "<img src=\"https://drive.google.com/uc?id=1mKztPpEvd0KE-mFYruZ1J1j-BKzvhBDU\" width=600>\n",
        "\n",
        "* **Encapsulamento**: Expressa-se na prática através do controle de acesso, expondo publicamente apenas os atributos e métodos necessários para uso externo.\n",
        "* **Herança**: Criação de novas classes baseadas em classes existentes, herdando seus atributos e métodos.\n",
        "* **Abstração**: Simplificar a complexidade ao ocultar detalhes de implementação de ume entidade ou relação entre entidades. Uma das expressões desse pilar é a criação de _interfaces_.\n",
        "* **Polimorfismo**: Capacidade de uma entidade de assumir diferentes formas, permitindo o uso de uma interface comum para tipos distintos.\n",
        "\n",
        "\n",
        "## Encapsulamento\n",
        "\n",
        "> Em Python, **não há mecanismos para restringir totalmente o acesso a atributos e métodos de uma classe** (no máximo você pode dificultar um pouco). Em vez disso, **utiliza-se convenções de nomenclatura** para indicar níveis de acesso e dar recomendações sobre como os membros devem ser utilizados. Essas convenções ajudam a comunicar aos desenvolvedores quais membros são destinados ao uso interno de uma classe e quais fazem parte da interface pública.\n",
        "\n",
        "#### ❗❗ Use as convenções de nomenclatura ❗❗\n",
        "Tomei algumas liberdades na tabela a seguir para relacionar as convenções de nomenclatura aos níveis de permissão de acesso de linguagens que obedecem o paradigma da orientação a objetos.\n",
        "\n",
        "| Nível de acesso  | Convenção de nomenclatura |\n",
        "| ------------- | :------------- |\n",
        "| Público       | Use as convenções conhecidas: `uma_variavel, umaFuncao()`  |\n",
        "| Privado       | Adicione um underline (`_`) **antes** do nome: `_uma_variavel`, `_umaFuncao()`  |\n",
        "| Protegido\\*    | Adicione dois underlines (`__`) **antes** do nome: `__uma_variavel`, `__umaFuncao()`  |\n",
        "\n",
        "Toda vez que você encontrar elementos que iniciam com um único underline, a intenção é que eles sejam privados, ou seja, não foram criados para uso externo. Ao criar nossos próprios módulos ou APIs, devemos adotar a mesma padronização. Já a padronização com dois underlines requer uma explicação um pouco mais longa que você verá a seguir.\n",
        "\n",
        "#### 🌀 *Name mangling* (Embaralhamento de nome)\n",
        "\n",
        "Embaralhamento de nomes é o recurso que mais se aproxima da ideia de controle de acesso. Ao declarar um membro cujo nome inicia com dois underlines (`__membro`), é aplicada uma transformação automática que adiciona o nome da classe antes do nome do membro (`_NomeDaClasse__membro`). Note que a transformação adota a padronização de membros privados, com um único underline no início do nome.\n",
        "\n",
        "A intenção aqui é esconder o atributo já que apesar de declarado como `__membro`, qualquer tentativa de acessar `Classe.__membro` lança um erro de execução.\n"
      ],
      "metadata": {
        "id": "flFBSDYzXcL3"
      }
    },
    {
      "cell_type": "code",
      "source": [
        "import json\n",
        "\n",
        "class Exemplo:\n",
        "  __mangled_class_var = 0\n",
        "\n",
        "  def __init__(self):\n",
        "    self.__mangled_instance_var = ''\n",
        "\n",
        "  def __mangled_method(self):\n",
        "    pass\n",
        "\n",
        "vars(Exemplo)"
      ],
      "metadata": {
        "colab": {
          "base_uri": "https://localhost:8080/"
        },
        "id": "D5t0FKLJdZSr",
        "outputId": "0bd29bea-bce3-4f8d-8de0-921eaa35edfd"
      },
      "execution_count": null,
      "outputs": [
        {
          "output_type": "execute_result",
          "data": {
            "text/plain": [
              "mappingproxy({'__module__': '__main__',\n",
              "              '_Exemplo__mangled_class_var': 0,\n",
              "              '__init__': <function __main__.Exemplo.__init__(self)>,\n",
              "              '_Exemplo__mangled_method': <function __main__.Exemplo.__mangled_method(self)>,\n",
              "              '__dict__': <attribute '__dict__' of 'Exemplo' objects>,\n",
              "              '__weakref__': <attribute '__weakref__' of 'Exemplo' objects>,\n",
              "              '__doc__': None})"
            ]
          },
          "metadata": {},
          "execution_count": 7
        }
      ]
    },
    {
      "cell_type": "code",
      "source": [
        "instancia = Exemplo()\n",
        "vars(instancia)"
      ],
      "metadata": {
        "id": "Q59IsfZ0HzV0",
        "colab": {
          "base_uri": "https://localhost:8080/"
        },
        "outputId": "3cccf0c5-8727-4f51-fdba-59c4fbe8b31c"
      },
      "execution_count": null,
      "outputs": [
        {
          "output_type": "execute_result",
          "data": {
            "text/plain": [
              "{'_Exemplo__mangled_instance_var': ''}"
            ]
          },
          "metadata": {},
          "execution_count": 4
        }
      ]
    },
    {
      "cell_type": "markdown",
      "source": [
        "> Note que as ✨ funções mágicas ✨ são outra expressão do uso do caracter underline para indicar funções que não devem ser acessadas externamente. Com a variação (`__dunder__()`) especifica-se funções que sobrescrevem comportamentos nativos da linguagem."
      ],
      "metadata": {
        "id": "5VSc6162LrPG"
      }
    },
    {
      "cell_type": "markdown",
      "source": [
        "---\n",
        "### *Getters* e *Setters*\n",
        "Ainda dentro de encapsulamento, aprende-se na teoria de OO que a criação de *getters* e *setters* é a melhor maneira de manipular os membros de uma classe sem ferir o pilar do encapsulamento. No Python, todos os membros de uma entidade estão expostos, mas a linguagem **permite modificar o comportamento das operações nativas de atribuição e consulta de valor** através das seguintes funções:\n",
        "\n",
        "* O método a seguir é chamado sempre que tentamos acessar um membro da classe. Se o membro existe, ele é retornado, senão é lançado um `AttributeError`.\n",
        "```python\n",
        "__getattribute__(self, key) -> object\n",
        "```\n",
        "\n",
        "* Caso o seguinte método exista, ele é chamado quando tentamos acessar membros inexistentes da classe antes que `__getattribute__` lance seu erro. Ou seja, é uma chance de lidar com o acesso a membros inexistentes da classe.\n",
        "```python\n",
        "__getattr__(self, key) -> object\n",
        "```\n",
        "\n",
        "* Uma característica muito peculiar do Python é a criação de atributos dinamicamente, ou seja, em tempo de execução. Então independente de um atributo existir ou não, podemos definir o método mágico a seguir para alterar o comportamento da atribuição de valor a um atributo.\n",
        "```python\n",
        "__setattr__(self, key, value) -> None\n",
        "```\n",
        "\n",
        "A estruturação que veremos a seguir permite quaisquer alterações nas operações de consulta e alteração de membros de uma classe, por exemplo\n",
        "* realizando checagem de tipos\n",
        "* implementando regras de encapsulamento que proibam o acesso a determinados membros.\n",
        "* etc..."
      ],
      "metadata": {
        "id": "3B6fjuNnN9Md"
      }
    },
    {
      "cell_type": "code",
      "source": [
        "class Exemplo:\n",
        "\n",
        "    def __init__(self,):\n",
        "        print('Iniciando minha classe!')\n",
        "        self.num = 0\n",
        "\n",
        "    def __setattr__(self, att, x):\n",
        "        print(f'Definindo o valor de {att}')\n",
        "        object.__setattr__(self, att, x)\n",
        "\n",
        "    def __getattr__(self, att):\n",
        "        print(f'{att} não existe na instância!')\n",
        "        return None\n",
        "\n",
        "    def __getattribute__(self, att):\n",
        "        print(f'Consultando o valor de {att}')\n",
        "        return object.__getattribute__(self, att)"
      ],
      "metadata": {
        "id": "cA7CngCae8av"
      },
      "execution_count": null,
      "outputs": []
    },
    {
      "cell_type": "markdown",
      "source": [
        "Ao realizar operações de consulta ou atribuição de valores a atributos da classe implementada anteriormente, invocamos os comportamentos customizados por nós, incluindo os prints que nos ajudam a acompanhar o fluxo de execução.\n"
      ],
      "metadata": {
        "id": "pUSY2lCUgeLa"
      }
    },
    {
      "cell_type": "code",
      "source": [
        "print('--> obj = Exemplo()')\n",
        "obj = Exemplo()\n",
        "print('--> obj.num = 10')\n",
        "obj.num = 10\n",
        "print('--> obj.num')\n",
        "print(obj.num)"
      ],
      "metadata": {
        "colab": {
          "base_uri": "https://localhost:8080/"
        },
        "id": "WqYGIj15Q0q6",
        "outputId": "8c4759f0-890b-44f8-de12-9ca7df7093bb"
      },
      "execution_count": null,
      "outputs": [
        {
          "output_type": "stream",
          "name": "stdout",
          "text": [
            "--> obj = Exemplo()\n",
            "Iniciando minha classe!\n",
            "Definindo o valor de num\n",
            "--> obj.num = 10\n",
            "Definindo o valor de num\n",
            "--> obj.num\n",
            "Consultando o valor de num\n",
            "10\n"
          ]
        }
      ]
    },
    {
      "cell_type": "markdown",
      "source": [
        "O exemplo a seguir apresenta um fluxo de acesso a um atributo inexistente da classe implementada. Note que `__getattribute__` é invocado primeiro, disparando automaticamente a invocação de `__getattr__` ao perceber a inexistência do atributo.\n"
      ],
      "metadata": {
        "id": "SlRX_gjQgeye"
      }
    },
    {
      "cell_type": "code",
      "source": [
        "print('--> obj2 = Exemplo()')\n",
        "obj2 = Exemplo()\n",
        "print('--> obj2.variavel')\n",
        "print(obj2.variavel)"
      ],
      "metadata": {
        "colab": {
          "base_uri": "https://localhost:8080/"
        },
        "id": "Sr5u2pw9fIqT",
        "outputId": "46919c29-8152-46b4-f534-397f7b99682d"
      },
      "execution_count": null,
      "outputs": [
        {
          "output_type": "stream",
          "name": "stdout",
          "text": [
            "--> obj2 = Exemplo()\n",
            "Iniciando minha classe!\n",
            "Definindo o valor de num\n",
            "--> obj2.variavel\n",
            "Consultando o valor de variavel\n",
            "variavel não existe na instância!\n",
            "None\n"
          ]
        }
      ]
    },
    {
      "cell_type": "markdown",
      "source": [
        "Ao realizar uma operação de atribuição com um atributo que não existe, ele passa a existir dinamicamente no momento que a instrução é executada.\n"
      ],
      "metadata": {
        "id": "RedIgSfSgiAL"
      }
    },
    {
      "cell_type": "code",
      "source": [
        "print('--> obj2.variavel = ...')\n",
        "obj2.variavel = 'olá eu sou uma variável'\n",
        "print('--> obj2.variavel')\n",
        "print(obj2.variavel)\n",
        "\n",
        "type(obj), vars(obj), type(obj2), vars(obj2)"
      ],
      "metadata": {
        "colab": {
          "base_uri": "https://localhost:8080/"
        },
        "id": "MHs5B6WtgRUS",
        "outputId": "2c76d4ff-be1e-4168-93f2-423b67d6dfb7"
      },
      "execution_count": null,
      "outputs": [
        {
          "output_type": "stream",
          "name": "stdout",
          "text": [
            "--> obj2.variavel = ...\n",
            "Definindo o valor de variavel\n",
            "--> obj2.variavel\n",
            "Consultando o valor de variavel\n",
            "olá eu sou uma variável\n",
            "Consultando o valor de __dict__\n",
            "Consultando o valor de __dict__\n"
          ]
        },
        {
          "output_type": "execute_result",
          "data": {
            "text/plain": [
              "(__main__.Exemplo,\n",
              " {'num': 10},\n",
              " __main__.Exemplo,\n",
              " {'num': 0, 'variavel': 'olá eu sou uma variável'})"
            ]
          },
          "metadata": {},
          "execution_count": 13
        }
      ]
    },
    {
      "cell_type": "markdown",
      "source": [
        "\n",
        "### `property`\n",
        "\n",
        "Vale mencionar brevemente outro recurso para controle de atributos de uma classe: as propriedades. Através da função embutida `property()` podemos criar um objeto (de tipo `property`) associando a ele funções de `get`, `set` e `del`, além de uma `docstring` descrevendo sua funcionalidade, como apresentado a seguir:\n",
        "\n",
        "```python\n",
        "property(fget=None, fset=None, fdel=None, doc=None) -> property\n",
        "```\n"
      ],
      "metadata": {
        "id": "vwQLNgCETiz1"
      }
    },
    {
      "cell_type": "code",
      "source": [
        "class Exemplo:\n",
        "    def __init__(self,):\n",
        "        self._cont = 0\n",
        "\n",
        "    def getcont(self):\n",
        "        self._cont += 1\n",
        "        return self._cont\n",
        "\n",
        "    def setcont(self, value):\n",
        "        raise Exception('Esse valor não pode ser alterado')\n",
        "\n",
        "    def delcont(self):\n",
        "        del self._cont\n",
        "\n",
        "    cont = property(getcont, setcont, delcont,\n",
        "                    doc=\"Eu sou uma propriedade de contagem\")"
      ],
      "metadata": {
        "id": "0rPpOrmXTkSP"
      },
      "execution_count": null,
      "outputs": []
    },
    {
      "cell_type": "markdown",
      "source": [
        "A propriedade `cont` define um mecanismo de controle do atributo \"privado\" `_cont`. De acordo com a implementação, ao consultar o valor de `cont` (via `getcont`), o atributo interno `_cont` é incrementado e seu valor retornado. Já ao tentar atribuir um valor a `cont`, um erro de execução será lançado e nenhuma alteração de valor é realizada. Emulamos assim o controle de acesso ao atributo da instância.\n",
        "\n",
        "Note que a propriedade `cont` é acessada como um atributo comum, mas internamente invoca os respectivos métodos implementados. Por isso vemos o valor de `ex.cont` crescer a cada novo print.\n"
      ],
      "metadata": {
        "id": "3p0XEs39jVHr"
      }
    },
    {
      "cell_type": "code",
      "source": [
        "for i in range(10):\n",
        "    print(ex.cont, end= ' ')\n",
        "\n",
        "ex.cont = 0"
      ],
      "metadata": {
        "colab": {
          "base_uri": "https://localhost:8080/",
          "height": 323
        },
        "id": "BuJ5ihrgCaiF",
        "outputId": "b31e80ac-0a7d-4365-c0bf-0943bf913cba"
      },
      "execution_count": null,
      "outputs": [
        {
          "output_type": "stream",
          "name": "stdout",
          "text": [
            "1 2 3 4 5 6 7 8 9 10 "
          ]
        },
        {
          "output_type": "error",
          "ename": "Exception",
          "evalue": "Esse valor não pode ser alterado",
          "traceback": [
            "\u001b[0;31m---------------------------------------------------------------------------\u001b[0m",
            "\u001b[0;31mException\u001b[0m                                 Traceback (most recent call last)",
            "\u001b[0;32m<ipython-input-85-9623d826635f>\u001b[0m in \u001b[0;36m<cell line: 4>\u001b[0;34m()\u001b[0m\n\u001b[1;32m      2\u001b[0m     \u001b[0mprint\u001b[0m\u001b[0;34m(\u001b[0m\u001b[0mex\u001b[0m\u001b[0;34m.\u001b[0m\u001b[0mcont\u001b[0m\u001b[0;34m,\u001b[0m \u001b[0mend\u001b[0m\u001b[0;34m=\u001b[0m \u001b[0;34m' '\u001b[0m\u001b[0;34m)\u001b[0m\u001b[0;34m\u001b[0m\u001b[0;34m\u001b[0m\u001b[0m\n\u001b[1;32m      3\u001b[0m \u001b[0;34m\u001b[0m\u001b[0m\n\u001b[0;32m----> 4\u001b[0;31m \u001b[0mex\u001b[0m\u001b[0;34m.\u001b[0m\u001b[0mcont\u001b[0m \u001b[0;34m=\u001b[0m \u001b[0;36m0\u001b[0m\u001b[0;34m\u001b[0m\u001b[0;34m\u001b[0m\u001b[0m\n\u001b[0m",
            "\u001b[0;32m<ipython-input-81-f80d106453c5>\u001b[0m in \u001b[0;36mcont\u001b[0;34m(self, value)\u001b[0m\n\u001b[1;32m     12\u001b[0m     \u001b[0;32mdef\u001b[0m \u001b[0mcont\u001b[0m\u001b[0;34m(\u001b[0m\u001b[0mself\u001b[0m\u001b[0;34m,\u001b[0m \u001b[0mvalue\u001b[0m\u001b[0;34m)\u001b[0m\u001b[0;34m:\u001b[0m\u001b[0;34m\u001b[0m\u001b[0;34m\u001b[0m\u001b[0m\n\u001b[1;32m     13\u001b[0m         \u001b[0;34m\"\"\"Eu não permito alterações.\"\"\"\u001b[0m\u001b[0;34m\u001b[0m\u001b[0;34m\u001b[0m\u001b[0m\n\u001b[0;32m---> 14\u001b[0;31m         \u001b[0;32mraise\u001b[0m \u001b[0mException\u001b[0m\u001b[0;34m(\u001b[0m\u001b[0;34m'Esse valor não pode ser alterado'\u001b[0m\u001b[0;34m)\u001b[0m\u001b[0;34m\u001b[0m\u001b[0;34m\u001b[0m\u001b[0m\n\u001b[0m\u001b[1;32m     15\u001b[0m \u001b[0;34m\u001b[0m\u001b[0m\n\u001b[1;32m     16\u001b[0m     \u001b[0;34m@\u001b[0m\u001b[0mcont\u001b[0m\u001b[0;34m.\u001b[0m\u001b[0mdeleter\u001b[0m\u001b[0;34m\u001b[0m\u001b[0;34m\u001b[0m\u001b[0m\n",
            "\u001b[0;31mException\u001b[0m: Esse valor não pode ser alterado"
          ]
        }
      ]
    },
    {
      "cell_type": "markdown",
      "source": [
        "Ao criar a propriedade dessa maneira, todos métodos declarados, além da propriedade em si, aparecem no dicionário de atributos da classe.\n"
      ],
      "metadata": {
        "id": "FvBGTP5fj6tF"
      }
    },
    {
      "cell_type": "code",
      "source": [
        "ex = Exemplo()\n",
        "vars(Exemplo), vars(ex)"
      ],
      "metadata": {
        "colab": {
          "base_uri": "https://localhost:8080/"
        },
        "id": "VoataoSWEcWI",
        "outputId": "5c816296-2577-45d6-a373-9f1d960c9ac8"
      },
      "execution_count": null,
      "outputs": [
        {
          "output_type": "execute_result",
          "data": {
            "text/plain": [
              "(mappingproxy({'__module__': '__main__',\n",
              "               '__init__': <function __main__.Exemplo.__init__(self)>,\n",
              "               'getcont': <function __main__.Exemplo.getcont(self)>,\n",
              "               'setcont': <function __main__.Exemplo.setcont(self, value)>,\n",
              "               'delcont': <function __main__.Exemplo.delcont(self)>,\n",
              "               'cont': <property at 0x794e5dda5800>,\n",
              "               '__dict__': <attribute '__dict__' of 'Exemplo' objects>,\n",
              "               '__weakref__': <attribute '__weakref__' of 'Exemplo' objects>,\n",
              "               '__doc__': None}),\n",
              " {'_cont': 0})"
            ]
          },
          "metadata": {},
          "execution_count": 10
        }
      ]
    },
    {
      "cell_type": "code",
      "source": [
        "help(ex)"
      ],
      "metadata": {
        "colab": {
          "base_uri": "https://localhost:8080/"
        },
        "id": "6cgHqWGUGcjG",
        "outputId": "ca2c4fd8-c2e2-41e4-d11b-fb66edc6811f"
      },
      "execution_count": null,
      "outputs": [
        {
          "output_type": "stream",
          "name": "stdout",
          "text": [
            "Help on Exemplo in module __main__ object:\n",
            "\n",
            "class Exemplo(builtins.object)\n",
            " |  Methods defined here:\n",
            " |  \n",
            " |  __init__(self)\n",
            " |      Initialize self.  See help(type(self)) for accurate signature.\n",
            " |  \n",
            " |  delcont(self)\n",
            " |  \n",
            " |  getcont(self)\n",
            " |  \n",
            " |  setcont(self, value)\n",
            " |  \n",
            " |  ----------------------------------------------------------------------\n",
            " |  Data descriptors defined here:\n",
            " |  \n",
            " |  __dict__\n",
            " |      dictionary for instance variables (if defined)\n",
            " |  \n",
            " |  __weakref__\n",
            " |      list of weak references to the object (if defined)\n",
            " |  \n",
            " |  cont\n",
            " |      Eu sou uma propriedade de contagem\n",
            "\n"
          ]
        }
      ]
    },
    {
      "cell_type": "markdown",
      "source": [
        "Um recurso que torna o uso da `property` mais conciso é o ✨ decorador ✨ de mesmo nome.\n",
        "```python\n",
        "@property\n",
        "def nome_da_propriedade(self):\n",
        "    \"\"\"docstring\"\"\"\n",
        "    return ...\n",
        "```\n",
        "Ao definir uma função decorada com `@property` estamos fazendo três coisas ao mesmo tempo:\n",
        "* Criando um atributo da classe com o nome dado à função decorada\n",
        "* Definindo a `docstring` que descreve a propriedade\n",
        "* Definindo o comportamento da função `get`\n",
        "\n",
        "Resta apenas duas funcionalidades não implementadas, o *setter* e o *deleter*. Podemos criá-las definindo métodos com os seguintes decoradores:\n",
        "* O `nome_da_propriedade` definido pode ser usado como um novo decorador. O método logo abaixo deve também se chamar `nome_da_propriedade` e define o comportamento do *setter*.\n",
        "```python\n",
        "@nome_da_propriedade.setter\n",
        "def nome_da_propriedade(self, valor)\n",
        "```\n",
        "\n",
        "* Para implementar o *deleter* definir o seguinte método decorado\n",
        "```python\n",
        "@nome_da_propriedade.deleter\n",
        "def nome_da_propriedade(self)\n",
        "```\n",
        "\n"
      ],
      "metadata": {
        "id": "Ja40eqd1IjGt"
      }
    },
    {
      "cell_type": "code",
      "source": [
        "class Exemplo:\n",
        "    def __init__(self,):\n",
        "        self._cont = 0\n",
        "\n",
        "    @property\n",
        "    def cont(self): # comportamento do get\n",
        "        \"\"\"Eu sou uma propriedade de contagem.\"\"\"\n",
        "        self._cont += 1\n",
        "        return self._cont\n",
        "\n",
        "    @cont.setter\n",
        "    def cont(self, value):\n",
        "        raise Exception('Esse valor não pode ser alterado')\n",
        "\n",
        "    @cont.deleter\n",
        "    def cont(self): del self._cont"
      ],
      "metadata": {
        "id": "2ggIp8do_H-9"
      },
      "execution_count": null,
      "outputs": []
    },
    {
      "cell_type": "code",
      "source": [
        "ex = Exemplo()\n",
        "vars(Exemplo), vars(ex)"
      ],
      "metadata": {
        "colab": {
          "base_uri": "https://localhost:8080/"
        },
        "id": "tpeA71YaEzLi",
        "outputId": "ac059588-f2b8-4cf0-901d-5a38bbb2a0bb"
      },
      "execution_count": null,
      "outputs": [
        {
          "output_type": "execute_result",
          "data": {
            "text/plain": [
              "(mappingproxy({'__module__': '__main__',\n",
              "               '__init__': <function __main__.Exemplo.__init__(self)>,\n",
              "               'cont': <property at 0x7d1086ee4c20>,\n",
              "               '__dict__': <attribute '__dict__' of 'Exemplo' objects>,\n",
              "               '__weakref__': <attribute '__weakref__' of 'Exemplo' objects>,\n",
              "               '__doc__': None}),\n",
              " {'_cont': 0})"
            ]
          },
          "metadata": {},
          "execution_count": 16
        }
      ]
    },
    {
      "cell_type": "code",
      "source": [
        "help(ex)"
      ],
      "metadata": {
        "colab": {
          "base_uri": "https://localhost:8080/"
        },
        "id": "25OQUHcHHEqf",
        "outputId": "bad17d65-b02a-48cd-be97-a1aab95c2a84"
      },
      "execution_count": null,
      "outputs": [
        {
          "output_type": "stream",
          "name": "stdout",
          "text": [
            "Help on Exemplo in module __main__ object:\n",
            "\n",
            "class Exemplo(builtins.object)\n",
            " |  Methods defined here:\n",
            " |  \n",
            " |  __init__(self)\n",
            " |      Initialize self.  See help(type(self)) for accurate signature.\n",
            " |  \n",
            " |  ----------------------------------------------------------------------\n",
            " |  Data descriptors defined here:\n",
            " |  \n",
            " |  __dict__\n",
            " |      dictionary for instance variables (if defined)\n",
            " |  \n",
            " |  __weakref__\n",
            " |      list of weak references to the object (if defined)\n",
            " |  \n",
            " |  cont\n",
            " |      Eu sou uma propriedade de contagem.\n",
            "\n"
          ]
        }
      ]
    },
    {
      "cell_type": "code",
      "source": [
        "for i in range(10):\n",
        "    print(ex.cont, end= ' ')\n",
        "\n",
        "ex.cont = 0"
      ],
      "metadata": {
        "colab": {
          "base_uri": "https://localhost:8080/",
          "height": 319
        },
        "id": "9LfOYNCsCNmc",
        "outputId": "f6f3621c-a420-4482-ae2d-9ac27a34023d"
      },
      "execution_count": null,
      "outputs": [
        {
          "output_type": "stream",
          "name": "stdout",
          "text": [
            "1 2 3 4 5 6 7 8 9 10 "
          ]
        },
        {
          "output_type": "error",
          "ename": "Exception",
          "evalue": "Esse valor não pode ser alterado",
          "traceback": [
            "\u001b[0;31m---------------------------------------------------------------------------\u001b[0m",
            "\u001b[0;31mException\u001b[0m                                 Traceback (most recent call last)",
            "\u001b[0;32m<ipython-input-15-9623d826635f>\u001b[0m in \u001b[0;36m<cell line: 4>\u001b[0;34m()\u001b[0m\n\u001b[1;32m      2\u001b[0m     \u001b[0mprint\u001b[0m\u001b[0;34m(\u001b[0m\u001b[0mex\u001b[0m\u001b[0;34m.\u001b[0m\u001b[0mcont\u001b[0m\u001b[0;34m,\u001b[0m \u001b[0mend\u001b[0m\u001b[0;34m=\u001b[0m \u001b[0;34m' '\u001b[0m\u001b[0;34m)\u001b[0m\u001b[0;34m\u001b[0m\u001b[0;34m\u001b[0m\u001b[0m\n\u001b[1;32m      3\u001b[0m \u001b[0;34m\u001b[0m\u001b[0m\n\u001b[0;32m----> 4\u001b[0;31m \u001b[0mex\u001b[0m\u001b[0;34m.\u001b[0m\u001b[0mcont\u001b[0m \u001b[0;34m=\u001b[0m \u001b[0;36m0\u001b[0m\u001b[0;34m\u001b[0m\u001b[0;34m\u001b[0m\u001b[0m\n\u001b[0m",
            "\u001b[0;32m<ipython-input-13-e8097b0f637a>\u001b[0m in \u001b[0;36mcont\u001b[0;34m(self, value)\u001b[0m\n\u001b[1;32m     11\u001b[0m     \u001b[0;34m@\u001b[0m\u001b[0mcont\u001b[0m\u001b[0;34m.\u001b[0m\u001b[0msetter\u001b[0m\u001b[0;34m\u001b[0m\u001b[0;34m\u001b[0m\u001b[0m\n\u001b[1;32m     12\u001b[0m     \u001b[0;32mdef\u001b[0m \u001b[0mcont\u001b[0m\u001b[0;34m(\u001b[0m\u001b[0mself\u001b[0m\u001b[0;34m,\u001b[0m \u001b[0mvalue\u001b[0m\u001b[0;34m)\u001b[0m\u001b[0;34m:\u001b[0m\u001b[0;34m\u001b[0m\u001b[0;34m\u001b[0m\u001b[0m\n\u001b[0;32m---> 13\u001b[0;31m         \u001b[0;32mraise\u001b[0m \u001b[0mException\u001b[0m\u001b[0;34m(\u001b[0m\u001b[0;34m'Esse valor não pode ser alterado'\u001b[0m\u001b[0;34m)\u001b[0m\u001b[0;34m\u001b[0m\u001b[0;34m\u001b[0m\u001b[0m\n\u001b[0m\u001b[1;32m     14\u001b[0m \u001b[0;34m\u001b[0m\u001b[0m\n\u001b[1;32m     15\u001b[0m     \u001b[0;34m@\u001b[0m\u001b[0mcont\u001b[0m\u001b[0;34m.\u001b[0m\u001b[0mdeleter\u001b[0m\u001b[0;34m\u001b[0m\u001b[0;34m\u001b[0m\u001b[0m\n",
            "\u001b[0;31mException\u001b[0m: Esse valor não pode ser alterado"
          ]
        }
      ]
    },
    {
      "cell_type": "markdown",
      "source": [
        "Internamente, a `property` implementa o protocolo *descriptor*, criando um objeto descritor que você pode conhecer em detalhes [na documentação](https://docs.python.org/3/howto/descriptor.html) ou [nesse tutorial aqui](https://realpython.com/python-classes/#property-and-descriptor-based-attributes). O problema desse recurso é não se adequar bem a casos de herança. Você pode ler mais sobre isso nesse [tutorial do Real Python](https://realpython.com/python-getter-setter/#using-inheritance-getter-and-setters-vs-properties).\n",
        "\n",
        "## Referências\n",
        "\n",
        "* https://realpython.com/python-classes/#public-vs-non-public-members\n",
        "* https://peps.python.org/pep-0008/#method-names-and-instance-variables\n",
        "* https://docs.python.org/3/howto/descriptor.html\n",
        "* https://realpython.com/python-getter-setter/\n",
        "\n",
        "---"
      ],
      "metadata": {
        "id": "GIitfnsYFaFL"
      }
    },
    {
      "cell_type": "markdown",
      "source": [
        "## Herança\n",
        "\n",
        "Na herança, uma nova classe (subclasse) é criada com base em uma classe existente (superclasse). Isso permite que a subclasse herde os métodos e atributos da superclasse, promovendo a reutilização de código e a criação de hierarquias lógicas entre as classes.\n",
        "\n",
        "A relação hierárquica entre classes pode ser representada de maneira abstrata como um diagrama de classes UML. Na representação a seguir a `SubClasse` define seus próprios atributos e métodos mas implícitamente possui instâncias dos atributos e métodos da `SuperClasse`.\n",
        "```\n",
        "+---------------------+\n",
        "|  SuperClasse        |\n",
        "| - atributos_super   |\n",
        "| - métodos_super     |\n",
        "+---------------------+\n",
        "          ^        \n",
        "          |\n",
        "          |\n",
        " +------------------+\n",
        " |   SubClasse      |\n",
        " | - atributos_sub  |\n",
        " | - métodos_sub    |\n",
        " +------------------+\n",
        "```\n",
        "\n",
        "A sintaxe do Python que define essa relação é apresentada a seguir. Não existe uma palavra reservada para apontar a relação de herança. Basta passar o nome da superclasse na definição da subclasse, usando a sintaxe de parênteses.\n",
        "```python\n",
        "class SuperClasse:\n",
        "    # Defina métodos e atributos da superclasse\n",
        "    # ...\n",
        "    \n",
        "# SubClasse que herda de SuperClasse\n",
        "class SubClasse(SuperClasse):\n",
        "    # Defina métodos e atributos específicos da SubClasse\n",
        "    # ...\n",
        "```\n",
        "\n",
        "❗❗ **Importante** ❗❗\n",
        "\n",
        "Em Python, todas as classes criadas herdam implicitamente da classe genérica `object`, que é a superclasse base da linguagem. Isso significa que a hierarquia vai existir mesmo que você não especifique explicitamente uma superclasse ao definir uma nova classe. Essa herança implícita fornece à nova classe uma série de métodos e comportamentos padrão, como os métodos mágicos `__init__`, `__str__`, `__repr__`, entre outros, que você já aprendeu que podem ser usados ou sobrescritos!\n",
        "\n",
        "O comando `help(Exemplo)`, executado a seguir, mostra que a classe `Exemplo` é uma subclasse de `object`, mesmo que isso não tenha sido explicitamente declarado na definição de `Exemplo`.\n",
        "\n",
        "```python\n",
        "class Exemplo(builtins.object)\n",
        "```"
      ],
      "metadata": {
        "id": "tfcSUMnzNurj"
      }
    },
    {
      "cell_type": "code",
      "source": [
        "help(Exemplo)"
      ],
      "metadata": {
        "colab": {
          "base_uri": "https://localhost:8080/"
        },
        "id": "9zMTRrNqgtYf",
        "outputId": "8e5d986e-5307-4470-f089-896a51d3422d"
      },
      "execution_count": null,
      "outputs": [
        {
          "output_type": "stream",
          "name": "stdout",
          "text": [
            "Help on class Exemplo in module __main__:\n",
            "\n",
            "class Exemplo(builtins.object)\n",
            " |  Methods defined here:\n",
            " |  \n",
            " |  __init__(self)\n",
            " |      Initialize self.  See help(type(self)) for accurate signature.\n",
            " |  \n",
            " |  ----------------------------------------------------------------------\n",
            " |  Data descriptors defined here:\n",
            " |  \n",
            " |  __dict__\n",
            " |      dictionary for instance variables (if defined)\n",
            " |  \n",
            " |  __weakref__\n",
            " |      list of weak references to the object (if defined)\n",
            " |  \n",
            " |  cont\n",
            " |      Eu sou uma propriedade de contagem.\n",
            "\n"
          ]
        }
      ]
    },
    {
      "cell_type": "markdown",
      "source": [
        "### Vilões de Novela 🦹\n",
        "\n",
        "Para conhecer as particularidades da relação de herança no Python, vejamos um exemplo prático! No exemplo, a classe `Antagonista` é a superclasse representando vilões e vilãs de novelas brasileiras, com atributos `nome` e `bordao` e o método `dizer_bordao` (que conhecendo novelas será muito chamado! 😆).\n",
        "\n",
        "Qualquer antagonista genérico pode ser instanciado a partir dessa classe. Vai ser o caso da vilã Norma Gusmão com o seu bordão \"*Eu sou rica!*\".  Mas nesse exemplo queremos implementar classes especializadas para antagonistas de destaque: Nazaré Tedesco (Nazaré confusa) e Felix (o rei dos bordões)!\n",
        "\n",
        "<img src=\"https://upload.wikimedia.org/wikipedia/pt/c/cd/Nazar%C3%A9_Confusa.jpg\" height=200>\n",
        "<img src=\"https://conteudo.imguol.com.br/c/entretenimento/2013/12/17/felix-vilao-interpretado-por-mateus-solano-na-novela-amor-a-vida-da-globo-1387313146611_300x200.jpg\" height=200>\n",
        "<img src=\"https://www.fapesb.ba.gov.br/wp-content/uploads/2016/03/rica.png\" height=200>\n",
        "\n",
        "Aqui está o diagrama de classes UML do nosso belo exemplo:\n",
        "\n",
        "```\n",
        "                 +------------------+\n",
        "                 |  Antagonista     |\n",
        "                 +------------------+\n",
        "                 | - nome           |\n",
        "                 | - bordao         |\n",
        "                 +------------------+\n",
        "                 | + dizer_bordao() |\n",
        "                 +------------------+\n",
        "                         ^\n",
        "        _________________|________________\n",
        "       |                                  |\n",
        "+---------------------+        +--------------------+\n",
        "|  NazareTedesco      |        |  Felix             |\n",
        "+---------------------+        +--------------------+\n",
        "| - isConfusa         |        | - apelidos         |\n",
        "+---------------------+        +--------------------+\n",
        "| + empurrar_escada() |        | + gerar_apelido()  |\n",
        "+---------------------+        +--------------------+\n",
        "```\n",
        "\n",
        "Leia a implementação da célula a seguir, procurando os seguinte elementos **nas subclasses**:\n",
        "* Note que a assinatura do construtor das subclasses recebe os atributos tanto da superclasse, quanto seus próprios atributos:\n",
        "```python\n",
        "# Classe NazareTedesco\n",
        "# atributos da superclasse: nome, bordao\n",
        "# atributo da subclasse: isConfusa\n",
        "__init__(self, nome, bordao, isConfusa=True):\n",
        "```\n",
        "\n",
        "* O **primeiro passo** do construtor é inicializar a superclasse, antes de seguir para suas especificidades. Isso é possível recuperando uma **referência à superclasse** através da chamada de **`super()`**. A partir de seu retorno invocamos explicitamente o método mágico `__init__()`, ou seja, o construtor da super classe.\n",
        "```python\n",
        "super().__init__(nome, bordao)\n",
        "```\n",
        "\n",
        "> ❗ O `super()` é muito poderoso e flexível para lidar com as mais variadas relações de herança. Ele resolve casos de heranças múltiplas, ou hierarquias de mais de 2 níveis. Caso deseje conhecer o seu poder total (é mais de 8000!), recomendo ler esse tutorial do Real Python: [Supercharge Your Classes With Python super()](https://realpython.com/python-super/). *Lembre-se que você pode traduzir para português no navegador*.\n"
      ],
      "metadata": {
        "id": "Zg0Qb_D2gyTn"
      }
    },
    {
      "cell_type": "code",
      "source": [
        "import random\n",
        "class Antagonista():\n",
        "    def __init__(self, nome, bordao):\n",
        "        self.nome = nome\n",
        "        self.bordao = bordao\n",
        "\n",
        "    def dizer_bordao(self):\n",
        "        print(f\"{self.nome} diz: {self.bordao}.\")\n",
        "\n",
        "\n",
        "class NazareTedesco(Antagonista):\n",
        "    def __init__(self, nome, bordao, isConfusa=True):\n",
        "        super().__init__(nome, bordao)\n",
        "        self.isConfusa = isConfusa\n",
        "\n",
        "    def empurrar_escada(self):\n",
        "        print(f\"{self.nome} está te empurrando da escada!! 😱\")\n",
        "\n",
        "\n",
        "class Felix(Antagonista):\n",
        "    def __init__(self, nome, bordao):\n",
        "        super().__init__(nome, bordao)\n",
        "        self.apelidos = {'substantivos': ['lacraia', 'bofe', 'rainha', 'criatura'],\n",
        "                         'adjetivos': ['do olho colorido', 'de ouro', 'do hot dog']}\n",
        "\n",
        "    def gerar_apelido(self):\n",
        "        ids = random.randrange(len(self.apelidos['substantivos']))\n",
        "        ida = random.randrange(len(self.apelidos['adjetivos']))\n",
        "\n",
        "        return self.apelidos['substantivos'][ids] + self.apelidos['adjetivos'][ida]\n",
        "\n",
        "\n",
        "norma  = Antagonista(\"Norma Gusmão\", \"Eu sou rica!!!!\")\n",
        "nazare = NazareTedesco(\"Nazaré Tedesco\", \"O tempo só te valoriza\", True)\n",
        "felix  = Felix(\"Félix\", \"Eu salguei a santa ceia, só pode!\")\n",
        "\n",
        "vars(norma), vars(nazare), vars(felix)"
      ],
      "metadata": {
        "colab": {
          "base_uri": "https://localhost:8080/"
        },
        "id": "nVWSra8XPPe_",
        "outputId": "dd90d2e3-2bed-4229-bf2f-690a928c76d5"
      },
      "execution_count": null,
      "outputs": [
        {
          "output_type": "execute_result",
          "data": {
            "text/plain": [
              "({'nome': 'Norma Gusmão', 'bordao': 'Eu sou rica!!!!'},\n",
              " {'nome': 'Nazaré Tedesco',\n",
              "  'bordao': 'O tempo só te valoriza',\n",
              "  'isConfusa': True},\n",
              " {'nome': 'Félix',\n",
              "  'bordao': 'Eu salguei a santa ceia, só pode!',\n",
              "  'apelidos': {'substantivos': ['lacraia', 'bofe', 'rainha', 'criatura'],\n",
              "   'adjetivos': ['do olho colorido', 'de ouro', 'do hot dog']}})"
            ]
          },
          "metadata": {},
          "execution_count": 1
        }
      ]
    },
    {
      "cell_type": "markdown",
      "source": [
        "Quando você usa o comando `help(NazareTedesco)`, por exemplo, o Python te dá uma visão geral da classe, mostrando como ela se relaciona com as outras classes na hierarquia de herança. Vamos destacar alguns aspectos:\n",
        "* ***Method resolution order*** (MRO): A ordem em que Python vai procurar métodos ou atributos se você tentar acessá-los numa instância de NazareTedesco. Nesse caso, o Python primeiro olha na própria NazareTedesco. Se ele não encontrar o que precisa lá, ele sobe a hierarquia e olha na superclasse Antagonista. Se ainda assim não encontrar, vai para a classe base `object`.\n",
        "\n",
        "* **Métodos definidos aqui**: Logo depois, o help mostra os métodos que são especificamente definidos na classe NazareTedesco. Aqui, você vê o construtor `__init__`, e o método `empurrar_escada`, que é exclusivo da Nazaré e não tem nada a ver com a superclasse Antagonista.\n",
        "\n",
        "* **Métodos herdados de Antagonista**: Por último, o help lista os métodos que `NazareTedesco` herdou da sua superclasse  `Antagonista`. O único método herdado é o `dizer_bordao`."
      ],
      "metadata": {
        "id": "q_Jd7TO6b6x0"
      }
    },
    {
      "cell_type": "code",
      "source": [
        "help(NazareTedesco)"
      ],
      "metadata": {
        "colab": {
          "base_uri": "https://localhost:8080/"
        },
        "id": "WX2V00ivgLmf",
        "outputId": "6af5034e-50d3-4953-b261-48fac3907a6c"
      },
      "execution_count": null,
      "outputs": [
        {
          "output_type": "stream",
          "name": "stdout",
          "text": [
            "Help on class NazareTedesco in module __main__:\n",
            "\n",
            "class NazareTedesco(Antagonista)\n",
            " |  NazareTedesco(nome, bordao, isConfusa=True)\n",
            " |  \n",
            " |  Method resolution order:\n",
            " |      NazareTedesco\n",
            " |      Antagonista\n",
            " |      builtins.object\n",
            " |  \n",
            " |  Methods defined here:\n",
            " |  \n",
            " |  __init__(self, nome, bordao, isConfusa=True)\n",
            " |      Initialize self.  See help(type(self)) for accurate signature.\n",
            " |  \n",
            " |  empurrar_escada(self)\n",
            " |  \n",
            " |  ----------------------------------------------------------------------\n",
            " |  Methods inherited from Antagonista:\n",
            " |  \n",
            " |  dizer_bordao(self)\n",
            " |  \n",
            " |  ----------------------------------------------------------------------\n",
            " |  Data descriptors inherited from Antagonista:\n",
            " |  \n",
            " |  __dict__\n",
            " |      dictionary for instance variables (if defined)\n",
            " |  \n",
            " |  __weakref__\n",
            " |      list of weak references to the object (if defined)\n",
            "\n"
          ]
        }
      ]
    },
    {
      "cell_type": "markdown",
      "source": [
        "### Sobrescrita de métodos\n",
        "\n",
        "Vamos alterar a classe `Felix` para sobrescrever o método `dizer_bordao` que foi herdado da superclasse. Afinal o Felix é o rei dos bordões e precisa da sua própria implementação.\n",
        "\n"
      ],
      "metadata": {
        "id": "d6NmDlKkWEs2"
      }
    },
    {
      "cell_type": "code",
      "source": [
        "class Felix(Antagonista):\n",
        "    def __init__(self, nome, bordoes):\n",
        "        super().__init__(nome, bordoes)\n",
        "        self.apelidos = {'substantivos': ['lacraia', 'bofe', 'rainha', 'criatura'],\n",
        "                         'adjetivos': ['do olho colorido', 'de ouro', 'do hot dog']}\n",
        "\n",
        "    # método da superclasse sobrescrito na subclasse\n",
        "    def dizer_bordao(self):\n",
        "        idx = random.randrange(len(self.bordao))\n",
        "        print(f\"{self.nome} diz: {self.bordao[idx]}.\")\n",
        "\n",
        "    def gerar_apelido(self):\n",
        "        ids = random.randrange(len(self.apelidos['substantivos']))\n",
        "        ida = random.randrange(len(self.apelidos['adjetivos']))\n",
        "\n",
        "        return self.apelidos['substantivos'][ids] + self.apelidos['adjetivos'][ida]\n",
        "\n",
        "\n",
        "\n",
        "bordoes = ['Eu salguei a santa ceia, só pode!',\n",
        "           'Lavei cueca na manjedoura',\n",
        "           'Piquei salsinha na tábua dos 10 mandamentos',\n",
        "           'Cobrei juros das 30 moedas de Judas']\n",
        "\n",
        "felix = Felix('Félix', bordoes)"
      ],
      "metadata": {
        "id": "Y9wqe7wlWE_H"
      },
      "execution_count": null,
      "outputs": []
    },
    {
      "cell_type": "markdown",
      "source": [
        "Algumas coisas interessantes acontecem na estrutura da classe e na saída do comando `help(Felix)`\n",
        "\n",
        "* Na versão original da classe `Felix`, o método `dizer_bordao` aparecia como \"Métodos herdados de Antagonista\". Agora que o Felix tem sua própria implementação (sobrescrita), esse trecho do `help` nem existe mais! Felix não herda mais nenhum método da superclasse, apenas seus atributos.\n",
        "\n",
        "* Consequentemente, `dizer_bordao` agora aparece em \"Métodos definidos aqui\". Note também que o comentário adicionado logo acima do método aparece automaticamente como uma documentação (que lindo 🥹, comente seu código!).\n",
        "\n",
        "* A ordem de resolução dos métodos não muda, pois a estrutura de herança permanece a mesma.\n",
        "\n",
        "\n",
        "\n"
      ],
      "metadata": {
        "id": "BgGEfMs1dxQ8"
      }
    },
    {
      "cell_type": "code",
      "source": [
        "help(felix)"
      ],
      "metadata": {
        "colab": {
          "base_uri": "https://localhost:8080/"
        },
        "id": "yqOcFPbwgi5j",
        "outputId": "3fb31787-0f60-4f4b-d4de-d7216ac10008"
      },
      "execution_count": null,
      "outputs": [
        {
          "output_type": "stream",
          "name": "stdout",
          "text": [
            "Help on Felix in module __main__ object:\n",
            "\n",
            "class Felix(Antagonista)\n",
            " |  Felix(nome, bordoes)\n",
            " |  \n",
            " |  Method resolution order:\n",
            " |      Felix\n",
            " |      Antagonista\n",
            " |      builtins.object\n",
            " |  \n",
            " |  Methods defined here:\n",
            " |  \n",
            " |  __init__(self, nome, bordoes)\n",
            " |      Initialize self.  See help(type(self)) for accurate signature.\n",
            " |  \n",
            " |  dizer_bordao(self)\n",
            " |      # método da superclasse sobrescrito na subclasse\n",
            " |  \n",
            " |  gerar_apelido(self)\n",
            " |  \n",
            " |  ----------------------------------------------------------------------\n",
            " |  Data descriptors inherited from Antagonista:\n",
            " |  \n",
            " |  __dict__\n",
            " |      dictionary for instance variables (if defined)\n",
            " |  \n",
            " |  __weakref__\n",
            " |      list of weak references to the object (if defined)\n",
            "\n"
          ]
        }
      ]
    },
    {
      "cell_type": "markdown",
      "source": [
        "### Herança Múltipla\n",
        "\n",
        "Exemplo a seguir adaptado do [melhor e mais completo tutorial do Real Python](https://realpython.com/python-classes/#multiple-inheritance) sobre orientação a objetos no Python.\n",
        "\n",
        "Vamos implementar a abstração de um carro voador!\n",
        "\n",
        "<img width=500 src=\"https://images.squarespace-cdn.com/content/v1/5e1e8a13e8a3102d5c82d1b1/1606512300229-DRPYFBISPBE1JUUZL92Z/Jetsons.jpeg\">\n",
        "\n",
        "\n",
        "Nesse cenário, temos a definição de uma classe `Vehicle` (veículo), que será a base de todas classes. No segundo nível da hierarquia temos `Car` (carro) e `Aircraft` (aeronave), ambos herdando de veículo. Temos por fim um terceiro nível hierárquico que define `FlyingCar` (carro voador), com uma relação de **herança múltipla**, herdando simultaneamente de carro e de aeronave. Veja a representação UML a seguir.\n",
        "\n",
        "\n",
        "```\n",
        "      +--------------------------------+\n",
        "      |             Vehicle            |\n",
        "      +--------------------------------+\n",
        "      | - make: str                    |\n",
        "      | - model: str                   |\n",
        "      | - color: str                   |\n",
        "      +--------------------------------+\n",
        "      | + __init__(make, model, color) |\n",
        "      | + start()                      |\n",
        "      | + stop()                       |\n",
        "      | + show_technical_specs()       |\n",
        "      +--------------------------------+\n",
        "                       ^\n",
        "          _____________|_____________\n",
        "         |                           |\n",
        "+-----------------+         +-----------------+   \n",
        "|       Car       |         |     Aircraft    |\n",
        "+-----------------+         +-----------------+\n",
        "+-----------------+         +-----------------+\n",
        "| + drive()       |         | + fly()         |\n",
        "| + stop()        |         | + stop()        |\n",
        "+-----------------+         +-----------------+\n",
        "         ^                           ^\n",
        "         |                           |\n",
        "          ---------------------------\n",
        "                       |\n",
        "              +-----------------+\n",
        "              |     FlyingCar   |\n",
        "              +-----------------+\n",
        "              +-----------------+\n",
        "              +-----------------+\n",
        "```\n",
        "\n",
        "\n",
        "\n",
        "\n",
        "\n"
      ],
      "metadata": {
        "id": "PnyQJp7yhRic"
      }
    },
    {
      "cell_type": "markdown",
      "source": [
        "A pergunta que fica é:\n",
        "\n",
        "> ❓ Se todo mundo na hierarquia tem o método `stop`, o que acontece se eu defino um carro voador e invoco este método ❓\n",
        "```python\n",
        "carro_jetsons = FlyingCar('Spacely Space Sprockets Inc.', 'Flying car', 'green')\n",
        "carro_jetsons.stop() # qual stop estou chamando?\n",
        "```\n",
        "\n",
        "Vamos implementar essa relação de maneira prática, só com alguns prints pra saber onde estamos na execução."
      ],
      "metadata": {
        "id": "bvz0cPDJi7UG"
      }
    },
    {
      "cell_type": "code",
      "source": [
        "class Vehicle:\n",
        "    def __init__(self, make, model, color):\n",
        "        self.make = make\n",
        "        self.model = model\n",
        "        self.color = color\n",
        "\n",
        "    def start(self):\n",
        "        print(\"Ligando o motor...\")\n",
        "\n",
        "    def stop(self):\n",
        "        print(\"Desligando o motor...\")\n",
        "\n",
        "    def show_technical_specs(self):\n",
        "        print(f\"Marca: {self.make}\")\n",
        "        print(f\"Modelo: {self.model}\")\n",
        "        print(f\"Cor: {self.color}\")\n",
        "\n",
        "class Car(Vehicle):\n",
        "    def drive(self):\n",
        "        print(\"Dirigindo na rua...\")\n",
        "\n",
        "    def stop(self):\n",
        "        print(\"Eu sou um carro e vou desligar o motor hein?!\")\n",
        "\n",
        "class Aircraft(Vehicle):\n",
        "    def fly(self):\n",
        "        print(\"Voando no céu...\")\n",
        "\n",
        "    def stop(self):\n",
        "        print(\"Não desligue o motor no ar!!!\")\n",
        "\n",
        "class FlyingCar(Car, Aircraft):\n",
        "    pass"
      ],
      "metadata": {
        "id": "jOwbwHRdhSBG"
      },
      "execution_count": null,
      "outputs": []
    },
    {
      "cell_type": "markdown",
      "source": [
        "#### 💡 Method Resolution Order (MRO) 💡\n",
        "\n",
        "De acordo com a ordem de resolução da classe `FlyingCar`, ao invocar um método, o interpretador vai procurar este método primeiro na própria classe (sempre), e em seguida buscará na classe `Car`, a primeira definida na relação de herança múltipla.\n",
        "\n",
        "```python\n",
        "class FlyingCar(Car, Aircraft):\n",
        "```"
      ],
      "metadata": {
        "id": "OhedvykvfFN-"
      }
    },
    {
      "cell_type": "code",
      "source": [
        "FlyingCar.__mro__"
      ],
      "metadata": {
        "id": "pc-gxXDTLpeP",
        "outputId": "6cac1ab2-e9b6-4487-ac33-1e3e69f47d8f",
        "colab": {
          "base_uri": "https://localhost:8080/"
        }
      },
      "execution_count": null,
      "outputs": [
        {
          "output_type": "execute_result",
          "data": {
            "text/plain": [
              "(__main__.FlyingCar, __main__.Car, __main__.Aircraft, __main__.Vehicle, object)"
            ]
          },
          "metadata": {},
          "execution_count": 12
        }
      ]
    },
    {
      "cell_type": "markdown",
      "source": [
        "❗ Que perigo ❗\n",
        "\n",
        "Dessa maneira, seu carro voador vai simplesmente desligar o motor! Experimente alterar a definição de `FlyingCar` trocando a ordem da herança e veja como a ordem de resolução vai ser alterada.\n",
        "\n",
        "```python\n",
        "class FlyingCar(Aircraft, Car):\n",
        "```\n",
        "\n",
        "Por fim execute o código a seguir e veja como isso acontecerá na prática."
      ],
      "metadata": {
        "id": "ZHegAohekU0E"
      }
    },
    {
      "cell_type": "code",
      "source": [
        "carro_jetsons = FlyingCar('Spacely Space Sprockets Inc.', 'Flying car', 'green')\n",
        "carro_jetsons.stop()"
      ],
      "metadata": {
        "colab": {
          "base_uri": "https://localhost:8080/"
        },
        "id": "GvGYXDGIiY-q",
        "outputId": "e5e254e4-189d-4f07-e924-5347b972f675"
      },
      "execution_count": null,
      "outputs": [
        {
          "output_type": "stream",
          "name": "stdout",
          "text": [
            "Eu sou um carro e vou desligar o motor hein?!\n"
          ]
        }
      ]
    },
    {
      "cell_type": "code",
      "source": [
        "help(FlyingCar)"
      ],
      "metadata": {
        "colab": {
          "base_uri": "https://localhost:8080/"
        },
        "id": "Uht4u06RfHvy",
        "outputId": "79879b58-9628-4e24-87eb-313b5bc33751"
      },
      "execution_count": null,
      "outputs": [
        {
          "output_type": "stream",
          "name": "stdout",
          "text": [
            "Help on class FlyingCar in module __main__:\n",
            "\n",
            "class FlyingCar(Car, Aircraft)\n",
            " |  FlyingCar(make, model, color)\n",
            " |  \n",
            " |  Method resolution order:\n",
            " |      FlyingCar\n",
            " |      Car\n",
            " |      Aircraft\n",
            " |      Vehicle\n",
            " |      builtins.object\n",
            " |  \n",
            " |  Methods inherited from Car:\n",
            " |  \n",
            " |  drive(self)\n",
            " |  \n",
            " |  stop(self)\n",
            " |  \n",
            " |  ----------------------------------------------------------------------\n",
            " |  Methods inherited from Aircraft:\n",
            " |  \n",
            " |  fly(self)\n",
            " |  \n",
            " |  ----------------------------------------------------------------------\n",
            " |  Methods inherited from Vehicle:\n",
            " |  \n",
            " |  __init__(self, make, model, color)\n",
            " |      Initialize self.  See help(type(self)) for accurate signature.\n",
            " |  \n",
            " |  show_technical_specs(self)\n",
            " |  \n",
            " |  start(self)\n",
            " |  \n",
            " |  ----------------------------------------------------------------------\n",
            " |  Data descriptors inherited from Vehicle:\n",
            " |  \n",
            " |  __dict__\n",
            " |      dictionary for instance variables (if defined)\n",
            " |  \n",
            " |  __weakref__\n",
            " |      list of weak references to the object (if defined)\n",
            "\n"
          ]
        }
      ]
    }
  ]
}