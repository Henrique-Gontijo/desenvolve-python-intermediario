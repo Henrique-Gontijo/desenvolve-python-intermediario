{
  "nbformat": 4,
  "nbformat_minor": 0,
  "metadata": {
    "colab": {
      "provenance": []
    },
    "kernelspec": {
      "name": "python3",
      "display_name": "Python 3"
    },
    "language_info": {
      "name": "python"
    }
  },
  "cells": [
    {
      "cell_type": "markdown",
      "source": [
        "> Projeto Desenvolve <br>\n",
        "Programação Intermediária com Python <br>\n",
        "Profa. Camila Laranjeira (mila@projetodesenvolve.com.br) <br>\n",
        "\n",
        "# 2.8 - Tratamento de erros\n",
        "\n",
        "A grande mensagem dessa aula é: erros no nosso sistema, quaisquer que sejam eles, **precisam ser tratados**. Seja uma entrada incorreta do usuário, ou um arquivo que não existe, precisamos **capturar e tratar** possíveis erros. Nem sempre tratar é resolver, às vezes é só abrir uma janela de pop-up ou de alguma outra maneira informar o usuário do que aconteceu (tela azul do Windows). Nessa aula, vamos conhecer estruturas de código do Python que nos ajudam no tratamento de erros.\n",
        "\n",
        "\n",
        "<img src=\"https://drive.google.com/uc?id=1E3UXCfHizxpwz3YVS2tjH-CTuNpRDyEd\" width=800/>\n",
        "\n"
      ],
      "metadata": {
        "id": "ePTcEKV4ZtPv"
      }
    },
    {
      "cell_type": "markdown",
      "source": [
        "## Relembrando erros\n",
        "\n",
        "Podemos dividir os erros em (pelo menos) dois tipos:\n",
        "- **Erros de sintaxe** (`SyntaxError`): Ocorrem quando não obedecemos a estrutura esperada para escrita do código. O interpretador informa a localização do erro, tanto a linha quanto o ponto exato marcado com uma seta (^), além de uma mensagem descrevendo o problema (ex.:`incomplete input`).\n",
        "\n",
        "Nesse caso, o tratamento é reescrever o trecho de código incorreto. Não há expectativa de que um código sintaticamente incorreto deva executar corretamente."
      ],
      "metadata": {
        "id": "bFMAl0jFnd2l"
      }
    },
    {
      "cell_type": "code",
      "execution_count": null,
      "metadata": {
        "colab": {
          "base_uri": "https://localhost:8080/",
          "height": 105
        },
        "id": "W_9WaYEyZQv3",
        "outputId": "6dfa02b3-528e-4149-e484-cf8f0784ed6d"
      },
      "outputs": [
        {
          "output_type": "error",
          "ename": "SyntaxError",
          "evalue": "incomplete input (<ipython-input-4-a7415d3c92cf>, line 2)",
          "traceback": [
            "\u001b[0;36m  File \u001b[0;32m\"<ipython-input-4-a7415d3c92cf>\"\u001b[0;36m, line \u001b[0;32m2\u001b[0m\n\u001b[0;31m    print('Olá'\u001b[0m\n\u001b[0m               ^\u001b[0m\n\u001b[0;31mSyntaxError\u001b[0m\u001b[0;31m:\u001b[0m incomplete input\n"
          ]
        }
      ],
      "source": [
        "## Exemplo de erro de sintaxe\n",
        "print('Olá'"
      ]
    },
    {
      "cell_type": "markdown",
      "source": [
        "- **Erros semânticos**: Indica que o código está sintaticamente correto, mas o interpretador não foi capaz de executar a operação. Este erro pode ter inúmeras razões (ex.: divisão por zero, variável não declarada, tipos inválidos, etc.). A [W3Schools apresenta uma tabela](https://www.w3schools.com/python/python_ref_exceptions.asp) resumindo as exceções nativas do Python.\n",
        "> Esses são os erros que podemos (e devemos) tratar dentro do próprio código.\n",
        "\n",
        "A seguir vemos um exemplo de divisão com um valor fornecido pelo usuário. Se o valor de entrada for `0` (zero) teremos um `ZeroDivisionError`."
      ],
      "metadata": {
        "id": "-NUDwK_KsILq"
      }
    },
    {
      "cell_type": "code",
      "source": [
        "## Exemplo de exceção\n",
        "numero = int(input())\n",
        "print(10/numero)"
      ],
      "metadata": {
        "colab": {
          "base_uri": "https://localhost:8080/",
          "height": 196
        },
        "id": "OJoJCncPnXTD",
        "outputId": "b20e62bb-1693-42fe-d1d6-b382b682ab1e"
      },
      "execution_count": null,
      "outputs": [
        {
          "name": "stdout",
          "output_type": "stream",
          "text": [
            "0\n"
          ]
        },
        {
          "output_type": "error",
          "ename": "ZeroDivisionError",
          "evalue": "division by zero",
          "traceback": [
            "\u001b[0;31m---------------------------------------------------------------------------\u001b[0m",
            "\u001b[0;31mZeroDivisionError\u001b[0m                         Traceback (most recent call last)",
            "\u001b[0;32m<ipython-input-1-1521bd8b81c4>\u001b[0m in \u001b[0;36m<cell line: 3>\u001b[0;34m()\u001b[0m\n\u001b[1;32m      1\u001b[0m \u001b[0;31m## Exemplo de exceção\u001b[0m\u001b[0;34m\u001b[0m\u001b[0;34m\u001b[0m\u001b[0m\n\u001b[1;32m      2\u001b[0m \u001b[0mnumero\u001b[0m \u001b[0;34m=\u001b[0m \u001b[0mint\u001b[0m\u001b[0;34m(\u001b[0m\u001b[0minput\u001b[0m\u001b[0;34m(\u001b[0m\u001b[0;34m)\u001b[0m\u001b[0;34m)\u001b[0m\u001b[0;34m\u001b[0m\u001b[0;34m\u001b[0m\u001b[0m\n\u001b[0;32m----> 3\u001b[0;31m \u001b[0mprint\u001b[0m\u001b[0;34m(\u001b[0m\u001b[0;36m10\u001b[0m\u001b[0;34m/\u001b[0m\u001b[0mnumero\u001b[0m\u001b[0;34m)\u001b[0m\u001b[0;34m\u001b[0m\u001b[0;34m\u001b[0m\u001b[0m\n\u001b[0m",
            "\u001b[0;31mZeroDivisionError\u001b[0m: division by zero"
          ]
        }
      ]
    },
    {
      "cell_type": "markdown",
      "source": [
        "## LBYL vs EAFP\n",
        "\n",
        "Tratar erros é sobre prever que eles podem acontecer, e incluir no código recursos para lidar com isso (seja informando o usuário ou corrigindo o problema). Existem dois paradigmas de como isso pode se expressar no código.\n",
        "\n",
        "**Look Before You Leap** (LBYL): Traduzido como \"*olhe antes de pular*\", é uma abordagem preventiva. Verifica-se primeiro se uma operação é segura antes de executá-la. Isso pode envolver verificações de condições, validações de entradas e outras medidas preventivas.\n",
        "\n",
        "**Easier to Ask for Forgiveness than Permission** (EAFP): Podemos traduzir para \"*melhor pedir desculpas do que permissão*\", é um estilo mais otimista onde se lida com o problema só se a exceção de fato acontecer. Cria-se uma estrutura capaz de **tentar** executar a operação, e em caso de falha captura a natureza do erro para tratamento posterior.\n",
        "\n",
        "```python\n",
        "data = {'nome': 'Alice', 'idade': 25}\n",
        "\n",
        "# LBYL - Verificando antecipadamente se a chave 'nome' existe no dicionário\n",
        "if 'nome' in data:\n",
        "    print(\"Nome: \", {data['nome']})\n",
        "\n",
        "# EAFP - Tentando acessar a chave 'nome' diretamente, e capturando o erro caso ocorra.\n",
        "try:\n",
        "    print(\"Nome: \", {data['nome']})\n",
        "except KeyError:\n",
        "    print(\"Chave não encontrada.\")\n",
        "```\n",
        "\n",
        "Comandos de seleção você já conhece. Nessa aula veremos as ferramentas existentes no Python para o segundo caso, onde capturamos exceções depois que elas acontecem."
      ],
      "metadata": {
        "id": "sjn1H2Tw55cw"
      }
    },
    {
      "cell_type": "markdown",
      "source": [
        "## ```try-except```\n",
        "\n",
        "A instrução `try` permite \"proteger\" blocos de código internos a ela. Caso uma exceção aconteça dentro do escopo do `try`, ela pode ser capturada através da cláusula `except`. Temos a seguir a sintaxe fundamental do `try-except`.\n",
        "\n",
        "```python\n",
        "try:\n",
        "  # instruções que têm\n",
        "  # potencial de lançar exceção\n",
        "except <Tipo de exceção> as <variável>:\n",
        "  # instruções para tratamento\n",
        "  # da exceção lançada\n",
        "```\n",
        "\n",
        "Exceções são estruturadas como objetos, e podem ser armazenadas em variáveis através da cláusula `except`. Esses objetos carregam as informações sobre o erro que vemos na tela (mais do que desejamos) quando ele é lançado."
      ],
      "metadata": {
        "id": "EkCKgDJS0VNQ"
      }
    },
    {
      "cell_type": "code",
      "source": [
        "try:\n",
        "  print('--- Antes do erro ---')\n",
        "  x = 0/0\n",
        "  print('--- Depois do erro ---')\n",
        "except Exception as exc:\n",
        "  print('--- Opa, temos uma exceção!! ---')\n",
        "  print(type(exc))\n",
        "  print(exc.args)\n",
        "  print(dir(exc))\n",
        "  print(repr(exc))\n"
      ],
      "metadata": {
        "colab": {
          "base_uri": "https://localhost:8080/"
        },
        "id": "oFoH812HnBf6",
        "outputId": "bfadee96-c44b-4669-99fb-fcb3a96fd60e"
      },
      "execution_count": null,
      "outputs": [
        {
          "output_type": "stream",
          "name": "stdout",
          "text": [
            "--- Antes do erro ---\n",
            "--- Opa, temos uma exceção!! ---\n",
            "<class 'ZeroDivisionError'>\n",
            "('division by zero',)\n",
            "['__cause__', '__class__', '__context__', '__delattr__', '__dict__', '__dir__', '__doc__', '__eq__', '__format__', '__ge__', '__getattribute__', '__gt__', '__hash__', '__init__', '__init_subclass__', '__le__', '__lt__', '__ne__', '__new__', '__reduce__', '__reduce_ex__', '__repr__', '__setattr__', '__setstate__', '__sizeof__', '__str__', '__subclasshook__', '__suppress_context__', '__traceback__', 'args', 'with_traceback']\n",
            "ZeroDivisionError('division by zero')\n"
          ]
        }
      ]
    },
    {
      "cell_type": "markdown",
      "source": [
        "Não é obrigatório capturar o erro como uma variável. Soluções mais simples podem usar a instrução `try-except` como apresentado a seguir.    "
      ],
      "metadata": {
        "id": "ZVtblwiV59Eg"
      }
    },
    {
      "cell_type": "code",
      "source": [
        "try:\n",
        "  x = 0/0\n",
        "except:\n",
        "  print('Aqui eu trato qualquer erro')"
      ],
      "metadata": {
        "colab": {
          "base_uri": "https://localhost:8080/"
        },
        "id": "YcwBfkla59bt",
        "outputId": "49f44602-8a69-4ab6-fe12-26276bc2ca95"
      },
      "execution_count": null,
      "outputs": [
        {
          "output_type": "stream",
          "name": "stdout",
          "text": [
            "Aqui eu trato qualquer erro\n"
          ]
        }
      ]
    },
    {
      "cell_type": "markdown",
      "source": [
        "A vantagem de informar o tipo de erro na cláusula `except` é que podemos dar tratamentos específicos para erros diferentes.\n",
        "\n"
      ],
      "metadata": {
        "id": "6dXWsCsQnBtq"
      }
    },
    {
      "cell_type": "code",
      "source": [
        "try:\n",
        "    fp = open('algum_arquivo.txt', 'r')\n",
        "    print(fp.read())\n",
        "    fp.close()\n",
        "except FileNotFoundError as fnf_error:\n",
        "    print(\"Não encontrei o arquivo\")\n",
        "except PermissionError as perm_error:\n",
        "    print(\"Encontrei o arquivo, mas não tenho permissão para ler\")"
      ],
      "metadata": {
        "id": "bEWk3mGP7Lxq",
        "colab": {
          "base_uri": "https://localhost:8080/"
        },
        "outputId": "e91c126b-3c66-413b-874a-68682c4151d5"
      },
      "execution_count": null,
      "outputs": [
        {
          "output_type": "stream",
          "name": "stdout",
          "text": [
            "FileNotFoundError(2, 'No such file or directory')\n"
          ]
        }
      ]
    },
    {
      "cell_type": "markdown",
      "source": [
        "## Exceções e Herança\n",
        "\n",
        "Assim como tudo no Python, exceções também são objeto. Temos portanto classes que definem os dados e comportamentos de cada tipo de exceção. Essas classes são **organizadas em uma hierarquia de herança**, onde subclasses herdam o comportamento de superclasses e define suas especificidades.\n",
        "\n",
        "[Clique aqui para ver a hierarquia completa de exceções.](https://docs.python.org/3/library/exceptions.html#exception-hierarchy)\n",
        "\n",
        "```\n",
        "BaseException\n",
        " ├── BaseExceptionGroup\n",
        " ├── GeneratorExit\n",
        " ├── KeyboardInterrupt\n",
        " ├── SystemExit\n",
        " └── Exception\n",
        "      ├── ArithmeticError\n",
        "      │    ├── FloatingPointError\n",
        "      │    ├── OverflowError\n",
        "      │    └── ZeroDivisionError\n",
        "      ├── AssertionError\n",
        "      ├── AttributeError\n",
        "[...]\n",
        "      ├── OSError\n",
        "      │    ├── BlockingIOError\n",
        "      │    ├── ChildProcessError\n",
        "      │    ├── ConnectionError\n",
        "[...]\n",
        "      │    ├── FileExistsError\n",
        "      │    ├── FileNotFoundError\n",
        "      │    ├── InterruptedError\n",
        "      │    ├── IsADirectoryError\n",
        "      │    ├── NotADirectoryError\n",
        "      │    ├── PermissionError\n",
        "[...]\n",
        "```\n",
        "\n",
        "Na prática isso significa que ao decidir qual erro queremos capturar, podemos escolher entre erros mais genéricos ou mais específicos. Por exemplo, ao escrever um código que captura um `OSError` (veja a seguir), qualquer erro hierarquicamente abaixo dele pode ativar esse gatilho (ex.: `FileNotFoundError`, `PermissionError`). Havendo mais de uma cláusula `except`, **devem estar ordenadas da mais específica para a mais genérica**, já que a cadeia se encerra ao capturar a primeira exceção.\n",
        "\n",
        "```python\n",
        "try:\n",
        "    fp = open('algum_arquivo.txt', 'r')\n",
        "except OSError as os_error:\n",
        "    print('Pega qualquer um dos erros de OS')\n",
        "except FileNotFoundError as fnf_error:\n",
        "    print('Isso nunca vai executar, já que FileNotFoundError é subclasse de OSError')\n",
        "```\n",
        "\n",
        "Quando não especificamos qual erro queremos capturar (com um `try-except` sem argumentos), considera-se implicitamente a captura de uma `BaseException`, superclasse no topo da hierarquia.\n",
        "\n",
        "```python\n",
        "try:\n",
        "    fp = open('algum_arquivo.txt', 'r')\n",
        "except: # BaseException\n",
        "    print('Pega absolutamente qualquer exceção')\n",
        "```"
      ],
      "metadata": {
        "id": "7CkfT1jT6nix"
      }
    },
    {
      "cell_type": "markdown",
      "source": [
        "## `raise`\n",
        "\n",
        "Exceções podem ser deliberadamente lançadas com o comando `raise`, nos permitindo criar nossas próprias regras de erros para além daquelas automaticamente lançadas pelo interpretador."
      ],
      "metadata": {
        "id": "uzhsZElV5c5n"
      }
    },
    {
      "cell_type": "code",
      "source": [
        "i = int(input(\"Digite um número positivo: \"))\n",
        "if i < 0: raise ValueError('Valor negativo digitado')"
      ],
      "metadata": {
        "colab": {
          "base_uri": "https://localhost:8080/",
          "height": 173
        },
        "id": "6NOpMMAb6CHo",
        "outputId": "6bdc3581-dcac-4150-e5bd-320422242c06"
      },
      "execution_count": null,
      "outputs": [
        {
          "name": "stdout",
          "output_type": "stream",
          "text": [
            "Digite um número positivo: -1\n"
          ]
        },
        {
          "output_type": "error",
          "ename": "ValueError",
          "evalue": "Valor negativo digitado",
          "traceback": [
            "\u001b[0;31m---------------------------------------------------------------------------\u001b[0m",
            "\u001b[0;31mValueError\u001b[0m                                Traceback (most recent call last)",
            "\u001b[0;32m<ipython-input-8-9c117c25125b>\u001b[0m in \u001b[0;36m<cell line: 2>\u001b[0;34m()\u001b[0m\n\u001b[1;32m      1\u001b[0m \u001b[0mi\u001b[0m \u001b[0;34m=\u001b[0m \u001b[0mint\u001b[0m\u001b[0;34m(\u001b[0m\u001b[0minput\u001b[0m\u001b[0;34m(\u001b[0m\u001b[0;34m\"Digite um número positivo: \"\u001b[0m\u001b[0;34m)\u001b[0m\u001b[0;34m)\u001b[0m\u001b[0;34m\u001b[0m\u001b[0;34m\u001b[0m\u001b[0m\n\u001b[0;32m----> 2\u001b[0;31m \u001b[0;32mif\u001b[0m \u001b[0mi\u001b[0m \u001b[0;34m<\u001b[0m \u001b[0;36m0\u001b[0m\u001b[0;34m:\u001b[0m \u001b[0;32mraise\u001b[0m \u001b[0mValueError\u001b[0m\u001b[0;34m(\u001b[0m\u001b[0;34m'Valor negativo digitado'\u001b[0m\u001b[0;34m)\u001b[0m\u001b[0;34m\u001b[0m\u001b[0;34m\u001b[0m\u001b[0m\n\u001b[0m",
            "\u001b[0;31mValueError\u001b[0m: Valor negativo digitado"
          ]
        }
      ]
    },
    {
      "cell_type": "markdown",
      "source": [
        "Podemos inclusive criar nossas próprias classes de erro! Basta para isso definir uma subclasse do tipo de erro que se deseja especializar."
      ],
      "metadata": {
        "id": "1ri0I2mD6Tbu"
      }
    },
    {
      "cell_type": "code",
      "source": [
        "class ContaSemSaldoException(Exception):\n",
        "    def __init__(self, message=\"Conta sem saldo suficiente para a operação\"):\n",
        "        self.message = message\n",
        "        super().__init__(self.message)\n",
        "\n",
        "    def __str__(self):\n",
        "        return f\"{self.message}\"\n",
        "\n",
        "class ContaBancaria:\n",
        "    def __init__(self, titular, saldo=0.0):\n",
        "        self.titular = titular\n",
        "        self.saldo = saldo\n",
        "\n",
        "    def depositar(self, valor):\n",
        "        self.saldo += valor\n",
        "        print(f\"Depósito de R${valor:.2f} realizado com sucesso.\")\n",
        "        print(f\"Saldo atual: R${self.saldo:.2f}\")\n",
        "\n",
        "    def sacar(self, valor):\n",
        "        if valor > self.saldo:\n",
        "            raise ContaSemSaldoException(\n",
        "                f\"Tentativa de saque de R${valor:.2f} com saldo disponível de R${self.saldo:.2f}\"\n",
        "            )\n",
        "        else:\n",
        "            self.saldo -= valor\n",
        "            print(f\"Saque de R${valor:.2f} realizado com sucesso.\")\n",
        "            print(f\"Saldo atual: R${self.saldo:.2f}\")\n",
        "\n",
        "try:\n",
        "    conta = ContaBancaria(\"Maria\", 100)\n",
        "    conta.depositar(50)\n",
        "    conta.sacar(200)\n",
        "except ContaSemSaldoException as exc:\n",
        "    print(exc)"
      ],
      "metadata": {
        "colab": {
          "base_uri": "https://localhost:8080/"
        },
        "id": "WbcubP2N4phk",
        "outputId": "448d4173-b382-4304-bbbd-a4ea3ebf2b52"
      },
      "execution_count": null,
      "outputs": [
        {
          "output_type": "stream",
          "name": "stdout",
          "text": [
            "Depósito de R$50.00 realizado com sucesso. Saldo atual: R$150.00\n",
            "Tentativa de saque de R$200.00 com saldo disponível de R$150.00\n"
          ]
        }
      ]
    },
    {
      "cell_type": "markdown",
      "source": [
        "## `try-except-else-finally`\n",
        "\n",
        "De maneira mais completa, o tratemento de erros envolve uma estrutura de 4 comandos, detalhados a seguir:\n",
        "\n",
        "```python\n",
        "try\n",
        "```\n",
        "* É usado para envolver o código que pode potencialmente lançar uma exceção. É a parte do código que você deseja monitorar.\n",
        "\n",
        "```python\n",
        "except\n",
        "```\n",
        "* Captura e trata a exceção que pode ser levantada no bloco `try`. Você pode especificar diferentes tipos de exceções.\n",
        "\n",
        "```python\n",
        "else\n",
        "```\n",
        "* É opcional e executa somente se o bloco `try` não gerar nenhuma exceção. Ele é usado para **executar código que deve rodar apenas se não houver erros**.\n",
        "\n",
        "```python\n",
        "finally\n",
        "```\n",
        "* É opcional e **sempre executa**, independentemente de uma exceção ter sido levantada ou não. Ele é usado para limpar recursos ou realizar ações finais necessárias.\n",
        "\n",
        "\n"
      ],
      "metadata": {
        "id": "btIdIW_87m9j"
      }
    },
    {
      "cell_type": "code",
      "source": [
        "class ContaSemSaldoException(Exception):\n",
        "    def __init__(self, message=\"Conta sem saldo suficiente para a operação\"):\n",
        "        self.message = message\n",
        "        super().__init__(self.message)\n",
        "\n",
        "    def __str__(self):\n",
        "        return f\"{self.message}\"\n",
        "\n",
        "class ContaBancaria:\n",
        "    def __init__(self, titular, saldo=0.0):\n",
        "        self.titular = titular\n",
        "        self.saldo = saldo\n",
        "\n",
        "    def depositar(self, valor):\n",
        "        self.saldo += valor\n",
        "        print(f\"Depósito de R${valor:.2f}.\")\n",
        "\n",
        "    def sacar(self, valor):\n",
        "        if valor > self.saldo:\n",
        "            raise ContaSemSaldoException()\n",
        "        else:\n",
        "            self.saldo -= valor\n",
        "            print(f\"Saque de R${valor:.2f}\")"
      ],
      "metadata": {
        "id": "b6-Y1_9Q9Bbf"
      },
      "execution_count": null,
      "outputs": []
    },
    {
      "cell_type": "code",
      "source": [
        "def menu():\n",
        "    op = int(input('1-Depositar\\n2-Sacar\\n\\nou digite qualquer outra tecla para sair. Digite sua opção: '))\n",
        "    match(op):\n",
        "        case 1:\n",
        "            valor = int(input('Valor: '))\n",
        "            print('Depositando... ', end='')\n",
        "            conta.depositar(valor)\n",
        "        case 2:\n",
        "            valor = int(input('Valor: '))\n",
        "            print('Sacando... ', end='')\n",
        "            conta.sacar(valor)\n",
        "        case _:\n",
        "            print('Você escolheu sair. ', end='')\n",
        "            return -1\n",
        "    return 0\n",
        "\n",
        "\n",
        "conta = ContaBancaria(\"João\", 100)\n",
        "while True:\n",
        "    try:\n",
        "        r = menu()\n",
        "        if r != 0: break\n",
        "    except ContaSemSaldoException as exc:\n",
        "        print(exc)\n",
        "    except Exception as exc:\n",
        "        raise(exc)\n",
        "    else:\n",
        "        print(\"\\n*** Operação realizada com sucesso.\")\n",
        "    finally:\n",
        "        print(f\"\\n--- Finalizando operação. Saldo da conta: R${conta.saldo:.2f}\\n\")"
      ],
      "metadata": {
        "id": "2J9JM37v7nNd",
        "colab": {
          "base_uri": "https://localhost:8080/"
        },
        "outputId": "b23bd69d-ad89-4f1b-86dd-0f7a9c17e400"
      },
      "execution_count": null,
      "outputs": [
        {
          "output_type": "stream",
          "name": "stdout",
          "text": [
            "1-Depositar\n",
            "2-Sacar\n",
            "\n",
            "ou digite qualquer outra tecla para sair. Digite sua opção: 1\n",
            "Valor: 50\n",
            "Depositando... Depósito de R$50.00.\n",
            "\n",
            "*** Operação realizada com sucesso.\n",
            "\n",
            "--- Finalizando operação. Saldo da conta: R$150.00\n",
            "\n",
            "1-Depositar\n",
            "2-Sacar\n",
            "\n",
            "ou digite qualquer outra tecla para sair. Digite sua opção: 2\n",
            "Valor: 200\n",
            "Sacando... Conta sem saldo suficiente para a operação\n",
            "\n",
            "--- Finalizando operação. Saldo da conta: R$150.00\n",
            "\n",
            "1-Depositar\n",
            "2-Sacar\n",
            "\n",
            "ou digite qualquer outra tecla para sair. Digite sua opção: 4\n",
            "Você escolheu sair. \n",
            "--- Finalizando operação. Saldo da conta: R$150.00\n",
            "\n"
          ]
        }
      ]
    },
    {
      "cell_type": "markdown",
      "source": [
        "## Referências:\n",
        "- [Tutorial do Real Python](https://realpython.com/python-exceptions/)\n",
        "- [Documentação do Python](https://docs.python.org/3/tutorial/errors.html)\n",
        "- [Aula da disciplina PDS2 da UFMG (em C++)](https://docs.google.com/presentation/d/1g7S-c5LeK_-58HoSwhWtg_-fTBQunDRMq5OgNCe7D7s/edit#slide=id.g45fb77d45b_0_28)"
      ],
      "metadata": {
        "id": "-GKyCwjYDHsK"
      }
    }
  ]
}