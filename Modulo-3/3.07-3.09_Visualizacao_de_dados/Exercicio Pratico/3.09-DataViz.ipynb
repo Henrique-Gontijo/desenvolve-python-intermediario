{
 "cells": [
  {
   "cell_type": "markdown",
   "metadata": {},
   "source": [
    "> Projeto Desenvolve <br>\n",
    "Programação Intermediária com Python <br>\n",
    "Profa. Camila Laranjeira (mila@projetodesenvolve.com.br) <br>\n",
    "\n",
    "# 3.9 - Visualização de Dados"
   ]
  },
  {
   "cell_type": "markdown",
   "metadata": {
    "vscode": {
     "languageId": "plaintext"
    }
   },
   "source": [
    "## Exercícios\n",
    "Vamos trabalhar com as mesmas bases de dados do exercício de Pandas. Aqui estão os links caso você queira baixar novamente, mas recomendo trabalhar com o `wc_formatado.csv` que exportamos na questão Q2 do exercício anterior.\n",
    "\n",
    "* https://raw.githubusercontent.com/camilalaranjeira/python-intermediario/main/fifa-wc/matches_1930_2022.csv\n",
    "* https://raw.githubusercontent.com/camilalaranjeira/python-intermediario/main/fifa-wc/matches_1991_2023.csv\n",
    "\n",
    "Para relembrar, essas são as colunas do dataframe:\n",
    "```\n",
    "Data columns (total 21 columns):\n",
    " #   Column             Non-Null Count  Dtype         \n",
    "---  ------             --------------  -----         \n",
    " 0   time_1             1312 non-null   string        \n",
    " 1   time_2             1312 non-null   string        \n",
    " 2   gols_1             1312 non-null   int64         \n",
    " 3   gols_2             1312 non-null   int64         \n",
    " 4   data               1312 non-null   datetime64[ns]\n",
    " 5   ano                1312 non-null   int64         \n",
    " 6   país_sede          1312 non-null   string        \n",
    " 7   comparecimento     1312 non-null   int64         \n",
    " 8   resultado          1312 non-null   string        \n",
    " 9   rodada             1312 non-null   category      \n",
    " 10  gols_1_detalhes    970 non-null    string        \n",
    " 11  gols_2_detalhes    771 non-null    string        \n",
    " 12  gols_1_contra      57 non-null     string        \n",
    " 13  gols_2_contra      30 non-null     string        \n",
    " 14  gols_1_penalti     170 non-null    string        \n",
    " 15  gols_2_penalti     119 non-null    string        \n",
    " 16  cartao_vermelho_1  59 non-null     string        \n",
    " 17  cartao_vermelho_2  65 non-null     string        \n",
    " 18  cartao_amarelo_1   834 non-null    string        \n",
    " 19  cartao_amarelo_2   857 non-null    string        \n",
    " 20  copa               1312 non-null   string \n",
    "```"
   ]
  },
  {
   "cell_type": "markdown",
   "metadata": {},
   "source": [
    "#### Q1.\n",
    "Realize todos os imports necessários para executar as três bibliotecas de visualização que conhecemos:\n",
    "* Matplotlib (lembre-se do comando mágico)\n",
    "* Seaborn\n",
    "* Plotly\n",
    "\n",
    "Para cada uma delas, altere o tema padrão de visualização. "
   ]
  },
  {
   "cell_type": "code",
   "execution_count": 1,
   "metadata": {},
   "outputs": [
    {
     "name": "stdout",
     "output_type": "stream",
     "text": [
      "<class 'pandas.core.frame.DataFrame'>\n",
      "RangeIndex: 1312 entries, 0 to 1311\n",
      "Data columns (total 21 columns):\n",
      " #   Column             Non-Null Count  Dtype         \n",
      "---  ------             --------------  -----         \n",
      " 0   time_1             1312 non-null   string        \n",
      " 1   time_2             1312 non-null   string        \n",
      " 2   gols_1             1312 non-null   int64         \n",
      " 3   gols_2             1312 non-null   int64         \n",
      " 4   data               1312 non-null   datetime64[ns]\n",
      " 5   ano                1312 non-null   int64         \n",
      " 6   país_sede          1312 non-null   string        \n",
      " 7   comparecimento     1312 non-null   int64         \n",
      " 8   resultado          1312 non-null   string        \n",
      " 9   rodada             1312 non-null   category      \n",
      " 10  gols_1_detalhes    970 non-null    string        \n",
      " 11  gols_2_detalhes    771 non-null    string        \n",
      " 12  gols_1_contra      57 non-null     string        \n",
      " 13  gols_2_contra      30 non-null     string        \n",
      " 14  gols_1_penalti     170 non-null    string        \n",
      " 15  gols_2_penalti     119 non-null    string        \n",
      " 16  cartao_vermelho_1  59 non-null     string        \n",
      " 17  cartao_vermelho_2  65 non-null     string        \n",
      " 18  cartao_amarelo_1   834 non-null    string        \n",
      " 19  cartao_amarelo_2   857 non-null    string        \n",
      " 20  copa               1312 non-null   string        \n",
      "dtypes: category(1), datetime64[ns](1), int64(4), string(15)\n",
      "memory usage: 206.8 KB\n"
     ]
    },
    {
     "data": {
      "text/plain": [
       "None"
      ]
     },
     "metadata": {},
     "output_type": "display_data"
    }
   ],
   "source": [
    "# Importando pandas e numpy\n",
    "import pandas as pd\n",
    "import numpy as np\n",
    "\n",
    "# Configurando pandas\n",
    "pd.set_option('display.max_columns',None)\n",
    "pd.set_option('display.max_rows',5)\n",
    "\n",
    "# Importanto pyplot do matplotlib\n",
    "import matplotlib.pyplot as plt\n",
    "# Método mágico que permite que os gráficos sejam exibido automaticamente sem necessitarem do plt.show()\n",
    "%matplotlib inline\n",
    "# Importando seaborn\n",
    "import seaborn as sns\n",
    "# Importando Express do Plotly\n",
    "import plotly.express as px\n",
    "# Importando Graph Objects do Plotly\n",
    "import plotly.graph_objects as po\n",
    "\n",
    "\n",
    "# Importando base de dados da copa do mundo\n",
    "wc = pd.read_csv(\"wc_formatado.csv\")\n",
    "\n",
    "from numpy.dtypes import ObjectDType as npObject\n",
    "\n",
    "colunas_object = [i for i in wc.columns if wc[i].dtype == npObject]\n",
    "\n",
    "for i in colunas_object:\n",
    "    if i == \"data\": tipo = \"datetime64[ns]\"\n",
    "    elif i == \"rodada\": tipo = \"category\"\n",
    "    else: tipo = \"string\"\n",
    "\n",
    "    wc[i] = wc[i].astype(tipo)\n",
    "\n",
    "display(wc.info())"
   ]
  },
  {
   "cell_type": "markdown",
   "metadata": {
    "vscode": {
     "languageId": "plaintext"
    }
   },
   "source": [
    "#### Q2.\n",
    "Sobre os dados de copa do mundo, qual a distribuição de público presente nos jogos? Isso pode ser respondido com um histograma com os dados da coluna `comparecimento`.  \n",
    "\n",
    "Lembre-se que alguns jogos estavam com público 0 incorretamente, que tal remover essas ocorrências para não atrapalhar sua visualzação?\n",
    "\n",
    "Você deve implementar essa visualização nas três bibliotecas que vimos:\n",
    "* Matplotlib\n",
    "* Seaborn\n",
    "* Plotly\n",
    "\n",
    "Garanta que o gráfico tenha pelo menos os atributos de título e rótulos de dimensão."
   ]
  },
  {
   "cell_type": "code",
   "execution_count": 2,
   "metadata": {},
   "outputs": [],
   "source": [
    "# Definindo base de dados sem as linha com comparecimento 0\n",
    "wc_audiencia = wc.loc[wc.comparecimento > 0].sort_values(\"data\", ascending=True)\n",
    "\n",
    "# Dados de contextualização do gráfico\n",
    "hist_dados = {\n",
    "    \"xlabel\" : \"Audiência dos jogos\",\n",
    "    \"ylabel\" : \"Frequência\",\n",
    "    \"title\" : \"Historiograma de Audiências das Copas do Mundo\"\n",
    "    }"
   ]
  },
  {
   "cell_type": "code",
   "execution_count": 3,
   "metadata": {},
   "outputs": [
    {
     "name": "stdout",
     "output_type": "stream",
     "text": [
      "\n"
     ]
    },
    {
     "data": {
      "image/png": "[encoded data removed]",
      "text/plain": [
       "<Figure size 640x480 with 1 Axes>"
      ]
     },
     "metadata": {},
     "output_type": "display_data"
    }
   ],
   "source": [
    "#### Solução com matplotlib\n",
    "\n",
    "plt.hist(wc_audiencia[\"comparecimento\"], bins=35, color=\"orangered\")\n",
    "plt.xlabel(hist_dados[\"xlabel\"])\n",
    "plt.ylabel(hist_dados[\"ylabel\"])\n",
    "plt.title(hist_dados[\"title\"])\n",
    "\n",
    "print()\n"
   ]
  },
  {
   "cell_type": "code",
   "execution_count": 4,
   "metadata": {},
   "outputs": [
    {
     "name": "stdout",
     "output_type": "stream",
     "text": [
      "\n"
     ]
    },
    {
     "data": {
      "image/png": "[encoded data removed]",
      "text/plain": [
       "<Figure size 640x480 with 1 Axes>"
      ]
     },
     "metadata": {},
     "output_type": "display_data"
    }
   ],
   "source": [
    "#### solução com seaborn\n",
    "sns.histplot(wc_audiencia[\"comparecimento\"], bins=35, color=\"navy\").set(\n",
    "    xlabel=hist_dados[\"xlabel\"],\n",
    "    ylabel=hist_dados[\"ylabel\"],\n",
    "    title=hist_dados[\"title\"]\n",
    "    )\n",
    "\n",
    "print()"
   ]
  },
  {
   "cell_type": "code",
   "execution_count": 5,
   "metadata": {},
   "outputs": [
    {
     "data": {
      "application/vnd.plotly.v1+json": {
       "config": {
        "plotlyServerURL": "https://plot.ly"
       },
       "data": [
        {
         "bingroup": "x",
         "hovertemplate": "comparecimento=%{x}<br>count=%{y}<extra></extra>",
         "legendgroup": "",
         "marker": {
          "color": "crimson",
          "pattern": {
           "shape": ""
          }
         },
         "name": "",
         "nbinsx": 35,
         "orientation": "v",
         "showlegend": false,
         "type": "histogram",
         "x": {
          "bdata": "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",
          "dtype": "i4"
         },
         "xaxis": "x",
         "yaxis": "y"
        }
       ],
       "layout": {
        "barmode": "relative",
        "legend": {
         "tracegroupgap": 0
        },
        "margin": {
         "t": 60
        },
        "template": {
         "data": {
          "bar": [
           {
            "error_x": {
             "color": "#2a3f5f"
            },
            "error_y": {
             "color": "#2a3f5f"
            },
            "marker": {
             "line": {
              "color": "#E5ECF6",
              "width": 0.5
             },
             "pattern": {
              "fillmode": "overlay",
              "size": 10,
              "solidity": 0.2
             }
            },
            "type": "bar"
           }
          ],
          "barpolar": [
           {
            "marker": {
             "line": {
              "color": "#E5ECF6",
              "width": 0.5
             },
             "pattern": {
              "fillmode": "overlay",
              "size": 10,
              "solidity": 0.2
             }
            },
            "type": "barpolar"
           }
          ],
          "carpet": [
           {
            "aaxis": {
             "endlinecolor": "#2a3f5f",
             "gridcolor": "white",
             "linecolor": "white",
             "minorgridcolor": "white",
             "startlinecolor": "#2a3f5f"
            },
            "baxis": {
             "endlinecolor": "#2a3f5f",
             "gridcolor": "white",
             "linecolor": "white",
             "minorgridcolor": "white",
             "startlinecolor": "#2a3f5f"
            },
            "type": "carpet"
           }
          ],
          "choropleth": [
           {
            "colorbar": {
             "outlinewidth": 0,
             "ticks": ""
            },
            "type": "choropleth"
           }
          ],
          "contour": [
           {
            "colorbar": {
             "outlinewidth": 0,
             "ticks": ""
            },
            "colorscale": [
             [
              0,
              "#0d0887"
             ],
             [
              0.1111111111111111,
              "#46039f"
             ],
             [
              0.2222222222222222,
              "#7201a8"
             ],
             [
              0.3333333333333333,
              "#9c179e"
             ],
             [
              0.4444444444444444,
              "#bd3786"
             ],
             [
              0.5555555555555556,
              "#d8576b"
             ],
             [
              0.6666666666666666,
              "#ed7953"
             ],
             [
              0.7777777777777778,
              "#fb9f3a"
             ],
             [
              0.8888888888888888,
              "#fdca26"
             ],
             [
              1,
              "#f0f921"
             ]
            ],
            "type": "contour"
           }
          ],
          "contourcarpet": [
           {
            "colorbar": {
             "outlinewidth": 0,
             "ticks": ""
            },
            "type": "contourcarpet"
           }
          ],
          "heatmap": [
           {
            "colorbar": {
             "outlinewidth": 0,
             "ticks": ""
            },
            "colorscale": [
             [
              0,
              "#0d0887"
             ],
             [
              0.1111111111111111,
              "#46039f"
             ],
             [
              0.2222222222222222,
              "#7201a8"
             ],
             [
              0.3333333333333333,
              "#9c179e"
             ],
             [
              0.4444444444444444,
              "#bd3786"
             ],
             [
              0.5555555555555556,
              "#d8576b"
             ],
             [
              0.6666666666666666,
              "#ed7953"
             ],
             [
              0.7777777777777778,
              "#fb9f3a"
             ],
             [
              0.8888888888888888,
              "#fdca26"
             ],
             [
              1,
              "#f0f921"
             ]
            ],
            "type": "heatmap"
           }
          ],
          "histogram": [
           {
            "marker": {
             "pattern": {
              "fillmode": "overlay",
              "size": 10,
              "solidity": 0.2
             }
            },
            "type": "histogram"
           }
          ],
          "histogram2d": [
           {
            "colorbar": {
             "outlinewidth": 0,
             "ticks": ""
            },
            "colorscale": [
             [
              0,
              "#0d0887"
             ],
             [
              0.1111111111111111,
              "#46039f"
             ],
             [
              0.2222222222222222,
              "#7201a8"
             ],
             [
              0.3333333333333333,
              "#9c179e"
             ],
             [
              0.4444444444444444,
              "#bd3786"
             ],
             [
              0.5555555555555556,
              "#d8576b"
             ],
             [
              0.6666666666666666,
              "#ed7953"
             ],
             [
              0.7777777777777778,
              "#fb9f3a"
             ],
             [
              0.8888888888888888,
              "#fdca26"
             ],
             [
              1,
              "#f0f921"
             ]
            ],
            "type": "histogram2d"
           }
          ],
          "histogram2dcontour": [
           {
            "colorbar": {
             "outlinewidth": 0,
             "ticks": ""
            },
            "colorscale": [
             [
              0,
              "#0d0887"
             ],
             [
              0.1111111111111111,
              "#46039f"
             ],
             [
              0.2222222222222222,
              "#7201a8"
             ],
             [
              0.3333333333333333,
              "#9c179e"
             ],
             [
              0.4444444444444444,
              "#bd3786"
             ],
             [
              0.5555555555555556,
              "#d8576b"
             ],
             [
              0.6666666666666666,
              "#ed7953"
             ],
             [
              0.7777777777777778,
              "#fb9f3a"
             ],
             [
              0.8888888888888888,
              "#fdca26"
             ],
             [
              1,
              "#f0f921"
             ]
            ],
            "type": "histogram2dcontour"
           }
          ],
          "mesh3d": [
           {
            "colorbar": {
             "outlinewidth": 0,
             "ticks": ""
            },
            "type": "mesh3d"
           }
          ],
          "parcoords": [
           {
            "line": {
             "colorbar": {
              "outlinewidth": 0,
              "ticks": ""
             }
            },
            "type": "parcoords"
           }
          ],
          "pie": [
           {
            "automargin": true,
            "type": "pie"
           }
          ],
          "scatter": [
           {
            "fillpattern": {
             "fillmode": "overlay",
             "size": 10,
             "solidity": 0.2
            },
            "type": "scatter"
           }
          ],
          "scatter3d": [
           {
            "line": {
             "colorbar": {
              "outlinewidth": 0,
              "ticks": ""
             }
            },
            "marker": {
             "colorbar": {
              "outlinewidth": 0,
              "ticks": ""
             }
            },
            "type": "scatter3d"
           }
          ],
          "scattercarpet": [
           {
            "marker": {
             "colorbar": {
              "outlinewidth": 0,
              "ticks": ""
             }
            },
            "type": "scattercarpet"
           }
          ],
          "scattergeo": [
           {
            "marker": {
             "colorbar": {
              "outlinewidth": 0,
              "ticks": ""
             }
            },
            "type": "scattergeo"
           }
          ],
          "scattergl": [
           {
            "marker": {
             "colorbar": {
              "outlinewidth": 0,
              "ticks": ""
             }
            },
            "type": "scattergl"
           }
          ],
          "scattermap": [
           {
            "marker": {
             "colorbar": {
              "outlinewidth": 0,
              "ticks": ""
             }
            },
            "type": "scattermap"
           }
          ],
          "scattermapbox": [
           {
            "marker": {
             "colorbar": {
              "outlinewidth": 0,
              "ticks": ""
             }
            },
            "type": "scattermapbox"
           }
          ],
          "scatterpolar": [
           {
            "marker": {
             "colorbar": {
              "outlinewidth": 0,
              "ticks": ""
             }
            },
            "type": "scatterpolar"
           }
          ],
          "scatterpolargl": [
           {
            "marker": {
             "colorbar": {
              "outlinewidth": 0,
              "ticks": ""
             }
            },
            "type": "scatterpolargl"
           }
          ],
          "scatterternary": [
           {
            "marker": {
             "colorbar": {
              "outlinewidth": 0,
              "ticks": ""
             }
            },
            "type": "scatterternary"
           }
          ],
          "surface": [
           {
            "colorbar": {
             "outlinewidth": 0,
             "ticks": ""
            },
            "colorscale": [
             [
              0,
              "#0d0887"
             ],
             [
              0.1111111111111111,
              "#46039f"
             ],
             [
              0.2222222222222222,
              "#7201a8"
             ],
             [
              0.3333333333333333,
              "#9c179e"
             ],
             [
              0.4444444444444444,
              "#bd3786"
             ],
             [
              0.5555555555555556,
              "#d8576b"
             ],
             [
              0.6666666666666666,
              "#ed7953"
             ],
             [
              0.7777777777777778,
              "#fb9f3a"
             ],
             [
              0.8888888888888888,
              "#fdca26"
             ],
             [
              1,
              "#f0f921"
             ]
            ],
            "type": "surface"
           }
          ],
          "table": [
           {
            "cells": {
             "fill": {
              "color": "#EBF0F8"
             },
             "line": {
              "color": "white"
             }
            },
            "header": {
             "fill": {
              "color": "#C8D4E3"
             },
             "line": {
              "color": "white"
             }
            },
            "type": "table"
           }
          ]
         },
         "layout": {
          "annotationdefaults": {
           "arrowcolor": "#2a3f5f",
           "arrowhead": 0,
           "arrowwidth": 1
          },
          "autotypenumbers": "strict",
          "coloraxis": {
           "colorbar": {
            "outlinewidth": 0,
            "ticks": ""
           }
          },
          "colorscale": {
           "diverging": [
            [
             0,
             "#8e0152"
            ],
            [
             0.1,
             "#c51b7d"
            ],
            [
             0.2,
             "#de77ae"
            ],
            [
             0.3,
             "#f1b6da"
            ],
            [
             0.4,
             "#fde0ef"
            ],
            [
             0.5,
             "#f7f7f7"
            ],
            [
             0.6,
             "#e6f5d0"
            ],
            [
             0.7,
             "#b8e186"
            ],
            [
             0.8,
             "#7fbc41"
            ],
            [
             0.9,
             "#4d9221"
            ],
            [
             1,
             "#276419"
            ]
           ],
           "sequential": [
            [
             0,
             "#0d0887"
            ],
            [
             0.1111111111111111,
             "#46039f"
            ],
            [
             0.2222222222222222,
             "#7201a8"
            ],
            [
             0.3333333333333333,
             "#9c179e"
            ],
            [
             0.4444444444444444,
             "#bd3786"
            ],
            [
             0.5555555555555556,
             "#d8576b"
            ],
            [
             0.6666666666666666,
             "#ed7953"
            ],
            [
             0.7777777777777778,
             "#fb9f3a"
            ],
            [
             0.8888888888888888,
             "#fdca26"
            ],
            [
             1,
             "#f0f921"
            ]
           ],
           "sequentialminus": [
            [
             0,
             "#0d0887"
            ],
            [
             0.1111111111111111,
             "#46039f"
            ],
            [
             0.2222222222222222,
             "#7201a8"
            ],
            [
             0.3333333333333333,
             "#9c179e"
            ],
            [
             0.4444444444444444,
             "#bd3786"
            ],
            [
             0.5555555555555556,
             "#d8576b"
            ],
            [
             0.6666666666666666,
             "#ed7953"
            ],
            [
             0.7777777777777778,
             "#fb9f3a"
            ],
            [
             0.8888888888888888,
             "#fdca26"
            ],
            [
             1,
             "#f0f921"
            ]
           ]
          },
          "colorway": [
           "#636efa",
           "#EF553B",
           "#00cc96",
           "#ab63fa",
           "#FFA15A",
           "#19d3f3",
           "#FF6692",
           "#B6E880",
           "#FF97FF",
           "#FECB52"
          ],
          "font": {
           "color": "#2a3f5f"
          },
          "geo": {
           "bgcolor": "white",
           "lakecolor": "white",
           "landcolor": "#E5ECF6",
           "showlakes": true,
           "showland": true,
           "subunitcolor": "white"
          },
          "hoverlabel": {
           "align": "left"
          },
          "hovermode": "closest",
          "mapbox": {
           "style": "light"
          },
          "paper_bgcolor": "white",
          "plot_bgcolor": "#E5ECF6",
          "polar": {
           "angularaxis": {
            "gridcolor": "white",
            "linecolor": "white",
            "ticks": ""
           },
           "bgcolor": "#E5ECF6",
           "radialaxis": {
            "gridcolor": "white",
            "linecolor": "white",
            "ticks": ""
           }
          },
          "scene": {
           "xaxis": {
            "backgroundcolor": "#E5ECF6",
            "gridcolor": "white",
            "gridwidth": 2,
            "linecolor": "white",
            "showbackground": true,
            "ticks": "",
            "zerolinecolor": "white"
           },
           "yaxis": {
            "backgroundcolor": "#E5ECF6",
            "gridcolor": "white",
            "gridwidth": 2,
            "linecolor": "white",
            "showbackground": true,
            "ticks": "",
            "zerolinecolor": "white"
           },
           "zaxis": {
            "backgroundcolor": "#E5ECF6",
            "gridcolor": "white",
            "gridwidth": 2,
            "linecolor": "white",
            "showbackground": true,
            "ticks": "",
            "zerolinecolor": "white"
           }
          },
          "shapedefaults": {
           "line": {
            "color": "#2a3f5f"
           }
          },
          "ternary": {
           "aaxis": {
            "gridcolor": "white",
            "linecolor": "white",
            "ticks": ""
           },
           "baxis": {
            "gridcolor": "white",
            "linecolor": "white",
            "ticks": ""
           },
           "bgcolor": "#E5ECF6",
           "caxis": {
            "gridcolor": "white",
            "linecolor": "white",
            "ticks": ""
           }
          },
          "title": {
           "x": 0.05
          },
          "xaxis": {
           "automargin": true,
           "gridcolor": "white",
           "linecolor": "white",
           "ticks": "",
           "title": {
            "standoff": 15
           },
           "zerolinecolor": "white",
           "zerolinewidth": 2
          },
          "yaxis": {
           "automargin": true,
           "gridcolor": "white",
           "linecolor": "white",
           "ticks": "",
           "title": {
            "standoff": 15
           },
           "zerolinecolor": "white",
           "zerolinewidth": 2
          }
         }
        },
        "title": {
         "text": "Historiograma de Audiências das Copas do Mundo",
         "x": 0.5,
         "y": 0.95
        },
        "xaxis": {
         "anchor": "y",
         "domain": [
          0,
          1
         ],
         "title": {
          "text": "Audiência dos jogos"
         }
        },
        "yaxis": {
         "anchor": "x",
         "domain": [
          0,
          1
         ],
         "title": {
          "text": "Frequência"
         }
        }
       }
      }
     },
     "metadata": {},
     "output_type": "display_data"
    }
   ],
   "source": [
    "#### solução com plotly\n",
    "fig = px.histogram(wc_audiencia, x=\"comparecimento\", nbins=35,)\n",
    "\n",
    "fig.update_layout(title={\n",
    "    'text' : hist_dados[\"title\"],\n",
    "    'y': 0.95,\n",
    "    'x': 0.5\n",
    "}, xaxis_title=hist_dados[\"xlabel\"], yaxis_title=hist_dados[\"ylabel\"])\n",
    "\n",
    "fig.update_traces(marker_color='crimson')\n",
    "\n",
    "fig.show()"
   ]
  },
  {
   "cell_type": "markdown",
   "metadata": {},
   "source": [
    "#### Q3.\n",
    "\n",
    "Apresente um gráfico de dispersão (scatter) dos atributos `gols_1` e `gols_2`. Isso representa a relação entre gols feitos e gols tomados por jogo. Há alguma relação interessante entre esses atributos?\n",
    "\n",
    "Para facilitar a visualização dos dados (já que tem muitos placares repetidos), aplique uma leve distorção aos dados para que cada ponto esteja deslocado aleatoriamente de seu valor original. Código apresentado a seguir\n",
    "```python\n",
    "gols = wc[['gols_1', 'gols_2']] * np.random.random((len(wc),2))\n",
    "```\n",
    "\n",
    "Você deve implementar essa visualização nas três bibliotecas que vimos:\n",
    "* Matplotlib\n",
    "* Seaborn\n",
    "* Plotly\n",
    "\n",
    "Garanta que o gráfico tenha pelo menos os atributos de título e rótulos de dimensão."
   ]
  },
  {
   "cell_type": "code",
   "execution_count": 6,
   "metadata": {},
   "outputs": [],
   "source": [
    "# Distorção dos placares\n",
    "gols = wc[['gols_1', 'gols_2']] * np.random.random((len(wc), 2))\n",
    "\n",
    "# Dados de contextualização do gráfico\n",
    "scatter_dados = {\n",
    "    \"xlabel\" : \"Gols marcados\",\n",
    "    \"ylabel\" : \"Gols rebebidos\",\n",
    "    \"title\" : \"Relação entre gols recebidos e gols marcados\"\n",
    "}"
   ]
  },
  {
   "cell_type": "code",
   "execution_count": 7,
   "metadata": {},
   "outputs": [
    {
     "name": "stdout",
     "output_type": "stream",
     "text": [
      "\n"
     ]
    },
    {
     "data": {
      "image/png": "[encoded data removed]",
      "text/plain": [
       "<Figure size 640x480 with 1 Axes>"
      ]
     },
     "metadata": {},
     "output_type": "display_data"
    }
   ],
   "source": [
    "#### solução com matplotlib\n",
    "plt.scatter(x=gols.gols_1, y=gols.gols_2, c=\"orangered\")\n",
    "plt.xlabel(scatter_dados[\"xlabel\"])\n",
    "plt.ylabel(scatter_dados[\"ylabel\"])\n",
    "plt.title(scatter_dados[\"title\"])\n",
    "\n",
    "print()"
   ]
  },
  {
   "cell_type": "code",
   "execution_count": 8,
   "metadata": {},
   "outputs": [
    {
     "name": "stdout",
     "output_type": "stream",
     "text": [
      "\n"
     ]
    },
    {
     "data": {
      "image/png": "[encoded data removed]",
      "text/plain": [
       "<Figure size 640x480 with 1 Axes>"
      ]
     },
     "metadata": {},
     "output_type": "display_data"
    }
   ],
   "source": [
    "#### solução com seaborn\n",
    "sns.scatterplot(gols, x=\"gols_1\", y=\"gols_2\", color=\"navy\").set(\n",
    "    xlabel=scatter_dados[\"xlabel\"],\n",
    "    ylabel=scatter_dados[\"ylabel\"],\n",
    "    title=scatter_dados[\"title\"]\n",
    ")\n",
    "\n",
    "print()"
   ]
  },
  {
   "cell_type": "code",
   "execution_count": 9,
   "metadata": {},
   "outputs": [
    {
     "data": {
      "application/vnd.plotly.v1+json": {
       "config": {
        "plotlyServerURL": "https://plot.ly"
       },
       "data": [
        {
         "hovertemplate": "Gols marcados=%{x}<br>Gols rebebidos=%{y}<extra></extra>",
         "legendgroup": "",
         "marker": {
          "color": "crimson",
          "symbol": "circle"
         },
         "mode": "markers",
         "name": "",
         "showlegend": false,
         "type": "scattergl",
         "x": {
          "bdata": "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",
          "dtype": "f8"
         },
         "xaxis": "x",
         "y": {
          "bdata": "AAAAAAAAAAAAAAAAAAAAANBEJmh7dP4/EBGup3pH0T8AAAAAAAAAAHAQHFNSPcA/LPM8+Xab5z+Au2+z69qaPwAAAAAAAAAAAAAAAAAAAAAAAAAAAAAAAAAAAAAAAAAAAAAAAAAAAAAAAAAAAAAAAETiFHhyeApA+o2gtZmy3z8AAAAAAAAAACqEgFnBgew/fMheRzfT1z+JwnJgqEPxPwAAAAAAAAAA/na0DJYwAUAstgmObWQUQAAAAAAAAAAAbl/9Dt4m/z/CzaTGVbMNQAAAAAAAAAAAogMaJ/Yb/z8AAAAAAAAAAGyIVZCI7fA/hHbokOufwj8AAAAAAAAAAAAAAAAAAAAAOgx2A+YK4j8AAAAAAAAAAKr+wUe1YOA/lGI3U/ie5z+o+0kree/lPwAAAAAAAAAAAAAAAAAAAAAekUnXuIrqPwAAAAAAAAAAaDUnPJWd9z8AAAAAAAAAAAAAAAAAAAAA+l5f6fas7j8AAAAAAAAAADYGhom7ttc/AAAAAAAAAAAAAAAAAAAAAAAAAAAAAAAAAAAAAAAAAADyBz+0QLvaPwAAAAAAAAAAAAAAAAAAAAAAAAAAAAAAANnavFmPOwFAAAAAAAAAAAAAAAAAAAAAAAAAAAAAAAAAskOorlME7z8AAAAAAAAAAAAAAAAAAAAAAAAAAAAAAAAAAAAAAAAAAGmo0XK3f/Y/AAAAAAAAAAD8uSKPI2H+P5vvlh3X4P0/rwpW9+em+j+0jvZry5HoP7Bw/DWea/s/AAAAAAAAAAB48eTb+0K/P5bjc9jzBvc/AAAAAAAAAAAAAAAAAAAAAPBEVrKsj+Y/AAAAAAAAAAAeeM+toGPZP5PjIDG0cOo/JP0nF9pf5z9Cwl35FoPiP0fAsYz9PfE/KEx6PTmw/D8soLuG5M3/PwAU885x0uo/WNaWUuqjBkB85sFei+7nPwAAAAAAAAAAOmtnj8VQ4D96/KdKVdDYP7fPdoDTq+8/AAAAAAAAAACEGs95iNLqPwAAAAAAAAAA5ODY1/aMwz9r+ZYQEb0TQAAAAAAAAAAA4DAMmiNB+D88L21yLhvRPwAAAAAAAAAAAAAAAAAAAABKrLxVDV7mPwBgLgQTrJY/02hsNBoQ+j8AAAAAAAAAAAAAAAAAAAAAAAAAAAAAAACOzS7iCxn7PwAAAAAAAAAA4PMfIMuG5z8AAAAAAAAAAFtxms+5l+s/AAAAAAAAAAAAAAAAAAAAAPCyHYZZ1dw/gVhCMRIC4T8neMvuIPzsPwAAAAAAAAAAuPDhaUeY2T/6BgI5USXQP+DcdAo7a98/Tnf1ocRJ2D+ZwdA0tK3tP1gUotH4MfU/AAAAAAAAAAD2rlfR/jLhPwAAAAAAAAAAAAAAAAAAAAAKcDljF8nRPwAAAAAAAAAAYEf1wtf/xj+4jqiFO/7IPwk/OTJTHeM/cTGpq69s7z8EroV/BZDhP0SgFw2whu4/gLgzatz/wD9xSvz45a7uP/qU4lOtYP8/dKaV176YwT/0jSFF2dPQP+xUyzT6DMc/DKa7x+8b8z8AAAAAAAAAACQhB+FVVOk/As7eoxVC/j8AAAAAAAAAAPgAcjO7Y+k/QE2aeuff6j8AAAAAAAAAAAAAAAAAAAAARsYAWK5a2z/F9i1F1XT0PwAAAAAAAAAAAAAAAAAAAADSEDs/f8LvP8H/d4nwZek/AAAAAAAAAAAY0FVOjKO2PwAAAAAAAAAADHGSFmKS0z8AAAAAAAAAAAAAAAAAAAAAAAAAAAAAAAAAAAAAAAAAAJBWmv3JNtM/48SnigOP9D8lRfsuqzbnP8BKkG3nzABA/7Nl6NMJ6T/s/Pm/KqTRPwADXIij+44/E8VwEbc16j8Wcu6xYbTjP+S56yTXU8U/gMt4ncMVAUAAAAAAAAAAAJCFb6uI6LI/AAAAAAAAAAACOz/YqLDgPwUzUbqVdgRA+IZoVbLXzj/cADeBnNLQPwAAAAAAAAAAsyE1ElKd4T8AAAAAAAAAAAAAAAAAAAAAMJq4/6d2wj8uXpsth0v6PwAAAAAAAAAAAAAAAAAAAAAAAAAAAAAAAMijllhSW8w/AAAAAAAAAACuqd0ddQrfP3zp2AyHo+E/IF9VHcb5lD/ekQM71IvQPyRYoqTJbPU/AAAAAAAAAAC0/xdGpBoFQAAAAAAAAAAAAAAAAAAAAAC6rbrMzojjPwAAAAAAAAAAAAAAAAAAAADsvQ+PxYXRP5KLnFj3Cfo/AAAAAAAAAAAAAAAAAAAAAKbaEuJz2es/wOSWYipzyD/Op4gXyIv0PxTw+WxzGBdAAAAAAAAAAAAAAAAAAAAAANxo6vhmOv4/Ucf17U4m5D8AAAAAAAAAACOnO7IHKOY/AAAAAAAAAAAAAAAAAAAAAAAAAAAAAAAAEPxBCkrU4j+cbZ8Yg4jjPwV1RiaA0vc/WlPlxJy78j8608NJLrbpP7uIM0EXs+U/AAAAAAAAAAAIZg7h29nIP6ZM2UTkOdQ/AAAAAAAAAAAsKMWn7Dv8PwAAAAAAAAAAjZm94eE55j+JPSycbCHyPwAAAAAAAAAAAAAAAAAAAAD7QkGShBbtP5XkyQqLX+c/AAAAAAAAAAB7RAi+ZIPuP656DEuiXhBALKSvARJ60D8Oc8m+qeoGQKlawP9Kp/Y/AAAAAAAAAAAAAAAAAAAAAA0f8U77Qu8/xJNaQeDYD0AAAAAAAAAAAAAAAAAAAAAAAAAAAAAAAADgEXzuBMeePwAAAAAAAAAAvbU+/Rud8j8AAAAAAAAAAAAAAAAAAAAAVDCT8iG7/D8KPZett0HaPwAAAAAAAAAAAAAAAAAAAAAAAAAAAAAAAAAAAAAAAAAAV0aAE4q3DEBEz5D4ovHnP6BVwjrnBPg/AAAAAAAAAADKZ/xBDc3dP+bgusSoA/w/AAAAAAAAAADJlBwIQZjzPwAAAAAAAAAAZJrNavF44T8kzBsiNjDlP1Jlj9Buzvs/AAAAAAAAAAAAAAAAAAAAADC9MRzfO6w/A8sYPguc4z8AAAAAAAAAAPQEWOHELOY/1K2299LjA0AAAAAAAAAAAMo/aP6a9fo/jM77NQ0G6j+yZxw99kH/P1qjicCRe9s/xthb/6fk7T9n0THsna0BQMYNDy0yLNs/LVBBRVCG/T+U9u+JaWjkP51MpH+lJPk/TSah+6so9D+IccUvxzrpPwAAAAAAAAAAAAAAAAAAAAC6NhWu5xbQPwAAAAAAAAAAcHmYqRDJxD8AAAAAAAAAAPbX8GgRpQFAQEVUmN5Ugz9wqSU7J4aoPwAAAAAAAAAAGscTXP9rAUAAAAAAAAAAAAAAAAAAAAAA1kVe7+hl7z9F5suP9hQDQNLt7fKfOfY/AOoUUCvYjz8sqUT592LvP7mpCYkOQP4/AAAAAAAAAAAAAAAAAAAAAB4v4eYnE+Y/AAAAAAAAAACKmzApB3TUPwAAAAAAAAAAIBPTs/4lwj/Jgcf2VrL0P5E2KQqO7eQ/AAAAAAAAAABvR936Qv7wP6Q4kmU/0eE/KH+IjY+G8j9AdzLUeqnVP2iXF7Usc+U/AAAAAAAAAACI3yU0JKfIPxEJ8QHz9Pw/AAAAAAAAAAAAAAAAAAAAAKcSyoaSWvc/3oK1jQqTC0ADuhPQnN8RQOy0JNUgVO8/AAAAAAAAAADESvU2AM3AP+pJHGRATfA/P8ntX17gA0AAAAAAAAAAAAAAAAAAAAAA3A58COw62z+DHrGkRgjmPwAAAAAAAAAAAAAAAAAAAAAAAAAAAAAAAG571cp1neI/PCFXOfROwD+OQa6WS/fpPwAAAAAAAAAAROjJycaI5D/EnEfc5JzpPwgafiIGYM4/OvVbM8Ek0z8AAAAAAAAAAOOXoWbwwOk/n1QsttWr7T+Au3vJnTqBP3yibzlkvd8/AAAAAAAAAADs7ec3HJUAQPB20LPIQfY/AAAAAAAAAAApxyKc7woCQD8H9LPI2eE/AAAAAAAAAAAAAAAAAAAAAObD3P9Ciu4/BQDVZOP2/D8wOJPNeqm/PwAAAAAAAAAAAs9Z9kqV5D9gEeHhxnuzP/BmBqU1pKc/0tgjDdD61j8AAAAAAAAAAAAAAAAAAAAAYZasFCZE6D/Z/51RKcb2P5DAY9+Kq+Q/iN4l0y1gsj8pw6jqK37iPwAAAAAAAAAAGKZ5f+DUvD8AAAAAAAAAAIU3qW1Vvfw/Agj95N3B+j9P8ghgQWPiPwAAAAAAAAAAAAAAAAAAAAAAAAAAAAAAAGR2Kdr1qP0/AAAAAAAAAAAAAAAAAAAAAFJ4TdppA+0/AAAAAAAAAAAAAAAAAAAAACS/RUkY0vw/AAAAAAAAAAAAAAAAAAAAADb8AZ6wCeg/tLKfjaFV3T/qUkFV1QjqPzvVyn4SV+c/rcQipXfV+D9qibP3CSLtPwAAAAAAAAAAZS2VearI7D8AAAAAAAAAADACPm4YD7g/uOE7P0HT9j/X5M0meFf4PwIVrrStCOY/AAAAAAAAAADeTGt/GS7QPwAAAAAAAAAAwVzT+92g/j9y2uENOQLjP/F4BDJXve8/uuoq9gBN9z9Bz4Gr0MXrP0v76KwL4O8/Nkh68Ztf4j97ZpBBwyruP1lfP130ffA/AAAAAAAAAAC7XR7f38/4P0BsKQ31Ets/BJPWt/Sb4D8oKGomhN3rPwAAAAAAAAAA4f58z9rJ8D/AHrOh9GTlP9DrJFsCx9o/AAAAAAAAAAD6d7LFh8z8P3Avh/VOVsI/8+VTINsL4j8gHCTnYobgPw0X3QO40v4/+NG18Wkp5T+5oxG3qA/2P+CSlV+McM8/AAAAAAAAAAAAAAAAAAAAALZFjl5Mj+8/saaE44nU4z8AAAAAAAAAAFDoEkzbLN4/AAAAAAAAAAAAAAAAAAAAALrU4RrceOA/+XMxWi8B+D9CTsw4RX30Pzo5o+1zRdc/AAAAAAAAAAAAAAAAAAAAAMA74Wp7vq8/mAhQBN10zT/UOzoYhZ3DP/waNR8JDek/bJiOI3BV4j8YZqjwLJa5Pw/28fYoF+o/AAAAAAAAAAAbKRUFxqPjP3jF5e9Fz+E/7fK0jKW46T8AAAAAAAAAAAAAAAAAAAAAqOR+eGoM7T8AAAAAAAAAAOrXfma0+vE/AAAAAAAAAAAAAAAAAAAAANL6WSF9WtI/qMf5MhS8xz8AAAAAAAAAAMAy0jQOpoc/AAAAAAAAAACsXBTf69rOP8tanpFKwuA/zNn0+dA0zz/4GwBoIGfuPwAAAAAAAAAAERhNOP3n5T8gfY1E+gWYP5DQZkDeU7k/cCuDvUWd1j+R/o2wxWDsP8b2dV7aDPw/7QYpdLuGAEAAAAAAAAAAAAAAAAAAAAAA9ug9anap3j/uBA2PQAj6P/KYsNwrOdc/fP+hmLzC2z8AAAAAAAAAAAgB9Jr2JwZAorrXGbvG9T8AAAAAAAAAAJ5fEGwUVvM/pl0EJUx9+z8AAAAAAAAAAJ12VNiuJPQ/AAAAAAAAAAAI8/C5KYy3PzHfIUe2VRFApqBmyh4F+j9oIuJv3E3rP5FxZBY+yuc/AAAAAAAAAAAbGIKmLlcCQKZ0GhE33P8/YD5M4n6P+z+0yVtNLInFPwAAAAAAAAAA0vTEURqc6T8AAAAAAAAAAAAAAAAAAAAA/yyLZOPT8D9IQWviBR+1PwAAAAAAAAAAIH7ziKsB4j8AAAAAAAAAAOx57sfZJvY/pK5ldwm48j+MuRqZykrBPwAAAAAAAAAAREp45Xw68T+OFQXJ3VblP5i1ojBHIt0/ZnI2QdFo7T8pQD+OLpLnP5IgBadnHuE/UOB6lKo+/D80LRcw33L2P0j0AeHXlNA/gG6sDh5Wyj9ADe1tcW+vPwAAAAAAAAAAAAAAAAAAAAC4sO4kv43sPwAAAAAAAAAA93/JwGxW5D83+WTlzFLrPygZPt5wM7Y/EMKPgdle7z8AAAAAAAAAAGr/T1PnNgNAiFftiz193z8AAAAAAAAAAAAAAAAAAAAAtS5zSTmm+T9w/I0BCiDAP8B9dVMnCdQ/kkcGDLTY7D8AAAAAAAAAADRbuqHn8Nw/ws8Podwl3z8MQumwswvXP156xtuAp+o/GX01cJL08j/S/U+4+D/sPwAAAAAAAAAAAAAAAAAAAAAAAAAAAAAAADrWdXYdgOg/8E6WC09JwD9sDHnl4VDEPwAAAAAAAAAAmrdmmrrV5j9jEbCi3er1P/uv59mbp+Y/iSFOVzIS8j8AAAAAAAAAAHO/COTPbeU/4HQwXikopD/6O0Jf1KL7P7D2/iOMtuU/tK/ZWOsX1T9gCrKd4mz3P2hZ1/FmMeM/AAAAAAAAAACVtLq22bLjPwAAAAAAAAAAAAAAAAAAAACVi54BRo/qP1N/ZVLzWOQ/QvlNy87o3z8AAAAAAAAAAAAAAAAAAAAAAAAAAAAAAACAWxcAHh67PxgybeR5Qr8/AAAAAAAAAADGDE8qY5bvP0QBnS63It0/ANQMluXE4D+FrQKtkSn/PwAAAAAAAAAA5j8gQDRb3z+8HWCyrObQPwAAAAAAAAAAAAAAAAAAAAAYHJoTCiXPPwAAAAAAAAAAAAAAAAAAAAAAAAAAAAAAAAAAAAAAAAAAAAAAAAAAAAAkeyWMEiTEP5dLiQzeK+g/AAAAAAAAAABFqiDR5TXyPwAAAAAAAAAAcAVWi09Auj9sdStCLAzuP5nGn4kpzwNASisnyi1R7D9uTeuNBt7ZP0R6kPsEpNE/Buq07KZn4z8AAAAAAAAAAP9BoWeud/4/iSeddUcP4D8AAAAAAAAAALieg4/jZfk/ExLS43+y/T8INuyz0uXcPw63rSJzSOI/AAAAAAAAAAAAAAAAAAAAAHQKikvoTOA/AAAAAAAAAADQRZzDeD3xP/iz5LBu8tk/AAAAAAAAAAD/w0UC73fiPwAAAAAAAAAAAAAAAAAAAAAAAAAAAAAAAAAAAAAAAAAAAAAAAAAAAACi7VpRvQL4PwAAAAAAAAAAcNIubGNp1j8AAAAAAAAAAAAAAAAAAAAAsEhXZu9Irz8+f55HwK0GQAAAAAAAAAAAuI6govr25D8eWmTatkPlPwTbr49OmcU/AAAAAAAAAAAAAAAAAAAAAFl40N90vu8/RHxxX8jZ4T8qf8IqE0n1P2LgGfOSK+Q/3jbKTQQj5T8AAAAAAAAAAAAAAAAAAAAAAAAAAAAAAACoQOtIHnPWP9/AC+nE6/A/AAAAAAAAAAB+A1z1btTpPyABkfOnnqo/Zs5vGiJB+j8AAAAAAAAAAIGbDbOH9PA/IoJqBTRq7j8AAAAAAAAAAABRLyaQ0gJAAOrmHd515j/GymL/GHjiP6aZTTXGc+A/HNTVrUgx0T8rtVIfipMQQAAAAAAAAAAAyFW48HzkwD8AAAAAAAAAABw6Mgh5gs8/AAAAAAAAAACeg2SCJ2z6P/LY5GcfbwdAAAAAAAAAAAC5hsLZ8lTuPyqhHEjwXu0/iFEPeqnYyT8Mx2JKrTPgPwezL0oqZOU/AAAAAAAAAABUxSJ+Dg3GPwYoF5NHDOc/AAAAAAAAAAAAAAAAAAAAAKohWR9q1ew/AAAAAAAAAADOVnv6wNnrPxxOtIWlCcU/7Dpau64/2j8WStYcJ7PQPwAAAAAAAAAAAAAAAAAAAAAAAAAAAAAAAPjjQJ78qN4/2ByXn0Hosj+w6GSWS4/8Pyh54YYVk8g/AAAAAAAAAADrdJoOn7PnP0w5kdPifOY/AAAAAAAAAAAAAAAAAAAAALZDew1JzeY/iH9uLd2SwT80yetxHzzeP20v8TOCY+k/RMyy7wi39D8AAAAAAAAAADst+aysB+Q/bJAX5yMUAUApCcW3m3f5P6R+/kTV7Ow/LKueAF3dwD/4OWePf8PEP8SyoF55XdY/AAAAAAAAAABi3Pd3eavrP3D5pQdtIdk/YNtIvOL32D9zfRTqozvoP0HTBJSZN+I/AAAAAAAAAAB7wgzByzsEQAAAAAAAAAAATtGPT3Np1D8AAAAAAAAAAPDHNKZpuP4/wsXuzG2S1z98T9wrZ+vXPybQigksneM/w1II9Arb4z9wAUs7XT3YPwAAAAAAAAAAMKs9EKoi7T/7wyxqDlDmP/3X2ing5+E/JXAfhtS+BkAiIHj/FaPqPy7ji8YEQOQ/Mnp1M7+z9z9p9DRpY64BQAAAAAAAAAAA8LVGWa1hxD/zSyXHjwv8PwAAAAAAAAAAUAl+Mxld9D9QiRGOFOy0PzmgHsoevPU/AAAAAAAAAAAAAAAAAAAAAAAAAAAAAAAAZWuGhVQT5j8AAAAAAAAAAMyjj1rA1d4/AAAAAAAAAADJEXbhejziPwAAAAAAAAAAAAAAAAAAAAAAAAAAAAAAAAAAAAAAAAAAAAAAAAAAAAAAAAAAAAAAAC/yTZPVVwBATqncUe+/A0DMOvHJU1zOPwAAAAAAAAAAAAAAAAAAAADh1gl4TA7jPwAAAAAAAAAAAJsdcgvpjz/+1k39ZhvrP73timuO9uE/ABkfLuoerz8AAAAAAAAAAAAAAAAAAAAAJLpwUwJ55j9KBvzAk9zZP31od589X+I/AML2qlPm/z+Ii/ivcbrnP6gsiehCngRAMkNmxAJj7T/jIikR+HTpPwAAAAAAAAAAAAAAAAAAAADANUrzKNv7P2DxL1uxIak/s6ABHgMc+z8AAAAAAAAAAIBuBynFvfo/Yg+tnrTL4j9L/pE8+L34P0cLRH1e1+w/z2+fSJch7D8AAAAAAAAAADKG5PDfie0/fPqsGgHM6z8g+bR43i3MPxguu8mfyNc/AAAAAAAAAADMyQ80YofBP5tiPITa0fI/AAAAAAAAAADK+PUMsjXdP7PfjD2CUeI/eCMsv58csz8AAAAAAAAAAIVi1AlJPe4/AAAAAAAAAAAAAAAAAAAAAEC6WYopDMM/PnTF8xOf7T8AAAAAAAAAAJBQnLy+Jq8/AAAAAAAAAAAAAAAAAAAAADAy3JnH6LE/AAAAAAAAAAAAAAAAAAAAAEBoC0tnPNE/0/jnP0g74D+oSBOpMNrZP8ypa9XKiwdAAAAAAAAAAACQz66aiAT7PwAAAAAAAAAAi5y43ZuX5T+07MsfAf7PPx4ksUtTItE/AAAAAAAAAAAIiUbxImLTPwAAAAAAAAAAAAAAAAAAAABDkDE6VKXyPwAAAAAAAAAAAAAAAAAAAAAAAAAAAAAAAMrICupeXuA/YFoFxqecqj/zNMkNFCzrPxgC/MzXRd0/tvdxMqw06T9+qnlGgdXbP3zsbJQ/UuY/AAAAAAAAAACIcmd4TTLWPwAAAAAAAAAAkIGpRIPLsj/7uWquGEvkPyAD/TxiRqw/AAAAAAAAAABmOogUVQbkP5ZKbqsLxwxAAAAAAAAAAAButKk4XMToP/ZSWpAMXfA/AAAAAAAAAAAAAAAAAAAAADcFZjJ/l/8/LfLQjkk97T+YfU9pOszkPwAAAAAAAAAAPe2VU6rs7z8AAAAAAAAAAAAAAAAAAAAAAAAAAAAAAAAAAAAAAAAAACzAjPkQEME/AAAAAAAAAAAsJgBoPq/JP7JdmOPuvdc/GjrY/zo92D9HNEt4x+rgP0tLoEZqD/o/yAUFLHH64z8AAAAAAAAAAKL4BR93RNk/fDpdRZRG2z8Mz6ny2qLhP4a44/2y++g/AAAAAAAAAABmIod2yRPfP1gp9cLmPsY/B93SXSFU6j8AAAAAAAAAAAAAAAAAAAAAQDPZvMSJhj9Gi6l61IPjP82kWqdShek/AAAAAAAAAAAAAAAAAAAAAAAAAAAAAAAAYEn+HJuGwz8AAAAAAAAAAAAAAAAAAAAAJJloOBXcyT9KSVToC4ABQNGpJQV3rvc/chUO0hC00j8AAAAAAAAAAIKL1mTT6/Q/AAAAAAAAAABUA/AgYI4BQAAAAAAAAAAA0+nnIPfyBkB+stA9mWfQPy8IWae7pPw/ECxNwo8sxT/v2RXm78fqP5kgwP2k0/c/AAAAAAAAAAAAAAAAAAAAAAAAAAAAAAAAAAAAAAAAAABYSiK7gJS6P1nDsp/xNeU/QMwuBAaR0z8AAAAAAAAAAI8kFOGSJeA/fLCSMlr4zD9X0VF79Vn9P1DN4BZ0JK0/AAAAAAAAAAAAAAAAAAAAANbLcy5RpO4/AAAAAAAAAAAQNJC1zNa9Pyh9pJLbvLc/Z+mhIAJb7z803mu92KXvP0BVWp9mR9U/ddtzrtNV/z8wPVfgp2nDP6x4Hz0LJOQ/AAAAAAAAAACwzYDPhTbIPwAAAAAAAAAAQBtIoW9ZBUCeQPYE4X3sP+RBaPViKvU/tlViQlEO3z/WGxM8sV/qPwAAAAAAAAAAXJuFNjpK6j8AAAAAAAAAAAAAAAAAAAAAAAAAAAAAAAAAAAAAAAAAALlXTQl1Yeg/WCFoUTVoxj8TsMhhrP/mP2jmsISm+tM/AAAAAAAAAAAAAAAAAAAAAFhl/lsvvdw/gE15q8S5yz+a2ZWWufv5P+zEecTfONc/dtowB4RD4T9obCiLKSXAP3C6Q3kmCOs/AAAAAAAAAADvOdCYZkDmPwAAAAAAAAAAAAAAAAAAAAAAAAAAAAAAAN37kEhjquA/lW+8mkeS4D9A8P+gpYuXP4CM06yiDc0/cymfRQs84T8AAAAAAAAAANBPv/R1u8c/VWy9ZkqB9j9QJmIigP+uPwAAAAAAAAAA6MuHIQQ/tD8IyK2a15HRPwAAAAAAAAAAZLiGzA1SyT8AKrINS6vTP4Q3T1iQf+Q/zVMekWN+7j8DEdtaBPXvPxB+vHYUo+c/EtkL18If4D8AAAAAAAAAAAAAAAAAAAAAtOn+GjMi3D8AAAAAAAAAAAAAAAAAAAAAo78WxoQS6j8AAAAAAAAAAAAAAAAAAAAAAAAAAAAAAAAAAAAAAAAAAAAAAAAAAAAAQDC1vJgK2D9KFpkyn4fuP/jf/jd2u80/EM9CG5yO3D8AAAAAAAAAAAAAAAAAAAAAAAAAAAAAAAAAAAAAAAAAAAAAAAAAAAAAZC0myOPr2T+S3EBOm4nvPwAAAAAAAAAAAAAAAAAAAADeqcmFZv/UP0z91Aw0we4/DOEx3/oCwT+yeoz0bq/sPwAAAAAAAAAA4ASrmukIsD9RWNbJdonmPyZ4i9xMkdQ/AAAAAAAAAAAXO8mgBiv2PwB47cbTYZI/Bq/gXMZC5j8AAAAAAAAAAJGjU/wdpO0/mIjv2q9avD8ASfS9nAegP51I+F5r8v0/VC/B83V1/j+I804yBe/EP0R2vpYrWNI/AAAAAAAAAACwJXpuwE7fPwAAAAAAAAAArhkHhi2ZCkA5PDTTc5PnPwAAAAAAAAAA9mCg75lZ3z/qkdfgFpHTPwAAAAAAAAAA23GoclrV7D8AAAAAAAAAAGZ/yXPPCARAWTEs3krY6z8AAAAAAAAAAF5LTKOpwtE/dGtQpsQuA0AAAAAAAAAAAKAZZ/McB6c/AAAAAAAAAACoFGEoKEDkPwAAAAAAAAAAYK7FIpiZ3T9Q51m+83u7PwAAAAAAAAAAAAAAAAAAAABngTO1Q+7zPwAAAAAAAAAAtGHxkTtxyz8AAAAAAAAAAFgDaiLFHsA/XEe3oBCd7D9uzBf9CULwPwKcfMaCC94/AAAAAAAAAAB8FRmfbV7dPwAAAAAAAAAAAAAAAAAAAACFQzoCU8/jPwAAAAAAAAAAziSQzJIg0D/ra5n31GT4PwAAAAAAAAAAAAAAAAAAAAAAAAAAAAAAAAAAAAAAAAAAz7ic1mX18D9pUcQ2YZLuP7A8eS7k1+M/AAAAAAAAAADQHXC0XyLuPwAAAAAAAAAAAAAAAAAAAACWnHnBFJPaPwAAAAAAAAAAtPpgwKj01z8AAAAAAAAAADQyKqbpzug/AAAAAAAAAAAAAAAAAAAAAHTMuJmD/e0/oNCy/cAJqT+cnJhyWN7uPwC79mC5zGw/xeWYdxvN6T8AAAAAAAAAAFIZPvXYHOc/AAAAAAAAAAAAAAAAAAAAAPDSVH1YgtY/1Yj7c/BQ4D+guAg6wUrJPwAAAAAAAAAAAAAAAAAAAAC4z56LX4e0PwAAAAAAAAAAAAAAAAAAAAAAAAAAAAAAAAAAAAAAAAAAAAAAAAAAAACsF9Y1x9LhP4gAhZSRCLQ/WPHoEI21tz8aq+YDg3XkP0Aonvhkf+k/Aj+svN8k2T8AAAAAAAAAAEydYfSSSMg/AAAAAAAAAAAAAAAAAAAAAAAAAAAAAAAAAAAAAAAAAADG+O12EHLhPwAAAAAAAAAAOupq0VoQ+D920QtRmIzoPxSZX6tcwuk/7R6m2Rot4D8AAAAAAAAAAAAAAAAAAAAAAAAAAAAAAAA4VPLEHy7pPwAAAAAAAAAAAAAAAAAAAAAAAAAAAAAAAPOoZZUZNe8/AAAAAAAAAABezTHg5ZbePwAAAAAAAAAAZB5fBYaz8j+y/fpgRKPaPyBo0cf3w6k/AAAAAAAAAAAAAAAAAAAAAPSQhnjI18Y/4/N1zNtl6T8AAAAAAAAAAMTqbQKHHds/AAAAAAAAAAAAAAAAAAAAAO23RabMF+c/3ga6DW/J5D8AAAAAAAAAAAAAAAAAAAAAQqv5FCXn8z+RK7BdwXXzP1hoou+0SLA/CHIO8nqu4D8AAAAAAAAAAAAAAAAAAAAAAAAAAAAAAAAAAAAAAAAAANY9nF1TWeY/HqY9oI0D3z8AAAAAAAAAAAAAAAAAAAAA8l+RVTkA+j9HfIQHP3f8P1bFts0qn9g/TOzpvEgt2D8AAAAAAAAAAAAAAAAAAAAAL+X4eiXW4z/q3hCKKh/SPwAAAAAAAAAA3icU3rqy5T+wDDGgCtHbPyjCipRl2t4/Nd8gO80I+j8AAAAAAAAAALEkOYH38+c/AAAAAAAAAAAAAAAAAAAAABpi9sPzEuU/3z/h4YUL7z8AAAAAAAAAACT3XPHb9fw/HmEnAm0aA0D2vqQ8MSHtP6w3Gjpqb+E/gDW8aO+npD/3wfGGhM/3P+CjBa+5BrE/AAAAAAAAAAD8Cx5cctXXP6WzzdZ3qfE/DL8oZYMOwT/CV3ULiNzgPzZSyydqN9M/zh9AcVl0+T8AAAAAAAAAAM14qRe/++I/jaY1HpVI/D8AAAAAAAAAAC4RXgxiweA/AAAAAAAAAACIIGZqs8z2P2/Cb35r+uM/AAAAAAAAAACRYajlf1njPztI/XSLVAhAAAAAAAAAAAAAAAAAAAAAAAAAAAAAAAAAAAAAAAAAAAClKCHYuG7hP+CcSjpEv+A/t9QBDy8J4D/kKsWt++DiPw5ehXL54O8/LAjbveed9D++lSTyqbXqPwAAAAAAAAAAAAAAAAAAAAAAAAAAAAAAAKq/SCewwts/AAAAAAAAAAAAAAAAAAAAAAAAAAAAAAAAeZL773AM+T/c9FzWXsvuP66p7jcBqec/gsVfwbpY+j8AAAAAAAAAAE70+DCajOQ/AAAAAAAAAAAAAAAAAAAAAMBd+J0zZe4/oXy3MdNz+z8uoffjV9fiP+DWO+jGVMw/3Jv+uX87wD8AAAAAAAAAAP9jKnp15+g/AAAAAAAAAACtMZ4T/ibrPw6uR22Whfk/iFWhtICByD+EnA02xcLgP1BOtxe8L+k/AAAAAAAAAABUPAXtu8noP0N9nlBTYOo/AAAAAAAAAACghifKu0HbP1ClXU2nacE/YD3NMNdS7j+bnFr4q6rmPwAAAAAAAAAAAAAAAAAAAAAg3iQj//boP/5drG4SWvk/49uU3oKp5D/IguuTAUrAP7Qga6C1y9M/fI08KmEQ1j9znDZBC+z/P80MyZuKw/k/dZ8a/eWV+D9sd37PAjbuP9i3J/7haeI/WsGuB0eB7j8T3FlLDRf+P7mLxQTxE+E/6MbLTpOI3D9A0z7QMZeEPwAAAAAAAAAAAAAAAAAAAAAAAAAAAAAAAAAAAAAAAAAAKWi6HQIlAEAAAAAAAAAAAAAAAAAAAAAAAAAAAAAAAAAAAAAAAAAAAAAAAAAAAAAAjpXYPOoT7j/Q6F2AifvmPwAAAAAAAAAAqB/da0cG7D8=",
          "dtype": "f8"
         },
         "yaxis": "y"
        }
       ],
       "layout": {
        "legend": {
         "tracegroupgap": 0
        },
        "margin": {
         "t": 60
        },
        "template": {
         "data": {
          "bar": [
           {
            "error_x": {
             "color": "#2a3f5f"
            },
            "error_y": {
             "color": "#2a3f5f"
            },
            "marker": {
             "line": {
              "color": "#E5ECF6",
              "width": 0.5
             },
             "pattern": {
              "fillmode": "overlay",
              "size": 10,
              "solidity": 0.2
             }
            },
            "type": "bar"
           }
          ],
          "barpolar": [
           {
            "marker": {
             "line": {
              "color": "#E5ECF6",
              "width": 0.5
             },
             "pattern": {
              "fillmode": "overlay",
              "size": 10,
              "solidity": 0.2
             }
            },
            "type": "barpolar"
           }
          ],
          "carpet": [
           {
            "aaxis": {
             "endlinecolor": "#2a3f5f",
             "gridcolor": "white",
             "linecolor": "white",
             "minorgridcolor": "white",
             "startlinecolor": "#2a3f5f"
            },
            "baxis": {
             "endlinecolor": "#2a3f5f",
             "gridcolor": "white",
             "linecolor": "white",
             "minorgridcolor": "white",
             "startlinecolor": "#2a3f5f"
            },
            "type": "carpet"
           }
          ],
          "choropleth": [
           {
            "colorbar": {
             "outlinewidth": 0,
             "ticks": ""
            },
            "type": "choropleth"
           }
          ],
          "contour": [
           {
            "colorbar": {
             "outlinewidth": 0,
             "ticks": ""
            },
            "colorscale": [
             [
              0,
              "#0d0887"
             ],
             [
              0.1111111111111111,
              "#46039f"
             ],
             [
              0.2222222222222222,
              "#7201a8"
             ],
             [
              0.3333333333333333,
              "#9c179e"
             ],
             [
              0.4444444444444444,
              "#bd3786"
             ],
             [
              0.5555555555555556,
              "#d8576b"
             ],
             [
              0.6666666666666666,
              "#ed7953"
             ],
             [
              0.7777777777777778,
              "#fb9f3a"
             ],
             [
              0.8888888888888888,
              "#fdca26"
             ],
             [
              1,
              "#f0f921"
             ]
            ],
            "type": "contour"
           }
          ],
          "contourcarpet": [
           {
            "colorbar": {
             "outlinewidth": 0,
             "ticks": ""
            },
            "type": "contourcarpet"
           }
          ],
          "heatmap": [
           {
            "colorbar": {
             "outlinewidth": 0,
             "ticks": ""
            },
            "colorscale": [
             [
              0,
              "#0d0887"
             ],
             [
              0.1111111111111111,
              "#46039f"
             ],
             [
              0.2222222222222222,
              "#7201a8"
             ],
             [
              0.3333333333333333,
              "#9c179e"
             ],
             [
              0.4444444444444444,
              "#bd3786"
             ],
             [
              0.5555555555555556,
              "#d8576b"
             ],
             [
              0.6666666666666666,
              "#ed7953"
             ],
             [
              0.7777777777777778,
              "#fb9f3a"
             ],
             [
              0.8888888888888888,
              "#fdca26"
             ],
             [
              1,
              "#f0f921"
             ]
            ],
            "type": "heatmap"
           }
          ],
          "histogram": [
           {
            "marker": {
             "pattern": {
              "fillmode": "overlay",
              "size": 10,
              "solidity": 0.2
             }
            },
            "type": "histogram"
           }
          ],
          "histogram2d": [
           {
            "colorbar": {
             "outlinewidth": 0,
             "ticks": ""
            },
            "colorscale": [
             [
              0,
              "#0d0887"
             ],
             [
              0.1111111111111111,
              "#46039f"
             ],
             [
              0.2222222222222222,
              "#7201a8"
             ],
             [
              0.3333333333333333,
              "#9c179e"
             ],
             [
              0.4444444444444444,
              "#bd3786"
             ],
             [
              0.5555555555555556,
              "#d8576b"
             ],
             [
              0.6666666666666666,
              "#ed7953"
             ],
             [
              0.7777777777777778,
              "#fb9f3a"
             ],
             [
              0.8888888888888888,
              "#fdca26"
             ],
             [
              1,
              "#f0f921"
             ]
            ],
            "type": "histogram2d"
           }
          ],
          "histogram2dcontour": [
           {
            "colorbar": {
             "outlinewidth": 0,
             "ticks": ""
            },
            "colorscale": [
             [
              0,
              "#0d0887"
             ],
             [
              0.1111111111111111,
              "#46039f"
             ],
             [
              0.2222222222222222,
              "#7201a8"
             ],
             [
              0.3333333333333333,
              "#9c179e"
             ],
             [
              0.4444444444444444,
              "#bd3786"
             ],
             [
              0.5555555555555556,
              "#d8576b"
             ],
             [
              0.6666666666666666,
              "#ed7953"
             ],
             [
              0.7777777777777778,
              "#fb9f3a"
             ],
             [
              0.8888888888888888,
              "#fdca26"
             ],
             [
              1,
              "#f0f921"
             ]
            ],
            "type": "histogram2dcontour"
           }
          ],
          "mesh3d": [
           {
            "colorbar": {
             "outlinewidth": 0,
             "ticks": ""
            },
            "type": "mesh3d"
           }
          ],
          "parcoords": [
           {
            "line": {
             "colorbar": {
              "outlinewidth": 0,
              "ticks": ""
             }
            },
            "type": "parcoords"
           }
          ],
          "pie": [
           {
            "automargin": true,
            "type": "pie"
           }
          ],
          "scatter": [
           {
            "fillpattern": {
             "fillmode": "overlay",
             "size": 10,
             "solidity": 0.2
            },
            "type": "scatter"
           }
          ],
          "scatter3d": [
           {
            "line": {
             "colorbar": {
              "outlinewidth": 0,
              "ticks": ""
             }
            },
            "marker": {
             "colorbar": {
              "outlinewidth": 0,
              "ticks": ""
             }
            },
            "type": "scatter3d"
           }
          ],
          "scattercarpet": [
           {
            "marker": {
             "colorbar": {
              "outlinewidth": 0,
              "ticks": ""
             }
            },
            "type": "scattercarpet"
           }
          ],
          "scattergeo": [
           {
            "marker": {
             "colorbar": {
              "outlinewidth": 0,
              "ticks": ""
             }
            },
            "type": "scattergeo"
           }
          ],
          "scattergl": [
           {
            "marker": {
             "colorbar": {
              "outlinewidth": 0,
              "ticks": ""
             }
            },
            "type": "scattergl"
           }
          ],
          "scattermap": [
           {
            "marker": {
             "colorbar": {
              "outlinewidth": 0,
              "ticks": ""
             }
            },
            "type": "scattermap"
           }
          ],
          "scattermapbox": [
           {
            "marker": {
             "colorbar": {
              "outlinewidth": 0,
              "ticks": ""
             }
            },
            "type": "scattermapbox"
           }
          ],
          "scatterpolar": [
           {
            "marker": {
             "colorbar": {
              "outlinewidth": 0,
              "ticks": ""
             }
            },
            "type": "scatterpolar"
           }
          ],
          "scatterpolargl": [
           {
            "marker": {
             "colorbar": {
              "outlinewidth": 0,
              "ticks": ""
             }
            },
            "type": "scatterpolargl"
           }
          ],
          "scatterternary": [
           {
            "marker": {
             "colorbar": {
              "outlinewidth": 0,
              "ticks": ""
             }
            },
            "type": "scatterternary"
           }
          ],
          "surface": [
           {
            "colorbar": {
             "outlinewidth": 0,
             "ticks": ""
            },
            "colorscale": [
             [
              0,
              "#0d0887"
             ],
             [
              0.1111111111111111,
              "#46039f"
             ],
             [
              0.2222222222222222,
              "#7201a8"
             ],
             [
              0.3333333333333333,
              "#9c179e"
             ],
             [
              0.4444444444444444,
              "#bd3786"
             ],
             [
              0.5555555555555556,
              "#d8576b"
             ],
             [
              0.6666666666666666,
              "#ed7953"
             ],
             [
              0.7777777777777778,
              "#fb9f3a"
             ],
             [
              0.8888888888888888,
              "#fdca26"
             ],
             [
              1,
              "#f0f921"
             ]
            ],
            "type": "surface"
           }
          ],
          "table": [
           {
            "cells": {
             "fill": {
              "color": "#EBF0F8"
             },
             "line": {
              "color": "white"
             }
            },
            "header": {
             "fill": {
              "color": "#C8D4E3"
             },
             "line": {
              "color": "white"
             }
            },
            "type": "table"
           }
          ]
         },
         "layout": {
          "annotationdefaults": {
           "arrowcolor": "#2a3f5f",
           "arrowhead": 0,
           "arrowwidth": 1
          },
          "autotypenumbers": "strict",
          "coloraxis": {
           "colorbar": {
            "outlinewidth": 0,
            "ticks": ""
           }
          },
          "colorscale": {
           "diverging": [
            [
             0,
             "#8e0152"
            ],
            [
             0.1,
             "#c51b7d"
            ],
            [
             0.2,
             "#de77ae"
            ],
            [
             0.3,
             "#f1b6da"
            ],
            [
             0.4,
             "#fde0ef"
            ],
            [
             0.5,
             "#f7f7f7"
            ],
            [
             0.6,
             "#e6f5d0"
            ],
            [
             0.7,
             "#b8e186"
            ],
            [
             0.8,
             "#7fbc41"
            ],
            [
             0.9,
             "#4d9221"
            ],
            [
             1,
             "#276419"
            ]
           ],
           "sequential": [
            [
             0,
             "#0d0887"
            ],
            [
             0.1111111111111111,
             "#46039f"
            ],
            [
             0.2222222222222222,
             "#7201a8"
            ],
            [
             0.3333333333333333,
             "#9c179e"
            ],
            [
             0.4444444444444444,
             "#bd3786"
            ],
            [
             0.5555555555555556,
             "#d8576b"
            ],
            [
             0.6666666666666666,
             "#ed7953"
            ],
            [
             0.7777777777777778,
             "#fb9f3a"
            ],
            [
             0.8888888888888888,
             "#fdca26"
            ],
            [
             1,
             "#f0f921"
            ]
           ],
           "sequentialminus": [
            [
             0,
             "#0d0887"
            ],
            [
             0.1111111111111111,
             "#46039f"
            ],
            [
             0.2222222222222222,
             "#7201a8"
            ],
            [
             0.3333333333333333,
             "#9c179e"
            ],
            [
             0.4444444444444444,
             "#bd3786"
            ],
            [
             0.5555555555555556,
             "#d8576b"
            ],
            [
             0.6666666666666666,
             "#ed7953"
            ],
            [
             0.7777777777777778,
             "#fb9f3a"
            ],
            [
             0.8888888888888888,
             "#fdca26"
            ],
            [
             1,
             "#f0f921"
            ]
           ]
          },
          "colorway": [
           "#636efa",
           "#EF553B",
           "#00cc96",
           "#ab63fa",
           "#FFA15A",
           "#19d3f3",
           "#FF6692",
           "#B6E880",
           "#FF97FF",
           "#FECB52"
          ],
          "font": {
           "color": "#2a3f5f"
          },
          "geo": {
           "bgcolor": "white",
           "lakecolor": "white",
           "landcolor": "#E5ECF6",
           "showlakes": true,
           "showland": true,
           "subunitcolor": "white"
          },
          "hoverlabel": {
           "align": "left"
          },
          "hovermode": "closest",
          "mapbox": {
           "style": "light"
          },
          "paper_bgcolor": "white",
          "plot_bgcolor": "#E5ECF6",
          "polar": {
           "angularaxis": {
            "gridcolor": "white",
            "linecolor": "white",
            "ticks": ""
           },
           "bgcolor": "#E5ECF6",
           "radialaxis": {
            "gridcolor": "white",
            "linecolor": "white",
            "ticks": ""
           }
          },
          "scene": {
           "xaxis": {
            "backgroundcolor": "#E5ECF6",
            "gridcolor": "white",
            "gridwidth": 2,
            "linecolor": "white",
            "showbackground": true,
            "ticks": "",
            "zerolinecolor": "white"
           },
           "yaxis": {
            "backgroundcolor": "#E5ECF6",
            "gridcolor": "white",
            "gridwidth": 2,
            "linecolor": "white",
            "showbackground": true,
            "ticks": "",
            "zerolinecolor": "white"
           },
           "zaxis": {
            "backgroundcolor": "#E5ECF6",
            "gridcolor": "white",
            "gridwidth": 2,
            "linecolor": "white",
            "showbackground": true,
            "ticks": "",
            "zerolinecolor": "white"
           }
          },
          "shapedefaults": {
           "line": {
            "color": "#2a3f5f"
           }
          },
          "ternary": {
           "aaxis": {
            "gridcolor": "white",
            "linecolor": "white",
            "ticks": ""
           },
           "baxis": {
            "gridcolor": "white",
            "linecolor": "white",
            "ticks": ""
           },
           "bgcolor": "#E5ECF6",
           "caxis": {
            "gridcolor": "white",
            "linecolor": "white",
            "ticks": ""
           }
          },
          "title": {
           "x": 0.05
          },
          "xaxis": {
           "automargin": true,
           "gridcolor": "white",
           "linecolor": "white",
           "ticks": "",
           "title": {
            "standoff": 15
           },
           "zerolinecolor": "white",
           "zerolinewidth": 2
          },
          "yaxis": {
           "automargin": true,
           "gridcolor": "white",
           "linecolor": "white",
           "ticks": "",
           "title": {
            "standoff": 15
           },
           "zerolinecolor": "white",
           "zerolinewidth": 2
          }
         }
        },
        "title": {
         "text": "Relação entre gols recebidos e gols marcados",
         "x": 0.5,
         "y": 0.95
        },
        "xaxis": {
         "anchor": "y",
         "domain": [
          0,
          1
         ],
         "title": {
          "text": "Gols marcados"
         }
        },
        "yaxis": {
         "anchor": "x",
         "domain": [
          0,
          1
         ],
         "title": {
          "text": "Gols rebebidos"
         }
        }
       }
      }
     },
     "metadata": {},
     "output_type": "display_data"
    }
   ],
   "source": [
    "#### solução com plotly\n",
    "\n",
    "fig = px.scatter(gols, x='gols_1', y='gols_2',\n",
    "                 labels={\n",
    "                     \"gols_1\" : scatter_dados[\"xlabel\"],\n",
    "                     \"gols_2\" : scatter_dados[\"ylabel\"]\n",
    "                 })\n",
    "\n",
    "fig.update_layout(title={\n",
    "    \"text\" : scatter_dados[\"title\"],\n",
    "    \"x\" : 0.5,\n",
    "    \"y\": 0.95\n",
    "})\n",
    "\n",
    "fig.update_traces(marker_color=\"crimson\")\n",
    "\n",
    "fig.show()"
   ]
  },
  {
   "cell_type": "markdown",
   "metadata": {},
   "source": [
    "#### Q4.\n",
    "\n",
    "Apresente um gráfico de barras com o top 10 países que mais participaram de copas do mundo, onde no eixo x devem estar o nome dos países e no eixo y a contagem de participações. Você deve separar a contagem de participações em copas femininas e masculinas, empilhando as barras de cada informação.\n",
    "\n",
    "No exemplo de barras empilhadas da galeria do matplotlib, imagine que a parte azul são as participações do país em copas masculinas, e em laranja as participações femininas:\n",
    "* https://matplotlib.org/stable/gallery/lines_bars_and_markers/bar_stacked.html\n",
    "\n",
    "Você deve implementar essa visualização nas três bibliotecas que vimos:\n",
    "* Matplotlib\n",
    "* Seaborn\n",
    "* Plotly\n",
    "\n",
    "Garanta que o gráfico tenha pelo menos os atributos:\n",
    "* título\n",
    "* rótulos de dimensão.\n",
    "* legenda"
   ]
  },
  {
   "cell_type": "code",
   "execution_count": 10,
   "metadata": {},
   "outputs": [
    {
     "name": "stderr",
     "output_type": "stream",
     "text": [
      "/tmp/ipykernel_16222/677594505.py:33: FutureWarning:\n",
      "\n",
      "The behavior of DataFrame concatenation with empty or all-NA entries is deprecated. In a future version, this will no longer exclude empty or all-NA columns when determining the result dtypes. To retain the old behavior, exclude the relevant entries before the concat operation.\n",
      "\n"
     ]
    }
   ],
   "source": [
    "# Dados de contextualização do gráfico\n",
    "bar_dados = {\n",
    "    \"xlabel\" : \"Países\",\n",
    "    \"ylabel\" : \"Número de participações\",\n",
    "    \"title\" : \"Os 10 Países que Mais Participaram Copa\"\n",
    "}\n",
    "\n",
    "\n",
    "\n",
    "# Separando os dados a serem utilizados para time_1 e time_2\n",
    "time_1 = wc[[\"time_1\", \"ano\", \"copa\"]]\n",
    "time_2 = wc[[\"time_2\", \"ano\", \"copa\"]]\n",
    "\n",
    "# Renomenado colunas\n",
    "time_1.columns = [\"país\", \"participações\", \"copa\"]\n",
    "time_2.columns = [\"país\", \"participações\", \"copa\"]\n",
    "\n",
    "# Juntando as duas listas descatando dados repetidos e agrupando por país e copa\n",
    "copas = pd.concat([time_1, time_2]).groupby(by=[\"país\", \"copa\"])[\"participações\"].nunique().reset_index()\n",
    "\n",
    "# Somando todas as participações de cada país\n",
    "copas_totais = copas.groupby(by=\"país\")[\"participações\"].sum().reset_index()\n",
    "# Nomes dos 10 paíse com mais participações da copa ordenados\n",
    "top10_paises = copas_totais.sort_values(by=\"participações\", ascending=False).head(10)[\"país\"]\n",
    "\n",
    "\n",
    "# Criação do novo dataframe com as participações dos 10 países que mais participaram da copa\n",
    "top10 = pd.DataFrame(columns=[\"país\", \"participações\", \"copa\"])\n",
    "\n",
    "for pais in top10_paises:\n",
    "    pais_copas = copas.loc[copas[\"país\"] == pais]\n",
    "\n",
    "    top10 = pd.concat([top10, pais_copas]).reset_index(drop=True)\n"
   ]
  },
  {
   "cell_type": "code",
   "execution_count": 11,
   "metadata": {},
   "outputs": [
    {
     "name": "stdout",
     "output_type": "stream",
     "text": [
      "\n"
     ]
    },
    {
     "data": {
      "image/png": "[encoded data removed]",
      "text/plain": [
       "<Figure size 640x480 with 1 Axes>"
      ]
     },
     "metadata": {},
     "output_type": "display_data"
    }
   ],
   "source": [
    "#### solução com matplotlib\n",
    "part_m = top10.loc[top10.copa == \"Masculina\", \"participações\"]\n",
    "part_f = top10.loc[top10.copa == \"Feminina\", \"participações\"]\n",
    "\n",
    "bar_m = plt.bar(top10_paises, part_m, label=\"Masculina\", color=\"orangered\")\n",
    "bar_f = plt.bar(top10_paises, part_f, bottom=part_m, label=\"Feminina\", color=\"orange\")\n",
    "plt.bar_label(bar_m, label_type=\"center\")\n",
    "plt.bar_label(bar_f, label_type=\"center\")\n",
    "\n",
    "plt.xlabel(bar_dados[\"xlabel\"])\n",
    "plt.ylabel(bar_dados[\"ylabel\"])\n",
    "plt.xticks(rotation = 65)\n",
    "plt.title(bar_dados[\"title\"])\n",
    "plt.legend()\n",
    "\n",
    "print()\n",
    "        "
   ]
  },
  {
   "cell_type": "code",
   "execution_count": 12,
   "metadata": {},
   "outputs": [
    {
     "name": "stdout",
     "output_type": "stream",
     "text": [
      "      país participações       copa\n",
      "0   Brazil             9   Feminina\n",
      "1   Brazil            22  Masculina\n",
      "..     ...           ...        ...\n",
      "18   Spain             3   Feminina\n",
      "19   Spain            16  Masculina\n",
      "\n",
      "[20 rows x 3 columns]\n"
     ]
    },
    {
     "data": {
      "image/png": "[encoded data removed]",
      "text/plain": [
       "<Figure size 1000x400 with 1 Axes>"
      ]
     },
     "metadata": {},
     "output_type": "display_data"
    }
   ],
   "source": [
    "#### solução com seaborn\n",
    "\n",
    "plt.figure(figsize=(10, 4))\n",
    "\n",
    "# Ordenar os dados para que 'Feminina' venha depois de 'Masculina'\n",
    "top10_sorted = top10.sort_values(by=\"copa\", ascending=False)\n",
    "\n",
    "\n",
    "palette = sns.set_palette(palette=\"mako\", n_colors=5)\n",
    "\n",
    "sns.barplot(data=top10_sorted, x=\"país\", y=\"participações\", hue=\"copa\", dodge=False).set(\n",
    "    xlabel=bar_dados[\"xlabel\"],\n",
    "    ylabel=bar_dados[\"ylabel\"],\n",
    "    title=bar_dados[\"title\"]\n",
    ")\n",
    "\n",
    "print(top10)\n"
   ]
  },
  {
   "cell_type": "code",
   "execution_count": 13,
   "metadata": {},
   "outputs": [
    {
     "data": {
      "application/vnd.plotly.v1+json": {
       "config": {
        "plotlyServerURL": "https://plot.ly"
       },
       "data": [
        {
         "hovertemplate": "copa=Feminina<br>Países=%{x}<br>Número de participações=%{y}<extra></extra>",
         "legendgroup": "Feminina",
         "marker": {
          "color": "#9e020f",
          "pattern": {
           "shape": ""
          }
         },
         "name": "Feminina",
         "orientation": "v",
         "showlegend": true,
         "textposition": "auto",
         "texttemplate": "%{y}",
         "type": "bar",
         "x": [
          "Brazil",
          "Argentina",
          "England",
          "Italy",
          "France",
          "Sweden",
          "Germany",
          "United States",
          "Mexico",
          "Spain"
         ],
         "xaxis": "x",
         "y": [
          9,
          4,
          6,
          4,
          5,
          9,
          9,
          9,
          3,
          3
         ],
         "yaxis": "y"
        },
        {
         "hovertemplate": "copa=Masculina<br>Países=%{x}<br>Número de participações=%{y}<extra></extra>",
         "legendgroup": "Masculina",
         "marker": {
          "color": "crimson",
          "pattern": {
           "shape": ""
          }
         },
         "name": "Masculina",
         "orientation": "v",
         "showlegend": true,
         "textposition": "auto",
         "texttemplate": "%{y}",
         "type": "bar",
         "x": [
          "Brazil",
          "Argentina",
          "England",
          "Italy",
          "France",
          "Sweden",
          "Germany",
          "United States",
          "Mexico",
          "Spain"
         ],
         "xaxis": "x",
         "y": [
          22,
          18,
          16,
          18,
          16,
          12,
          11,
          11,
          17,
          16
         ],
         "yaxis": "y"
        }
       ],
       "layout": {
        "barmode": "relative",
        "legend": {
         "title": {
          "text": "copa"
         },
         "tracegroupgap": 0
        },
        "margin": {
         "t": 60
        },
        "template": {
         "data": {
          "bar": [
           {
            "error_x": {
             "color": "#2a3f5f"
            },
            "error_y": {
             "color": "#2a3f5f"
            },
            "marker": {
             "line": {
              "color": "#E5ECF6",
              "width": 0.5
             },
             "pattern": {
              "fillmode": "overlay",
              "size": 10,
              "solidity": 0.2
             }
            },
            "type": "bar"
           }
          ],
          "barpolar": [
           {
            "marker": {
             "line": {
              "color": "#E5ECF6",
              "width": 0.5
             },
             "pattern": {
              "fillmode": "overlay",
              "size": 10,
              "solidity": 0.2
             }
            },
            "type": "barpolar"
           }
          ],
          "carpet": [
           {
            "aaxis": {
             "endlinecolor": "#2a3f5f",
             "gridcolor": "white",
             "linecolor": "white",
             "minorgridcolor": "white",
             "startlinecolor": "#2a3f5f"
            },
            "baxis": {
             "endlinecolor": "#2a3f5f",
             "gridcolor": "white",
             "linecolor": "white",
             "minorgridcolor": "white",
             "startlinecolor": "#2a3f5f"
            },
            "type": "carpet"
           }
          ],
          "choropleth": [
           {
            "colorbar": {
             "outlinewidth": 0,
             "ticks": ""
            },
            "type": "choropleth"
           }
          ],
          "contour": [
           {
            "colorbar": {
             "outlinewidth": 0,
             "ticks": ""
            },
            "colorscale": [
             [
              0,
              "#0d0887"
             ],
             [
              0.1111111111111111,
              "#46039f"
             ],
             [
              0.2222222222222222,
              "#7201a8"
             ],
             [
              0.3333333333333333,
              "#9c179e"
             ],
             [
              0.4444444444444444,
              "#bd3786"
             ],
             [
              0.5555555555555556,
              "#d8576b"
             ],
             [
              0.6666666666666666,
              "#ed7953"
             ],
             [
              0.7777777777777778,
              "#fb9f3a"
             ],
             [
              0.8888888888888888,
              "#fdca26"
             ],
             [
              1,
              "#f0f921"
             ]
            ],
            "type": "contour"
           }
          ],
          "contourcarpet": [
           {
            "colorbar": {
             "outlinewidth": 0,
             "ticks": ""
            },
            "type": "contourcarpet"
           }
          ],
          "heatmap": [
           {
            "colorbar": {
             "outlinewidth": 0,
             "ticks": ""
            },
            "colorscale": [
             [
              0,
              "#0d0887"
             ],
             [
              0.1111111111111111,
              "#46039f"
             ],
             [
              0.2222222222222222,
              "#7201a8"
             ],
             [
              0.3333333333333333,
              "#9c179e"
             ],
             [
              0.4444444444444444,
              "#bd3786"
             ],
             [
              0.5555555555555556,
              "#d8576b"
             ],
             [
              0.6666666666666666,
              "#ed7953"
             ],
             [
              0.7777777777777778,
              "#fb9f3a"
             ],
             [
              0.8888888888888888,
              "#fdca26"
             ],
             [
              1,
              "#f0f921"
             ]
            ],
            "type": "heatmap"
           }
          ],
          "histogram": [
           {
            "marker": {
             "pattern": {
              "fillmode": "overlay",
              "size": 10,
              "solidity": 0.2
             }
            },
            "type": "histogram"
           }
          ],
          "histogram2d": [
           {
            "colorbar": {
             "outlinewidth": 0,
             "ticks": ""
            },
            "colorscale": [
             [
              0,
              "#0d0887"
             ],
             [
              0.1111111111111111,
              "#46039f"
             ],
             [
              0.2222222222222222,
              "#7201a8"
             ],
             [
              0.3333333333333333,
              "#9c179e"
             ],
             [
              0.4444444444444444,
              "#bd3786"
             ],
             [
              0.5555555555555556,
              "#d8576b"
             ],
             [
              0.6666666666666666,
              "#ed7953"
             ],
             [
              0.7777777777777778,
              "#fb9f3a"
             ],
             [
              0.8888888888888888,
              "#fdca26"
             ],
             [
              1,
              "#f0f921"
             ]
            ],
            "type": "histogram2d"
           }
          ],
          "histogram2dcontour": [
           {
            "colorbar": {
             "outlinewidth": 0,
             "ticks": ""
            },
            "colorscale": [
             [
              0,
              "#0d0887"
             ],
             [
              0.1111111111111111,
              "#46039f"
             ],
             [
              0.2222222222222222,
              "#7201a8"
             ],
             [
              0.3333333333333333,
              "#9c179e"
             ],
             [
              0.4444444444444444,
              "#bd3786"
             ],
             [
              0.5555555555555556,
              "#d8576b"
             ],
             [
              0.6666666666666666,
              "#ed7953"
             ],
             [
              0.7777777777777778,
              "#fb9f3a"
             ],
             [
              0.8888888888888888,
              "#fdca26"
             ],
             [
              1,
              "#f0f921"
             ]
            ],
            "type": "histogram2dcontour"
           }
          ],
          "mesh3d": [
           {
            "colorbar": {
             "outlinewidth": 0,
             "ticks": ""
            },
            "type": "mesh3d"
           }
          ],
          "parcoords": [
           {
            "line": {
             "colorbar": {
              "outlinewidth": 0,
              "ticks": ""
             }
            },
            "type": "parcoords"
           }
          ],
          "pie": [
           {
            "automargin": true,
            "type": "pie"
           }
          ],
          "scatter": [
           {
            "fillpattern": {
             "fillmode": "overlay",
             "size": 10,
             "solidity": 0.2
            },
            "type": "scatter"
           }
          ],
          "scatter3d": [
           {
            "line": {
             "colorbar": {
              "outlinewidth": 0,
              "ticks": ""
             }
            },
            "marker": {
             "colorbar": {
              "outlinewidth": 0,
              "ticks": ""
             }
            },
            "type": "scatter3d"
           }
          ],
          "scattercarpet": [
           {
            "marker": {
             "colorbar": {
              "outlinewidth": 0,
              "ticks": ""
             }
            },
            "type": "scattercarpet"
           }
          ],
          "scattergeo": [
           {
            "marker": {
             "colorbar": {
              "outlinewidth": 0,
              "ticks": ""
             }
            },
            "type": "scattergeo"
           }
          ],
          "scattergl": [
           {
            "marker": {
             "colorbar": {
              "outlinewidth": 0,
              "ticks": ""
             }
            },
            "type": "scattergl"
           }
          ],
          "scattermap": [
           {
            "marker": {
             "colorbar": {
              "outlinewidth": 0,
              "ticks": ""
             }
            },
            "type": "scattermap"
           }
          ],
          "scattermapbox": [
           {
            "marker": {
             "colorbar": {
              "outlinewidth": 0,
              "ticks": ""
             }
            },
            "type": "scattermapbox"
           }
          ],
          "scatterpolar": [
           {
            "marker": {
             "colorbar": {
              "outlinewidth": 0,
              "ticks": ""
             }
            },
            "type": "scatterpolar"
           }
          ],
          "scatterpolargl": [
           {
            "marker": {
             "colorbar": {
              "outlinewidth": 0,
              "ticks": ""
             }
            },
            "type": "scatterpolargl"
           }
          ],
          "scatterternary": [
           {
            "marker": {
             "colorbar": {
              "outlinewidth": 0,
              "ticks": ""
             }
            },
            "type": "scatterternary"
           }
          ],
          "surface": [
           {
            "colorbar": {
             "outlinewidth": 0,
             "ticks": ""
            },
            "colorscale": [
             [
              0,
              "#0d0887"
             ],
             [
              0.1111111111111111,
              "#46039f"
             ],
             [
              0.2222222222222222,
              "#7201a8"
             ],
             [
              0.3333333333333333,
              "#9c179e"
             ],
             [
              0.4444444444444444,
              "#bd3786"
             ],
             [
              0.5555555555555556,
              "#d8576b"
             ],
             [
              0.6666666666666666,
              "#ed7953"
             ],
             [
              0.7777777777777778,
              "#fb9f3a"
             ],
             [
              0.8888888888888888,
              "#fdca26"
             ],
             [
              1,
              "#f0f921"
             ]
            ],
            "type": "surface"
           }
          ],
          "table": [
           {
            "cells": {
             "fill": {
              "color": "#EBF0F8"
             },
             "line": {
              "color": "white"
             }
            },
            "header": {
             "fill": {
              "color": "#C8D4E3"
             },
             "line": {
              "color": "white"
             }
            },
            "type": "table"
           }
          ]
         },
         "layout": {
          "annotationdefaults": {
           "arrowcolor": "#2a3f5f",
           "arrowhead": 0,
           "arrowwidth": 1
          },
          "autotypenumbers": "strict",
          "coloraxis": {
           "colorbar": {
            "outlinewidth": 0,
            "ticks": ""
           }
          },
          "colorscale": {
           "diverging": [
            [
             0,
             "#8e0152"
            ],
            [
             0.1,
             "#c51b7d"
            ],
            [
             0.2,
             "#de77ae"
            ],
            [
             0.3,
             "#f1b6da"
            ],
            [
             0.4,
             "#fde0ef"
            ],
            [
             0.5,
             "#f7f7f7"
            ],
            [
             0.6,
             "#e6f5d0"
            ],
            [
             0.7,
             "#b8e186"
            ],
            [
             0.8,
             "#7fbc41"
            ],
            [
             0.9,
             "#4d9221"
            ],
            [
             1,
             "#276419"
            ]
           ],
           "sequential": [
            [
             0,
             "#0d0887"
            ],
            [
             0.1111111111111111,
             "#46039f"
            ],
            [
             0.2222222222222222,
             "#7201a8"
            ],
            [
             0.3333333333333333,
             "#9c179e"
            ],
            [
             0.4444444444444444,
             "#bd3786"
            ],
            [
             0.5555555555555556,
             "#d8576b"
            ],
            [
             0.6666666666666666,
             "#ed7953"
            ],
            [
             0.7777777777777778,
             "#fb9f3a"
            ],
            [
             0.8888888888888888,
             "#fdca26"
            ],
            [
             1,
             "#f0f921"
            ]
           ],
           "sequentialminus": [
            [
             0,
             "#0d0887"
            ],
            [
             0.1111111111111111,
             "#46039f"
            ],
            [
             0.2222222222222222,
             "#7201a8"
            ],
            [
             0.3333333333333333,
             "#9c179e"
            ],
            [
             0.4444444444444444,
             "#bd3786"
            ],
            [
             0.5555555555555556,
             "#d8576b"
            ],
            [
             0.6666666666666666,
             "#ed7953"
            ],
            [
             0.7777777777777778,
             "#fb9f3a"
            ],
            [
             0.8888888888888888,
             "#fdca26"
            ],
            [
             1,
             "#f0f921"
            ]
           ]
          },
          "colorway": [
           "#636efa",
           "#EF553B",
           "#00cc96",
           "#ab63fa",
           "#FFA15A",
           "#19d3f3",
           "#FF6692",
           "#B6E880",
           "#FF97FF",
           "#FECB52"
          ],
          "font": {
           "color": "#2a3f5f"
          },
          "geo": {
           "bgcolor": "white",
           "lakecolor": "white",
           "landcolor": "#E5ECF6",
           "showlakes": true,
           "showland": true,
           "subunitcolor": "white"
          },
          "hoverlabel": {
           "align": "left"
          },
          "hovermode": "closest",
          "mapbox": {
           "style": "light"
          },
          "paper_bgcolor": "white",
          "plot_bgcolor": "#E5ECF6",
          "polar": {
           "angularaxis": {
            "gridcolor": "white",
            "linecolor": "white",
            "ticks": ""
           },
           "bgcolor": "#E5ECF6",
           "radialaxis": {
            "gridcolor": "white",
            "linecolor": "white",
            "ticks": ""
           }
          },
          "scene": {
           "xaxis": {
            "backgroundcolor": "#E5ECF6",
            "gridcolor": "white",
            "gridwidth": 2,
            "linecolor": "white",
            "showbackground": true,
            "ticks": "",
            "zerolinecolor": "white"
           },
           "yaxis": {
            "backgroundcolor": "#E5ECF6",
            "gridcolor": "white",
            "gridwidth": 2,
            "linecolor": "white",
            "showbackground": true,
            "ticks": "",
            "zerolinecolor": "white"
           },
           "zaxis": {
            "backgroundcolor": "#E5ECF6",
            "gridcolor": "white",
            "gridwidth": 2,
            "linecolor": "white",
            "showbackground": true,
            "ticks": "",
            "zerolinecolor": "white"
           }
          },
          "shapedefaults": {
           "line": {
            "color": "#2a3f5f"
           }
          },
          "ternary": {
           "aaxis": {
            "gridcolor": "white",
            "linecolor": "white",
            "ticks": ""
           },
           "baxis": {
            "gridcolor": "white",
            "linecolor": "white",
            "ticks": ""
           },
           "bgcolor": "#E5ECF6",
           "caxis": {
            "gridcolor": "white",
            "linecolor": "white",
            "ticks": ""
           }
          },
          "title": {
           "x": 0.05
          },
          "xaxis": {
           "automargin": true,
           "gridcolor": "white",
           "linecolor": "white",
           "ticks": "",
           "title": {
            "standoff": 15
           },
           "zerolinecolor": "white",
           "zerolinewidth": 2
          },
          "yaxis": {
           "automargin": true,
           "gridcolor": "white",
           "linecolor": "white",
           "ticks": "",
           "title": {
            "standoff": 15
           },
           "zerolinecolor": "white",
           "zerolinewidth": 2
          }
         }
        },
        "title": {
         "text": "Os 10 Países que Mais Participaram Copa",
         "x": 0.5,
         "y": 0.95
        },
        "xaxis": {
         "anchor": "y",
         "domain": [
          0,
          1
         ],
         "title": {
          "text": "Países"
         }
        },
        "yaxis": {
         "anchor": "x",
         "domain": [
          0,
          1
         ],
         "title": {
          "text": "Número de participações"
         }
        }
       }
      }
     },
     "metadata": {},
     "output_type": "display_data"
    }
   ],
   "source": [
    "#### solução com plotly\n",
    "\n",
    "fig = px.bar(top10, x=\"país\", y=\"participações\", color=\"copa\", text_auto=True,\n",
    "             color_discrete_map={\"Masculina\" : \"crimson\", \"Feminina\" : \"#9e020f\"},\n",
    "             labels={\n",
    "                 \"país\" : bar_dados[\"xlabel\"],\n",
    "                 \"participações\" : bar_dados[\"ylabel\"]\n",
    "             })\n",
    "\n",
    "fig.update_layout(title={\n",
    "    \"text\" : bar_dados[\"title\"],\n",
    "    \"x\" : 0.5,\n",
    "    \"y\" : 0.95\n",
    "})\n",
    "\n",
    "fig.show()"
   ]
  },
  {
   "cell_type": "markdown",
   "metadata": {},
   "source": [
    "#### Q5.\n",
    "\n",
    "Vamos fazer um compilado com as estatísticas históricas de copas do mundo!\n",
    "\n",
    "Com a biblioteca de sua preferência você deve criar 4 subplots organizados em um grid de 2 linhas e 2 colunas. Eles devem conter os seguintes gráficos:\n",
    "* 01 - Linha 1, coluna 1: Gráfico de barras com a quantidade de jogos que aconteceram por ano\n",
    "* 02 - Linha 1, coluna 2: Gráfico de área (referências a seguir) com o total de gols por ano, separando as informações de `gols_1` e `gols_2` para distinguir gols em casa e do time visitante.\n",
    "* 03 -Linha 2, coluna 1: Gráfico de área com o total de cartões por ano, separando as informações de cartões amarelos e cartões vermelhos, mas agregando cartões do time 1 ou time 2. Ou seja, uma área com `cartao_amarelo_1 + cartao_amarelo_2` e outra área com `cartao_vermelho_1 + cartao_vermelho_2`.\n",
    "* 04 - Linha 2, coluna 2: Gráfico de barras com o total de gols contra por ano, somando `gols_contra_1` e `gols_contra_2`.\n",
    "\n",
    "Referências sobre gráfico de área\n",
    "* Matplotlib: https://matplotlib.org/stable/gallery/lines_bars_and_markers/stackplot_demo.html#sphx-glr-gallery-lines-bars-and-markers-stackplot-demo-py\n",
    "* Pandas + Matplotlib: https://pandas.pydata.org/docs/reference/api/pandas.DataFrame.plot.area.html\n",
    "* Seaborn: https://seaborn.pydata.org/generated/seaborn.objects.Area.html\n",
    "* Plotly: https://plotly.com/python/filled-area-plots/"
   ]
  },
  {
   "cell_type": "code",
   "execution_count": 14,
   "metadata": {},
   "outputs": [],
   "source": [
    "### Célula de Definição de Data Frames para os gáficos\n",
    "\n",
    "## - 01 : Contagem de jogos por ano\n",
    "\n",
    "jogos_ano = wc[\"ano\"].copy()\n",
    "\n",
    "\n",
    "\n",
    "#-----------------------------------------------------------------------------------\n",
    "\n",
    "\n",
    "\n",
    "## - 02 : Contagem de gols por ano, diferenciando entre time da casa e time visitante\n",
    "\n",
    "# Separando gols do time da casa\n",
    "gols_casa = wc.groupby(by=\"ano\")[\"gols_1\"].sum().reset_index()\n",
    "gols_casa.columns = [\"ano\", \"gols\"]\n",
    "\n",
    "# Separando gols do time visitante\n",
    "gols_visitante = wc.groupby(by=\"ano\")[\"gols_2\"].sum().reset_index()\n",
    "gols_visitante.columns = [\"ano\", \"gols\"]\n",
    "\n",
    "\n",
    "\n",
    "#-----------------------------------------------------------------------------------\n",
    "\n",
    "\n",
    "\n",
    "## - 03 : Contagem de cartões vermelhos e amarelos por ano\n",
    "\n",
    "from ast import literal_eval as l_eval\n",
    "\n",
    "# Criação de dataframe intermediário\n",
    "df = pd.DataFrame()\n",
    "df[\"ano\"] = wc[\"ano\"]\n",
    "\n",
    "# No processo abaixo a string nos cartões amarelos é transformada em uma lista e é contado o seu comprimento\n",
    "    # caso o dado não seja uma string, ele é NA, logo não há nenhum cartão\n",
    "df[\"a1\"] = wc[\"cartao_amarelo_1\"].apply(lambda x: len(l_eval(x)) if type(x) == str else 0)\n",
    "df[\"a2\"] = wc[\"cartao_amarelo_2\"].apply(lambda x: len(l_eval(x)) if type(x) == str else 0)\n",
    "\n",
    "# Abaixo a string é quebrada em uma lista e seu o resultado é seu comprimento\n",
    "df[\"v1\"] = wc[\"cartao_vermelho_1\"].apply(lambda x: len(x.split(\"|\")) if type(x) == str else 0)\n",
    "df[\"v2\"] = wc[\"cartao_vermelho_2\"].apply(lambda x: len(x.split(\"|\")) if type(x) == str else 0)\n",
    "\n",
    "# Somando os cartões de cada ano\n",
    "df = df.groupby(by=\"ano\")[[\"a1\", \"a2\", \"v1\", \"v2\"]].sum().reset_index()\n",
    "\n",
    "# Nova base de dados onde há apenas uma coluna para cartões amarelos e uma para cartões vermelhos\n",
    "cartoes = pd.DataFrame({\"ano\" : df.ano, \"cartoes_amarelos\" : df.a1 + df.a2, \"cartoes_vermelhos\" : df.v1 + df.v2})\n",
    "\n",
    "\n",
    "\n",
    "#-----------------------------------------------------------------------------------\n",
    "\n",
    "\n",
    "\n",
    "## - 04 : Contagem de gols contra por ano\n",
    "\n",
    "df = pd.DataFrame()\n",
    "df[\"ano\"] = wc[\"ano\"]\n",
    "\n",
    "# Separando as strings em listas para descobrir o número de gols contra de cada coluna\n",
    "    # uma coluna é gols contra do time da casa e a outra do time visitante\n",
    "df[\"gols_c1\"] = wc[\"gols_1_contra\"].apply(lambda x: len(x.split(\"|\")) if type(x) == str else 0)\n",
    "df[\"gols_c2\"] = wc[\"gols_2_contra\"].apply(lambda x: len(x.split(\"|\")) if type(x) == str else 0)\n",
    "\n",
    "# Somando os gols contra de cada ano\n",
    "df = df.groupby(by=\"ano\")[[\"gols_c1\", \"gols_c2\"]].sum().reset_index()\n",
    "\n",
    "# Juntando os gols contra da casa com os gols contra do time visitante\n",
    "gols_contra = pd.DataFrame({\"ano\" : df.ano, \"gols_cotra\" : df.gols_c1 + df.gols_c2})"
   ]
  },
  {
   "cell_type": "code",
   "execution_count": 15,
   "metadata": {},
   "outputs": [
    {
     "data": {
      "application/vnd.plotly.v1+json": {
       "config": {
        "plotlyServerURL": "https://plot.ly"
       },
       "data": [
        {
         "name": "Gols",
         "type": "histogram",
         "x": {
          "bdata": "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",
          "dtype": "i2"
         },
         "xaxis": "x",
         "yaxis": "y"
        },
        {
         "marker": {
          "color": 1,
          "coloraxis": "coloraxis"
         },
         "name": "Gols Contra",
         "type": "bar",
         "x": {
          "bdata": "igeOB5IHngeiB6YHqgeuB7IHtge6B74HwgfGB8cHygfLB84HzwfSB9MH1gfXB9oH2wfeB98H4gfjB+YH5wc=",
          "dtype": "i2"
         },
         "xaxis": "x4",
         "y": {
          "bdata": "AQACAQQAAAIBAwMBAgACAQAGAwMBBAMCAgUGDAgDCA==",
          "dtype": "i1"
         },
         "yaxis": "y4"
        },
        {
         "fill": "tozeroy",
         "name": "Time da Casa",
         "type": "scatter",
         "x": {
          "bdata": "igeOB5IHngeiB6YHqgeuB7IHtge6B74HwgfGB8cHygfLB84HzwfSB9MH1gfXB9oH2wfeB98H4gfjB+YH5wc=",
          "dtype": "i2"
         },
         "xaxis": "x2",
         "y": {
          "bdata": "OzA9RWlYRUVIM09hSkM0U0JiTFlAVkdMMFFcW1ZlYA==",
          "dtype": "i1"
         },
         "yaxis": "y2"
        },
        {
         "fill": "tozeroy",
         "name": "Time Visitante",
         "type": "scatter",
         "x": {
          "bdata": "igeOB5IHngeiB6YHqgeuB7IHtge6B74HwgfGB8cHygfLB84HzwfSB9MH1gfXB9oH2wfeB98H4gfjB+YH5wc=",
          "dtype": "i2"
         },
         "xaxis": "x2",
         "y": {
          "bdata": "CxYXEyMmFBQXLhcxOjAvOiFJLkgpPShFJlo2TjxHRA==",
          "dtype": "i1"
         },
         "yaxis": "y2"
        },
        {
         "fill": "tozeroy",
         "name": "Cartões Amarelos",
         "type": "scatter",
         "x": {
          "bdata": "igeOB5IHngeiB6YHqgeuB7IHtge6B74HwgfGB8cHygfLB84HzwfSB9MH1gfXB9oH2wfeB98H4gfjB+YH5wc=",
          "dtype": "i2"
         },
         "xaxis": "x3",
         "y": {
          "bdata": "AAAAAAAAAQAAAAAAAQAVADMAVwA7AGMAigCoACAA5ABGAP8ATQAKAUEARgFRAPcAPwC5AG8A3QB/AOMAbwA=",
          "dtype": "i2"
         },
         "yaxis": "y3"
        },
        {
         "fill": "tozeroy",
         "name": "Cartões Vermelhos",
         "type": "scatter",
         "x": {
          "bdata": "igeOB5IHngeiB6YHqgeuB7IHtge6B74HwgfGB8cHygfLB84HzwfSB9MH1gfXB9oH2wfeB98H4gfjB+YH5wc=",
          "dtype": "i2"
         },
         "xaxis": "x3",
         "y": {
          "bdata": "AQEEAAMDBgUABQMFBw0BCAIRBAgBCAAGBAcCAgECBA==",
          "dtype": "i1"
         },
         "yaxis": "y3"
        }
       ],
       "layout": {
        "annotations": [
         {
          "font": {
           "size": 16
          },
          "showarrow": false,
          "text": "Número de Jogos",
          "x": 0.225,
          "xanchor": "center",
          "xref": "paper",
          "y": 1,
          "yanchor": "bottom",
          "yref": "paper"
         },
         {
          "font": {
           "size": 16
          },
          "showarrow": false,
          "text": "Número de Gols",
          "x": 0.775,
          "xanchor": "center",
          "xref": "paper",
          "y": 1,
          "yanchor": "bottom",
          "yref": "paper"
         },
         {
          "font": {
           "size": 16
          },
          "showarrow": false,
          "text": "Cartões Amarelos e Vermelhos",
          "x": 0.225,
          "xanchor": "center",
          "xref": "paper",
          "y": 0.375,
          "yanchor": "bottom",
          "yref": "paper"
         },
         {
          "font": {
           "size": 16
          },
          "showarrow": false,
          "text": "Gols Contra",
          "x": 0.775,
          "xanchor": "center",
          "xref": "paper",
          "y": 0.375,
          "yanchor": "bottom",
          "yref": "paper"
         }
        ],
        "template": {
         "data": {
          "bar": [
           {
            "error_x": {
             "color": "#2a3f5f"
            },
            "error_y": {
             "color": "#2a3f5f"
            },
            "marker": {
             "line": {
              "color": "#E5ECF6",
              "width": 0.5
             },
             "pattern": {
              "fillmode": "overlay",
              "size": 10,
              "solidity": 0.2
             }
            },
            "type": "bar"
           }
          ],
          "barpolar": [
           {
            "marker": {
             "line": {
              "color": "#E5ECF6",
              "width": 0.5
             },
             "pattern": {
              "fillmode": "overlay",
              "size": 10,
              "solidity": 0.2
             }
            },
            "type": "barpolar"
           }
          ],
          "carpet": [
           {
            "aaxis": {
             "endlinecolor": "#2a3f5f",
             "gridcolor": "white",
             "linecolor": "white",
             "minorgridcolor": "white",
             "startlinecolor": "#2a3f5f"
            },
            "baxis": {
             "endlinecolor": "#2a3f5f",
             "gridcolor": "white",
             "linecolor": "white",
             "minorgridcolor": "white",
             "startlinecolor": "#2a3f5f"
            },
            "type": "carpet"
           }
          ],
          "choropleth": [
           {
            "colorbar": {
             "outlinewidth": 0,
             "ticks": ""
            },
            "type": "choropleth"
           }
          ],
          "contour": [
           {
            "colorbar": {
             "outlinewidth": 0,
             "ticks": ""
            },
            "colorscale": [
             [
              0,
              "#0d0887"
             ],
             [
              0.1111111111111111,
              "#46039f"
             ],
             [
              0.2222222222222222,
              "#7201a8"
             ],
             [
              0.3333333333333333,
              "#9c179e"
             ],
             [
              0.4444444444444444,
              "#bd3786"
             ],
             [
              0.5555555555555556,
              "#d8576b"
             ],
             [
              0.6666666666666666,
              "#ed7953"
             ],
             [
              0.7777777777777778,
              "#fb9f3a"
             ],
             [
              0.8888888888888888,
              "#fdca26"
             ],
             [
              1,
              "#f0f921"
             ]
            ],
            "type": "contour"
           }
          ],
          "contourcarpet": [
           {
            "colorbar": {
             "outlinewidth": 0,
             "ticks": ""
            },
            "type": "contourcarpet"
           }
          ],
          "heatmap": [
           {
            "colorbar": {
             "outlinewidth": 0,
             "ticks": ""
            },
            "colorscale": [
             [
              0,
              "#0d0887"
             ],
             [
              0.1111111111111111,
              "#46039f"
             ],
             [
              0.2222222222222222,
              "#7201a8"
             ],
             [
              0.3333333333333333,
              "#9c179e"
             ],
             [
              0.4444444444444444,
              "#bd3786"
             ],
             [
              0.5555555555555556,
              "#d8576b"
             ],
             [
              0.6666666666666666,
              "#ed7953"
             ],
             [
              0.7777777777777778,
              "#fb9f3a"
             ],
             [
              0.8888888888888888,
              "#fdca26"
             ],
             [
              1,
              "#f0f921"
             ]
            ],
            "type": "heatmap"
           }
          ],
          "histogram": [
           {
            "marker": {
             "pattern": {
              "fillmode": "overlay",
              "size": 10,
              "solidity": 0.2
             }
            },
            "type": "histogram"
           }
          ],
          "histogram2d": [
           {
            "colorbar": {
             "outlinewidth": 0,
             "ticks": ""
            },
            "colorscale": [
             [
              0,
              "#0d0887"
             ],
             [
              0.1111111111111111,
              "#46039f"
             ],
             [
              0.2222222222222222,
              "#7201a8"
             ],
             [
              0.3333333333333333,
              "#9c179e"
             ],
             [
              0.4444444444444444,
              "#bd3786"
             ],
             [
              0.5555555555555556,
              "#d8576b"
             ],
             [
              0.6666666666666666,
              "#ed7953"
             ],
             [
              0.7777777777777778,
              "#fb9f3a"
             ],
             [
              0.8888888888888888,
              "#fdca26"
             ],
             [
              1,
              "#f0f921"
             ]
            ],
            "type": "histogram2d"
           }
          ],
          "histogram2dcontour": [
           {
            "colorbar": {
             "outlinewidth": 0,
             "ticks": ""
            },
            "colorscale": [
             [
              0,
              "#0d0887"
             ],
             [
              0.1111111111111111,
              "#46039f"
             ],
             [
              0.2222222222222222,
              "#7201a8"
             ],
             [
              0.3333333333333333,
              "#9c179e"
             ],
             [
              0.4444444444444444,
              "#bd3786"
             ],
             [
              0.5555555555555556,
              "#d8576b"
             ],
             [
              0.6666666666666666,
              "#ed7953"
             ],
             [
              0.7777777777777778,
              "#fb9f3a"
             ],
             [
              0.8888888888888888,
              "#fdca26"
             ],
             [
              1,
              "#f0f921"
             ]
            ],
            "type": "histogram2dcontour"
           }
          ],
          "mesh3d": [
           {
            "colorbar": {
             "outlinewidth": 0,
             "ticks": ""
            },
            "type": "mesh3d"
           }
          ],
          "parcoords": [
           {
            "line": {
             "colorbar": {
              "outlinewidth": 0,
              "ticks": ""
             }
            },
            "type": "parcoords"
           }
          ],
          "pie": [
           {
            "automargin": true,
            "type": "pie"
           }
          ],
          "scatter": [
           {
            "fillpattern": {
             "fillmode": "overlay",
             "size": 10,
             "solidity": 0.2
            },
            "type": "scatter"
           }
          ],
          "scatter3d": [
           {
            "line": {
             "colorbar": {
              "outlinewidth": 0,
              "ticks": ""
             }
            },
            "marker": {
             "colorbar": {
              "outlinewidth": 0,
              "ticks": ""
             }
            },
            "type": "scatter3d"
           }
          ],
          "scattercarpet": [
           {
            "marker": {
             "colorbar": {
              "outlinewidth": 0,
              "ticks": ""
             }
            },
            "type": "scattercarpet"
           }
          ],
          "scattergeo": [
           {
            "marker": {
             "colorbar": {
              "outlinewidth": 0,
              "ticks": ""
             }
            },
            "type": "scattergeo"
           }
          ],
          "scattergl": [
           {
            "marker": {
             "colorbar": {
              "outlinewidth": 0,
              "ticks": ""
             }
            },
            "type": "scattergl"
           }
          ],
          "scattermap": [
           {
            "marker": {
             "colorbar": {
              "outlinewidth": 0,
              "ticks": ""
             }
            },
            "type": "scattermap"
           }
          ],
          "scattermapbox": [
           {
            "marker": {
             "colorbar": {
              "outlinewidth": 0,
              "ticks": ""
             }
            },
            "type": "scattermapbox"
           }
          ],
          "scatterpolar": [
           {
            "marker": {
             "colorbar": {
              "outlinewidth": 0,
              "ticks": ""
             }
            },
            "type": "scatterpolar"
           }
          ],
          "scatterpolargl": [
           {
            "marker": {
             "colorbar": {
              "outlinewidth": 0,
              "ticks": ""
             }
            },
            "type": "scatterpolargl"
           }
          ],
          "scatterternary": [
           {
            "marker": {
             "colorbar": {
              "outlinewidth": 0,
              "ticks": ""
             }
            },
            "type": "scatterternary"
           }
          ],
          "surface": [
           {
            "colorbar": {
             "outlinewidth": 0,
             "ticks": ""
            },
            "colorscale": [
             [
              0,
              "#0d0887"
             ],
             [
              0.1111111111111111,
              "#46039f"
             ],
             [
              0.2222222222222222,
              "#7201a8"
             ],
             [
              0.3333333333333333,
              "#9c179e"
             ],
             [
              0.4444444444444444,
              "#bd3786"
             ],
             [
              0.5555555555555556,
              "#d8576b"
             ],
             [
              0.6666666666666666,
              "#ed7953"
             ],
             [
              0.7777777777777778,
              "#fb9f3a"
             ],
             [
              0.8888888888888888,
              "#fdca26"
             ],
             [
              1,
              "#f0f921"
             ]
            ],
            "type": "surface"
           }
          ],
          "table": [
           {
            "cells": {
             "fill": {
              "color": "#EBF0F8"
             },
             "line": {
              "color": "white"
             }
            },
            "header": {
             "fill": {
              "color": "#C8D4E3"
             },
             "line": {
              "color": "white"
             }
            },
            "type": "table"
           }
          ]
         },
         "layout": {
          "annotationdefaults": {
           "arrowcolor": "#2a3f5f",
           "arrowhead": 0,
           "arrowwidth": 1
          },
          "autotypenumbers": "strict",
          "coloraxis": {
           "colorbar": {
            "outlinewidth": 0,
            "ticks": ""
           }
          },
          "colorscale": {
           "diverging": [
            [
             0,
             "#8e0152"
            ],
            [
             0.1,
             "#c51b7d"
            ],
            [
             0.2,
             "#de77ae"
            ],
            [
             0.3,
             "#f1b6da"
            ],
            [
             0.4,
             "#fde0ef"
            ],
            [
             0.5,
             "#f7f7f7"
            ],
            [
             0.6,
             "#e6f5d0"
            ],
            [
             0.7,
             "#b8e186"
            ],
            [
             0.8,
             "#7fbc41"
            ],
            [
             0.9,
             "#4d9221"
            ],
            [
             1,
             "#276419"
            ]
           ],
           "sequential": [
            [
             0,
             "#0d0887"
            ],
            [
             0.1111111111111111,
             "#46039f"
            ],
            [
             0.2222222222222222,
             "#7201a8"
            ],
            [
             0.3333333333333333,
             "#9c179e"
            ],
            [
             0.4444444444444444,
             "#bd3786"
            ],
            [
             0.5555555555555556,
             "#d8576b"
            ],
            [
             0.6666666666666666,
             "#ed7953"
            ],
            [
             0.7777777777777778,
             "#fb9f3a"
            ],
            [
             0.8888888888888888,
             "#fdca26"
            ],
            [
             1,
             "#f0f921"
            ]
           ],
           "sequentialminus": [
            [
             0,
             "#0d0887"
            ],
            [
             0.1111111111111111,
             "#46039f"
            ],
            [
             0.2222222222222222,
             "#7201a8"
            ],
            [
             0.3333333333333333,
             "#9c179e"
            ],
            [
             0.4444444444444444,
             "#bd3786"
            ],
            [
             0.5555555555555556,
             "#d8576b"
            ],
            [
             0.6666666666666666,
             "#ed7953"
            ],
            [
             0.7777777777777778,
             "#fb9f3a"
            ],
            [
             0.8888888888888888,
             "#fdca26"
            ],
            [
             1,
             "#f0f921"
            ]
           ]
          },
          "colorway": [
           "#636efa",
           "#EF553B",
           "#00cc96",
           "#ab63fa",
           "#FFA15A",
           "#19d3f3",
           "#FF6692",
           "#B6E880",
           "#FF97FF",
           "#FECB52"
          ],
          "font": {
           "color": "#2a3f5f"
          },
          "geo": {
           "bgcolor": "white",
           "lakecolor": "white",
           "landcolor": "#E5ECF6",
           "showlakes": true,
           "showland": true,
           "subunitcolor": "white"
          },
          "hoverlabel": {
           "align": "left"
          },
          "hovermode": "closest",
          "mapbox": {
           "style": "light"
          },
          "paper_bgcolor": "white",
          "plot_bgcolor": "#E5ECF6",
          "polar": {
           "angularaxis": {
            "gridcolor": "white",
            "linecolor": "white",
            "ticks": ""
           },
           "bgcolor": "#E5ECF6",
           "radialaxis": {
            "gridcolor": "white",
            "linecolor": "white",
            "ticks": ""
           }
          },
          "scene": {
           "xaxis": {
            "backgroundcolor": "#E5ECF6",
            "gridcolor": "white",
            "gridwidth": 2,
            "linecolor": "white",
            "showbackground": true,
            "ticks": "",
            "zerolinecolor": "white"
           },
           "yaxis": {
            "backgroundcolor": "#E5ECF6",
            "gridcolor": "white",
            "gridwidth": 2,
            "linecolor": "white",
            "showbackground": true,
            "ticks": "",
            "zerolinecolor": "white"
           },
           "zaxis": {
            "backgroundcolor": "#E5ECF6",
            "gridcolor": "white",
            "gridwidth": 2,
            "linecolor": "white",
            "showbackground": true,
            "ticks": "",
            "zerolinecolor": "white"
           }
          },
          "shapedefaults": {
           "line": {
            "color": "#2a3f5f"
           }
          },
          "ternary": {
           "aaxis": {
            "gridcolor": "white",
            "linecolor": "white",
            "ticks": ""
           },
           "baxis": {
            "gridcolor": "white",
            "linecolor": "white",
            "ticks": ""
           },
           "bgcolor": "#E5ECF6",
           "caxis": {
            "gridcolor": "white",
            "linecolor": "white",
            "ticks": ""
           }
          },
          "title": {
           "x": 0.05
          },
          "xaxis": {
           "automargin": true,
           "gridcolor": "white",
           "linecolor": "white",
           "ticks": "",
           "title": {
            "standoff": 15
           },
           "zerolinecolor": "white",
           "zerolinewidth": 2
          },
          "yaxis": {
           "automargin": true,
           "gridcolor": "white",
           "linecolor": "white",
           "ticks": "",
           "title": {
            "standoff": 15
           },
           "zerolinecolor": "white",
           "zerolinewidth": 2
          }
         }
        },
        "title": {
         "text": "Estatíticas Anuais da Copa do Mundo",
         "x": 0.5,
         "y": 0.92
        },
        "xaxis": {
         "anchor": "y",
         "domain": [
          0,
          0.45
         ]
        },
        "xaxis2": {
         "anchor": "y2",
         "domain": [
          0.55,
          1
         ]
        },
        "xaxis3": {
         "anchor": "y3",
         "domain": [
          0,
          0.45
         ]
        },
        "xaxis4": {
         "anchor": "y4",
         "domain": [
          0.55,
          1
         ]
        },
        "yaxis": {
         "anchor": "x",
         "domain": [
          0.625,
          1
         ],
         "title": {
          "text": "Jogos"
         }
        },
        "yaxis2": {
         "anchor": "x2",
         "domain": [
          0.625,
          1
         ],
         "title": {
          "text": "Gols totais"
         }
        },
        "yaxis3": {
         "anchor": "x3",
         "domain": [
          0,
          0.375
         ],
         "title": {
          "text": "Cartões totais"
         }
        },
        "yaxis4": {
         "anchor": "x4",
         "domain": [
          0,
          0.375
         ],
         "title": {
          "text": "Gols contra"
         }
        }
       }
      }
     },
     "metadata": {},
     "output_type": "display_data"
    }
   ],
   "source": [
    "### Solução com Plotly\n",
    "\n",
    "from plotly.subplots import make_subplots\n",
    "\n",
    "titles = (\"Número de Jogos\", \"Número de Gols\", \"Cartões Amarelos e Vermelhos\", \"Gols Contra\")\n",
    "\n",
    "fig = make_subplots(2, 2, start_cell=\"top-left\", subplot_titles=titles)\n",
    "\n",
    "\n",
    "# Criando histograma do número de jogos por ano\n",
    "fig.append_trace(\n",
    "    po.Histogram(x=jogos_ano, name=\"Gols\"), row=1, col=1\n",
    ")\n",
    "\n",
    "# Criando gráfico com o número de gols contra por ano\n",
    "fig.append_trace(\n",
    "    po.Bar(x=gols_contra[\"ano\"], y=gols_contra[\"gols_cotra\"], name=\"Gols Contra\",\n",
    "           marker=dict(color=1, coloraxis=\"coloraxis\")\n",
    "           ), row=2, col=2\n",
    ")\n",
    "\n",
    "# Criando gráfico de área com gols por ano\n",
    "fig.append_trace(\n",
    "    po.Scatter(x=gols_casa[\"ano\"], y=gols_casa[\"gols\"], fill=\"tozeroy\", name=\"Time da Casa\"), row=1, col=2\n",
    ")\n",
    "fig.append_trace(\n",
    "    po.Scatter(x=gols_visitante[\"ano\"], y=gols_visitante[\"gols\"], fill=\"tozeroy\", name=\"Time Visitante\"), row=1, col=2\n",
    ")\n",
    "\n",
    "# Criando gráfico de área com o número de cartões por ano\n",
    "fig.append_trace(\n",
    "    po.Scatter(x=cartoes[\"ano\"], y=cartoes[\"cartoes_amarelos\"], fill=\"tozeroy\", name=\"Cartões Amarelos\"), row=2, col=1\n",
    ")\n",
    "fig.append_trace(\n",
    "    po.Scatter(x=cartoes[\"ano\"], y=cartoes[\"cartoes_vermelhos\"], fill=\"tozeroy\", name=\"Cartões Vermelhos\"), row=2, col=1\n",
    ")\n",
    "\n",
    "# Colocando legendas dos exos das ordenadas\n",
    "fig.update_yaxes(title_text=\"Jogos\", row=1, col=1)\n",
    "fig.update_yaxes(title_text=\"Gols totais\", row=1, col=2)\n",
    "fig.update_yaxes(title_text=\"Cartões totais\", row=2, col=1)\n",
    "fig.update_yaxes(title_text=\"Gols contra\", row=2, col=2)\n",
    "\n",
    "fig.update_layout(title={\n",
    "    \"text\" : \"Estatíticas Anuais da Copa do Mundo\",\n",
    "    \"x\" : 0.5,\n",
    "    \"y\" : 0.92\n",
    "})\n",
    "\n",
    "fig.show()\n"
   ]
  }
 ],
 "metadata": {
  "kernelspec": {
   "display_name": ".venv",
   "language": "python",
   "name": "python3"
  },
  "language_info": {
   "codemirror_mode": {
    "name": "ipython",
    "version": 3
   },
   "file_extension": ".py",
   "mimetype": "text/x-python",
   "name": "python",
   "nbconvert_exporter": "python",
   "pygments_lexer": "ipython3",
   "version": "3.12.3"
  }
 },
 "nbformat": 4,
 "nbformat_minor": 2
}
