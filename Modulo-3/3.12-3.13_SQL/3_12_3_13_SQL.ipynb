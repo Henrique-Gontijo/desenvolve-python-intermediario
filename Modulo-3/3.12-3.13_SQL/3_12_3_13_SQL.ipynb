{
  "cells": [
    {
      "cell_type": "markdown",
      "metadata": {
        "id": "1gyNxQX_aMrE"
      },
      "source": [
        "> Projeto Desenvolve <br>\n",
        "Programação Intermediária com Python <br>\n",
        "Profa. Camila Laranjeira (mila@projetodesenvolve.com.br) <br>\n",
        "\n",
        "# Python SQL\n",
        "Python oferece um ecossistema robusto para gerência de banco de dados, com suporte aos mais diferentes bancos de dados, como MySQL, PostgreSQL, Oracle, entre outros. Nessa aula, daremos os primeiros passos conhecendo o básico do Python para trabalhar com SQL. Especificamente falaremos das seguintes bibliotecas:\n",
        "* [**sqlite3**](https://docs.python.org/3/library/sqlite3.html): Interface para bancos de dados SQLite nativa do Python. Alternativa leve e autocontida, onde os dados são armazenados em um único arquivo e não requer configuração de servidor. **Usa-se a linguagem SQL** para interações com o banco.\n",
        "* [**MySQL Connector**](https://dev.mysql.com/doc/connector-python/en/connector-python-examples.html): A biblioteca `mysql-connector` é um driver de comunicação com servidores MySQL que podemos instalar através do gerenciador de pacotes `pip`. Ela permite se conectar a servidores MySQL, criar tabelas, executar consultas, entre outros, **usando a linguagem SQL**.\n",
        "* [**✨SQLAlchemy** 🧙](https://www.sqlalchemy.org/): Um toolkit completo e robusto que oferece tanto a modelagem de dados (ORM - Object-Relational Mapping) quanto a gerência do banco de dados. SQLAlchemy abstrai as interações com o banco de dados, permitindo **trabalhar com objetos Python em vez de consultas SQL brutas.**\n",
        "\n",
        "### Base de dados exemplo\n",
        "Os dados (e suas respectivas modelagens) que usamos nesse script foram ligeiramente modificados desse dataset do Kaggle: [Pizza Query](https://www.kaggle.com/datasets/teocalvo/pizzaquery/data?select=produto.csv). A origem dos dados é o curso SQL Essentials da [Linux Tips](https://www.linuxtips.io/) em parceria com [Téo Me Why](https://github.com/teomewhy).\n",
        "\n",
        "A seguir uma representação simples das tabelas que iremos trabalhar.\n",
        "\n",
        "```\n",
        "produto\n",
        "+------------+------+\n",
        "| idProduto  | PK   |\n",
        "| tipo       |      |\n",
        "| descItem   |      |\n",
        "| vlPreco    |      |\n",
        "+------------+------+\n",
        "\n",
        "pedido\n",
        "+------------+------+\n",
        "| idPedido   | PK   |\n",
        "| dtPedido   |      |\n",
        "| flKetchup  |      |\n",
        "| descUF     |      |\n",
        "| txtRecado  |      |\n",
        "+------------+------+\n",
        "\n",
        "item_pedido\n",
        "+------------+-------------------+\n",
        "| idPedido   | PK, FK -> pedido  |\n",
        "| idProduto  | PK, FK -> produto |\n",
        "| quantidade |                   |\n",
        "+------------+-------------------+\n",
        "```\n",
        "\n",
        "\n"
      ]
    },
    {
      "cell_type": "markdown",
      "source": [
        "## SQLite\n",
        "\n",
        "### \"Conectando\" ao database\n",
        "\n",
        "Por não se tratar de um banco cliente-servidor, a conexão ao banco é na verdade o acesso ao arquivo (ou criação dele) que contém as informações do banco. A conexão pode ser feita com o seguinte código:\n",
        "\n",
        "```python\n",
        "import sqlite3\n",
        "connection = sqlite3.connect(path)\n",
        "```\n",
        "O parâmetro `path` em geral é o nome do arquivo onde os registros estão/estarão armazenados. Mas também pode ser a string `:memory:` caso se deseje criar um banco provisório em memória, o qual deixará de existir quando a conexão for fechada.\n",
        "\n",
        "O código a seguir apresenta uma função mais robusta para abrir uma nova conexão SQLite, incluindo o tratamento de erros mapeado pelo seguinte instrumento:\n",
        "* [`sqlite3.Error`](https://docs.python.org/3/library/sqlite3.html#sqlite3.Error): Classe base para todas as exceções dessa biblioteca (herda da python `Exception`). Exceções lançadas pela própria biblioteca tem dois atributos:\n",
        "    * `sqlite_errorcode`: Código de erro da [API SQLite](https://sqlite.org/rescode.html).\n",
        "    * `sqlite_errorname`: Nome simbólico do erro."
      ],
      "metadata": {
        "id": "-smItiZTdTM1"
      }
    },
    {
      "cell_type": "code",
      "execution_count": null,
      "metadata": {
        "colab": {
          "base_uri": "https://localhost:8080/"
        },
        "id": "W-0P7vFyaJJE",
        "outputId": "c958c11b-66ab-4968-947c-c411fd2998db"
      },
      "outputs": [
        {
          "output_type": "stream",
          "name": "stdout",
          "text": [
            "Connection to SQLite DB successful\n"
          ]
        }
      ],
      "source": [
        "import sqlite3\n",
        "from sqlite3 import Error\n",
        "\n",
        "def create_connection(path):\n",
        "    connection = None\n",
        "    try:\n",
        "        connection = sqlite3.connect(path)\n",
        "        print(\"Connection to SQLite DB successful\")\n",
        "    except Error as e:\n",
        "        print(f\"The error '{e}' occurred\")\n",
        "\n",
        "    return connection\n",
        "\n",
        "connection = create_connection(\"pizza_app.sqlite\")"
      ]
    },
    {
      "cell_type": "markdown",
      "metadata": {
        "id": "eNMYfRMX2tvt"
      },
      "source": [
        "### Executando queries\n",
        "\n",
        "O objeto retornado `connection`, retornado pela conexão que acabamos de criar, possui um método `cursor()` que cria e retorna um novo objeto `Cursor`. O objeto `Cursor` é um intermediário para enviar comandos SQL para o banco de dados e recuperar resultados (veja a [documentação](https://docs.python.org/3/library/sqlite3.html#sqlite3.Cursor)). Principais métodos:\n",
        "\n",
        "* `execute`: Executa uma instrução SQL, recebida como string. Opcionalmente pode-se adicionar placeholders à string e preenchê-los em `parameters`. [Entenda como adicionar placeholders em queries SQL](https://docs.python.org/3/library/sqlite3.html#how-to-use-placeholders-to-bind-values-in-sql-queries).\n",
        "```python\n",
        "execute(sql: str, parameters: tuple = ())\n",
        "# exemplo com placeholders nomeados:\n",
        "dic = ({'ing': 'queijo', 'preco': 4.5})\n",
        "cur.execute(\"INSERT INTO data VALUES(:ing, :preco)\", dic)\n",
        "```\n",
        "* `executemany`: Repete a execução da instrução `sql` dada com cada um dos elementos de `parameters`.\n",
        "```python\n",
        "executemany(sql: str, parameters: Sequence[tuple])\n",
        "# exemplo com ? placeholders\n",
        "rows = [(\"queijo\", 4.5), (\"azeitona\", 1)]\n",
        "cur.executemany(\"INSERT INTO data VALUES(?, ?)\", rows)\n",
        "```\n",
        "* `executescript`: Permite executar scripts sql.\n",
        "```python\n",
        "executescript(sql_script: str)\n",
        "#exemplo\n",
        "cur.executescript(\"\"\"\n",
        "    BEGIN;\n",
        "    CREATE TABLE person(firstname, lastname, age);\n",
        "    CREATE TABLE book(title, author, published);\n",
        "    COMMIT;\n",
        "\"\"\")\n",
        "```\n",
        "\n",
        "> **`rowcount`**: Atributo da classe `Cursor` com o número de linhas afetadas por instruções `INSERT`, `UPDATE`, `DELETE` ou `REPLACE`. É atualizado pelos méetodos `execute()` e `executemany()`. Se nenhuma linha foi afetada pela operação, é `-1`.\n",
        "\n",
        "> ❗ Instrução `INSERT` ❗ abre uma [transação](https://docs.python.org/3/library/sqlite3.html#sqlite3-controlling-transactions) que fica pendente até que se invoque `connection.commit()`. Só então as atualizações são salvas no banco de dados. Caso nenhuma transação esteja pendente, o commit não faz nada.\n"
      ]
    },
    {
      "cell_type": "code",
      "execution_count": null,
      "metadata": {
        "id": "ZqeW5rBZcKLf"
      },
      "outputs": [],
      "source": [
        "def execute_query(connection, query):\n",
        "    cursor = connection.cursor()\n",
        "    try:\n",
        "        cursor.execute(query)\n",
        "\n",
        "        # commit necessário para INSERT\n",
        "        connection.commit() ###\n",
        "\n",
        "        print(f\"Query executada.\")\n",
        "        if cursor.rowcount != -1:\n",
        "            print(f\"{cursor.rowcount} linha(s) afetadas\")\n",
        "\n",
        "    except Error as e:\n",
        "        print(f\"Erro: '{e}'\")"
      ]
    },
    {
      "cell_type": "code",
      "execution_count": null,
      "metadata": {
        "colab": {
          "base_uri": "https://localhost:8080/"
        },
        "id": "6mwP6NVl2ryY",
        "outputId": "3236215c-4d8e-454f-b4ff-453f0c4ac5dd"
      },
      "outputs": [
        {
          "output_type": "stream",
          "name": "stdout",
          "text": [
            "Query executada.\n",
            "Query executada.\n",
            "Query executada.\n"
          ]
        }
      ],
      "source": [
        "# Cria a tabela produto #\n",
        "create_produto_table = \\\n",
        "\"\"\"CREATE TABLE produto (\n",
        "    id_produto INTEGER PRIMARY KEY AUTOINCREMENT,\n",
        "    tipo VARCHAR(50),\n",
        "    desc_item VARCHAR(100),\n",
        "    vl_preco DECIMAL(10, 2)\n",
        ");\"\"\"\n",
        "\n",
        "execute_query(connection, create_produto_table)\n",
        "#########################\n",
        "\n",
        "# Cria a tabela pedido #\n",
        "create_pedido_table = \\\n",
        "\"\"\"CREATE TABLE pedido (\n",
        "    id_pedido INTEGER PRIMARY KEY AUTOINCREMENT,\n",
        "    dt_pedido DATE,\n",
        "    fl_ketchup BOOLEAN,\n",
        "    desc_uf CHAR(2),\n",
        "    txt_recado TEXT\n",
        ");\"\"\"\n",
        "\n",
        "execute_query(connection, create_pedido_table)\n",
        "#########################\n",
        "\n",
        "# Cria a tabela item_pedido #\n",
        "create_item_pedido_table = \\\n",
        "\"\"\"CREATE TABLE item_pedido (\n",
        "    id_pedido INT NOT NULL,\n",
        "    id_produto INT NOT NULL,\n",
        "    quantidade INT NOT NULL,\n",
        "    PRIMARY KEY (id_pedido, id_produto),\n",
        "    FOREIGN KEY (id_pedido) REFERENCES pedido(id_pedido),\n",
        "    FOREIGN KEY (id_produto) REFERENCES produto(id_produto)\n",
        ");\"\"\"\n",
        "execute_query(connection, create_item_pedido_table)\n",
        "#########################"
      ]
    },
    {
      "cell_type": "code",
      "execution_count": null,
      "metadata": {
        "colab": {
          "base_uri": "https://localhost:8080/"
        },
        "id": "iKN5peOAdcxW",
        "outputId": "3b7f4280-4696-46ce-dd6f-fe73b3943b6f"
      },
      "outputs": [
        {
          "output_type": "stream",
          "name": "stdout",
          "text": [
            "Query executada.\n",
            "5 linha(s) afetadas\n",
            "Query executada.\n",
            "1 linha(s) afetadas\n"
          ]
        }
      ],
      "source": [
        "## Inserindo registros manualmente\n",
        "\n",
        "# Inserindo produto #\n",
        "insert_produto = \\\n",
        "\"\"\"INSERT INTO\n",
        "produto (tipo, desc_item, vl_preco)\n",
        "VALUES\n",
        "('ingrediente', 'camarão', 6),\n",
        "('massa', 'tradicional', 9.25),\n",
        "('borda', 'tradicional', 0),\n",
        "('queijo', 'muçarela', 4),\n",
        "('bebida', 'refrigerante', 5);\n",
        "\"\"\"\n",
        "execute_query(connection, insert_produto)\n",
        "######################\n",
        "\n",
        "# Inserindo pedido\n",
        "insert_pedido = \\\n",
        "\"\"\"INSERT INTO\n",
        "pedido (dt_pedido, fl_ketchup, desc_uf, txt_recado)\n",
        "VALUES\n",
        "('2023-06-01', TRUE, 'MG', 'Capricha no queijo!');\n",
        "\"\"\"\n",
        "execute_query(connection, insert_pedido)\n",
        "######################"
      ]
    },
    {
      "cell_type": "code",
      "source": [
        "# Inserindo item_pedido\n",
        "itens = (\n",
        "    {'id_pedido': 1, 'id_produto': 2, 'qtd': 1},\n",
        "    {'id_pedido': 1, 'id_produto': 3, 'qtd': 1},\n",
        "    {'id_pedido': 1, 'id_produto': 1, 'qtd': 1},\n",
        "    {'id_pedido': 1, 'id_produto': 4, 'qtd': 2},\n",
        "    {'id_pedido': 1, 'id_produto': 5, 'qtd': 3}\n",
        ")\n",
        "\n",
        "insert_item_pedido = \\\n",
        "\"\"\"INSERT INTO item_pedido (id_pedido, id_produto, quantidade)\n",
        "VALUES(:id_pedido, :id_produto, :qtd);\"\"\"\n",
        "\n",
        "cursor = connection.cursor()\n",
        "cursor.executemany(insert_item_pedido, itens)\n",
        "connection.commit()\n",
        "cursor.close()"
      ],
      "metadata": {
        "id": "M4Qf26s6T78N"
      },
      "execution_count": null,
      "outputs": []
    },
    {
      "cell_type": "markdown",
      "metadata": {
        "id": "SmT-oYskk8ae"
      },
      "source": [
        "### Executando queries de leitura\n",
        "\n",
        "Após executar uma instrução de consulta ao banco através do objeto `Cursor`, o resultado da consulta pode ser recuperado invocando um dos seguintes métodos do cursor:\n",
        "\n",
        "* `fetchone`: Retorna a próxima linha do resultado da consulta. Cada nova chamada a fetchone() retorna a linha subsequente (como um cursor avançando após ler uma linha). Seu retorno é uma única tupla com os dados do registro.\n",
        "```python\n",
        "fetchone() -> tuple\n",
        "```\n",
        "* `fetchall`: Retorna uma lista de tuplas com todas as linhas resultantes da consulta. Cada tupla é um registro do banco.\n",
        "```python\n",
        "fetchall() -> list[tuple]\n",
        "```\n",
        "* `fetchmany`: Retorna o próximo conjunto de linhas da consulta, de acordo com parâmetro `size`. Se `size` não for especificado, o valor padrão é `cursor.arraysize`. Também retorna uma lista de tuplas.\n",
        "```python\n",
        "fetchmany(size: int = cur.arraysize) -> list[tuple]\n",
        "```"
      ]
    },
    {
      "cell_type": "code",
      "execution_count": null,
      "metadata": {
        "id": "1plkYvzVk8F5"
      },
      "outputs": [],
      "source": [
        "def execute_read_query(connection, query):\n",
        "    cursor = connection.cursor()\n",
        "    result = None\n",
        "    try:\n",
        "        cursor.execute(query)\n",
        "        result = cursor.fetchall()\n",
        "\n",
        "        return result\n",
        "    except Error as e:\n",
        "        print(f\"Erro: '{e}'\")"
      ]
    },
    {
      "cell_type": "markdown",
      "metadata": {
        "id": "oZmXGZznmV20"
      },
      "source": [
        "A primeira consulta que faremos será a verificação das tabelas que criamos. Todo dados SQLite tem uma \"tabela de esquema\" que armazena o esquema desse banco de dados. A tabela é representada a seguir e você pode ver mais detalhes sobre ela na [documentação da API](https://www.sqlite.org/schematab.html).\n",
        "```\n",
        "CREATE TABLE sqlite_schema(\n",
        "  type text,\n",
        "  name text,\n",
        "  tbl_name text,\n",
        "  rootpage integer,\n",
        "  sql text\n",
        ");\n",
        "```\n",
        "\n",
        "Vamos criar uma query para ler o nome de todas as tabelas registradas no esquema:\n",
        "```sql\n",
        "SELECT name FROM sqlite_master WHERE type='table';\n",
        "```\n",
        "\n",
        "Note no resultado que além das tabelas que nós criamos, também existe uma tabela extra:\n",
        "* [`sqlite_sequence`](https://www.sqlite.org/fileformat2.html#seqtab): É uma tabela interna para implementar `AUTOINCREMENT`. É criada automaticamente sempre que qualquer tabela comum com uma chave primária inteira AUTOINCREMENT é criada. Uma vez criada, existirá na tabela `sqlite_schema` para sempre; não pode ser descartada."
      ]
    },
    {
      "cell_type": "code",
      "execution_count": null,
      "metadata": {
        "colab": {
          "base_uri": "https://localhost:8080/"
        },
        "id": "yOW7dOujlw2Y",
        "outputId": "8d1b853d-8b3f-4089-a49f-0a74bdbe8334"
      },
      "outputs": [
        {
          "output_type": "stream",
          "name": "stdout",
          "text": [
            "[('produto',), ('sqlite_sequence',), ('pedido',), ('item_pedido',)] \n",
            "\n",
            "produto: [(1, 'ingrediente', 'camarão', 6), (2, 'massa', 'tradicional', 9.25), (3, 'borda', 'tradicional', 0), (4, 'queijo', 'muçarela', 4), (5, 'bebida', 'refrigerante', 5)]\n",
            "sqlite_sequence: [('produto', 5), ('pedido', 1)]\n",
            "pedido: [(1, '2023-06-01', 1, 'MG', 'Capricha no queijo!')]\n",
            "item_pedido: [(1, 2, 1), (1, 3, 1), (1, 1, 1), (1, 4, 2), (1, 5, 3)]\n"
          ]
        }
      ],
      "source": [
        "select_table_names = \\\n",
        "\"SELECT name FROM sqlite_master WHERE type='table';\"\n",
        "tables = execute_read_query(connection, select_table_names)\n",
        "print(tables, '\\n')\n",
        "\n",
        "for table in tables:\n",
        "    select_all = f\"SELECT * FROM {table[0]}\"\n",
        "    res = execute_read_query(connection, select_all)\n",
        "    print(f\"{table[0]}: {res}\")"
      ]
    },
    {
      "cell_type": "markdown",
      "source": [
        "### Dropando...\n",
        "\n",
        "A seguir vamos dropar todos os registros de todas as tabelas que criamos manualmente, para a seguir conhecer uma maneira mais interessante de carregamento de dados. Não façam isso em ~casa~ projetos reais 😆"
      ],
      "metadata": {
        "id": "crsr1SLenedq"
      }
    },
    {
      "cell_type": "code",
      "source": [
        "execute_query(connection, \"DELETE FROM item_pedido;\")\n",
        "execute_query(connection, \"DELETE FROM pedido;\")\n",
        "execute_query(connection, \"DELETE FROM produto;\")"
      ],
      "metadata": {
        "colab": {
          "base_uri": "https://localhost:8080/"
        },
        "id": "_1KNv9rSnesZ",
        "outputId": "0b3c3deb-1c9e-44d8-fc8d-502da054c4dc"
      },
      "execution_count": null,
      "outputs": [
        {
          "output_type": "stream",
          "name": "stdout",
          "text": [
            "Query executada.\n",
            "5 linha(s) afetadas\n",
            "Query executada.\n",
            "1 linha(s) afetadas\n",
            "Query executada.\n",
            "5 linha(s) afetadas\n"
          ]
        }
      ]
    },
    {
      "cell_type": "markdown",
      "source": [
        "### Carregando arquivos CSV 🐼\n",
        "\n",
        "Antes de tudo, baixe a versão modificada dos dados do Pizza Query."
      ],
      "metadata": {
        "id": "qMsjh2LnsqjM"
      }
    },
    {
      "cell_type": "code",
      "source": [
        "! wget https://raw.githubusercontent.com/camilalaranjeira/python-intermediario/main/pizza_query/item_pedido.csv\n",
        "! wget https://raw.githubusercontent.com/camilalaranjeira/python-intermediario/main/pizza_query/pedido.csv\n",
        "! wget https://raw.githubusercontent.com/camilalaranjeira/python-intermediario/main/pizza_query/produto.csv"
      ],
      "metadata": {
        "id": "kXJEOqVYshns",
        "colab": {
          "base_uri": "https://localhost:8080/"
        },
        "outputId": "1412c2bd-f07a-436f-ba33-81794d2dcc91"
      },
      "execution_count": null,
      "outputs": [
        {
          "output_type": "stream",
          "name": "stdout",
          "text": [
            "--2024-09-05 20:10:15--  https://raw.githubusercontent.com/camilalaranjeira/python-intermediario/main/pizza_query/item_pedido.csv\n",
            "Resolving raw.githubusercontent.com (raw.githubusercontent.com)... 185.199.109.133, 185.199.108.133, 185.199.110.133, ...\n",
            "Connecting to raw.githubusercontent.com (raw.githubusercontent.com)|185.199.109.133|:443... connected.\n",
            "HTTP request sent, awaiting response... 200 OK\n",
            "Length: 103557 (101K) [text/plain]\n",
            "Saving to: ‘item_pedido.csv’\n",
            "\n",
            "item_pedido.csv     100%[===================>] 101.13K  --.-KB/s    in 0.02s   \n",
            "\n",
            "2024-09-05 20:10:16 (4.08 MB/s) - ‘item_pedido.csv’ saved [103557/103557]\n",
            "\n",
            "--2024-09-05 20:10:16--  https://raw.githubusercontent.com/camilalaranjeira/python-intermediario/main/pizza_query/pedido.csv\n",
            "Resolving raw.githubusercontent.com (raw.githubusercontent.com)... 185.199.109.133, 185.199.111.133, 185.199.110.133, ...\n",
            "Connecting to raw.githubusercontent.com (raw.githubusercontent.com)|185.199.109.133|:443... connected.\n",
            "HTTP request sent, awaiting response... 200 OK\n",
            "Length: 48218 (47K) [text/plain]\n",
            "Saving to: ‘pedido.csv’\n",
            "\n",
            "pedido.csv          100%[===================>]  47.09K  --.-KB/s    in 0.01s   \n",
            "\n",
            "2024-09-05 20:10:16 (3.75 MB/s) - ‘pedido.csv’ saved [48218/48218]\n",
            "\n",
            "--2024-09-05 20:10:16--  https://raw.githubusercontent.com/camilalaranjeira/python-intermediario/main/pizza_query/produto.csv\n",
            "Resolving raw.githubusercontent.com (raw.githubusercontent.com)... 185.199.108.133, 185.199.109.133, 185.199.110.133, ...\n",
            "Connecting to raw.githubusercontent.com (raw.githubusercontent.com)|185.199.108.133|:443... connected.\n",
            "HTTP request sent, awaiting response... 200 OK\n",
            "Length: 2456 (2.4K) [text/plain]\n",
            "Saving to: ‘produto.csv’\n",
            "\n",
            "produto.csv         100%[===================>]   2.40K  --.-KB/s    in 0s      \n",
            "\n",
            "2024-09-05 20:10:16 (33.1 MB/s) - ‘produto.csv’ saved [2456/2456]\n",
            "\n"
          ]
        }
      ]
    },
    {
      "cell_type": "markdown",
      "source": [
        "Para carregar tabelas em bancos sqlite, o Pandas entra em cena com o método `.to_sql()`. Ele facilita a exportação de DataFrames para bancos de dados SQL [(veja a documentação)](https://pandas.pydata.org/docs/reference/api/pandas.DataFrame.to_sql.html). Esse método é compatível tanto com conexões do sqlite3 quanto os bancos suportados pelo SQLAlchemy. A seguir está um exemplo de chamada com os principais parâmetros.\n",
        "\n",
        "```python\n",
        "df.to_sql(table_name, connection, if_exists='fail', index=False)\n",
        "```\n",
        "\n",
        "O parâmetro `if_exists` controla o comportamento caso a tabela já exista no banco de dados, podendo assumir os seguintes valores:\n",
        "\n",
        "* `'fail'`: Gera um erro se a tabela já existir (padrão).\n",
        "* `'replace'`: Remove a tabela existente antes de inserir os dados.\n",
        "* `'append'`: Adiciona os dados ao final da tabela existente."
      ],
      "metadata": {
        "id": "La7sXdHuoGp6"
      }
    },
    {
      "cell_type": "code",
      "source": [
        "import pandas as pd\n",
        "\n",
        "df_pedido = pd.read_csv(f'pedido.csv')\n",
        "df_pedido.to_sql('pedido', connection, if_exists='append', index=False)\n",
        "\n",
        "count_rows = \"SELECT COUNT(id_pedido) as count_id FROM pedido;\"\n",
        "print(execute_read_query(connection, count_rows))\n",
        "\n",
        "select_all = f\"SELECT * FROM pedido WHERE id_pedido < 5;\"\n",
        "execute_read_query(connection, select_all)"
      ],
      "metadata": {
        "colab": {
          "base_uri": "https://localhost:8080/"
        },
        "id": "6j5-KkoBoGe8",
        "outputId": "e78e9f07-f075-4652-fcad-6967562a9a96"
      },
      "execution_count": null,
      "outputs": [
        {
          "output_type": "stream",
          "name": "stdout",
          "text": [
            "[(1106,)]\n"
          ]
        },
        {
          "output_type": "execute_result",
          "data": {
            "text/plain": [
              "[(0, '2023-05-11', None, 'GO', None),\n",
              " (1, '2023-05-11', None, 'PR', 'Aquela pizza perfeita! :-D'),\n",
              " (2, '2023-05-11', None, 'SP', 'Muito obrigado!!'),\n",
              " (3, '2023-05-11', None, 'SP', None),\n",
              " (4, '2023-05-11', None, 'RS', 'Capricha no peperoni')]"
            ]
          },
          "metadata": {},
          "execution_count": 7
        }
      ]
    },
    {
      "cell_type": "markdown",
      "source": [
        "Mas cuidado com coisas automáticas! Ao criar tabelas com o `to_sql` (por exemplo definindo `if_exists='replace'`) os tipos de dados serão inferidos automaticamente e podem não ser tipos desejáveis para as regras do banco.\n",
        "\n",
        "Preste atenção na tabela Pedido que criamos manualmente. Em seguida descomente a linha da célula a seguir e execute novamente. Note que os tipos de dados escolhidos tendem a ser mais genéricos, já que não existe uma compreensão de modelagem do banco."
      ],
      "metadata": {
        "id": "4mvhMrLfcdPM"
      }
    },
    {
      "cell_type": "code",
      "source": [
        "df_pedido.to_sql('pedido', connection, if_exists='replace', index=False)\n",
        "res = execute_read_query(connection, \"SELECT sql FROM sqlite_schema\")\n",
        "for r in res:\n",
        "    print(r[0])"
      ],
      "metadata": {
        "colab": {
          "base_uri": "https://localhost:8080/"
        },
        "id": "twASQYfpbWsG",
        "outputId": "caa33d30-20df-40c7-a858-0709cff3c3a7"
      },
      "execution_count": null,
      "outputs": [
        {
          "output_type": "stream",
          "name": "stdout",
          "text": [
            "CREATE TABLE produto (\n",
            "    idProduto INTEGER PRIMARY KEY AUTOINCREMENT,\n",
            "    tipo VARCHAR(50),\n",
            "    descItem VARCHAR(100),\n",
            "    vlPreco DECIMAL(10, 2)\n",
            ")\n",
            "CREATE TABLE sqlite_sequence(name,seq)\n",
            "CREATE TABLE pedido (\n",
            "    idPedido INTEGER PRIMARY KEY AUTOINCREMENT,\n",
            "    dtPedido DATE,\n",
            "    flKetchup BOOLEAN,\n",
            "    descUF CHAR(2),\n",
            "    txtRecado TEXT\n",
            ")\n",
            "CREATE TABLE item_pedido (\n",
            "    idPedido INT NOT NULL,\n",
            "    idProduto INT NOT NULL,\n",
            "    quantidade INT NOT NULL,\n",
            "    PRIMARY KEY (idPedido, idProduto),\n",
            "    FOREIGN KEY (idPedido) REFERENCES pedido(idPedido),\n",
            "    FOREIGN KEY (idProduto) REFERENCES produto(idProduto)\n",
            ")\n",
            "None\n"
          ]
        }
      ]
    },
    {
      "cell_type": "markdown",
      "source": [
        "O Pandas é uma interface de comunicação com bancos de dados SQL não só na criação e/ou preenchimento de tabelas, como também permitindo executar queries. A vantagem nesse caso é que o retorno da query é estruturado como um objeto tipo DataFrame que pode ser trabalhando posteriormente no Python"
      ],
      "metadata": {
        "id": "BhZWaMMmYwpo"
      }
    },
    {
      "cell_type": "code",
      "source": [
        "query=\"\"\"\n",
        "SELECT desc_uf, COUNT(*) as count_pedidos\n",
        "FROM pedido\n",
        "GROUP BY desc_uf\n",
        "ORDER BY count_pedidos DESC\n",
        "LIMIT 5\n",
        "\"\"\"\n",
        "pd.read_sql_query(query, connection)"
      ],
      "metadata": {
        "id": "lKsimekAv3rt",
        "colab": {
          "base_uri": "https://localhost:8080/",
          "height": 204
        },
        "outputId": "22f0d6a5-4765-4d8c-908b-b2194ce45929"
      },
      "execution_count": null,
      "outputs": [
        {
          "output_type": "execute_result",
          "data": {
            "text/plain": [
              "  descUF  count_pedidos\n",
              "0     SP            395\n",
              "1     RJ            103\n",
              "2     MG             92\n",
              "3     PR             76\n",
              "4     RS             50"
            ],
            "text/html": [
              "\n",
              "  <div id=\"df-23dfe571-ae37-4d13-8ba6-991548d9cec8\" class=\"colab-df-container\">\n",
              "    <div>\n",
              "<style scoped>\n",
              "    .dataframe tbody tr th:only-of-type {\n",
              "        vertical-align: middle;\n",
              "    }\n",
              "\n",
              "    .dataframe tbody tr th {\n",
              "        vertical-align: top;\n",
              "    }\n",
              "\n",
              "    .dataframe thead th {\n",
              "        text-align: right;\n",
              "    }\n",
              "</style>\n",
              "<table border=\"1\" class=\"dataframe\">\n",
              "  <thead>\n",
              "    <tr style=\"text-align: right;\">\n",
              "      <th></th>\n",
              "      <th>descUF</th>\n",
              "      <th>count_pedidos</th>\n",
              "    </tr>\n",
              "  </thead>\n",
              "  <tbody>\n",
              "    <tr>\n",
              "      <th>0</th>\n",
              "      <td>SP</td>\n",
              "      <td>395</td>\n",
              "    </tr>\n",
              "    <tr>\n",
              "      <th>1</th>\n",
              "      <td>RJ</td>\n",
              "      <td>103</td>\n",
              "    </tr>\n",
              "    <tr>\n",
              "      <th>2</th>\n",
              "      <td>MG</td>\n",
              "      <td>92</td>\n",
              "    </tr>\n",
              "    <tr>\n",
              "      <th>3</th>\n",
              "      <td>PR</td>\n",
              "      <td>76</td>\n",
              "    </tr>\n",
              "    <tr>\n",
              "      <th>4</th>\n",
              "      <td>RS</td>\n",
              "      <td>50</td>\n",
              "    </tr>\n",
              "  </tbody>\n",
              "</table>\n",
              "</div>\n",
              "    <div class=\"colab-df-buttons\">\n",
              "\n",
              "  <div class=\"colab-df-container\">\n",
              "    <button class=\"colab-df-convert\" onclick=\"convertToInteractive('df-23dfe571-ae37-4d13-8ba6-991548d9cec8')\"\n",
              "            title=\"Convert this dataframe to an interactive table.\"\n",
              "            style=\"display:none;\">\n",
              "\n",
              "  <svg xmlns=\"http://www.w3.org/2000/svg\" height=\"24px\" viewBox=\"0 -960 960 960\">\n",
              "    <path d=\"M120-120v-720h720v720H120Zm60-500h600v-160H180v160Zm220 220h160v-160H400v160Zm0 220h160v-160H400v160ZM180-400h160v-160H180v160Zm440 0h160v-160H620v160ZM180-180h160v-160H180v160Zm440 0h160v-160H620v160Z\"/>\n",
              "  </svg>\n",
              "    </button>\n",
              "\n",
              "  <style>\n",
              "    .colab-df-container {\n",
              "      display:flex;\n",
              "      gap: 12px;\n",
              "    }\n",
              "\n",
              "    .colab-df-convert {\n",
              "      background-color: #E8F0FE;\n",
              "      border: none;\n",
              "      border-radius: 50%;\n",
              "      cursor: pointer;\n",
              "      display: none;\n",
              "      fill: #1967D2;\n",
              "      height: 32px;\n",
              "      padding: 0 0 0 0;\n",
              "      width: 32px;\n",
              "    }\n",
              "\n",
              "    .colab-df-convert:hover {\n",
              "      background-color: #E2EBFA;\n",
              "      box-shadow: 0px 1px 2px rgba(60, 64, 67, 0.3), 0px 1px 3px 1px rgba(60, 64, 67, 0.15);\n",
              "      fill: #174EA6;\n",
              "    }\n",
              "\n",
              "    .colab-df-buttons div {\n",
              "      margin-bottom: 4px;\n",
              "    }\n",
              "\n",
              "    [theme=dark] .colab-df-convert {\n",
              "      background-color: #3B4455;\n",
              "      fill: #D2E3FC;\n",
              "    }\n",
              "\n",
              "    [theme=dark] .colab-df-convert:hover {\n",
              "      background-color: #434B5C;\n",
              "      box-shadow: 0px 1px 3px 1px rgba(0, 0, 0, 0.15);\n",
              "      filter: drop-shadow(0px 1px 2px rgba(0, 0, 0, 0.3));\n",
              "      fill: #FFFFFF;\n",
              "    }\n",
              "  </style>\n",
              "\n",
              "    <script>\n",
              "      const buttonEl =\n",
              "        document.querySelector('#df-23dfe571-ae37-4d13-8ba6-991548d9cec8 button.colab-df-convert');\n",
              "      buttonEl.style.display =\n",
              "        google.colab.kernel.accessAllowed ? 'block' : 'none';\n",
              "\n",
              "      async function convertToInteractive(key) {\n",
              "        const element = document.querySelector('#df-23dfe571-ae37-4d13-8ba6-991548d9cec8');\n",
              "        const dataTable =\n",
              "          await google.colab.kernel.invokeFunction('convertToInteractive',\n",
              "                                                    [key], {});\n",
              "        if (!dataTable) return;\n",
              "\n",
              "        const docLinkHtml = 'Like what you see? Visit the ' +\n",
              "          '<a target=\"_blank\" href=https://colab.research.google.com/notebooks/data_table.ipynb>data table notebook</a>'\n",
              "          + ' to learn more about interactive tables.';\n",
              "        element.innerHTML = '';\n",
              "        dataTable['output_type'] = 'display_data';\n",
              "        await google.colab.output.renderOutput(dataTable, element);\n",
              "        const docLink = document.createElement('div');\n",
              "        docLink.innerHTML = docLinkHtml;\n",
              "        element.appendChild(docLink);\n",
              "      }\n",
              "    </script>\n",
              "  </div>\n",
              "\n",
              "\n",
              "<div id=\"df-b7569794-e618-4fef-b696-32345594558c\">\n",
              "  <button class=\"colab-df-quickchart\" onclick=\"quickchart('df-b7569794-e618-4fef-b696-32345594558c')\"\n",
              "            title=\"Suggest charts\"\n",
              "            style=\"display:none;\">\n",
              "\n",
              "<svg xmlns=\"http://www.w3.org/2000/svg\" height=\"24px\"viewBox=\"0 0 24 24\"\n",
              "     width=\"24px\">\n",
              "    <g>\n",
              "        <path d=\"M19 3H5c-1.1 0-2 .9-2 2v14c0 1.1.9 2 2 2h14c1.1 0 2-.9 2-2V5c0-1.1-.9-2-2-2zM9 17H7v-7h2v7zm4 0h-2V7h2v10zm4 0h-2v-4h2v4z\"/>\n",
              "    </g>\n",
              "</svg>\n",
              "  </button>\n",
              "\n",
              "<style>\n",
              "  .colab-df-quickchart {\n",
              "      --bg-color: #E8F0FE;\n",
              "      --fill-color: #1967D2;\n",
              "      --hover-bg-color: #E2EBFA;\n",
              "      --hover-fill-color: #174EA6;\n",
              "      --disabled-fill-color: #AAA;\n",
              "      --disabled-bg-color: #DDD;\n",
              "  }\n",
              "\n",
              "  [theme=dark] .colab-df-quickchart {\n",
              "      --bg-color: #3B4455;\n",
              "      --fill-color: #D2E3FC;\n",
              "      --hover-bg-color: #434B5C;\n",
              "      --hover-fill-color: #FFFFFF;\n",
              "      --disabled-bg-color: #3B4455;\n",
              "      --disabled-fill-color: #666;\n",
              "  }\n",
              "\n",
              "  .colab-df-quickchart {\n",
              "    background-color: var(--bg-color);\n",
              "    border: none;\n",
              "    border-radius: 50%;\n",
              "    cursor: pointer;\n",
              "    display: none;\n",
              "    fill: var(--fill-color);\n",
              "    height: 32px;\n",
              "    padding: 0;\n",
              "    width: 32px;\n",
              "  }\n",
              "\n",
              "  .colab-df-quickchart:hover {\n",
              "    background-color: var(--hover-bg-color);\n",
              "    box-shadow: 0 1px 2px rgba(60, 64, 67, 0.3), 0 1px 3px 1px rgba(60, 64, 67, 0.15);\n",
              "    fill: var(--button-hover-fill-color);\n",
              "  }\n",
              "\n",
              "  .colab-df-quickchart-complete:disabled,\n",
              "  .colab-df-quickchart-complete:disabled:hover {\n",
              "    background-color: var(--disabled-bg-color);\n",
              "    fill: var(--disabled-fill-color);\n",
              "    box-shadow: none;\n",
              "  }\n",
              "\n",
              "  .colab-df-spinner {\n",
              "    border: 2px solid var(--fill-color);\n",
              "    border-color: transparent;\n",
              "    border-bottom-color: var(--fill-color);\n",
              "    animation:\n",
              "      spin 1s steps(1) infinite;\n",
              "  }\n",
              "\n",
              "  @keyframes spin {\n",
              "    0% {\n",
              "      border-color: transparent;\n",
              "      border-bottom-color: var(--fill-color);\n",
              "      border-left-color: var(--fill-color);\n",
              "    }\n",
              "    20% {\n",
              "      border-color: transparent;\n",
              "      border-left-color: var(--fill-color);\n",
              "      border-top-color: var(--fill-color);\n",
              "    }\n",
              "    30% {\n",
              "      border-color: transparent;\n",
              "      border-left-color: var(--fill-color);\n",
              "      border-top-color: var(--fill-color);\n",
              "      border-right-color: var(--fill-color);\n",
              "    }\n",
              "    40% {\n",
              "      border-color: transparent;\n",
              "      border-right-color: var(--fill-color);\n",
              "      border-top-color: var(--fill-color);\n",
              "    }\n",
              "    60% {\n",
              "      border-color: transparent;\n",
              "      border-right-color: var(--fill-color);\n",
              "    }\n",
              "    80% {\n",
              "      border-color: transparent;\n",
              "      border-right-color: var(--fill-color);\n",
              "      border-bottom-color: var(--fill-color);\n",
              "    }\n",
              "    90% {\n",
              "      border-color: transparent;\n",
              "      border-bottom-color: var(--fill-color);\n",
              "    }\n",
              "  }\n",
              "</style>\n",
              "\n",
              "  <script>\n",
              "    async function quickchart(key) {\n",
              "      const quickchartButtonEl =\n",
              "        document.querySelector('#' + key + ' button');\n",
              "      quickchartButtonEl.disabled = true;  // To prevent multiple clicks.\n",
              "      quickchartButtonEl.classList.add('colab-df-spinner');\n",
              "      try {\n",
              "        const charts = await google.colab.kernel.invokeFunction(\n",
              "            'suggestCharts', [key], {});\n",
              "      } catch (error) {\n",
              "        console.error('Error during call to suggestCharts:', error);\n",
              "      }\n",
              "      quickchartButtonEl.classList.remove('colab-df-spinner');\n",
              "      quickchartButtonEl.classList.add('colab-df-quickchart-complete');\n",
              "    }\n",
              "    (() => {\n",
              "      let quickchartButtonEl =\n",
              "        document.querySelector('#df-b7569794-e618-4fef-b696-32345594558c button');\n",
              "      quickchartButtonEl.style.display =\n",
              "        google.colab.kernel.accessAllowed ? 'block' : 'none';\n",
              "    })();\n",
              "  </script>\n",
              "</div>\n",
              "\n",
              "    </div>\n",
              "  </div>\n"
            ],
            "application/vnd.google.colaboratory.intrinsic+json": {
              "type": "dataframe",
              "summary": "{\n  \"name\": \"pd\",\n  \"rows\": 5,\n  \"fields\": [\n    {\n      \"column\": \"descUF\",\n      \"properties\": {\n        \"dtype\": \"string\",\n        \"num_unique_values\": 5,\n        \"samples\": [\n          \"RJ\",\n          \"RS\",\n          \"MG\"\n        ],\n        \"semantic_type\": \"\",\n        \"description\": \"\"\n      }\n    },\n    {\n      \"column\": \"count_pedidos\",\n      \"properties\": {\n        \"dtype\": \"number\",\n        \"std\": 142,\n        \"min\": 50,\n        \"max\": 395,\n        \"num_unique_values\": 5,\n        \"samples\": [\n          103,\n          50,\n          92\n        ],\n        \"semantic_type\": \"\",\n        \"description\": \"\"\n      }\n    }\n  ]\n}"
            }
          },
          "metadata": {},
          "execution_count": 40
        }
      ]
    },
    {
      "cell_type": "markdown",
      "metadata": {
        "id": "SMtmac1FaoMI"
      },
      "source": [
        "## MySQL\n",
        "\n",
        "O MySQL é um sistema de gerenciamento de banco de dados cliente-servidor. Para seguir esta seção do notebook, é preciso ter um servidor MySQL ativo para se conectar. Abaixo estão instruções resumidas de como configurar um servidor MySQL local:\n",
        "\n",
        "#### No windows\n",
        "* [Baixe](https://dev.mysql.com/downloads/installer/) e instale o MySQL Server. Durante a instalação, você vai configurar uma senha para o usuário root. **Lembre-se dessa senha,** pois ela será necessária para acessar o servidor MySQL.\n",
        "* Inicie o MySQL Server. Ele geralmente inicia automaticamente após a instalação. Caso contrário, procure e inicie o serviço MySQL no painel de serviços do Windows.\n",
        "\n",
        "#### Sistemas Unix (Mac ou Linux)\n",
        "* Instalação: Durante a instalação, você vai configurar uma senha para o usuário root. **Lembre-se dessa senha,** pois ela será necessária para acessar o servidor MySQL.\n",
        "    * No Mac você pode usar o gerenciador de pacotes brew. No terminal execute:\n",
        "    ```\n",
        "    brew install mysql\n",
        "    ```\n",
        "    * No Linux (distribuições Debian) use o gerenciador de pacotes `apt-get`. No terminal execute:\n",
        "    ```\n",
        "    sudo apt-get install mysql-server\n",
        "    ```\n",
        "* Inicie o servidor MySQL no terminal:\n",
        "```\n",
        "sudo service mysql start\n",
        "```\n",
        "\n",
        "> ❗Atenção❗: Execute esse script em uma instância local do Jupyter para acessar o servidor local do MySQL.\n",
        "\n",
        "### Instale o `mysql-connector-python`\n",
        "* Developer guide: https://dev.mysql.com/doc/connector-python/en/"
      ]
    },
    {
      "cell_type": "code",
      "execution_count": null,
      "metadata": {
        "id": "4V4Pcic_aoAc",
        "colab": {
          "base_uri": "https://localhost:8080/"
        },
        "outputId": "4302ea0f-56fc-4dbc-d757-4af166bc624e"
      },
      "outputs": [
        {
          "output_type": "stream",
          "name": "stdout",
          "text": [
            "Collecting mysql-connector-python\n",
            "  Downloading mysql_connector_python-9.0.0-cp310-cp310-manylinux_2_17_x86_64.whl (19.3 MB)\n",
            "\u001b[2K     \u001b[90m━━━━━━━━━━━━━━━━━━━━━━━━━━━━━━━━━━━━━━━━\u001b[0m \u001b[32m19.3/19.3 MB\u001b[0m \u001b[31m44.4 MB/s\u001b[0m eta \u001b[36m0:00:00\u001b[0m\n",
            "\u001b[?25hInstalling collected packages: mysql-connector-python\n",
            "Successfully installed mysql-connector-python-9.0.0\n"
          ]
        }
      ],
      "source": [
        "! pip install mysql-connector-python"
      ]
    },
    {
      "cell_type": "markdown",
      "metadata": {
        "id": "ipMdzat8a1Cz"
      },
      "source": [
        "### Criando (e conectando ao) database\n",
        "\n",
        "Dividimos a criação e conexão ao banco de dados em três passos:\n",
        "* Conectar ao servidor MySQL sem especificar um banco de dados. Isso nos permite executar comandos a nível de servidor, como a criação de um novo banco de dados.\n",
        "* Usar a conexão para criar o novo banco de dados. Utilizamos uma função `execute_query` similar a que vimos com o módulo sqlite3.\n",
        "* Realizar um novo passo de conexão, agora especificando o banco de dados recém-criado. Isso nos permite executar operações diretamente no contexto do nosso banco."
      ]
    },
    {
      "cell_type": "code",
      "execution_count": null,
      "metadata": {
        "id": "MsEUrBNWatkl"
      },
      "outputs": [],
      "source": [
        "import mysql.connector\n",
        "from mysql.connector import Error\n",
        "\n",
        "def create_connection(host_name, user_name, user_password, db_name=None):\n",
        "    connection = None\n",
        "    try:\n",
        "        connection = mysql.connector.connect(\n",
        "            host=host_name,\n",
        "            user=user_name,\n",
        "            passwd=user_password,\n",
        "            database=db_name\n",
        "        )\n",
        "        print(\"Conexão bem sucedida\")\n",
        "    except Error as e:\n",
        "        print(f\"Erro: '{e}'\")\n",
        "\n",
        "    return connection\n",
        "\n",
        "# Passo 1: Conectar ao servidor MySQL sem especificar um banco de dados\n",
        "connection = create_connection(\"localhost\", \"root\", \"12345678\")"
      ]
    },
    {
      "cell_type": "code",
      "execution_count": null,
      "metadata": {
        "id": "_F9p9o1qa0q3"
      },
      "outputs": [],
      "source": [
        "def execute_query(connection, query):\n",
        "    cursor = connection.cursor()\n",
        "    try:\n",
        "        cursor.execute(query)\n",
        "        connection.commit()\n",
        "\n",
        "        print(f\"Query executada.\")\n",
        "        if cursor.rowcount != -1:\n",
        "            print(f\"{cursor.rowcount} linha(s) afetadas\")\n",
        "\n",
        "    except Error as e:\n",
        "        print(f\"Erro: '{e}' \")\n",
        "\n",
        "# Passo 2: Criar o banco de dados\n",
        "create_database_query = \"CREATE DATABASE pizza_app\"\n",
        "execute_query(connection, create_database_query)\n",
        "\n",
        "# Passo 3: Conectar novamente ao servidor, agora especificando o banco de dados\n",
        "connection = create_connection(\"localhost\", \"root\", \"12345678\", \"pizza_app\")"
      ]
    },
    {
      "cell_type": "markdown",
      "source": [
        "### Criando tabelas\n",
        "Com exceção de algumas variações de sintaxe (`AUTOINCREMENT` vs `AUTO_INCREMENT`, chaves estrangeiras nomeadas, etc.), a criação de tabelas é muito similar ao que fizemos com sqlite3."
      ],
      "metadata": {
        "id": "7axnmxqeoMBB"
      }
    },
    {
      "cell_type": "code",
      "execution_count": null,
      "metadata": {
        "id": "hVVzOHfPdBoy"
      },
      "outputs": [],
      "source": [
        "# Cria a tabela produto #\n",
        "create_produto_table = \\\n",
        "\"\"\"CREATE TABLE produto (\n",
        "    id_produto INT AUTO_INCREMENT,\n",
        "    tipo VARCHAR(50),\n",
        "    desc_item VARCHAR(100),\n",
        "    vl_preco DECIMAL(10, 2),\n",
        "    PRIMARY KEY (id_produto)\n",
        ");\"\"\"\n",
        "\n",
        "execute_query(connection, create_produto_table)\n",
        "#########################\n",
        "\n",
        "# Cria a tabela pedido #\n",
        "create_pedido_table = \\\n",
        "\"\"\"CREATE TABLE pedido (\n",
        "    id_pedido INT AUTO_INCREMENT,\n",
        "    dt_pedido DATE,\n",
        "    fl_ketchup BOOLEAN,\n",
        "    desc_uf CHAR(2),\n",
        "    txt_recado TEXT,\n",
        "    PRIMARY KEY (id_pedido)\n",
        ");\"\"\"\n",
        "\n",
        "execute_query(connection, create_pedido_table)\n",
        "#########################\n",
        "\n",
        "# Cria a tabela item_pedido #\n",
        "create_item_pedido_table = \\\n",
        "\"\"\"CREATE TABLE item_pedido (\n",
        "    id_pedido INT NOT NULL,\n",
        "    id_produto INT NOT NULL,\n",
        "    quantidade INT NOT NULL,\n",
        "    PRIMARY KEY (id_pedido, id_produto),\n",
        "    FOREIGN KEY fk_id_pedido  (id_pedido)  REFERENCES pedido(id_pedido),\n",
        "    FOREIGN KEY fk_id_produto (id_produto) REFERENCES produto(id_produto)\n",
        ");\"\"\"\n",
        "\n",
        "execute_query(connection, create_item_pedido_table)\n",
        "#########################"
      ]
    },
    {
      "cell_type": "code",
      "source": [
        "# Inserindo produto #\n",
        "insert_produto = \\\n",
        "\"\"\"INSERT INTO\n",
        "produto (tipo, desc_item, vl_preco)\n",
        "VALUES\n",
        "('ingrediente', 'camarão', 6),\n",
        "('massa', 'tradicional', 9.25),\n",
        "('borda', 'tradicional', 0),\n",
        "('queijo', 'muçarela', 4),\n",
        "('bebida', 'refrigerante', 5);\n",
        "\"\"\"\n",
        "execute_query(connection, insert_produto)\n",
        "######################"
      ],
      "metadata": {
        "id": "YnppcglSfG6V"
      },
      "execution_count": null,
      "outputs": []
    },
    {
      "cell_type": "markdown",
      "source": [
        "### Executando queries de leitura"
      ],
      "metadata": {
        "id": "76T9ku-Mppg5"
      }
    },
    {
      "cell_type": "code",
      "source": [
        "def execute_read_query(connection, query):\n",
        "    cursor = connection.cursor()\n",
        "    result = None\n",
        "    try:\n",
        "        cursor.execute(query)\n",
        "        result = cursor.fetchall()\n",
        "        return result\n",
        "    except Error as e:\n",
        "        print(f\"Erro: '{e}'\")"
      ],
      "metadata": {
        "id": "JTUu2BWSpp7D"
      },
      "execution_count": null,
      "outputs": []
    },
    {
      "cell_type": "code",
      "source": [
        "tables = execute_read_query(connection, \"SHOW TABLES;\")\n",
        "print(tables, '\\n')\n",
        "\n",
        "for table in tables:\n",
        "    select_all = f\"SELECT * FROM {table[0]}\"\n",
        "    res = execute_read_query(connection, select_all)\n",
        "    print(f\"{table[0]}: {res}\")"
      ],
      "metadata": {
        "id": "xkcua0uyps_M"
      },
      "execution_count": null,
      "outputs": []
    },
    {
      "cell_type": "markdown",
      "source": [
        "### Dropando..."
      ],
      "metadata": {
        "id": "5cbfK6dfpv6C"
      }
    },
    {
      "cell_type": "code",
      "source": [
        "execute_query(connection, \"DELETE FROM item_pedido;\")\n",
        "execute_query(connection, \"DELETE FROM pedido;\")\n",
        "execute_query(connection, \"DELETE FROM produto;\")"
      ],
      "metadata": {
        "id": "ArybHS3FpvzC"
      },
      "execution_count": null,
      "outputs": []
    }
  ],
  "metadata": {
    "colab": {
      "provenance": [],
      "collapsed_sections": [
        "-smItiZTdTM1",
        "SMtmac1FaoMI"
      ]
    },
    "kernelspec": {
      "display_name": "Python 3",
      "name": "python3"
    },
    "language_info": {
      "name": "python"
    }
  },
  "nbformat": 4,
  "nbformat_minor": 0
}