{
 "cells": [
  {
   "cell_type": "markdown",
   "metadata": {},
   "source": [
    "## Exercícios\n",
    "\n",
    "> Retirados de [learn-python: sqlalchemy_orm-questions](https://aviadr1.github.io/learn-advanced-python/11_db_access/exercise/sqlalchemy_orm-questions.html).\n",
    "\n",
    "#### Q1.\n",
    "\n",
    "Baixa e extraia o arquivo compactado com o banco de dados [Chinook database](https://www.sqlitetutorial.net/sqlite-sample-database/). Salve o arquivo `chinook.db` na mesma pasta deste script.\n",
    "* Link para baixar:\n",
    "\n",
    "\n",
    "<img width=500 src=https://www.sqlitetutorial.net/wp-content/uploads/2015/11/sqlite-sample-database-color.jpg>\n"
   ]
  },
  {
   "cell_type": "markdown",
   "metadata": {},
   "source": [
    "#### Q2.\n",
    "\n",
    "Leia o código e os comentários das células a seguir para entender como acessamos os modelos ORM de um banco já existente."
   ]
  },
  {
   "cell_type": "code",
   "execution_count": 1,
   "metadata": {},
   "outputs": [
    {
     "name": "stdout",
     "output_type": "stream",
     "text": [
      "albums\n",
      "['AlbumId', 'Title', 'ArtistId']\n",
      "[('AlbumId', Column('AlbumId', INTEGER(), table=<albums>, primary_key=True, nullable=False)), ('Title', Column('Title', NVARCHAR(length=160), table=<albums>, nullable=False)), ('ArtistId', Column('ArtistId', INTEGER(), ForeignKey('artists.ArtistId'), table=<albums>, nullable=False))]\n",
      "-------------------------\n",
      "artists\n",
      "['ArtistId', 'Name']\n",
      "[('ArtistId', Column('ArtistId', INTEGER(), table=<artists>, primary_key=True, nullable=False)), ('Name', Column('Name', NVARCHAR(length=120), table=<artists>))]\n",
      "-------------------------\n",
      "customers\n",
      "['CustomerId', 'FirstName', 'LastName', 'Company', 'Address', 'City', 'State', 'Country', 'PostalCode', 'Phone', 'Fax', 'Email', 'SupportRepId']\n",
      "[('CustomerId', Column('CustomerId', INTEGER(), table=<customers>, primary_key=True, nullable=False)), ('FirstName', Column('FirstName', NVARCHAR(length=40), table=<customers>, nullable=False)), ('LastName', Column('LastName', NVARCHAR(length=20), table=<customers>, nullable=False)), ('Company', Column('Company', NVARCHAR(length=80), table=<customers>)), ('Address', Column('Address', NVARCHAR(length=70), table=<customers>)), ('City', Column('City', NVARCHAR(length=40), table=<customers>)), ('State', Column('State', NVARCHAR(length=40), table=<customers>)), ('Country', Column('Country', NVARCHAR(length=40), table=<customers>)), ('PostalCode', Column('PostalCode', NVARCHAR(length=10), table=<customers>)), ('Phone', Column('Phone', NVARCHAR(length=24), table=<customers>)), ('Fax', Column('Fax', NVARCHAR(length=24), table=<customers>)), ('Email', Column('Email', NVARCHAR(length=60), table=<customers>, nullable=False)), ('SupportRepId', Column('SupportRepId', INTEGER(), ForeignKey('employees.EmployeeId'), table=<customers>))]\n",
      "-------------------------\n",
      "employees\n",
      "['EmployeeId', 'LastName', 'FirstName', 'Title', 'ReportsTo', 'BirthDate', 'HireDate', 'Address', 'City', 'State', 'Country', 'PostalCode', 'Phone', 'Fax', 'Email']\n",
      "[('EmployeeId', Column('EmployeeId', INTEGER(), table=<employees>, primary_key=True, nullable=False)), ('LastName', Column('LastName', NVARCHAR(length=20), table=<employees>, nullable=False)), ('FirstName', Column('FirstName', NVARCHAR(length=20), table=<employees>, nullable=False)), ('Title', Column('Title', NVARCHAR(length=30), table=<employees>)), ('ReportsTo', Column('ReportsTo', INTEGER(), ForeignKey('employees.EmployeeId'), table=<employees>)), ('BirthDate', Column('BirthDate', DATETIME(), table=<employees>)), ('HireDate', Column('HireDate', DATETIME(), table=<employees>)), ('Address', Column('Address', NVARCHAR(length=70), table=<employees>)), ('City', Column('City', NVARCHAR(length=40), table=<employees>)), ('State', Column('State', NVARCHAR(length=40), table=<employees>)), ('Country', Column('Country', NVARCHAR(length=40), table=<employees>)), ('PostalCode', Column('PostalCode', NVARCHAR(length=10), table=<employees>)), ('Phone', Column('Phone', NVARCHAR(length=24), table=<employees>)), ('Fax', Column('Fax', NVARCHAR(length=24), table=<employees>)), ('Email', Column('Email', NVARCHAR(length=60), table=<employees>))]\n",
      "-------------------------\n",
      "genres\n",
      "['GenreId', 'Name']\n",
      "[('GenreId', Column('GenreId', INTEGER(), table=<genres>, primary_key=True, nullable=False)), ('Name', Column('Name', NVARCHAR(length=120), table=<genres>))]\n",
      "-------------------------\n",
      "invoice_items\n",
      "['InvoiceLineId', 'InvoiceId', 'TrackId', 'UnitPrice', 'Quantity']\n",
      "[('InvoiceLineId', Column('InvoiceLineId', INTEGER(), table=<invoice_items>, primary_key=True, nullable=False)), ('InvoiceId', Column('InvoiceId', INTEGER(), ForeignKey('invoices.InvoiceId'), table=<invoice_items>, nullable=False)), ('TrackId', Column('TrackId', INTEGER(), ForeignKey('tracks.TrackId'), table=<invoice_items>, nullable=False)), ('UnitPrice', Column('UnitPrice', NUMERIC(precision=10, scale=2), table=<invoice_items>, nullable=False)), ('Quantity', Column('Quantity', INTEGER(), table=<invoice_items>, nullable=False))]\n",
      "-------------------------\n",
      "tracks\n",
      "['TrackId', 'Name', 'AlbumId', 'MediaTypeId', 'GenreId', 'Composer', 'Milliseconds', 'Bytes', 'UnitPrice']\n",
      "[('TrackId', Column('TrackId', INTEGER(), table=<tracks>, primary_key=True, nullable=False)), ('Name', Column('Name', NVARCHAR(length=200), table=<tracks>, nullable=False)), ('AlbumId', Column('AlbumId', INTEGER(), ForeignKey('albums.AlbumId'), table=<tracks>)), ('MediaTypeId', Column('MediaTypeId', INTEGER(), ForeignKey('media_types.MediaTypeId'), table=<tracks>, nullable=False)), ('GenreId', Column('GenreId', INTEGER(), ForeignKey('genres.GenreId'), table=<tracks>)), ('Composer', Column('Composer', NVARCHAR(length=220), table=<tracks>)), ('Milliseconds', Column('Milliseconds', INTEGER(), table=<tracks>, nullable=False)), ('Bytes', Column('Bytes', INTEGER(), table=<tracks>)), ('UnitPrice', Column('UnitPrice', NUMERIC(precision=10, scale=2), table=<tracks>, nullable=False))]\n",
      "-------------------------\n",
      "media_types\n",
      "['MediaTypeId', 'Name']\n",
      "[('MediaTypeId', Column('MediaTypeId', INTEGER(), table=<media_types>, primary_key=True, nullable=False)), ('Name', Column('Name', NVARCHAR(length=120), table=<media_types>))]\n",
      "-------------------------\n",
      "invoices\n",
      "['InvoiceId', 'CustomerId', 'InvoiceDate', 'BillingAddress', 'BillingCity', 'BillingState', 'BillingCountry', 'BillingPostalCode', 'Total']\n",
      "[('InvoiceId', Column('InvoiceId', INTEGER(), table=<invoices>, primary_key=True, nullable=False)), ('CustomerId', Column('CustomerId', INTEGER(), ForeignKey('customers.CustomerId'), table=<invoices>, nullable=False)), ('InvoiceDate', Column('InvoiceDate', DATETIME(), table=<invoices>, nullable=False)), ('BillingAddress', Column('BillingAddress', NVARCHAR(length=70), table=<invoices>)), ('BillingCity', Column('BillingCity', NVARCHAR(length=40), table=<invoices>)), ('BillingState', Column('BillingState', NVARCHAR(length=40), table=<invoices>)), ('BillingCountry', Column('BillingCountry', NVARCHAR(length=40), table=<invoices>)), ('BillingPostalCode', Column('BillingPostalCode', NVARCHAR(length=10), table=<invoices>)), ('Total', Column('Total', NUMERIC(precision=10, scale=2), table=<invoices>, nullable=False))]\n",
      "-------------------------\n",
      "playlist_track\n",
      "['PlaylistId', 'TrackId']\n",
      "[('PlaylistId', Column('PlaylistId', INTEGER(), ForeignKey('playlists.PlaylistId'), table=<playlist_track>, primary_key=True, nullable=False)), ('TrackId', Column('TrackId', INTEGER(), ForeignKey('tracks.TrackId'), table=<playlist_track>, primary_key=True, nullable=False))]\n",
      "-------------------------\n",
      "playlists\n",
      "['PlaylistId', 'Name']\n",
      "[('PlaylistId', Column('PlaylistId', INTEGER(), table=<playlists>, primary_key=True, nullable=False)), ('Name', Column('Name', NVARCHAR(length=120), table=<playlists>))]\n",
      "-------------------------\n",
      "[('employees', <class 'sqlalchemy.ext.automap.employees'>), ('tracks', <class 'sqlalchemy.ext.automap.tracks'>), ('invoice_items', <class 'sqlalchemy.ext.automap.invoice_items'>), ('customers', <class 'sqlalchemy.ext.automap.customers'>), ('artists', <class 'sqlalchemy.ext.automap.artists'>), ('playlists', <class 'sqlalchemy.ext.automap.playlists'>), ('invoices', <class 'sqlalchemy.ext.automap.invoices'>), ('media_types', <class 'sqlalchemy.ext.automap.media_types'>), ('genres', <class 'sqlalchemy.ext.automap.genres'>), ('albums', <class 'sqlalchemy.ext.automap.albums'>)]\n"
     ]
    }
   ],
   "source": [
    "from sqlalchemy import create_engine, text, MetaData, select, func, desc\n",
    "from sqlalchemy.orm import Session, join\n",
    "\n",
    "engine = create_engine(\"sqlite+pysqlite:///chinook.db\", echo=False)\n",
    "\n",
    "### extrai as classes da base de dados Chinook\n",
    "metadata = MetaData()\n",
    "metadata.reflect(engine)\n",
    "\n",
    "# O metadata tem informações sobre as tabelas\n",
    "# que serão usadas para criar os modelos ORM\n",
    "for table_name, table in metadata.tables.items():\n",
    "    print(table_name)\n",
    "    print(table.columns.keys())\n",
    "    print(table.columns.items())\n",
    "    print('-'*25)\n",
    "\n",
    "### configura o objeto Base mapeando os modelos ORM das tabelas\n",
    "from sqlalchemy.ext.automap import automap_base\n",
    "Base = automap_base(metadata=metadata)\n",
    "Base.prepare()\n",
    "\n",
    "# o objeto Base tem os modelos ORM que podemos usar\n",
    "# para manipular o banco de dados\n",
    "print(Base.classes.items())"
   ]
  },
  {
   "cell_type": "code",
   "execution_count": 2,
   "metadata": {},
   "outputs": [
    {
     "name": "stdout",
     "output_type": "stream",
     "text": [
      "1 - For Those About To Rock We Salute You\n"
     ]
    }
   ],
   "source": [
    "# A seguir um exemplo de query na tabela Albums\n",
    "# usamos o objeto Base para acessar cada modelo ORM.\n",
    "\n",
    "session = Session(engine)\n",
    "res = session.scalars(select(Base.classes.albums))\n",
    "first_album = res.first()\n",
    "print(first_album.AlbumId, \"-\", first_album.Title)"
   ]
  },
  {
   "cell_type": "markdown",
   "metadata": {},
   "source": [
    "#### Q3. \n",
    "Com base nos códigos anteriores realize as operações solicitadas nas células a seguir:\n"
   ]
  },
  {
   "cell_type": "code",
   "execution_count": 3,
   "metadata": {},
   "outputs": [
    {
     "name": "stdout",
     "output_type": "stream",
     "text": [
      "\n",
      "ID: 1\n",
      "Album: For Those About To Rock We Salute You\n",
      "Name: For Those About To Rock (We Salute You)\n",
      "Composer: Angus Young, Malcolm Young, Brian Johnson\n",
      "Millisecond: 343719\n",
      "Bytes: 11170334\n",
      "\n",
      "ID: 2\n",
      "Album: Balls to the Wall\n",
      "Name: Balls to the Wall\n",
      "Composer: None\n",
      "Millisecond: 342562\n",
      "Bytes: 5510424\n",
      "\n",
      "ID: 3\n",
      "Album: Restless and Wild\n",
      "Name: Fast As a Shark\n",
      "Composer: F. Baltes, S. Kaufman, U. Dirkscneider & W. Hoffman\n",
      "Millisecond: 230619\n",
      "Bytes: 3990994\n"
     ]
    }
   ],
   "source": [
    "### Imprima os três primeiros registros da tabela tracks\n",
    "\n",
    "tracks = Base.classes.tracks\n",
    "invoice_items = Base.classes.invoice_items\n",
    "albums = Base.classes.albums\n",
    "artists = Base.classes.artists\n",
    "\n",
    "res = session.scalars(select(tracks)).fetchmany(3)\n",
    "\n",
    "for track in res:\n",
    "    data = [\n",
    "        f\"\\nID: {track.TrackId}\",\n",
    "        f\"Album: {track.albums.Title}\",\n",
    "        f\"Name: {track.Name}\",\n",
    "        f\"Composer: {track.Composer}\",\n",
    "        f\"Millisecond: {track.Milliseconds}\",\n",
    "        f\"Bytes: {track.Bytes}\"\n",
    "    ]\n",
    "    \n",
    "    for i in data:\n",
    "        print(i)"
   ]
  },
  {
   "cell_type": "code",
   "execution_count": 4,
   "metadata": {},
   "outputs": [
    {
     "name": "stdout",
     "output_type": "stream",
     "text": [
      "Track name ------ Album title\n",
      "\n",
      "For Those About To Rock (We Salute You) ------ For Those About To Rock We Salute You\n",
      "Balls to the Wall ------ Balls to the Wall\n",
      "Fast As a Shark ------ Restless and Wild\n",
      "Restless and Wild ------ Restless and Wild\n",
      "Princess of the Dawn ------ Restless and Wild\n",
      "Put The Finger On You ------ For Those About To Rock We Salute You\n",
      "Let's Get It Up ------ For Those About To Rock We Salute You\n",
      "Inject The Venom ------ For Those About To Rock We Salute You\n",
      "Snowballed ------ For Those About To Rock We Salute You\n",
      "Evil Walks ------ For Those About To Rock We Salute You\n",
      "C.O.D. ------ For Those About To Rock We Salute You\n",
      "Breaking The Rules ------ For Those About To Rock We Salute You\n",
      "Night Of The Long Knives ------ For Those About To Rock We Salute You\n",
      "Spellbound ------ For Those About To Rock We Salute You\n",
      "Go Down ------ Let There Be Rock\n",
      "Dog Eat Dog ------ Let There Be Rock\n",
      "Let There Be Rock ------ Let There Be Rock\n",
      "Bad Boy Boogie ------ Let There Be Rock\n",
      "Problem Child ------ Let There Be Rock\n",
      "Overdose ------ Let There Be Rock\n"
     ]
    }
   ],
   "source": [
    "### Imprima o nome da faixa e o título do álbum das primeiras 20 faixas na tabela tracks.\n",
    "\n",
    "res = session.scalars(select(tracks)).fetchmany(20)\n",
    "\n",
    "print(\"Track name ------ Album title\\n\")\n",
    "for track in res:\n",
    "    print(track.Name, \"------\", track.albums.Title)\n"
   ]
  },
  {
   "cell_type": "code",
   "execution_count": 5,
   "metadata": {},
   "outputs": [
    {
     "name": "stdout",
     "output_type": "stream",
     "text": [
      "Balls to the Wall ---> 1\n",
      "Restless and Wild ---> 1\n",
      "Put The Finger On You ---> 1\n",
      "Inject The Venom ---> 1\n",
      "Evil Walks ---> 1\n",
      "Breaking The Rules ---> 1\n",
      "Dog Eat Dog ---> 1\n",
      "Overdose ---> 1\n",
      "Love In An Elevator ---> 1\n",
      "Janie's Got A Gun ---> 1\n"
     ]
    }
   ],
   "source": [
    "### Imprima as 10 primeiras vendas de faixas da tabela invoice_items\n",
    "### Para essas 10 primeiras vendas, imprima os nomes das faixas vendidas e a quantidade vendida.\n",
    "\n",
    "res = session.scalars(select(invoice_items)).fetchmany(10)\n",
    "\n",
    "for item in res:\n",
    "    print(item.tracks.Name, \"--->\", item.Quantity)"
   ]
  },
  {
   "cell_type": "code",
   "execution_count": 6,
   "metadata": {},
   "outputs": [
    {
     "name": "stdout",
     "output_type": "stream",
     "text": [
      "Balls to the Wall ---> 2\n",
      "Inject The Venom ---> 2\n",
      "Snowballed ---> 2\n",
      "Overdose ---> 2\n",
      "Deuces Are Wild ---> 2\n",
      "Not The Doctor ---> 2\n",
      "Por Causa De Você ---> 2\n",
      "Welcome Home (Sanitarium) ---> 2\n",
      "Snowblind ---> 2\n",
      "Cornucopia ---> 2\n"
     ]
    }
   ],
   "source": [
    "### Imprima os nomes das 10 faixas mais vendidas e quantas vezes foram vendidas.\n",
    "\n",
    "query = select(invoice_items, func.count(invoice_items.TrackId)).group_by(invoice_items.TrackId).order_by(func.count(invoice_items.TrackId).desc())\n",
    "# query = text(\"SELECT TrackId, SUM(Quantity) AS total FROM invoice_items GROUP BY TrackId ORDER BY total DESC\")\n",
    "    \n",
    "\n",
    "res = session.execute(query).fetchmany(10)\n",
    "\n",
    "for row in res:\n",
    "    print(row[0].tracks.Name, \"--->\", row[1])\n"
   ]
  },
  {
   "cell_type": "code",
   "execution_count": 7,
   "metadata": {},
   "outputs": [
    {
     "name": "stdout",
     "output_type": "stream",
     "text": [
      "Iron Maiden: $138.60\n",
      "U2: $105.93\n",
      "Metallica: $90.09\n",
      "Led Zeppelin: $86.13\n",
      "Lost: $81.59\n",
      "The Office: $49.75\n",
      "Os Paralamas Do Sucesso: $44.55\n",
      "Deep Purple: $43.56\n",
      "Faith No More: $41.58\n",
      "Eric Clapton: $39.60\n"
     ]
    }
   ],
   "source": [
    "### Quem são os 10 artistas que mais venderam?\n",
    "### dica: você precisa juntar as tabelas invoice_items, tracks, albums e artists\n",
    "\n",
    "# Construir e executar a query\n",
    "query = (\n",
    "    session.query(\n",
    "        artists.Name.label(\"Artista\"),\n",
    "        func.sum(invoice_items.UnitPrice * invoice_items.Quantity).label(\"TotalVendas\")\n",
    "    )\n",
    "    .join(albums, albums.ArtistId == artists.ArtistId)\n",
    "    .join(tracks, tracks.AlbumId == albums.AlbumId)\n",
    "    .join(invoice_items, invoice_items.TrackId == tracks.TrackId)\n",
    "    .group_by(artists.ArtistId)\n",
    "    .order_by(func.sum(invoice_items.UnitPrice * invoice_items.Quantity).desc())\n",
    "    .limit(10)\n",
    ")\n",
    "\n",
    "# Mostrar resultados\n",
    "for artista, total in query:\n",
    "    print(f\"{artista}: ${total:.2f}\")"
   ]
  }
 ],
 "metadata": {
  "kernelspec": {
   "display_name": ".venv",
   "language": "python",
   "name": "python3"
  },
  "language_info": {
   "codemirror_mode": {
    "name": "ipython",
    "version": 3
   },
   "file_extension": ".py",
   "mimetype": "text/x-python",
   "name": "python",
   "nbconvert_exporter": "python",
   "pygments_lexer": "ipython3",
   "version": "3.12.3"
  }
 },
 "nbformat": 4,
 "nbformat_minor": 2
}
