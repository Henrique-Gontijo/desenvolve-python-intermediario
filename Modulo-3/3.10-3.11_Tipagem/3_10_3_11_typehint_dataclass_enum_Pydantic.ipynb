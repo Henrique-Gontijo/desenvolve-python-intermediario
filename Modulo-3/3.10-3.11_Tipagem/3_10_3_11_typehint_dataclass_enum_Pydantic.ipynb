{
  "nbformat": 4,
  "nbformat_minor": 0,
  "metadata": {
    "colab": {
      "provenance": [],
      "collapsed_sections": [
        "_3klk2cuzmRY",
        "pC3tUN33zpor",
        "Lbtxz-rFzvij",
        "Fy3nnHqJzyTh"
      ]
    },
    "kernelspec": {
      "name": "python3",
      "display_name": "Python 3"
    },
    "language_info": {
      "name": "python"
    }
  },
  "cells": [
    {
      "cell_type": "markdown",
      "source": [
        "> Projeto Desenvolve <br>\n",
        "Programação Intermediária com Python <br>\n",
        "Profa. Camila Laranjeira (mila@projetodesenvolve.com.br) <br>"
      ],
      "metadata": {
        "id": "VDCuryQSFHOH"
      }
    },
    {
      "cell_type": "markdown",
      "source": [
        "# Modelagem de dados\n",
        "Python é uma linguagem muito permissiva, isso é fato. Mas no escopo de ciência de dados, e em geral quando interagimos com algum sistema de gestão de banco de dados (SGBD), é necessário ser mais restritivo quanto ao tipo e à natureza dos dados para garantir **integridade de dados** (garantir precisão, completude, consistência e validade dos dados de uma organização).\n",
        "\n",
        "Impor restrições de tipo, além de realizar validações robustas, é fundamental para assegurar a integridade. Restrições de tipo garantem que os dados sejam do formato esperado, prevenindo erros e inconsistências. Validações robustas asseguram que os dados cumpram regras específicas de negócio e lógicas, evitando a entrada de dados inválidos que poderiam corromper o banco de dados ou comprometer a análise.\n",
        "\n",
        "Nas próximas aulas conheceremos alguns recursos do Python para trabalhar com integridade de dados em mente.\n"
      ],
      "metadata": {
        "id": "yD7uiwdBLCc8"
      }
    },
    {
      "cell_type": "markdown",
      "source": [
        "## Type hints (anotações de tipo)\n",
        "\n",
        "Referências principalis:\n",
        "* [PEP 484 - Type Hints](https://peps.python.org/pep-0484/)\n",
        "* [Type Hint Cheat Sheet](https://mypy.readthedocs.io/en/stable/cheat_sheet_py3.html)\n",
        "\n",
        "Type hinting no Python é uma funcionalidade que permite aos desenvolvedores especificar o tipo de variáveis, parâmetros de função e valores de retorno. Por padrão, são somente para indicar aos desenvolvedores os tipos esperados em determinados contextos, no entanto **Python é uma linguagem dinamicamente tipada**, e sua execução continua inalterada. Ou seja, **type hints não adicionam verificações de tipo à execução**.\n",
        "> Veremos mais à frente que existem outras bibliotecas (como a Pydantic) que exploram a anotação de tipo para realizar validações.\n",
        "\n",
        "Sintaxe:\n",
        "* **Variáveis**: Você pode especificar o tipo de uma variável usando a notação `:`\n",
        "* **Métodos e funções**: Para funções, você pode especificar os tipos dos parâmetros com a notação `:` e os valores de retorno com a notação `->`."
      ],
      "metadata": {
        "id": "_3klk2cuzmRY"
      }
    },
    {
      "cell_type": "code",
      "source": [
        "def divide(a: int, b: int) -> float:\n",
        "    return a/b\n",
        "\n",
        "def inverter(st: str) -> str:\n",
        "    return st[::-1]\n",
        "\n",
        "def cumprimentar(nome: str) -> None:\n",
        "    print(f'Olá {nome}!')\n",
        "\n",
        "\n",
        "x: int = 10\n",
        "y: int = 17\n",
        "res = divide(x, y)\n",
        "print(f'A soma {x} + {y} = {res:.2}')\n",
        "\n",
        "nome: str = \"Mila\"\n",
        "cumprimentar(nome)\n",
        "print(inverter(nome))"
      ],
      "metadata": {
        "id": "p2eD1nUOEBJN",
        "colab": {
          "base_uri": "https://localhost:8080/"
        },
        "outputId": "b198133a-188c-4bb7-b5cb-93f23523d26d"
      },
      "execution_count": null,
      "outputs": [
        {
          "output_type": "stream",
          "name": "stdout",
          "text": [
            "A soma 10 + 17 = 0.59\n",
            "Olá Mila!\n",
            "aliM\n"
          ]
        }
      ]
    },
    {
      "cell_type": "markdown",
      "source": [
        "O atributo `__annotations__` registra todos os elementos de um dado objeto que são acompanhados de anotação de tipo."
      ],
      "metadata": {
        "id": "FkUE8YCXwiYF"
      }
    },
    {
      "cell_type": "code",
      "source": [
        "print(divide.__annotations__)"
      ],
      "metadata": {
        "colab": {
          "base_uri": "https://localhost:8080/"
        },
        "id": "OCXHXO_hweG2",
        "outputId": "c64de654-5a7e-4aed-d69b-d2dde5627d4e"
      },
      "execution_count": null,
      "outputs": [
        {
          "output_type": "stream",
          "name": "stdout",
          "text": [
            "{'a': <class 'int'>, 'b': <class 'int'>, 'return': <class 'float'>}\n"
          ]
        }
      ]
    },
    {
      "cell_type": "markdown",
      "source": [
        "No caso de coleções, podemos indicar não só o tipo da coleção como também o tipo de seus elementos. Usa-se nesse caso a sintaxe de colchetes, como apresentado a seguir."
      ],
      "metadata": {
        "id": "QkHtIxV09YEb"
      }
    },
    {
      "cell_type": "code",
      "source": [
        "def soma_lista(lista: list[int]) -> int:\n",
        "    return sum([x * 2 for x in lista])\n",
        "\n",
        "def soma_dicionario(d: dict[str, int]) -> int:\n",
        "    return sum(d.values())\n",
        "\n",
        "def soma_tupla(lista: list[tuple[int, int]]) -> tuple[int, int]:\n",
        "    return (sum(v[0] for v in lista), sum(v[1] for v in lista))\n",
        "\n",
        "lst: list[int] = [1,2,3]\n",
        "print(soma_lista(lst))\n",
        "\n",
        "dic: dict[str, int] = {'a': 2, 'b':3, 'c': 4}\n",
        "print(soma_dicionario(dic))\n",
        "\n",
        "tup: list[tuple[int, int]] = [(1,2), (3,4), (5,6)]\n",
        "print(soma_tupla(tup))"
      ],
      "metadata": {
        "colab": {
          "base_uri": "https://localhost:8080/"
        },
        "id": "iqVV7hbE9YS_",
        "outputId": "bcfaa921-7fdf-42fa-fd1a-7a67ab787652"
      },
      "execution_count": null,
      "outputs": [
        {
          "output_type": "stream",
          "name": "stdout",
          "text": [
            "12\n",
            "9\n",
            "(9, 12)\n"
          ]
        }
      ]
    },
    {
      "cell_type": "markdown",
      "source": [
        "### `typing`\n",
        "\n",
        "A biblioteca `typing` expande nossa capacidade de anotação de tipos. Por exemplo, no caso de parâmetros opcionais você pode usar a anotação `Optional`. Assim como no caso de coleções, indicamos com a sintaxe de colchetes o tipo esperado para a variável opcional.\n",
        "\n",
        "> Lembre-se que a anotação de tipo não altera a execução do Python e portanto é preciso definir valores padrão para variáveis opcionais. Caso contrário, elas serão consideradas obrigatórias."
      ],
      "metadata": {
        "id": "RQ5JPnZF-Xpe"
      }
    },
    {
      "cell_type": "code",
      "source": [
        "from typing import Optional, Any\n",
        "\n",
        "def imprime_lista(qualquer_coisa: list[Any]) -> None:\n",
        "    print(qualquer_coisa)\n",
        "\n",
        "def cumprimentar(nome: Optional[str] = None) -> None:\n",
        "    if nome:\n",
        "        print(f'Olá {nome}!')\n",
        "    else:\n",
        "        print('Olá mundo!')\n",
        "\n",
        "cumprimentar()"
      ],
      "metadata": {
        "colab": {
          "base_uri": "https://localhost:8080/"
        },
        "id": "FpXVKkpI-Xas",
        "outputId": "cc02f560-b4e7-4b72-ae15-85af6d1bd3e5"
      },
      "execution_count": null,
      "outputs": [
        {
          "output_type": "stream",
          "name": "stdout",
          "text": [
            "Olá mundo!\n"
          ]
        }
      ]
    },
    {
      "cell_type": "markdown",
      "source": [
        "Em alguns casos precisaremos anotar uma dada função ou variável com **tipos genéricos**, para indicar que aquele elemento pode assumir mais de um tipo de dado. No Python, você pode usar a biblioteca `typing`para definir tipos genéricos.\n",
        "\n",
        "* `Sequence` é um dos [duck types](https://mypy.readthedocs.io/en/stable/cheat_sheet_py3.html#standard-duck-types) disponíveis para coleções de valores (*lembra? Se anda como um pato...*). Ao anotar um tipo `Sequence`, assumimos qualquer tipo de dados que possui os métodos mágicos `len` e `__getitem__`.\n",
        "\n",
        "* `TypeVar` por outro lado nos permite garantir consistência de tipos, sem estabelecer estáticamente um tipo exato. Por exemplo, na função `first` a seguir indicamos que o valor retornado tem o mesmo tipo dos elementos da sequência.\n",
        "    * Uma expressão `TypeVar()` deve sempre ser atribuída diretamente a uma variável. O primeiro argumento de `TypeVar()` deve ser uma string igual ao nome da variável à qual ela é atribuída.\n",
        "    * Podemos adicionar mais parâmetros a `TypeVar()` para restringir o conjunto de tipos aceitos no determinado escopo."
      ],
      "metadata": {
        "id": "uPx8zTQY_xC5"
      }
    },
    {
      "cell_type": "code",
      "source": [
        "from typing import Sequence, TypeVar\n",
        "\n",
        "# Anotação genérica de tipo\n",
        "T = TypeVar('T')\n",
        "def first(l: list[T]) -> T:\n",
        "    return l[0]\n",
        "\n",
        "# Tipo genérico de sequência\n",
        "T = TypeVar('T')\n",
        "def first(l: Sequence[T]) -> T:\n",
        "    return l[0]\n",
        "\n",
        "# Anotação genérica de tipo\n",
        "# restrita a str ou bytes\n",
        "AnyStr = TypeVar('AnyStr', str, bytes)\n",
        "def concat(x: AnyStr, y: AnyStr) -> AnyStr:\n",
        "    return x + y"
      ],
      "metadata": {
        "id": "YIx-3S93_w3i"
      },
      "execution_count": null,
      "outputs": []
    },
    {
      "cell_type": "markdown",
      "source": [
        "## `dataclass`\n",
        "\n",
        "O módulo `dataclasses` fornece alguns decoradores e funções que adicionam automaticamente alguns métodos especiais (mágicos ✨🪄🔮) a classes customizadas (que a gente mesmo cria).\n",
        "\n",
        "A principal função é a `dataclass`, típicamente usada como decorador de classe. Seu papel é aplicar um pós-processamento à classe decorada, examinando-a para encontrar campos (*fields*). Um campo (*field*) é definido como qualquer variável identificada em `__annotations__`. Ou seja, uma variável que tem uma anotação de tipo (*type hint*).\n",
        "\n",
        "Você pode fornecer parâmetros ao `dataclass` para indicar quais métodos serão automaticamente adicionados. No exemplo a seguir, as duas decoração são equivalentes. O segundo caso apenas apresenta todas as customizações disponíveis associadas a seus valores padrão.\n",
        "\n",
        "\n",
        "```python\n",
        "from dataclasses import dataclass\n",
        "\n",
        "@dataclass\n",
        "class A:\n",
        "    field1: str\n",
        "    field2: int = 0\n",
        "    ...\n",
        "\n",
        "@dataclass(init=True, repr=True, eq=True, order=False, unsafe_hash=False, frozen=False)\n",
        "class B:\n",
        "    field1: str\n",
        "    field2: int = 0\n",
        "```\n",
        "\n",
        "A seguir uma explicação dos principais parâmetros (você pode consultar os outros na [PEP-557](https://peps.python.org/pep-0557/)).\n",
        "\n",
        "* `init`: Se `True` (o padrão), um método `__init__` será gerado.\n",
        "* `repr`: Se `True` (o padrão), um método `__repr__` será gerado. A string repr terá o nome da classe e o nome e repr de cada campo, na ordem em que são definidos na classe.\n",
        "* `eq`: Se `True` (o padrão), um método `__eq__` será gerado. Este método compara a classe como se fosse uma tupla de seus campos, em ordem.\n",
        "* `order`: Se `True` (o padrão é `False`), os métodos `__lt__`, `__le__`, `__gt__` e `__ge__` serão gerados. Eles comparam a classe como se fosse uma tupla de seus campos, em ordem. Se `order` for `True`, `eq` também deve ser `True`.\n",
        "\n",
        "Para o exemplo definido na célula a seguir, segue uma amostra de como fica sua estrutura interna em termos de métodos mágicos.\n",
        "```python\n",
        "def __init__(self, nome: str, preco_unitario: float, quantidade_em_estoque: int = 0) -> None:\n",
        "    self.nome = nome\n",
        "    self.preco_unitario = preco_unitario\n",
        "    self.quantidade_em_estoque = quantidade_em_estoque\n",
        "def __repr__(self):\n",
        "    return f'InventoryItem(nome={self.nome!r}, preco_unitario={self.preco_unitario!r}, quantidade_em_estoque={self.quantidade_em_estoque!r})'\n",
        "def __eq__(self, other):\n",
        "    if other.__class__ is self.__class__:\n",
        "        return (self.nome, self.preco_unitario, self.quantidade_em_estoque) == (other.nome, other.preco_unitario, other.quantidade_em_estoque)\n",
        "    return NotImplemented\n",
        "def __lt__(self, other):\n",
        "    if other.__class__ is self.__class__:\n",
        "        return (self.nome, self.preco_unitario, self.quantidade_em_estoque) < (other.nome, other.preco_unitario, other.quantidade_em_estoque)\n",
        "    return NotImplemented\n",
        "    ... # outros métodos a seguir ...\n",
        "```"
      ],
      "metadata": {
        "id": "pC3tUN33zpor"
      }
    },
    {
      "cell_type": "code",
      "source": [
        "from dataclasses import dataclass\n",
        "\n",
        "@dataclass\n",
        "class ItemDeInventario:\n",
        "    '''Classe para registrar um item no inventário.'''\n",
        "    nome: str\n",
        "    preco_unitario: float\n",
        "    quantidade_em_estoque: int = 0\n",
        "\n",
        "    def custo_total(self) -> float:\n",
        "        return self.preco_unitario * self.quantidade_em_estoque\n",
        "\n",
        "print(ItemDeInventario.__annotations__)\n",
        "\n",
        "item = ItemDeInventario(\"\", 0)\n",
        "dir(item)"
      ],
      "metadata": {
        "id": "0WIf788CFu55",
        "colab": {
          "base_uri": "https://localhost:8080/"
        },
        "outputId": "0c7d4efd-cf7a-4811-a220-10218e947bc0"
      },
      "execution_count": null,
      "outputs": [
        {
          "output_type": "stream",
          "name": "stdout",
          "text": [
            "{'nome': <class 'str'>, 'preco_unitario': <class 'float'>, 'quantidade_em_estoque': <class 'int'>}\n"
          ]
        },
        {
          "output_type": "execute_result",
          "data": {
            "text/plain": [
              "['__annotations__',\n",
              " '__class__',\n",
              " '__dataclass_fields__',\n",
              " '__dataclass_params__',\n",
              " '__delattr__',\n",
              " '__dict__',\n",
              " '__dir__',\n",
              " '__doc__',\n",
              " '__eq__',\n",
              " '__format__',\n",
              " '__ge__',\n",
              " '__getattribute__',\n",
              " '__gt__',\n",
              " '__hash__',\n",
              " '__init__',\n",
              " '__init_subclass__',\n",
              " '__le__',\n",
              " '__lt__',\n",
              " '__match_args__',\n",
              " '__module__',\n",
              " '__ne__',\n",
              " '__new__',\n",
              " '__reduce__',\n",
              " '__reduce_ex__',\n",
              " '__repr__',\n",
              " '__setattr__',\n",
              " '__sizeof__',\n",
              " '__str__',\n",
              " '__subclasshook__',\n",
              " '__weakref__',\n",
              " 'custo_total',\n",
              " 'nome',\n",
              " 'preco_unitario',\n",
              " 'quantidade_em_estoque']"
            ]
          },
          "metadata": {},
          "execution_count": 2
        }
      ]
    },
    {
      "cell_type": "markdown",
      "source": [
        "### `field`\n",
        "\n",
        "Também podemos definir e customizar explícitamente cada um dos campos de dados. Para isso, temos a função `field` do módulo `dataclasses`, com a seguite assinatura.\n",
        "\n",
        "```python\n",
        "def field(*, default=MISSING, default_factory=MISSING, repr=True,\n",
        "          hash=None, init=True, compare=True, metadata=None)\n",
        "```\n",
        "\n",
        "Os principais parâmetros para `field()` estão a seguir. Você pode consultar a lista completa [na documentação](https://docs.python.org/3/library/dataclasses.html#dataclasses.field).\n",
        "\n",
        "* `default`: Se fornecido, este será o valor padrão do campo. Isso é necessário porque a chamada `field()` substitui a posição normal do valor padrão.\n",
        "\n",
        "* `default_factory`: Se fornecido, deve ser um objeto `callable` (ex.: função ou classe) sem parâmetros que será chamado quando um valor padrão for necessário para este campo. Pode ser usado para especificar campos com valores padrão mutáveis. É um erro especificar `default` e `default_factory`.\n",
        "\n",
        "* `init`: Se `True` (o padrão), este campo é incluído como um parâmetro para o método `__init__()` gerado.\n",
        "\n",
        "* `repr`: Se `True` (o padrão), este campo é incluído na string retornada pelo método `__repr__()` gerado.\n",
        "\n",
        "* `compare`: Se `True` (o padrão), este campo é incluído nos métodos de igualdade e comparação gerados (`__eq__()`, `__gt__()`, etc.)."
      ],
      "metadata": {
        "id": "lgE2Fxq9yc_n"
      }
    },
    {
      "cell_type": "code",
      "source": [
        "dir(ItemDeInventario)"
      ],
      "metadata": {
        "colab": {
          "base_uri": "https://localhost:8080/"
        },
        "id": "TRZK0Tq30zos",
        "outputId": "ba29eb22-8a96-478d-c0cf-b1712d725924"
      },
      "execution_count": null,
      "outputs": [
        {
          "output_type": "execute_result",
          "data": {
            "text/plain": [
              "['__annotations__',\n",
              " '__class__',\n",
              " '__dataclass_fields__',\n",
              " '__dataclass_params__',\n",
              " '__delattr__',\n",
              " '__dict__',\n",
              " '__dir__',\n",
              " '__doc__',\n",
              " '__eq__',\n",
              " '__format__',\n",
              " '__ge__',\n",
              " '__getattribute__',\n",
              " '__gt__',\n",
              " '__hash__',\n",
              " '__init__',\n",
              " '__init_subclass__',\n",
              " '__le__',\n",
              " '__lt__',\n",
              " '__match_args__',\n",
              " '__module__',\n",
              " '__ne__',\n",
              " '__new__',\n",
              " '__reduce__',\n",
              " '__reduce_ex__',\n",
              " '__repr__',\n",
              " '__setattr__',\n",
              " '__sizeof__',\n",
              " '__str__',\n",
              " '__subclasshook__',\n",
              " '__weakref__',\n",
              " 'custo_total',\n",
              " 'quantidade_em_estoque']"
            ]
          },
          "metadata": {},
          "execution_count": 26
        }
      ]
    },
    {
      "cell_type": "code",
      "source": [
        "from dataclasses import field\n",
        "import random\n",
        "\n",
        "@dataclass(order=True)\n",
        "class ItemDeInventario:\n",
        "    '''Classe para registrar um item no inventário.'''\n",
        "    nome: str = field(compare=False)\n",
        "    preco_unitario: float = field(compare=False)\n",
        "    quantidade_em_estoque: int = 0\n",
        "\n",
        "    def custo_total(self) -> float:\n",
        "        return self.preco_unitario * self.quantidade_em_estoque\n",
        "\n",
        "    def __str__(self) -> str:\n",
        "        return f\"{self.nome}: Quantidade - {self.quantidade_em_estoque}, Preço: R${self.preco_unitario:.2f}\"\n",
        "\n",
        "itens = []\n",
        "for i in range(10):\n",
        "    itens.append(ItemDeInventario(f\"Nome{i:02d}\",\n",
        "                                  random.randint(1,100),\n",
        "                                  random.randint(100, 1000)))\n",
        "\n",
        "\n",
        "for item in sorted(itens, reverse=True):\n",
        "    print(item)"
      ],
      "metadata": {
        "colab": {
          "base_uri": "https://localhost:8080/"
        },
        "id": "50WFaBdZycvT",
        "outputId": "1ed83351-9e05-4c01-9cb4-c609a03c38f5"
      },
      "execution_count": null,
      "outputs": [
        {
          "output_type": "stream",
          "name": "stdout",
          "text": [
            "Nome06: Quantidade - 946, Preço: R$93.00\n",
            "Nome02: Quantidade - 914, Preço: R$39.00\n",
            "Nome09: Quantidade - 842, Preço: R$100.00\n",
            "Nome05: Quantidade - 745, Preço: R$65.00\n",
            "Nome03: Quantidade - 742, Preço: R$62.00\n",
            "Nome07: Quantidade - 654, Preço: R$72.00\n",
            "Nome04: Quantidade - 386, Preço: R$19.00\n",
            "Nome08: Quantidade - 350, Preço: R$89.00\n",
            "Nome01: Quantidade - 161, Preço: R$24.00\n",
            "Nome00: Quantidade - 143, Preço: R$76.00\n"
          ]
        }
      ]
    },
    {
      "cell_type": "markdown",
      "source": [
        "## `Enum`\n",
        "\n",
        "O conceito de enumeração existe em muitas linguagens. Como definido na própria [documentação do Python sobre Enums](https://docs.python.org/3/library/enum.html):\n",
        "\n",
        "* É um conjunto de nomes simbólicos (membros) vinculados a **valores constantes**\n",
        "* Pode ser iterado para retornar seus membros canônicos (ou seja, não alias) **em ordem de definição**\n",
        "\n",
        "Adicionalmente, a estrutura Enum no Python tem as seguintes características:\n",
        "* Pode ser criado através da sintaxe de classe ou de função\n",
        "* Usa sintaxe de chamada para retornar membros por valor\n",
        "* usa sintaxe de índice para retornar membros por nome"
      ],
      "metadata": {
        "id": "Lbtxz-rFzvij"
      }
    },
    {
      "cell_type": "code",
      "source": [
        "from enum import Enum\n",
        "\n",
        "# Criando Enum com sintaxe de classe.\n",
        "# Usa-se a relação de herança.\n",
        "class Color(Enum):\n",
        "    RED = 1\n",
        "    GREEN = 2\n",
        "    BLUE = 3\n",
        "\n",
        "# Criando Enum com sintaxe de função.\n",
        "# Enum (name, values)\n",
        "Color = Enum('Color', ['RED', 'GREEN', 'BLUE'])\n",
        "\n",
        "print('\\nAcessando os objetos')\n",
        "print(Color(1)) # sintaxe de chamada\n",
        "print(Color['RED'], Color.RED) # sintaxe de índice\n",
        "\n",
        "# acessando o nome e o valor correspondente de um item\n",
        "print(Color(1).name, Color(1).value)\n",
        "print(Color['RED'].name, Color['RED'].value)\n",
        "\n",
        "print('\\nIterando no Enum')\n",
        "for c in Color:\n",
        "    print(c)\n",
        "\n",
        "print('\\nPor dentro dos objetos')\n",
        "print(dir(Color))\n",
        "print(dir(Color.RED))"
      ],
      "metadata": {
        "id": "3KB2B95xzvyV",
        "colab": {
          "base_uri": "https://localhost:8080/"
        },
        "outputId": "f8911eed-e4f7-4949-9573-0968cee28724"
      },
      "execution_count": null,
      "outputs": [
        {
          "output_type": "stream",
          "name": "stdout",
          "text": [
            "\n",
            "Acessando os objetos\n",
            "Color.RED\n",
            "Color.RED Color.RED\n",
            "RED 1\n",
            "RED 1\n",
            "\n",
            "Iterando no Enum\n",
            "Color.RED\n",
            "Color.GREEN\n",
            "Color.BLUE\n",
            "\n",
            "Por dentro dos objetos\n",
            "['BLUE', 'GREEN', 'RED', '__class__', '__doc__', '__members__', '__module__']\n",
            "['__class__', '__doc__', '__module__', 'name', 'value']\n"
          ]
        }
      ]
    },
    {
      "cell_type": "markdown",
      "source": [
        "Usar Enums ajuda a evitar erros, garantindo que apenas valores válidos sejam atribuídos, além de tornar o código mais legível e fácil de manter. No exemplo a seguir, a variável `cor` de um objeto `Carro` é uma instância da enumeração `Color`."
      ],
      "metadata": {
        "id": "TPGleJ7mFPIX"
      }
    },
    {
      "cell_type": "code",
      "source": [
        "from dataclasses import dataclass\n",
        "\n",
        "@dataclass\n",
        "class Carro:\n",
        "    marca: str\n",
        "    modelo: str\n",
        "    cor: Color\n",
        "    placa: str\n",
        "\n",
        "carro01 = Carro('Volkswagen', 'T-Cross', Color.RED, \"XYZ0000\")\n",
        "carro01.cor, type(carro01.cor)"
      ],
      "metadata": {
        "colab": {
          "base_uri": "https://localhost:8080/"
        },
        "id": "684PbbHfEM_F",
        "outputId": "5ddac44a-d0e7-4a0c-b649-65c949e465c0"
      },
      "execution_count": null,
      "outputs": [
        {
          "output_type": "execute_result",
          "data": {
            "text/plain": [
              "(<Color.RED: 1>, <enum 'Color'>)"
            ]
          },
          "metadata": {},
          "execution_count": 22
        }
      ]
    },
    {
      "cell_type": "markdown",
      "source": [
        "Por padrão, o Enum atribui ao seus elementos um intervalo numérico (`int`) sequencial, com o primeiro valor igual a `1`. Mas a estrutura te dá liberdade de atribuir quaisquer valores, inclusive de tipos heteregêneos (onde cada elemento do Enum tem um tipo). No entanto, tipos heterogêneos devem ser evitados, já que o propósito do Enum é agrupar constantes de características semelhantes."
      ],
      "metadata": {
        "id": "lm9I4ga_G1K_"
      }
    },
    {
      "cell_type": "code",
      "source": [
        "# Enum padrão\n",
        "Color = Enum('Color', ['RED', 'GREEN', 'BLUE'])\n",
        "print(Color.RED.name, Color.RED.value)\n",
        "\n",
        "class SwitchPosition(Enum):\n",
        "    ON = True\n",
        "    OFF = False\n",
        "\n",
        "class Size(Enum):\n",
        "    S = \"small\"\n",
        "    M = \"medium\"\n",
        "    L = \"large\"\n",
        "    XL = \"extra large\"\n",
        "\n",
        "# Tipos heterogêneos não recomendado.\n",
        "# O ideal é haver consistência de tipos\n",
        "class UserResponse(Enum):\n",
        "    YES = 1\n",
        "    NO = \"No\""
      ],
      "metadata": {
        "colab": {
          "base_uri": "https://localhost:8080/"
        },
        "id": "isNzIGpEGzId",
        "outputId": "51928b1e-ad94-4f98-db90-d1ce4425eeb1"
      },
      "execution_count": null,
      "outputs": [
        {
          "output_type": "stream",
          "name": "stdout",
          "text": [
            "RED 1\n"
          ]
        }
      ]
    },
    {
      "cell_type": "markdown",
      "source": [
        "A sintaxe funcional permite atributos adicionais. Os mais importantes são:\n",
        "\n",
        "* `value`: O nome da nova classe de enumeração\n",
        "* `names`: Nomes para os membros da enumeração\n",
        "* `start`: Valor inicial que a enumeração de `values` vai começar.\n",
        "* `type`: Uma classe que adiciona funcionalidade aos elementos do Enum.\n",
        "\n",
        "> O atributo `type` se expressa na sintaxe de classe como uma herança múltipla, permitindo que os itens da enumeração possam ser comparados com objetos do tipo indicado.\n",
        "\n",
        "\n",
        "Você pode ler mais sobre nesse tutorial do Real Python: [*Creating Enumerations With the Functional API*](https://realpython.com/python-enum/#creating-enumerations-with-the-functional-api).\n",
        "\n",
        "Também recomendo ler a seção [*Exploring Other Enumeration Classes*](https://realpython.com/python-enum/#exploring-other-enumeration-classes) desse mesmo tutorial, caso tenha interesse de conhecer outras classes de enumeração (`IntEnum`, `IntFlag`, etc.)."
      ],
      "metadata": {
        "id": "gXU_xSFdJwlg"
      }
    },
    {
      "cell_type": "code",
      "source": [
        "Size = Enum('Size', ['S', 'M', 'L', 'XL'], start=10, type=int)\n",
        "print(list(Size))\n",
        "\n",
        "class Size(int, Enum):\n",
        "    S = 10\n",
        "    M = 11\n",
        "    L = 12\n",
        "    XL = 13\n",
        "\n",
        "print(list(Size))\n",
        "Size.S > 10"
      ],
      "metadata": {
        "colab": {
          "base_uri": "https://localhost:8080/"
        },
        "id": "a3SLSRjtJwU7",
        "outputId": "b1516942-8f98-4d87-fb4b-23bb9a531813"
      },
      "execution_count": null,
      "outputs": [
        {
          "output_type": "stream",
          "name": "stdout",
          "text": [
            "[<Size.S: 10>, <Size.M: 11>, <Size.L: 12>, <Size.XL: 13>]\n",
            "[<Size.S: 10>, <Size.M: 11>, <Size.L: 12>, <Size.XL: 13>]\n"
          ]
        },
        {
          "output_type": "execute_result",
          "data": {
            "text/plain": [
              "False"
            ]
          },
          "metadata": {},
          "execution_count": 29
        }
      ]
    },
    {
      "cell_type": "markdown",
      "source": [
        "## Pydantic\n",
        "\n",
        "Segundo a própria [documentação](https://docs.pydantic.dev/latest/), o Pydantic é a biblioteca de **validação de dados** mais utilizada para Python. Adotando a abordagem nativa de anotação de tipos que acabamos de ver, o Pydantic faz o papel de testar o tipo dos objetos associados às variáveis anotadas, **lançando erros** em caso de inconsistências.\n",
        "\n",
        "Uma outra importante vantagem do Pydantic é a **serialização** de dados, facilmente convertendo o conteúdo dos objetos Pydantic para tipos mais simples de armazenar, como dicionários ou strings JSON.\n",
        "\n",
        "Para o exemplo que vai ilustrar nossa explicação, precisamos [instalar o Pydantic](https://docs.pydantic.dev/latest/install/) com a dependência opcional de validação de e-mail."
      ],
      "metadata": {
        "id": "Fy3nnHqJzyTh"
      }
    },
    {
      "cell_type": "code",
      "source": [
        "!pip install pydantic[email]"
      ],
      "metadata": {
        "colab": {
          "base_uri": "https://localhost:8080/"
        },
        "id": "b3GkIRBu4Fya",
        "outputId": "cc6d3385-b1bf-48a2-b50b-7cd2f6636a9b"
      },
      "execution_count": null,
      "outputs": [
        {
          "output_type": "stream",
          "name": "stdout",
          "text": [
            "Requirement already satisfied: pydantic[email] in /usr/local/lib/python3.10/dist-packages (2.8.0)\n",
            "Requirement already satisfied: annotated-types>=0.4.0 in /usr/local/lib/python3.10/dist-packages (from pydantic[email]) (0.7.0)\n",
            "Requirement already satisfied: pydantic-core==2.20.0 in /usr/local/lib/python3.10/dist-packages (from pydantic[email]) (2.20.0)\n",
            "Requirement already satisfied: typing-extensions>=4.6.1 in /usr/local/lib/python3.10/dist-packages (from pydantic[email]) (4.12.2)\n",
            "Collecting email-validator>=2.0.0 (from pydantic[email])\n",
            "  Downloading email_validator-2.2.0-py3-none-any.whl (33 kB)\n",
            "Collecting dnspython>=2.0.0 (from email-validator>=2.0.0->pydantic[email])\n",
            "  Downloading dnspython-2.6.1-py3-none-any.whl (307 kB)\n",
            "\u001b[2K     \u001b[90m━━━━━━━━━━━━━━━━━━━━━━━━━━━━━━━━━━━━━━━━\u001b[0m \u001b[32m307.7/307.7 kB\u001b[0m \u001b[31m4.5 MB/s\u001b[0m eta \u001b[36m0:00:00\u001b[0m\n",
            "\u001b[?25hRequirement already satisfied: idna>=2.0.0 in /usr/local/lib/python3.10/dist-packages (from email-validator>=2.0.0->pydantic[email]) (3.7)\n",
            "Installing collected packages: dnspython, email-validator\n",
            "Successfully installed dnspython-2.6.1 email-validator-2.2.0\n"
          ]
        }
      ]
    },
    {
      "cell_type": "code",
      "source": [
        "from uuid import UUID, uuid4 # universally unique identifiers\n",
        "from datetime import date\n",
        "from enum import Enum\n",
        "import json\n",
        "from pydantic import (\n",
        "    BaseModel,\n",
        "    EmailStr,\n",
        "    Field,\n",
        "    field_validator,\n",
        "    model_validator\n",
        ")"
      ],
      "metadata": {
        "id": "WlWz7e9n0Mzp"
      },
      "execution_count": null,
      "outputs": []
    },
    {
      "cell_type": "markdown",
      "source": [
        "### `BaseModel`\n",
        "\n",
        "Similar às dataclasses, os esquemas de dados no Pydantic exploram a estruturação de classes dedicadas ao armazenamento de dados. Ao criar uma classe que herda da classe `BaseModel` do Pydantic, todos os atributos com anotação de tipos serão considerados campos (*fields*) do esquema de dados e, portanto, farão parte das funções de validação e serialização automaticamente adicionadas à classe.\n",
        "\n",
        "Na célula a seguir, criamos o esquema de dados usado como exemplo no tutorial do Real Python [*Pydantic: Simplifying Data Validation in Python*](https://realpython.com/python-pydantic/). Sua definição envolve duas classe:\n",
        "\n",
        "* `Department(Enum)`: Um enumerador com valores do tipo string que define os possíveis departamentos de uma empresa hipotética. Será utilizado como o tipo de um dos campos do esquema de dados. O campo internamente irá armazenar strings, porém com a garantia que vai assumir apenas valores válidos.\n",
        "\n",
        "* `Employee(BaseModel)`: Esquema de dados para o registro de funcionários. Consiste nos atributos id, nome, email, data de nascimento, salário, departamento (nosso enumerador) e uma variável booleano que define se ele é elegível a benefícios.\n",
        "    * Note que a variável `employee_id` possui um valor default dado pela função `uuid4()`, que cria um id único para o funcionário. É uma prática comum para criação de chaves de um registro em bancos de dados, sem depender de atributos que possam ter duplicatas ou sejam de alguma maneira inconsistentes (sujeito a mudanças, etc.).\n",
        "    * Já o atributo `email` é do tipo `EmailStr`, um tipo importado da biblioteca Pydantic que possui validações internas de uma string de e-mail. Internamente usa a biblioteca [email-validator](https://pypi.org/project/email-validator/) do Python.\n",
        "    * Por fim, o atributo `date_of_birth`, por ser do tipo `date` da biblioteca `datetime`, aceita strings formatadas como uma data e as converte em um objeto de data. A classe `date` também possui validações internas para realizar a conversão.\n"
      ],
      "metadata": {
        "id": "uZwkYGVPlXak"
      }
    },
    {
      "cell_type": "code",
      "source": [
        "class Department(Enum):\n",
        "    HR = \"HR\"\n",
        "    SALES = \"SALES\"\n",
        "    IT = \"IT\"\n",
        "    ENGINEERING = \"ENGINEERING\"\n",
        "\n",
        "class Employee(BaseModel):\n",
        "    employee_id: UUID = uuid4()\n",
        "    name: str\n",
        "    email: EmailStr\n",
        "    date_of_birth: date\n",
        "    salary: float\n",
        "    department: Department\n",
        "    elected_benefits: bool\n",
        "\n",
        "schema = Employee.model_json_schema()\n",
        "print(json.dumps(schema, indent=2))"
      ],
      "metadata": {
        "colab": {
          "base_uri": "https://localhost:8080/"
        },
        "id": "5_QNIOZH0DZd",
        "outputId": "0f0c759b-fdac-438c-e856-8cf65ada439f"
      },
      "execution_count": null,
      "outputs": [
        {
          "output_type": "stream",
          "name": "stdout",
          "text": [
            "{\n",
            "  \"$defs\": {\n",
            "    \"Department\": {\n",
            "      \"enum\": [\n",
            "        \"HR\",\n",
            "        \"SALES\",\n",
            "        \"IT\",\n",
            "        \"ENGINEERING\"\n",
            "      ],\n",
            "      \"title\": \"Department\",\n",
            "      \"type\": \"string\"\n",
            "    }\n",
            "  },\n",
            "  \"properties\": {\n",
            "    \"employee_id\": {\n",
            "      \"default\": \"11377385-75ed-4ce3-9518-33ecd9c517a7\",\n",
            "      \"format\": \"uuid\",\n",
            "      \"title\": \"Employee Id\",\n",
            "      \"type\": \"string\"\n",
            "    },\n",
            "    \"name\": {\n",
            "      \"title\": \"Name\",\n",
            "      \"type\": \"string\"\n",
            "    },\n",
            "    \"email\": {\n",
            "      \"format\": \"email\",\n",
            "      \"title\": \"Email\",\n",
            "      \"type\": \"string\"\n",
            "    },\n",
            "    \"date_of_birth\": {\n",
            "      \"format\": \"date\",\n",
            "      \"title\": \"Date Of Birth\",\n",
            "      \"type\": \"string\"\n",
            "    },\n",
            "    \"salary\": {\n",
            "      \"title\": \"Salary\",\n",
            "      \"type\": \"number\"\n",
            "    },\n",
            "    \"department\": {\n",
            "      \"$ref\": \"#/$defs/Department\"\n",
            "    },\n",
            "    \"elected_benefits\": {\n",
            "      \"title\": \"Elected Benefits\",\n",
            "      \"type\": \"boolean\"\n",
            "    }\n",
            "  },\n",
            "  \"required\": [\n",
            "    \"name\",\n",
            "    \"email\",\n",
            "    \"date_of_birth\",\n",
            "    \"salary\",\n",
            "    \"department\",\n",
            "    \"elected_benefits\"\n",
            "  ],\n",
            "  \"title\": \"Employee\",\n",
            "  \"type\": \"object\"\n",
            "}\n"
          ]
        }
      ]
    },
    {
      "cell_type": "markdown",
      "source": [
        "Um registro do esquema é definido como uma instância da classe que herda de `BaseModel`. Na célula a seguir criamos uma instância apenas com os valores obrigatórios (`employee_id` será gerado automaticamente). O Pydantic realizará todo o processo de conversão (coerção), transformando os dados brutos fornecidos em objetos de tipos definidos na classe.\n",
        "\n",
        "Experimente substituir o objeto instanciado na célula a seguir pelo objeto a seguir. Note como o Pydantic irá apontar todos os campos preenchidos de forma inválida.\n",
        "```python\n",
        "new_employee = Employee(\n",
        "    name=2,\n",
        "    email=\"mila.br\",\n",
        "    date_of_birth=1991,\n",
        "    salary=\"sim\",\n",
        "    department=\"EDU\",\n",
        "    elected_benefits=1234,\n",
        ")\n",
        "```"
      ],
      "metadata": {
        "id": "4ww545aytTLf"
      }
    },
    {
      "cell_type": "code",
      "source": [
        "# definindo nova entrada como instância do modelo\n",
        "new_employee = Employee(\n",
        "    name=\"Mila Laranjeira\",\n",
        "    email=\"mila@projetodesenvolve.com.br\",\n",
        "    date_of_birth=\"1991-01-01\",\n",
        "    salary=1234.56,\n",
        "    department=\"IT\",\n",
        "    elected_benefits=True,\n",
        ")\n",
        "\n",
        "new_employee.model_dump()\n",
        "# new_employee.model_dump_json()"
      ],
      "metadata": {
        "colab": {
          "base_uri": "https://localhost:8080/"
        },
        "id": "XtGICsX-4W63",
        "outputId": "e243c7e2-5cd9-4e8c-fecd-586f960b46aa"
      },
      "execution_count": null,
      "outputs": [
        {
          "output_type": "execute_result",
          "data": {
            "text/plain": [
              "{'employee_id': UUID('11377385-75ed-4ce3-9518-33ecd9c517a7'),\n",
              " 'name': 'Mila Laranjeira',\n",
              " 'email': 'mila@projetodesenvolve.com.br',\n",
              " 'date_of_birth': datetime.date(1991, 1, 1),\n",
              " 'salary': 1234.56,\n",
              " 'department': <Department.IT: 'IT'>,\n",
              " 'elected_benefits': True}"
            ]
          },
          "metadata": {},
          "execution_count": 6
        }
      ]
    },
    {
      "cell_type": "markdown",
      "source": [
        "Para reforçar a ideia de \"coerção de tipos\", pegamos também o exemplo da documentação do Pydantic. Note que o atributo `tastes` define um dicionário `(str, PositiveInt)`, porém o registro possui valores que apesar de incorretos podem ser facilmente convertidos. Da mesma forma, a data fornecida não é um objeto do tipo data, mas é uma string formatada para viabilizar a conversão de tipo."
      ],
      "metadata": {
        "id": "P1s_51vVucVM"
      }
    },
    {
      "cell_type": "code",
      "source": [
        "from pydantic import PositiveInt\n",
        "\n",
        "class User(BaseModel):\n",
        "    id: int\n",
        "    name: str = 'John Doe'\n",
        "    signup_ts: date | None\n",
        "    tastes: dict[str, PositiveInt]\n",
        "\n",
        "\n",
        "external_data = {\n",
        "    'id': 123,\n",
        "    'signup_ts': '2019-06-01',\n",
        "    'tastes': {\n",
        "        'wine': 9,\n",
        "        b'cheese': 7.0,\n",
        "        'cabbage': '1',\n",
        "    },\n",
        "}\n",
        "\n",
        "## Ao prefixar um dicionário com o operador **,\n",
        "## você fornece argumentos de palavra-chave para a\n",
        "## função com base nos pares de chave-valor do dicionário.\n",
        "user = User(**external_data)\n",
        "\n",
        "print(user.id)\n",
        "print(user.model_dump())"
      ],
      "metadata": {
        "colab": {
          "base_uri": "https://localhost:8080/"
        },
        "id": "XTeeqUAKucIt",
        "outputId": "a834dec7-2bb1-4270-c82f-1abf965f3637"
      },
      "execution_count": null,
      "outputs": [
        {
          "output_type": "stream",
          "name": "stdout",
          "text": [
            "123\n",
            "{'id': 123, 'name': 'John Doe', 'signup_ts': datetime.date(2019, 6, 1), 'tastes': {'wine': 9, 'cheese': 7, 'cabbage': 1}}\n"
          ]
        }
      ]
    },
    {
      "cell_type": "markdown",
      "source": [
        "### Field\n",
        "\n",
        "Voltando ao exemplo do esquema `Employee`, falaremos agora dos campos (*fields*), também velhos conhecidos da biblioteca `dataclasses`. O field serve o propósito de customizar cada um dos campos bem como suas validações. Segue alguns dos parâmetros interessantes de customização de campos:\n",
        "* `default` e `default_factory`: assim como em `dataclasses`, podemos definir um valor padrão (`default`) ou um *callable* (função, classe, etc.) que produz um valor padrão (`default_factory`).\n",
        "* `alias`: Você pode definir um apelido para o objeto, que será usado no processo de validação (entrada de dados) e serialização (saída de dados), podendo ser diferente do nome da variável. Você pode optar também pelos parâmetros mais específicos `validation_alias` ou `serialization_alias`.\n",
        "* `frozen`: Se `True`, torna o atributo imutável. Tentativas de alterar o valor em uma instância vão lançar um erro.\n",
        "* `repr`: Se o atributo deve ser incluído em `__repr__` (usado pelos prints e outras saídas formatadas). Pode ser usado em dados sensíveis ou sigilosos.\n",
        "* `min_length`, `max_length`: Tamanho máximo ou mínimo para iteráveis.\n",
        "* `gt`, `lt`, `ge`, `le`: Estabelece regras para números, devendo ser maior que | menor que | maior ou igual | menor ou igual que um dado valor.\n",
        "\n",
        "Veja uma lista detalhada dos parâmetros da classe Field [na documentação](https://docs.pydantic.dev/latest/api/fields/).\n",
        "\n",
        "> **`ValidationError`** é uma classe customizada pelo Pydantic que herda de exceções do Python. É capaz de capturar erros de validação em objetos de exceção, permitindo sua impressão e tratamento de maneira mais legível e estruturada. Você pode ler mais sobre exceções Pydantic e como customizá-las na [documentação](https://docs.pydantic.dev/latest/errors/errors/)."
      ],
      "metadata": {
        "id": "uMkHWm9Bv27E"
      }
    },
    {
      "cell_type": "code",
      "source": [
        "from pydantic import ValidationError\n",
        "\n",
        "class Employee(BaseModel):\n",
        "    employee_id: UUID = Field(default_factory=uuid4, frozen=True)\n",
        "    name: str = Field(min_length=2, frozen=True)\n",
        "    email: EmailStr = Field(pattern=r\".+@projetodesenvolve\\.com\\.br$\") # regex - regular expression\n",
        "    date_of_birth: date = Field(alias=\"birth_date\", repr=False, frozen=True)\n",
        "    salary: float = Field(alias=\"compensation\", gt=0, repr=False)\n",
        "    department: Department\n",
        "    elected_benefits: bool\n",
        "\n",
        "try:\n",
        "    employee_data = dict(\n",
        "        name=\"Mila Laranjeira\",\n",
        "        email=\"mila@projetodesenvolve.com.br\",\n",
        "        birth_date=\"1991-01-01\",\n",
        "        compensation=1234.56,\n",
        "        department=\"IT\",\n",
        "        elected_benefits=True,\n",
        "    )\n",
        "    employee = Employee(**employee_data)\n",
        "    print(employee.model_dump())\n",
        "except ValidationError as e:\n",
        "    print(json.dumps(e.errors(), indent=2))"
      ],
      "metadata": {
        "colab": {
          "base_uri": "https://localhost:8080/"
        },
        "id": "HFyxDAxC0_UA",
        "outputId": "c2912a3d-356f-40fb-b9b9-c59946965825"
      },
      "execution_count": null,
      "outputs": [
        {
          "output_type": "stream",
          "name": "stdout",
          "text": [
            "{'employee_id': UUID('e1da51a3-d0ca-4952-872b-4002d94b82ac'), 'name': 'Mila Laranjeira', 'email': 'mila@projetodesenvolve.com.br', 'date_of_birth': datetime.date(1991, 1, 1), 'salary': 1234.56, 'department': <Department.IT: 'IT'>, 'elected_benefits': True}\n"
          ]
        }
      ]
    },
    {
      "cell_type": "markdown",
      "source": [
        "A seguir, instanciamos novos registros com os método de classe `model_validate` e `model_validate_json`. Note que no exemplo anterior tivemos que usar o operador unário `**` para converter o dicionário em argumentos. Esses métodos de `BaseModel` aceitam diretamente argumentos tipo `dict` e `json`, validando cada um dos campos e retornando o objeto instanciado."
      ],
      "metadata": {
        "id": "flLSNzJF1IQX"
      }
    },
    {
      "cell_type": "code",
      "source": [
        "## definindo novo dado como dicionário\n",
        "employee_data = {\n",
        "    \"name\": \"Mila Laranjeira\",\n",
        "    \"email\": \"mila@projetodesenvolve.com.br\",\n",
        "    \"birth_date\": \"1991-01-01\",  ## chave alias\n",
        "    \"compensation\": 1234.56,     ## chave alias\n",
        "    \"department\": \"IT\",\n",
        "    \"elected_benefits\": True,\n",
        "}\n",
        "employee = Employee.model_validate(employee_data)\n",
        "\n",
        "new_employee_json = \"\"\"\n",
        " {\"employee_id\":\"d2e7b773-926b-49df-939a-5e98cbb9c9eb\",\n",
        " \"name\":\"Mila Laranjeira\",\n",
        " \"email\":\"mila@projetodesenvolve.com.br\",\n",
        " \"birth_date\":\"1991-01-01\",\n",
        " \"compensation\":1234.56,\n",
        " \"department\":\"IT\",\n",
        " \"elected_benefits\":true}\n",
        " \"\"\"\n",
        "new_employee = Employee.model_validate_json(new_employee_json)"
      ],
      "metadata": {
        "id": "pdkuSIuG3-ZL"
      },
      "execution_count": null,
      "outputs": []
    },
    {
      "cell_type": "markdown",
      "source": [
        "### `field_validator` e `model_validator`\n",
        "\n",
        "O tutorial do Real Python cria duas situações hipotéticas para ilustrar o uso de **validadores customizados**, quando queremos impor regras de negócio para além dos tipos de dados.\n",
        "* Validação de campo: Suponha que a sua empresa apenas contrata maiores de 18 anos. Para trabalhar essa regra, temos o campo data de nascimento, mas por se tratar de um objeto tipo `date`, precisamos criar uma validação customizada para o campo.\n",
        "* Validação de modelo: Suponha agora que o departamento de TI da empresa é terceirizada e portanto não é elegível a benefícios de funcionários internos. Essa é uma validação que envolve mais de um campo e portanto não é suficiente criar uma validação de campo único.\n",
        "\n",
        "Ambos `field_validator` e `model_validator` são importados do Pydantic e utilizados como decoradores de função. As representações funcionais a seguir apresentam os parâmetros de cada objeto.\n",
        "\n",
        "```python\n",
        "field_validator(field, *fields=(), mode='after', check_fields=None)\n",
        "```\n",
        "* `field`: parâmetro obrigatório com o campo a ser validado\n",
        "* `*fields`: campos adicionais que também devem se sujeitar à mesma validação (independentes um do outro).\n",
        "* `mode`: se a validação acontece antes ou depois da validação padrão de tipos.\n",
        "* `check_fields`: se `True`, verifica se os campos existem no modelo.\n",
        "\n",
        "```python\n",
        "model_validator(mode)\n",
        "```\n",
        "* `mode`: parâmetro obrigatório que define se a validação acontece antes ou depois da validação padrão de tipos.\n",
        "\n"
      ],
      "metadata": {
        "id": "dhteXMJ867Fy"
      }
    },
    {
      "cell_type": "code",
      "source": [
        "class Employee(BaseModel):\n",
        "    employee_id: UUID = Field(default_factory=uuid4, frozen=True)\n",
        "    name: str = Field(min_length=1, frozen=True)\n",
        "    email: EmailStr = Field(pattern=r\".+@example\\.com$\")\n",
        "    date_of_birth: date = Field(alias=\"birth_date\", repr=False, frozen=True)\n",
        "    salary: float = Field(alias=\"compensation\", gt=0, repr=False)\n",
        "    department: Department\n",
        "    elected_benefits: bool\n",
        "\n",
        "    @field_validator(\"date_of_birth\")\n",
        "    @classmethod\n",
        "    def check_valid_age(cls, date_of_birth: date) -> date:\n",
        "        today = date.today()\n",
        "        eighteen_years_ago = date(today.year - 18, today.month, today.day)\n",
        "\n",
        "        if date_of_birth > eighteen_years_ago:\n",
        "            raise ValueError(\"Employees must be at least 18 years old.\")\n",
        "\n",
        "        return date_of_birth\n",
        "\n",
        "    @model_validator(mode=\"after\")\n",
        "    def check_it_benefits(self) -> Self:\n",
        "        department = self.department\n",
        "        elected_benefits = self.elected_benefits\n",
        "\n",
        "        if department == Department.IT and elected_benefits:\n",
        "            raise ValueError(\n",
        "                \"IT employees are contractors and don't qualify for benefits\"\n",
        "            )\n",
        "        return self\n",
        "\n",
        "\n",
        "## falha no field validator\n",
        "try:\n",
        "    employee_data = {\n",
        "        \"name\": \"Jake Bar\",\n",
        "        \"email\": \"jbar@example.com\",\n",
        "        \"birth_date\": '2020-05-21',\n",
        "        \"compensation\": 90_000,\n",
        "        \"department\": \"SALES\",\n",
        "        \"elected_benefits\": True,\n",
        "    }\n",
        "    employee = Employee.model_validate(employee_data)\n",
        "except ValueError as e:\n",
        "    print(e)\n",
        "## falha no model validator\n",
        "try:\n",
        "    new_employee = {\n",
        "        \"name\": \"Alexis Tau\",\n",
        "        \"email\": \"ataue@example.com\",\n",
        "        \"birth_date\": \"2001-04-12\",\n",
        "        \"compensation\": 100_000,\n",
        "        \"department\": \"IT\",       ### IT\n",
        "        \"elected_benefits\": True, ### não recebe benefício\n",
        "    }\n",
        "\n",
        "    employee = Employee.model_validate(new_employee)\n",
        "except ValueError as e:\n",
        "    print(e)"
      ],
      "metadata": {
        "id": "L93uINof1jfs",
        "colab": {
          "base_uri": "https://localhost:8080/"
        },
        "outputId": "f6a81831-5da0-453a-cd93-3a06dd9d67de"
      },
      "execution_count": null,
      "outputs": [
        {
          "output_type": "stream",
          "name": "stdout",
          "text": [
            "1 validation error for Employee\n",
            "birth_date\n",
            "  Value error, Employees must be at least 18 years old. [type=value_error, input_value='2020-05-21', input_type=str]\n",
            "    For further information visit https://errors.pydantic.dev/2.7/v/value_error\n",
            "1 validation error for Employee\n",
            "  Value error, IT employees are contractors and don't qualify for benefits [type=value_error, input_value={'name': 'Alexis Tau', 'e...elected_benefits': True}, input_type=dict]\n",
            "    For further information visit https://errors.pydantic.dev/2.7/v/value_error\n"
          ]
        }
      ]
    }
  ]
}