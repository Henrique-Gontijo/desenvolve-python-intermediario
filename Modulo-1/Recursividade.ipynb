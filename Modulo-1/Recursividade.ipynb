{
  "nbformat": 4,
  "nbformat_minor": 0,
  "metadata": {
    "colab": {
      "provenance": []
    },
    "kernelspec": {
      "name": "python3",
      "display_name": "Python 3"
    },
    "language_info": {
      "name": "python"
    }
  },
  "cells": [
    {
      "cell_type": "markdown",
      "source": [
        "> Projeto Desenvolve <br>\n",
        "Programação Intermediária com Python <br>\n",
        "Profa. Camila Laranjeira (mila@projetodesenvolve.com.br) <br>\n",
        "\n",
        "# 1.1 - Recursividade\n",
        "\n",
        "Quando começamos a estudar funções customizadas, criamos o caso mais simples onde o programa principal chama nossas funções. No entanto, funções podem chamar outras funções, como também podem chamar novas instâncias de si mesma! Chamamos de **função recursiva toda função que chama a si própria**. Mas o conceito de recursividade é muito mais amplo, como veremos nos exemplos a seguir.\n",
        "\n",
        "### Exemplo 1\n",
        "\n",
        "Destaca-se o conceito de **auto-similaridade**, ou seja, um elemento que contém cópias menores de si mesmo. Esse conceito se manifesta em objetos e fenômenos do mundo real. O exemplo mais comum (e mais bonito) são os fractais, quando a mesma forma ou padrão se repete de forma estruturada.\n",
        "\n",
        "Temos alguns exemplos didáticos na geometria que nos ajudam a compreender essa estrutura de padrões repetitivos (incluindo a [triforce do jogo Zelda](https://zelda.fandom.com/wiki/Triforce)).   \n",
        "\n",
        "<!-- <img src=\"https://static.wikia.nocookie.net/zelda_gamepedia_en/images/7/70/ALBW_Triforce_Artwork.png/revision/latest?cb=20140604184126\" width=200/> -->\n",
        "<img src=\"https://drive.google.com/uc?id=1-AQdBxZS9wqMBLj_e9GG4h3ebrhi55xn\" width=500/>\n",
        "\n",
        "A geometria de fractais é muito utilizada para modelar fenômenos naturais, como a geografia de rios, sinapses do cérebro, flocos de neve, plantas, entre muitos outros.\n",
        "\n",
        "<img src=\"https://cdn.shopify.com/s/files/1/0109/9779/2831/files/fractals_in_nature_banner_600x600.jpg?v=1667487054\" width=600/>\n",
        "\n",
        "\n",
        "\n",
        "\n",
        "\n",
        "\n",
        "\n",
        "\n"
      ],
      "metadata": {
        "id": "v8EIyhtwgEtJ"
      }
    },
    {
      "cell_type": "markdown",
      "source": [
        "### Exemplo 2\n",
        "\n",
        "Na matemática, alguns procedimentos são definidos em termos de si mesmos.\n",
        "\n",
        "- **Somatório** ($\\sum{i}_{i=n_0}^{n}$): é a a soma de todos os números dentro de um intervalo entre $n_0$ e $n$. Define-se por <br>\n",
        "$\\sum{i}_{i=n_0}^{n} = n + (n-1) + (n-2) + ... + n_0 $ <br> <br>\n",
        "ou recursivamente: <br>\n",
        "$\\sum{i}_{i=n_0}^{n} = n + \\sum{i}_{i=n_0}^{n-1} $\n",
        "\n",
        "<br>\n",
        "\n",
        "- **Fatorial** ($n!$): é a multiplicação de um número $n$ por todos os seus antecessores maiores ou iguais a 1. Define-se por: <br>\n",
        "$n! = n * (n-1) * (n-2) * ... * 1$ <br> <br>\n",
        "ou recursivamente: <br>\n",
        "$n! = n * (n-1)!$\n",
        "\n",
        "<br>\n",
        "\n",
        "Para ficar mais próximo do que veremos em código, vejamos a representação matemática do fatorial que quebra os **possíveis casos de entrada**, determinando os resultados equivalentes. A representação a seguir é lida como:\n",
        "> quando $n$ é zero, $n!$ (n fatorial) é igual a $1$. Quando $n$ é maior que zero, $n!$ é igual a $n*(n-1)$!\n",
        "\n",
        "$ n! = \\left.\n",
        "  \\begin{cases}\n",
        "    1 & n = 0 \\\\\n",
        "    n*(n-1)! & n > 0 \\\\\n",
        "  \\end{cases}\n",
        "  \\right. $\n",
        "\n",
        "  Assim como na matemática, uma função recursiva em nosso código possui dois elementos principais:\n",
        "  - **Caso base**: Forma mais simples do problema que tem uma resposta direta.\n",
        "  - **Passo recursivo**: Aqui quebramos o problema em tarefas menores auto-semelhantes. Na prática, chamamos a própria função para um novo estado do problema **que se move na direção do caso base**.\n",
        "\n",
        "  Na célula a seguir, implementamos a função recursiva para calcular o fatorial de um número usando exatamente os mesmos casos definidos matemáticamente."
      ],
      "metadata": {
        "id": "NbEM98Dd02Q6"
      }
    },
    {
      "cell_type": "code",
      "source": [
        "def fatorial(n):\n",
        "  print(f'{n}! = ', end='')\n",
        "\n",
        "  ### caso base\n",
        "  if(n == 0):\n",
        "    print('1 #caso base')\n",
        "    return 1 # nao recursivo\n",
        "\n",
        "  ### passo recursivo\n",
        "  else:\n",
        "    print(f'{n} * {n-1}!')\n",
        "    return n * fatorial(n-1)\n",
        "\n",
        "print(f'O fatorial de {4} é {fatorial(4)}')"
      ],
      "metadata": {
        "id": "jmc_IhGUgEJZ",
        "colab": {
          "base_uri": "https://localhost:8080/"
        },
        "outputId": "7e841761-507d-4390-c417-af8c7f19182d"
      },
      "execution_count": null,
      "outputs": [
        {
          "output_type": "stream",
          "name": "stdout",
          "text": [
            "4! = 4 * 3!\n",
            "3! = 3 * 2!\n",
            "2! = 2 * 1!\n",
            "1! = 1 * 0!\n",
            "0! = 1 #caso base\n",
            "O fatorial de 4 é 24\n"
          ]
        }
      ]
    },
    {
      "cell_type": "markdown",
      "source": [
        "Note que o passo recursivo deve convergir para o caso base passo a passo. O **caso base pode ser visto como a condição de parada da recursão**.\n",
        "> Caso base: $0! = 1$ <br>\n",
        "Passo recursivo: $n * (n-1)!$ -> **Decremento de 1 em 1 até chegar em** $0!$\n",
        "\n",
        "O que executa na prática:\n",
        "```\n",
        "4! = 4 * 3!\n",
        "4! = 4 * 3 * 2!\n",
        "4! = 4 * 3 * 2 * 1!\n",
        "4! = 4 * 3 * 2 * 1 * 0!\n",
        "4! = 4 * 3 * 2 * 1 * 1\n",
        "4! = 4 * 3 * 2 * 1\n",
        "4! = 4 * 3 * 2\n",
        "4! = 4 * 6\n",
        "4! = 24  \n",
        "```\n",
        "\n",
        "\n",
        "\n"
      ],
      "metadata": {
        "id": "6ZkF6utd58oN"
      }
    },
    {
      "cell_type": "markdown",
      "source": [
        "### Pilha de execução\n",
        "\n",
        "<img src=\"https://drive.google.com/uc?id=11phU-cR7Ud8VOGOY7irm60Y6lTUkaQUs\" width=400/>\n",
        "<img src=\"https://drive.google.com/uc?id=1RftlCozYHcbqLe16F1rdHd9rLt3e6Vzx\" width=300/>"
      ],
      "metadata": {
        "id": "5DOC6oEg8XRM"
      }
    },
    {
      "cell_type": "markdown",
      "source": [
        "### Exemplo 3\n",
        "Quem são seus ancestrais?\n",
        "```\n",
        "ancestrais(você) = mãe(você) + pai(você) + ancestrais(mãe) + ancestrais(pai)\n",
        "```\n",
        "Para produzir uma versão simples de sua árvore de ancestralidade ```ancestrais(você)```, juntamos seus ancestrais diretos ```mãe(você), pai(você)``` e recursivamente consultamos os ancestrais de pessoas mais distantes da árvore. O pseudocódigo a seguir ilustra a expansão dessa árvore até o nível de seus avós.\n",
        "\n",
        "```python\n",
        "ancestrais(você) = mãe(você) + pai(você) + ancestrais(mãe) + ancestrais(pai)\n",
        "\n",
        "# expandindo as chamadas do passo anterior\n",
        "ancestrais(você) = mãe(você) + pai(você) + \\\n",
        "                   # avó materna + avô materno + ancestrais(avó) + ancestrais(avô)\n",
        "                   mãe(mãe) + pai(mãe) + ancestrais(mãe(mãe)) + ancestrais(pai(mãe)) + \\\n",
        "                   # avó paterna + avô paterno + ancestrais(avó) + ancestrais(avô)\n",
        "                   mãe(pai) + pai(pai) + ancestrais(mãe(pai)) + ancestrais(pai(pai))\n",
        "```\n",
        "\n",
        "Essa função hipotética ```ancestrais(pessoa)``` é recursiva, pois no corpo da função chamamos ela mesma, alterando o parâmetro ```pessoa``` enviado. **Seu comportamento será sempre o mesmo**: incluir o pai e a mãe do ancestral recebido por parâmetro, e dar continuidade às chamadas recursivas de ancestralidade.\n",
        "\n",
        "Teoricamente podemos expandir infinitamente a árvore de ancestralidade, mas na prática vamos definir um ponto de corte para finalizar a expansão. Na recursão, chamamos esse ponto de **caso base**, onde interrompemos as chamadas recursivas e retornamos apenas um valor determinístico. Os outros casos, onde realizamos as chamadas recursivas, são chamados de **passo recursivo**. Imagine que vamos expandir até os ancestrais de seus bisavós, definimos a seguir o caso base, e o passo recursivo. Ou seja, se o `x` recebido se referir a qualquer `bisa` (vô ou vó) interrompemos a recursão, em qualquer outro caso, seguimos expandindo a árvore.\n",
        "\n",
        "$ \\texttt{ancestrais(x)} = \\left.\n",
        "  \\begin{cases}\n",
        "    \\texttt{mae(x) + pai(x)} & \\texttt{if 'bisa' in x}  \\\\\n",
        "    \\texttt{mae(x) + pai(x) + ancestrais(mae(x)) + ancestrais(pai(x))} & \\texttt{outros casos}\\\\\n",
        "  \\end{cases}\n",
        "  \\right. $\n",
        "\n",
        "A seguir implementamos uma versão adaptada da árvore de ancestralidade com vários prints no meio do caminho para entender o fluxo de execução de um código recursivo."
      ],
      "metadata": {
        "id": "5MHjKwan6Q0K"
      }
    },
    {
      "cell_type": "code",
      "source": [
        "mae = ['mãe', 'avó', 'bisavó', 'tataravó']\n",
        "pai = ['pai', 'avô', 'bisavô', 'tataravô']\n",
        "\n",
        "def ancestrais(nivel):\n",
        "\n",
        "  # caso base - condição de parada da recursividade\n",
        "  if 'bisa' in mae[nivel]:\n",
        "    print(f'{mae[nivel]} {pai[nivel]} --- CASO BASE')\n",
        "\n",
        "  # passo recursivo - expandindo a pilha de recursão\n",
        "  else:\n",
        "    print(f'{mae[nivel]} {pai[nivel]}')\n",
        "\n",
        "    print(f'Ancestrais da {mae[nivel]}: ', end='')\n",
        "    ancestrais(nivel+1)\n",
        "\n",
        "    print(f'Ancestrais do {pai[nivel]}: ', end='')\n",
        "    ancestrais(nivel+1)\n",
        "\n",
        "ancestrais(0)"
      ],
      "metadata": {
        "colab": {
          "base_uri": "https://localhost:8080/"
        },
        "id": "WIv3k-YZKDt9",
        "outputId": "e1444707-7b64-4d28-c92c-def4a7990281"
      },
      "execution_count": null,
      "outputs": [
        {
          "output_type": "stream",
          "name": "stdout",
          "text": [
            "mãe pai\n",
            "Ancestrais da mãe: avó avô\n",
            "Ancestrais da avó: bisavó bisavô --- CASO BASE\n",
            "Ancestrais do avô: bisavó bisavô --- CASO BASE\n",
            "Ancestrais do pai: avó avô\n",
            "Ancestrais da avó: bisavó bisavô --- CASO BASE\n",
            "Ancestrais do avô: bisavó bisavô --- CASO BASE\n"
          ]
        }
      ]
    },
    {
      "cell_type": "markdown",
      "source": [
        "Na prática, a brincadeira da ancestralidade é um problema de caminhamento em árvore. A árvore é uma estrutura de dados muito útil para dados que podem ser organizados hierarquicamente. Existem diversos algoritmos para visitar todos os elementos de uma árvore (pré-ordem, pós-ordem, por profundidade, etc.), todos muito mais simples e intuitivos de implementar usando recursividade.\n",
        "\n",
        "A seguir usamos uma adaptação do [código do GeeksForGeeks](https://www.geeksforgeeks.org/y-fractal-tree-in-python-using-turtle/) que desenha uma árvore fractal usando Python para ilustrar a solução recursiva de visitar os nós de uma árvore. Instale o pacote `ColabTurtle` (só rodar a célula a seguir) para que possamos visualizar o resultado sem sair do Colab."
      ],
      "metadata": {
        "id": "wgpkEFZu8bCg"
      }
    },
    {
      "cell_type": "code",
      "execution_count": null,
      "metadata": {
        "id": "6f-K2lRAlei-"
      },
      "outputs": [],
      "source": [
        "!pip3 install ColabTurtle"
      ]
    },
    {
      "cell_type": "code",
      "source": [
        "!pip3 install ColabTurtle\n",
        "from ColabTurtle.Turtle import *\n",
        "# posição inicial da tartaruga\n",
        "initializeTurtle()\n",
        "penup()\n",
        "goto(400, 400)\n",
        "pendown()\n",
        "\n",
        "# função recursiva para plot da árvore fractal\n",
        "def y(sz, level):\n",
        "\n",
        "    # caso base - folhas da árvore\n",
        "    if level == 1:\n",
        "      forward(sz)\n",
        "      forward(-sz)\n",
        "\n",
        "    # passo recursivo\n",
        "    else:\n",
        "        # desenha a base do Y\n",
        "        forward(sz)\n",
        "\n",
        "        # vira a tartaruga pra direita\n",
        "        right(angle/2)\n",
        "        # chamada recursiva da bifurcação direita\n",
        "        y(0.8 * sz, level-1)\n",
        "\n",
        "        # vira a tartaruga pra esquerda\n",
        "        left(angle)\n",
        "        # chamada recursiva da bifurcação esquerda\n",
        "        y(0.8 * sz, level-1)\n",
        "\n",
        "        # retorna a tartaruga para a base da bifurcação\n",
        "        right(angle/2)\n",
        "        forward(-sz)\n",
        "\n",
        "# ângulo da bifurcação\n",
        "angle = 60\n",
        "# início das chamadas recursivas\n",
        "y(80, 5)"
      ],
      "metadata": {
        "colab": {
          "base_uri": "https://localhost:8080/",
          "height": 541
        },
        "id": "AMJGR0g_OMr4",
        "outputId": "ba3a5ba7-5ef0-4776-9453-94a383b92be2"
      },
      "execution_count": null,
      "outputs": [
        {
          "output_type": "display_data",
          "data": {
            "text/plain": [
              "<IPython.core.display.HTML object>"
            ],
            "text/html": [
              "\n",
              "      <svg width=\"800\" height=\"500\">\n",
              "        <rect width=\"100%\" height=\"100%\" fill=\"black\"/>\n",
              "        <line x1=\"400\" y1=\"400\" x2=\"400.0\" y2=\"320.0\" stroke-linecap=\"round\" style=\"stroke:white;stroke-width:4\"/><line x1=\"400.0\" y1=\"320.0\" x2=\"432.0\" y2=\"264.574\" stroke-linecap=\"round\" style=\"stroke:white;stroke-width:4\"/><line x1=\"432.0\" y1=\"264.574\" x2=\"476.341\" y2=\"238.974\" stroke-linecap=\"round\" style=\"stroke:white;stroke-width:4\"/><line x1=\"476.341\" y1=\"238.974\" x2=\"517.301\" y2=\"238.974\" stroke-linecap=\"round\" style=\"stroke:white;stroke-width:4\"/><line x1=\"517.301\" y1=\"238.974\" x2=\"545.679\" y2=\"255.358\" stroke-linecap=\"round\" style=\"stroke:white;stroke-width:4\"/><line x1=\"545.679\" y1=\"255.358\" x2=\"517.301\" y2=\"238.974\" stroke-linecap=\"round\" style=\"stroke:white;stroke-width:4\"/><line x1=\"517.301\" y1=\"238.974\" x2=\"545.679\" y2=\"222.59\" stroke-linecap=\"round\" style=\"stroke:white;stroke-width:4\"/><line x1=\"545.679\" y1=\"222.59\" x2=\"517.301\" y2=\"238.974\" stroke-linecap=\"round\" style=\"stroke:white;stroke-width:4\"/><line x1=\"517.301\" y1=\"238.974\" x2=\"476.341\" y2=\"238.974\" stroke-linecap=\"round\" style=\"stroke:white;stroke-width:4\"/><line x1=\"476.341\" y1=\"238.974\" x2=\"496.821\" y2=\"203.502\" stroke-linecap=\"round\" style=\"stroke:white;stroke-width:4\"/><line x1=\"496.821\" y1=\"203.502\" x2=\"525.199\" y2=\"187.118\" stroke-linecap=\"round\" style=\"stroke:white;stroke-width:4\"/><line x1=\"525.199\" y1=\"187.118\" x2=\"496.821\" y2=\"203.502\" stroke-linecap=\"round\" style=\"stroke:white;stroke-width:4\"/><line x1=\"496.821\" y1=\"203.502\" x2=\"496.821\" y2=\"170.734\" stroke-linecap=\"round\" style=\"stroke:white;stroke-width:4\"/><line x1=\"496.821\" y1=\"170.734\" x2=\"496.821\" y2=\"203.502\" stroke-linecap=\"round\" style=\"stroke:white;stroke-width:4\"/><line x1=\"496.821\" y1=\"203.502\" x2=\"476.341\" y2=\"238.974\" stroke-linecap=\"round\" style=\"stroke:white;stroke-width:4\"/><line x1=\"476.341\" y1=\"238.974\" x2=\"432.0\" y2=\"264.574\" stroke-linecap=\"round\" style=\"stroke:white;stroke-width:4\"/><line x1=\"432.0\" y1=\"264.574\" x2=\"432.0\" y2=\"213.374\" stroke-linecap=\"round\" style=\"stroke:white;stroke-width:4\"/><line x1=\"432.0\" y1=\"213.374\" x2=\"452.48\" y2=\"177.902\" stroke-linecap=\"round\" style=\"stroke:white;stroke-width:4\"/><line x1=\"452.48\" y1=\"177.902\" x2=\"480.858\" y2=\"161.518\" stroke-linecap=\"round\" style=\"stroke:white;stroke-width:4\"/><line x1=\"480.858\" y1=\"161.518\" x2=\"452.48\" y2=\"177.902\" stroke-linecap=\"round\" style=\"stroke:white;stroke-width:4\"/><line x1=\"452.48\" y1=\"177.902\" x2=\"452.48\" y2=\"145.134\" stroke-linecap=\"round\" style=\"stroke:white;stroke-width:4\"/><line x1=\"452.48\" y1=\"145.134\" x2=\"452.48\" y2=\"177.902\" stroke-linecap=\"round\" style=\"stroke:white;stroke-width:4\"/><line x1=\"452.48\" y1=\"177.902\" x2=\"432.0\" y2=\"213.374\" stroke-linecap=\"round\" style=\"stroke:white;stroke-width:4\"/><line x1=\"432.0\" y1=\"213.374\" x2=\"411.52\" y2=\"177.902\" stroke-linecap=\"round\" style=\"stroke:white;stroke-width:4\"/><line x1=\"411.52\" y1=\"177.902\" x2=\"411.52\" y2=\"145.134\" stroke-linecap=\"round\" style=\"stroke:white;stroke-width:4\"/><line x1=\"411.52\" y1=\"145.134\" x2=\"411.52\" y2=\"177.902\" stroke-linecap=\"round\" style=\"stroke:white;stroke-width:4\"/><line x1=\"411.52\" y1=\"177.902\" x2=\"383.142\" y2=\"161.518\" stroke-linecap=\"round\" style=\"stroke:white;stroke-width:4\"/><line x1=\"383.142\" y1=\"161.518\" x2=\"411.52\" y2=\"177.902\" stroke-linecap=\"round\" style=\"stroke:white;stroke-width:4\"/><line x1=\"411.52\" y1=\"177.902\" x2=\"432.0\" y2=\"213.374\" stroke-linecap=\"round\" style=\"stroke:white;stroke-width:4\"/><line x1=\"432.0\" y1=\"213.374\" x2=\"432.0\" y2=\"264.574\" stroke-linecap=\"round\" style=\"stroke:white;stroke-width:4\"/><line x1=\"432.0\" y1=\"264.574\" x2=\"400.0\" y2=\"320.0\" stroke-linecap=\"round\" style=\"stroke:white;stroke-width:4\"/><line x1=\"400.0\" y1=\"320.0\" x2=\"368.0\" y2=\"264.574\" stroke-linecap=\"round\" style=\"stroke:white;stroke-width:4\"/><line x1=\"368.0\" y1=\"264.574\" x2=\"368.0\" y2=\"213.374\" stroke-linecap=\"round\" style=\"stroke:white;stroke-width:4\"/><line x1=\"368.0\" y1=\"213.374\" x2=\"388.48\" y2=\"177.902\" stroke-linecap=\"round\" style=\"stroke:white;stroke-width:4\"/><line x1=\"388.48\" y1=\"177.902\" x2=\"416.858\" y2=\"161.518\" stroke-linecap=\"round\" style=\"stroke:white;stroke-width:4\"/><line x1=\"416.858\" y1=\"161.518\" x2=\"388.48\" y2=\"177.902\" stroke-linecap=\"round\" style=\"stroke:white;stroke-width:4\"/><line x1=\"388.48\" y1=\"177.902\" x2=\"388.48\" y2=\"145.134\" stroke-linecap=\"round\" style=\"stroke:white;stroke-width:4\"/><line x1=\"388.48\" y1=\"145.134\" x2=\"388.48\" y2=\"177.902\" stroke-linecap=\"round\" style=\"stroke:white;stroke-width:4\"/><line x1=\"388.48\" y1=\"177.902\" x2=\"368.0\" y2=\"213.374\" stroke-linecap=\"round\" style=\"stroke:white;stroke-width:4\"/><line x1=\"368.0\" y1=\"213.374\" x2=\"347.52\" y2=\"177.902\" stroke-linecap=\"round\" style=\"stroke:white;stroke-width:4\"/><line x1=\"347.52\" y1=\"177.902\" x2=\"347.52\" y2=\"145.134\" stroke-linecap=\"round\" style=\"stroke:white;stroke-width:4\"/><line x1=\"347.52\" y1=\"145.134\" x2=\"347.52\" y2=\"177.902\" stroke-linecap=\"round\" style=\"stroke:white;stroke-width:4\"/><line x1=\"347.52\" y1=\"177.902\" x2=\"319.142\" y2=\"161.518\" stroke-linecap=\"round\" style=\"stroke:white;stroke-width:4\"/><line x1=\"319.142\" y1=\"161.518\" x2=\"347.52\" y2=\"177.902\" stroke-linecap=\"round\" style=\"stroke:white;stroke-width:4\"/><line x1=\"347.52\" y1=\"177.902\" x2=\"368.0\" y2=\"213.374\" stroke-linecap=\"round\" style=\"stroke:white;stroke-width:4\"/><line x1=\"368.0\" y1=\"213.374\" x2=\"368.0\" y2=\"264.574\" stroke-linecap=\"round\" style=\"stroke:white;stroke-width:4\"/><line x1=\"368.0\" y1=\"264.574\" x2=\"323.659\" y2=\"238.974\" stroke-linecap=\"round\" style=\"stroke:white;stroke-width:4\"/><line x1=\"323.659\" y1=\"238.974\" x2=\"303.179\" y2=\"203.502\" stroke-linecap=\"round\" style=\"stroke:white;stroke-width:4\"/><line x1=\"303.179\" y1=\"203.502\" x2=\"303.179\" y2=\"170.734\" stroke-linecap=\"round\" style=\"stroke:white;stroke-width:4\"/><line x1=\"303.179\" y1=\"170.734\" x2=\"303.179\" y2=\"203.502\" stroke-linecap=\"round\" style=\"stroke:white;stroke-width:4\"/><line x1=\"303.179\" y1=\"203.502\" x2=\"274.801\" y2=\"187.118\" stroke-linecap=\"round\" style=\"stroke:white;stroke-width:4\"/><line x1=\"274.801\" y1=\"187.118\" x2=\"303.179\" y2=\"203.502\" stroke-linecap=\"round\" style=\"stroke:white;stroke-width:4\"/><line x1=\"303.179\" y1=\"203.502\" x2=\"323.659\" y2=\"238.974\" stroke-linecap=\"round\" style=\"stroke:white;stroke-width:4\"/><line x1=\"323.659\" y1=\"238.974\" x2=\"282.699\" y2=\"238.974\" stroke-linecap=\"round\" style=\"stroke:white;stroke-width:4\"/><line x1=\"282.699\" y1=\"238.974\" x2=\"254.321\" y2=\"222.59\" stroke-linecap=\"round\" style=\"stroke:white;stroke-width:4\"/><line x1=\"254.321\" y1=\"222.59\" x2=\"282.699\" y2=\"238.974\" stroke-linecap=\"round\" style=\"stroke:white;stroke-width:4\"/><line x1=\"282.699\" y1=\"238.974\" x2=\"254.321\" y2=\"255.358\" stroke-linecap=\"round\" style=\"stroke:white;stroke-width:4\"/><line x1=\"254.321\" y1=\"255.358\" x2=\"282.699\" y2=\"238.974\" stroke-linecap=\"round\" style=\"stroke:white;stroke-width:4\"/><line x1=\"282.699\" y1=\"238.974\" x2=\"323.659\" y2=\"238.974\" stroke-linecap=\"round\" style=\"stroke:white;stroke-width:4\"/><line x1=\"323.659\" y1=\"238.974\" x2=\"368.0\" y2=\"264.574\" stroke-linecap=\"round\" style=\"stroke:white;stroke-width:4\"/><line x1=\"368.0\" y1=\"264.574\" x2=\"400.0\" y2=\"320.0\" stroke-linecap=\"round\" style=\"stroke:white;stroke-width:4\"/><line x1=\"400.0\" y1=\"320.0\" x2=\"400.0\" y2=\"400.0\" stroke-linecap=\"round\" style=\"stroke:white;stroke-width:4\"/>\n",
              "        <g visibility=visible transform=\"rotate(360.0,400.0,400.0) translate(382.0, 382.0)\">\n",
              "<path style=\" stroke:none;fill-rule:evenodd;fill:white;fill-opacity:1;\" d=\"M 18.214844 0.632812 C 16.109375 1.800781 15.011719 4.074219 15.074219 7.132812 L 15.085938 7.652344 L 14.785156 7.496094 C 13.476562 6.824219 11.957031 6.671875 10.40625 7.066406 C 8.46875 7.550781 6.515625 9.15625 4.394531 11.992188 C 3.0625 13.777344 2.679688 14.636719 3.042969 15.027344 L 3.15625 15.152344 L 3.519531 15.152344 C 4.238281 15.152344 4.828125 14.886719 8.1875 13.039062 C 9.386719 12.378906 10.371094 11.839844 10.378906 11.839844 C 10.386719 11.839844 10.355469 11.929688 10.304688 12.035156 C 9.832031 13.09375 9.257812 14.820312 8.96875 16.078125 C 7.914062 20.652344 8.617188 24.53125 11.070312 27.660156 C 11.351562 28.015625 11.363281 27.914062 10.972656 28.382812 C 8.925781 30.84375 7.945312 33.28125 8.238281 35.1875 C 8.289062 35.527344 8.28125 35.523438 8.917969 35.523438 C 10.941406 35.523438 13.074219 34.207031 15.136719 31.6875 C 15.359375 31.417969 15.328125 31.425781 15.5625 31.574219 C 16.292969 32.042969 18.023438 32.964844 18.175781 32.964844 C 18.335938 32.964844 19.941406 32.210938 20.828125 31.71875 C 20.996094 31.625 21.136719 31.554688 21.136719 31.558594 C 21.203125 31.664062 21.898438 32.414062 22.222656 32.730469 C 23.835938 34.300781 25.5625 35.132812 27.582031 35.300781 C 27.90625 35.328125 27.9375 35.308594 28.007812 34.984375 C 28.382812 33.242188 27.625 30.925781 25.863281 28.425781 L 25.542969 27.96875 L 25.699219 27.785156 C 28.945312 23.960938 29.132812 18.699219 26.257812 11.96875 L 26.207031 11.84375 L 27.945312 12.703125 C 31.53125 14.476562 32.316406 14.800781 33.03125 14.800781 C 33.976562 14.800781 33.78125 13.9375 32.472656 12.292969 C 28.519531 7.355469 25.394531 5.925781 21.921875 7.472656 L 21.558594 7.636719 L 21.578125 7.542969 C 21.699219 6.992188 21.761719 5.742188 21.699219 5.164062 C 21.496094 3.296875 20.664062 1.964844 19.003906 0.855469 C 18.480469 0.503906 18.457031 0.5 18.214844 0.632812\"/>\n",
              "</g>\n",
              "      </svg>\n",
              "    "
            ]
          },
          "metadata": {}
        }
      ]
    }
  ]
}