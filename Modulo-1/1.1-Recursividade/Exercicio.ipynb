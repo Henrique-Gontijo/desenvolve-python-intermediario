{
  "cells": [
    {
      "cell_type": "markdown",
      "id": "c87bc264",
      "metadata": {
        "id": "c87bc264"
      },
      "source": [
        "> Projeto Desenvolve <br>\n",
        "Programação Intermediária com Python <br>\n",
        "Profa. Camila Laranjeira (mila@projetodesenvolve.com.br) <br>\n",
        "\n",
        "# 1.1 - Recursividade"
      ]
    },
    {
      "cell_type": "markdown",
      "id": "02e47197",
      "metadata": {
        "id": "02e47197"
      },
      "source": [
        "## Exercícios:\n",
        "\n",
        "#### **Q1**.\n",
        "Faça um procedimento recursivo que receba dois valores inteiros `a` e `b` e imprime o intervalo fechado entre eles. Se `a > b` imprima uma mensagem de erro.\n",
        "\n",
        "| Entrada |  Saída |\n",
        "| ------- | ------ |\n",
        "| 1 10    | 1 2 3 4 5 6 7 8 9 10 |\n",
        "| -5 1    | -5 -4 -3 -2 -1 |\n",
        "| 5 -5    | Valores invalidos |\n",
        "| 17 20   | 17 18 19 20 |"
      ]
    },
    {
      "cell_type": "code",
      "execution_count": null,
      "id": "e89a9966",
      "metadata": {
        "colab": {
          "base_uri": "https://localhost:8080/"
        },
        "id": "e89a9966",
        "outputId": "379b26cf-9ff1-4c67-ae3f-387c6b4d61fa"
      },
      "outputs": [
        {
          "output_type": "stream",
          "name": "stdout",
          "text": [
            "1 2 3 4 5 6 7 8 9 10 \n",
            "-5 -4 -3 -2 -1 \n",
            "Valores inválidos\n",
            "17 18 19 20 "
          ]
        }
      ],
      "source": [
        "def contagem(a, b):\n",
        "  # Caso em que a função entraria em loop infinito\n",
        "  if(a > b):\n",
        "    print(\"Valores inválidos\")\n",
        "\n",
        "  # Caso base\n",
        "  elif (a == b):\n",
        "    print(f'{b} ', end='')\n",
        "\n",
        "  # Passo recursivo\n",
        "  else:\n",
        "    contagem(a, b-1)\n",
        "    print(f'{b} ', end='')\n",
        "\n",
        "\n",
        "contagem(1, 10)\n",
        "print(\"\")\n",
        "contagem(-5, -1)\n",
        "print(\"\")\n",
        "contagem(5, -5)\n",
        "contagem(17, 20)"
      ]
    },
    {
      "cell_type": "markdown",
      "id": "b48196ed",
      "metadata": {
        "id": "b48196ed"
      },
      "source": [
        "---\n",
        "\n",
        "\n",
        "#### **Q2**.\n",
        "Mudando **apenas uma linha**, altere o código anterior para imprimir o intervalo invertido.\n",
        "\n",
        "| Entrada |  Saída |\n",
        "| ------- | ------ |\n",
        "| 1 10    | 10 9 8 7 6 5 4 3 2 1 |\n",
        "| -5 1    | -1 -2 -3 -4 -5 |\n",
        "| 5 -5    | Valores invalidos |\n",
        "| 17 20   | 20 19 18 17 |"
      ]
    },
    {
      "cell_type": "code",
      "execution_count": null,
      "id": "4d0c21b4",
      "metadata": {
        "colab": {
          "base_uri": "https://localhost:8080/"
        },
        "id": "4d0c21b4",
        "outputId": "220f1fb7-811e-4892-ac4b-15e1a22c9863"
      },
      "outputs": [
        {
          "output_type": "stream",
          "name": "stdout",
          "text": [
            "10 9 8 7 6 5 4 3 2 1 \n",
            "-1 -2 -3 -4 -5 \n",
            "Valores inválidos\n",
            "20 19 18 17 "
          ]
        }
      ],
      "source": [
        "def contagem(a, b):\n",
        "  # Caso em que a função entraria em loop infinito\n",
        "  if(a > b):\n",
        "    print(\"Valores inválidos\")\n",
        "\n",
        "  # Caso base\n",
        "  elif (a == b):\n",
        "    print(f'{b} ', end='')\n",
        "\n",
        "  # Passo recursivo\n",
        "  else:\n",
        "    print(f'{b} ', end='')\n",
        "    contagem(a, b-1)\n",
        "\n",
        "\n",
        "\n",
        "contagem(1, 10)\n",
        "print(\"\")\n",
        "contagem(-5, -1)\n",
        "print(\"\")\n",
        "contagem(5, -5)\n",
        "contagem(17, 20)"
      ]
    },
    {
      "cell_type": "markdown",
      "id": "be727074",
      "metadata": {
        "id": "be727074"
      },
      "source": [
        "\n",
        "\n",
        "---\n",
        "\n",
        "\n",
        "#### **Q3**.\n",
        "Escreva uma função recursiva que recebe um inteiro `n > 1` e calcula a soma dos valores entre `n` e `1`.\n",
        "\n",
        "| Entrada |  Saída |\n",
        "| ------- | ------ |\n",
        "| 5   | 15 |\n",
        "| 13  | 78 |"
      ]
    },
    {
      "cell_type": "code",
      "execution_count": null,
      "id": "c4da98b8",
      "metadata": {
        "colab": {
          "base_uri": "https://localhost:8080/"
        },
        "id": "c4da98b8",
        "outputId": "09675619-def7-42bc-e6b3-234c276afbaf"
      },
      "outputs": [
        {
          "output_type": "stream",
          "name": "stdout",
          "text": [
            "5 => 15\n",
            "13 => 91\n"
          ]
        }
      ],
      "source": [
        "def count(x):\n",
        "  if (x < 1):\n",
        "    print(\"Valor inválido\")\n",
        "  elif (x == 1):\n",
        "    return 1\n",
        "  else:\n",
        "    return x + (count(x-1))\n",
        "\n",
        "\n",
        "print(f'5 => {count(5)}')\n",
        "print(f'13 => {count(13)}')"
      ]
    },
    {
      "cell_type": "markdown",
      "id": "4142b276",
      "metadata": {
        "id": "4142b276"
      },
      "source": [
        "\n",
        "\n",
        "---\n",
        "\n",
        "\n",
        "#### **Q4**.  \n",
        "\n",
        "Escreva uma função recursiva que recebe um inteiro `n` e verifica se `n`é um valor primo, ou seja, se é divisível apenas por si mesmo e por `1`."
      ]
    },
    {
      "cell_type": "code",
      "execution_count": 27,
      "id": "4c96eb2d",
      "metadata": {
        "colab": {
          "base_uri": "https://localhost:8080/"
        },
        "id": "4c96eb2d",
        "outputId": "e2ac2a62-80ee-4508-dae8-618ba83db9ae"
      },
      "outputs": [
        {
          "output_type": "stream",
          "name": "stdout",
          "text": [
            "Números menores ou iguais que 1 não são primos\n"
          ]
        }
      ],
      "source": [
        "def isPrimeNumber(x):\n",
        "  if (not type(x) == int):\n",
        "    print(\"Digite um número inteiro maior que 1\")\n",
        "  elif (x <= 1):\n",
        "    print(\"Números menores ou iguais que 1 não são primos\")\n",
        "  else:\n",
        "    def isDivisible(y):\n",
        "      if (y == 1):\n",
        "        return True\n",
        "      elif (x % y == 0):\n",
        "        return False\n",
        "      else:\n",
        "        return isDivisible(y-1)\n",
        "    print(f'{x} é um númer primo: {isDivisible(x-1)}')\n",
        "\n",
        "isPrimeNumber(1)"
      ]
    },
    {
      "cell_type": "markdown",
      "id": "2a0ae81c",
      "metadata": {
        "id": "2a0ae81c"
      },
      "source": [
        "\n",
        "\n",
        "---\n",
        "\n",
        "\n",
        "#### **Q5**.\n",
        "Implemente uma função recursiva que recebe um número inteiro decimal e retorna sua representação binária como uma string. Para realizar essa conversão, utilize o método de divisão sucessiva, onde você divide o número decimal por 2 e coleta os restos até que o quociente seja zero. A ordem dos restos coletados, de baixo para cima, forma o número binário correspondente.\n",
        "\n",
        "**Exemplo de Conversão:**\n",
        "\n",
        "Para converter o número decimal 13 para binário:\n",
        "```\n",
        "13 ÷ 2 = 6, resto 1\n",
        "6 ÷ 2 = 3, resto 0\n",
        "3 ÷ 2 = 1, resto 1\n",
        "1 ÷ 2 = 0, resto 1\n",
        "```\n",
        "Lendo os restos de baixo para cima, obtemos o número binário `1101`."
      ]
    },
    {
      "cell_type": "code",
      "execution_count": null,
      "id": "a7d954f0",
      "metadata": {
        "colab": {
          "base_uri": "https://localhost:8080/"
        },
        "id": "a7d954f0",
        "outputId": "d9444738-7bbb-40a1-87ad-7fb1af12943e"
      },
      "outputs": [
        {
          "output_type": "stream",
          "name": "stdout",
          "text": [
            "1101"
          ]
        }
      ],
      "source": [
        "def toBinary(x):\n",
        "  if (x // 2 == 0):\n",
        "    print(x %2, end=\"\")\n",
        "    return 1\n",
        "  else:\n",
        "    toBinary(x // 2)\n",
        "    print(x % 2, end=\"\")\n",
        "\n",
        "toBinary(13)"
      ]
    },
    {
      "cell_type": "markdown",
      "id": "0f500709",
      "metadata": {
        "id": "0f500709"
      },
      "source": [
        "\n",
        "\n",
        "---\n",
        "\n",
        "\n",
        "#### **Extra**:\n",
        "\n",
        "Implemente uma função recursiva em Python que realiza a travessia em pré-ordem de uma árvore binária representada por listas aninhadas. Na travessia em pré-ordem (ou pré-fixada), o nó raiz é visitado primeiro, seguido pela subárvore esquerda e, por fim, pela subárvore direita. A questão fixa as constantes `RAIZ_IDX, ESQ_IDX, DIR_IDX` representando os índices da lista onde se encontra o valor raíz, o nó a esquerda e o nó a direita.\n",
        "\n",
        "```\n",
        "# Representação visual da árvore\n",
        "       4\n",
        "      / \\\n",
        "     2   5\n",
        "    / \\\n",
        "   1   3\n",
        "```"
      ]
    },
    {
      "cell_type": "code",
      "execution_count": 26,
      "id": "10df4831",
      "metadata": {
        "id": "10df4831",
        "colab": {
          "base_uri": "https://localhost:8080/"
        },
        "outputId": "2a76f8f7-cff0-44db-9574-136460c8611d"
      },
      "outputs": [
        {
          "output_type": "stream",
          "name": "stdout",
          "text": [
            "[4, 2, 1, 3, 5]\n"
          ]
        }
      ],
      "source": [
        "RAIZ_IDX, ESQ_IDX, DIR_IDX = 0, 1, 2\n",
        "\n",
        "arvore = [\n",
        "    4,              # raíz, nível 0\n",
        "    [               # ramo da esquerda, nível 1\n",
        "        2,          # valor filho esquerda\n",
        "        [1, None, None],   # ramo da esquerda, nível 2\n",
        "        [3, None, None]    # ramo da direita, nível 2\n",
        "    ],\n",
        "    [               # ramo da direita, nível 1\n",
        "        5,          # valor filho da direita\n",
        "        None,              # ramo da esquerda, nível 2\n",
        "        None               # ramo da direita, nível 2\n",
        "    ]\n",
        "]\n",
        "\n",
        "# arvore = [4, [2, [1, None, None], [3, None, None]], [5, None, None]]\n",
        "\n",
        "arvoreTeste = []\n",
        "def bin_tree(tree):\n",
        "  arvoreTeste.append(tree[RAIZ_IDX])\n",
        "  if tree[ESQ_IDX] is not None:\n",
        "    bin_tree(tree[ESQ_IDX])\n",
        "  if tree[DIR_IDX] is not None:\n",
        "    bin_tree(tree[DIR_IDX])\n",
        "bin_tree(arvore)\n",
        "print(arvoreTeste)"
      ]
    }
  ],
  "metadata": {
    "kernelspec": {
      "display_name": "Python 3 (ipykernel)",
      "language": "python",
      "name": "python3"
    },
    "language_info": {
      "codemirror_mode": {
        "name": "ipython",
        "version": 3
      },
      "file_extension": ".py",
      "mimetype": "text/x-python",
      "name": "python",
      "nbconvert_exporter": "python",
      "pygments_lexer": "ipython3",
      "version": "3.9.6"
    },
    "colab": {
      "provenance": []
    }
  },
  "nbformat": 4,
  "nbformat_minor": 5
}